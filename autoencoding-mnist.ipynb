{
 "cells": [
  {
   "cell_type": "markdown",
   "metadata": {},
   "source": [
    "# Introduction\n",
    "This notebook will handle a denoising autoencoder on the MNIST-dataset.\n",
    "\n",
    "The specifics of autoencoding are in the fact that there is no label needed to predict as it is known in common deep-learning architecture. Under this particular architecture, the goal is to \"predict\" its given input values (the features). Therefore we better say \"reconstruct\" instead of \"predict\". The model is forced to reconstruct the the given features, this is implemented through three major changes to the traditional NN structure:\n",
    "1. Building the model out of two seperate models (encoder and decorder).\n",
    "2. Reducing the given information in the middle of the network (codings).\n",
    "3. Using the features as label values as well (prediction value is the input).\n",
    "\n",
    "You will find these structures as well as two variations of denoising autoencoders in this notebook, one with a simple deep neural network (Deep Denoising Autoencoder) and a dropout layer and another one (Convolutional Denoising Autoencoder) with convolution layers and a GaussianNoise creation.\n",
    "\n",
    "## My other Projects\n",
    "If you are interested in some more clearly analysis of the dataset, take a look into my other notebooks about the MNIS-dataset:\n",
    "\n",
    "- cnn-for-digit-recognition-MNIST (accuracy score: 0.99135):\n",
    "    - https://www.kaggle.com/skiplik/cnn-for-digit-recognition-mnist \n",
    "- Finetuning Hyperparameters in Deep Neural Network:\n",
    "    - https://www.kaggle.com/skiplik/finetuning-hyperparameters-in-deep-neural-network\n",
    "- Digit Recognition with a Deep Neural Network:\n",
    "    - https://www.kaggle.com/skiplik/digit-recognition-with-a-deep-neural-network\n",
    "- Another MNIST Try:\n",
    "    - https://www.kaggle.com/skiplik/another-mnist-try\n",
    "- First NN by Detecting Handwritten Characters:\n",
    "    - https://www.kaggle.com/skiplik/first-nn-by-detecting-handwritten-characters \n",
    "- ..."
   ]
  },
  {
   "cell_type": "markdown",
   "metadata": {},
   "source": [
    "# Imports"
   ]
  },
  {
   "cell_type": "code",
   "execution_count": 1,
   "metadata": {},
   "outputs": [
    {
     "name": "stdout",
     "output_type": "stream",
     "text": [
      "Tensorflow Version:  2.3.0\n",
      "Keras Version:  2.4.0\n",
      "No GPU was detected. LSTMs and CNNs can be very slow without a GPU.\n",
      "../autoencoding-mnist/data/input/digit-recognizer\\keras_reg_160_10_002.sav\n",
      "../autoencoding-mnist/data/input/digit-recognizer\\keras_reg_jl_160_10_002.sav\n",
      "../autoencoding-mnist/data/input/digit-recognizer\\sample_submission.csv\n",
      "../autoencoding-mnist/data/input/digit-recognizer\\test.csv\n",
      "../autoencoding-mnist/data/input/digit-recognizer\\train.csv\n"
     ]
    }
   ],
   "source": [
    "import sys\n",
    "assert sys.version_info >= (3,5)\n",
    "\n",
    "# Is this notebook running on Colab or Kaggle?\n",
    "IS_COLAB = \"google.colab\" in sys.modules\n",
    "IS_KAGGLE = \"kaggle_secrets\" in sys.modules\n",
    "\n",
    "import numpy as np # linear algebra\n",
    "import pandas as pd # data processing, CSV file I/O (e.g. pd.read_csv)\n",
    "import matplotlib.pyplot as plt\n",
    "from functools import partial\n",
    "from sklearn.model_selection import train_test_split\n",
    "\n",
    "from sklearn.pipeline import Pipeline\n",
    "from sklearn.preprocessing import StandardScaler\n",
    "from sklearn.preprocessing import Normalizer\n",
    "\n",
    "import tensorflow as tf\n",
    "from tensorflow import keras\n",
    "from tensorflow import image\n",
    "from tensorflow import core\n",
    "from tensorflow.keras import layers\n",
    "\n",
    "import mlflow\n",
    "from mlflow import log_metric, log_param, log_artifacts\n",
    "import mlflow.tensorflow\n",
    "from mlflow import pyfunc\n",
    "\n",
    "assert tf.__version__ >= \"2.0\"\n",
    "\n",
    "print(\"Tensorflow Version: \", tf.__version__)\n",
    "print(\"Keras Version: \",keras.__version__)\n",
    "\n",
    "if not tf.config.list_physical_devices('GPU'):\n",
    "    print(\"No GPU was detected. LSTMs and CNNs can be very slow without a GPU.\")\n",
    "    if IS_COLAB:\n",
    "        print(\"Go to Runtime > Change runtime and select a GPU hardware accelerator.\")\n",
    "    if IS_KAGGLE:\n",
    "        print(\"Go to Settings > Accelerator and select GPU.\")\n",
    "\n",
    "\n",
    "tf.random.set_seed(42)\n",
    "np.random.seed(42)\n",
    "random_state=42\n",
    "\n",
    "kaggle = 0 # Kaggle path active = 1\n",
    "\n",
    "# change your local path here\n",
    "if kaggle == 1 :\n",
    "    MNIST_PATH= '../input/digit-recognizer'\n",
    "else:\n",
    "    MNIST_PATH= '../autoencoding-mnist/data/input/digit-recognizer'\n",
    "\n",
    "\n",
    "\n",
    "import os\n",
    "for dirname, _, filenames in os.walk(MNIST_PATH): \n",
    "    for filename in filenames:\n",
    "        print(os.path.join(dirname, filename))\n",
    "        "
   ]
  },
  {
   "cell_type": "markdown",
   "metadata": {},
   "source": [
    "## Get The Data"
   ]
  },
  {
   "cell_type": "code",
   "execution_count": 2,
   "metadata": {},
   "outputs": [],
   "source": [
    "# Data path and file\n",
    "CSV_FILE_TRAIN='train.csv'\n",
    "CSV_FILE_TEST='test.csv'\n",
    "\n",
    "def load_csv_data(path, csv_file):\n",
    "    csv_path = os.path.join(path, csv_file)\n",
    "    return pd.read_csv(csv_path)\n",
    "\n",
    "def load_csv_data_manuel(path, csv_file):\n",
    "    csv_path = os.path.join(path, csv_file)\n",
    "    csv_file = open(csv_path, 'r')\n",
    "    csv_data = csv_file.readlines()\n",
    "    csv_file.close()\n",
    "    return csv_data\n",
    "    \n",
    "\n",
    "train = load_csv_data(MNIST_PATH,CSV_FILE_TRAIN)\n",
    "test = load_csv_data(MNIST_PATH,CSV_FILE_TEST)"
   ]
  },
  {
   "cell_type": "markdown",
   "metadata": {},
   "source": [
    "### Train Val Split"
   ]
  },
  {
   "cell_type": "code",
   "execution_count": 3,
   "metadata": {},
   "outputs": [],
   "source": [
    "X_train, X_valid, y_train, y_valid =  train_test_split(train.loc[:, train.columns != 'label'], train['label'], test_size=0.33, random_state=random_state)"
   ]
  },
  {
   "cell_type": "markdown",
   "metadata": {},
   "source": [
    "### Preparing for Neural Network Structure"
   ]
  },
  {
   "cell_type": "code",
   "execution_count": 4,
   "metadata": {},
   "outputs": [],
   "source": [
    "X_train = X_train.astype(np.float32) / 255\n",
    "X_valid = X_valid.astype(np.float32) / 255\n",
    "X_test = test.astype(np.float32) / 255"
   ]
  },
  {
   "cell_type": "code",
   "execution_count": 5,
   "metadata": {},
   "outputs": [
    {
     "name": "stdout",
     "output_type": "stream",
     "text": [
      "\"X_train\" shape: (28140, 784)\n",
      "\"X_valid\" shape: (13860, 784)\n",
      "\"X_test\" shape: (28000, 784)\n"
     ]
    }
   ],
   "source": [
    "print(f'\"X_train\" shape: {X_train.shape}')\n",
    "print(f'\"X_valid\" shape: {X_valid.shape}')\n",
    "print(f'\"X_test\" shape: {X_test.shape}')"
   ]
  },
  {
   "cell_type": "markdown",
   "metadata": {},
   "source": [
    "#### Reshaping Data in Tensor Batch Structure"
   ]
  },
  {
   "cell_type": "code",
   "execution_count": 6,
   "metadata": {},
   "outputs": [],
   "source": [
    "def reshape_images(df_images):\n",
    "    df_images_resh = df_images.values.reshape(df_images.shape[0], 28, 28)\n",
    "    return df_images_resh\n",
    "\n",
    "def reshape_conv_images(df_images):\n",
    "    df_images_conv_resh = df_images.values.reshape(df_images.shape[0], 28, 28, 1)\n",
    "    return df_images_conv_resh"
   ]
  },
  {
   "cell_type": "code",
   "execution_count": 7,
   "metadata": {},
   "outputs": [],
   "source": [
    "##### TODO: reshape_images() einbauen \n",
    "X_train_resh = X_train.values.reshape(X_train.shape[0], 28, 28)\n",
    "X_valid_resh = X_valid.values.reshape(X_valid.shape[0], 28, 28)\n",
    "\n",
    "y_train_resh =  y_train.values.reshape(y_train.shape[0], 1)\n",
    "y_valid_resh = y_valid.values.reshape(y_valid.shape[0], 1)"
   ]
  },
  {
   "cell_type": "code",
   "execution_count": 8,
   "metadata": {},
   "outputs": [
    {
     "name": "stdout",
     "output_type": "stream",
     "text": [
      "\"X_train_resh\" shape: (28140, 28, 28)\n",
      "\"X_valid_resh\" shape: (13860, 28, 28)\n",
      "\"y_train_resh\" shape: (28140, 1)\n",
      "\"y_valid_resh\" shape: (13860, 1)\n"
     ]
    }
   ],
   "source": [
    "print(f'\"X_train_resh\" shape: {X_train_resh.shape}')\n",
    "print(f'\"X_valid_resh\" shape: {X_valid_resh.shape}')\n",
    "print(f'\"y_train_resh\" shape: {y_train_resh.shape}')\n",
    "print(f'\"y_valid_resh\" shape: {y_valid_resh.shape}')"
   ]
  },
  {
   "cell_type": "markdown",
   "metadata": {},
   "source": [
    "# Plotting "
   ]
  },
  {
   "cell_type": "code",
   "execution_count": 9,
   "metadata": {},
   "outputs": [],
   "source": [
    "def plot_image(image):\n",
    "    plt.imshow(image, cmap=\"binary\")\n",
    "    plt.axis(\"off\")\n",
    "\n",
    "def show_reconstructions(model, X_valid, n_images=5):\n",
    "    reconstructions = model.predict(X_valid[:n_images])\n",
    "    fig = plt.figure(figsize=(n_images * 1.5, 3))\n",
    "\n",
    "    for image_index in range(n_images):\n",
    "        plt.subplot(2, n_images, 1 + image_index)\n",
    "        plot_image(X_valid[image_index])\n",
    "        plt.subplot(2, n_images, 1 + n_images + image_index)\n",
    "        plot_image(reconstructions[image_index])"
   ]
  },
  {
   "cell_type": "markdown",
   "metadata": {},
   "source": [
    "### Plotting One Example Value"
   ]
  },
  {
   "cell_type": "code",
   "execution_count": 10,
   "metadata": {},
   "outputs": [
    {
     "name": "stdout",
     "output_type": "stream",
     "text": [
      "Example label: 1\n"
     ]
    }
   ],
   "source": [
    "print(f'Example label: {y_valid.iloc[1]}')"
   ]
  },
  {
   "cell_type": "code",
   "execution_count": 11,
   "metadata": {},
   "outputs": [
    {
     "data": {
      "image/png": "[encoded data removed]",
      "text/plain": [
       "<Figure size 432x288 with 1 Axes>"
      ]
     },
     "metadata": {
      "needs_background": "light"
     },
     "output_type": "display_data"
    }
   ],
   "source": [
    "plot_image(X_valid.iloc[1].values.reshape(28,28))"
   ]
  },
  {
   "cell_type": "markdown",
   "metadata": {},
   "source": [
    "# First Model - Deep Denoising Autoencoder \n",
    "An autoencoder architecture includes two seperate models, the encoder and the decorder. In the neuron point of view they both have a rejuvenation which represents a need of information compression - keep only the realy relevant information and drop the less relevant information. The encoder has an input of 784 neurons and an output of only 30 (which represents the codings). On the otherside the decoder has an inputshape of 30 neurons with an layer of 100 neurons, which rises to an layer of 28 * 28 neurons (=784) again. \n",
    "\n",
    "These two models combined bring the need of reducing given information and (artificially) recreating them again. Thats the specialty of the autoencoder structure."
   ]
  },
  {
   "cell_type": "markdown",
   "metadata": {},
   "source": [
    "### Encoder Architecture"
   ]
  },
  {
   "cell_type": "code",
   "execution_count": 12,
   "metadata": {},
   "outputs": [],
   "source": [
    "dropout_encoder = keras.models.Sequential([\n",
    "    keras.layers.Flatten(input_shape=[28, 28]),\n",
    "    keras.layers.Dropout(0.5),\n",
    "    keras.layers.Dense(100, activation=\"selu\"),\n",
    "    keras.layers.Dense(30, activation=\"selu\")           # Codings\n",
    "])"
   ]
  },
  {
   "cell_type": "code",
   "execution_count": 13,
   "metadata": {},
   "outputs": [
    {
     "name": "stdout",
     "output_type": "stream",
     "text": [
      "Model: \"sequential\"\n",
      "_________________________________________________________________\n",
      "Layer (type)                 Output Shape              Param #   \n",
      "=================================================================\n",
      "flatten (Flatten)            (None, 784)               0         \n",
      "_________________________________________________________________\n",
      "dropout (Dropout)            (None, 784)               0         \n",
      "_________________________________________________________________\n",
      "dense (Dense)                (None, 100)               78500     \n",
      "_________________________________________________________________\n",
      "dense_1 (Dense)              (None, 30)                3030      \n",
      "=================================================================\n",
      "Total params: 81,530\n",
      "Trainable params: 81,530\n",
      "Non-trainable params: 0\n",
      "_________________________________________________________________\n"
     ]
    }
   ],
   "source": [
    "dropout_encoder.summary()"
   ]
  },
  {
   "cell_type": "markdown",
   "metadata": {},
   "source": [
    "#### Decoder Architecture"
   ]
  },
  {
   "cell_type": "code",
   "execution_count": 14,
   "metadata": {},
   "outputs": [],
   "source": [
    "dropout_decoder = keras.models.Sequential([\n",
    "    keras.layers.Dense(100, activation=\"selu\", input_shape=[30]),\n",
    "    keras.layers.Dense(28 * 28, activation=\"sigmoid\"),  ### PROBLEM AREA found: USE THE RIGHT ACTIVATION FUNCTION\n",
    "    keras.layers.Reshape([28, 28])\n",
    "])"
   ]
  },
  {
   "cell_type": "code",
   "execution_count": 15,
   "metadata": {},
   "outputs": [
    {
     "name": "stdout",
     "output_type": "stream",
     "text": [
      "Model: \"sequential_1\"\n",
      "_________________________________________________________________\n",
      "Layer (type)                 Output Shape              Param #   \n",
      "=================================================================\n",
      "dense_2 (Dense)              (None, 100)               3100      \n",
      "_________________________________________________________________\n",
      "dense_3 (Dense)              (None, 784)               79184     \n",
      "_________________________________________________________________\n",
      "reshape (Reshape)            (None, 28, 28)            0         \n",
      "=================================================================\n",
      "Total params: 82,284\n",
      "Trainable params: 82,284\n",
      "Non-trainable params: 0\n",
      "_________________________________________________________________\n"
     ]
    }
   ],
   "source": [
    "dropout_decoder.summary()"
   ]
  },
  {
   "cell_type": "markdown",
   "metadata": {},
   "source": [
    "### Building the Model"
   ]
  },
  {
   "cell_type": "code",
   "execution_count": 16,
   "metadata": {},
   "outputs": [],
   "source": [
    "dropout_ae = keras.models.Sequential([dropout_encoder, dropout_decoder])\n",
    "dropout_ae.compile(loss=\"binary_crossentropy\", optimizer=keras.optimizers.SGD(lr=1.5))"
   ]
  },
  {
   "cell_type": "markdown",
   "metadata": {},
   "source": [
    "## Training and Logging -  Deep Denoising Autoencoder"
   ]
  },
  {
   "cell_type": "markdown",
   "metadata": {},
   "source": [
    "### Logging the Model (ML Flow)"
   ]
  },
  {
   "cell_type": "code",
   "execution_count": 17,
   "metadata": {},
   "outputs": [],
   "source": [
    "#mlflow.tensorflow.autolog()"
   ]
  },
  {
   "cell_type": "markdown",
   "metadata": {},
   "source": [
    "### Training the Model"
   ]
  },
  {
   "cell_type": "code",
   "execution_count": 18,
   "metadata": {},
   "outputs": [
    {
     "name": "stdout",
     "output_type": "stream",
     "text": [
      "Epoch 1/10\n",
      "880/880 [==============================] - 2s 2ms/step - loss: 0.2242 - val_loss: 0.1742\n",
      "Epoch 2/10\n",
      "880/880 [==============================] - 2s 2ms/step - loss: 0.1679 - val_loss: 0.1491\n",
      "Epoch 3/10\n",
      "880/880 [==============================] - 2s 2ms/step - loss: 0.1543 - val_loss: 0.1407\n",
      "Epoch 4/10\n",
      "880/880 [==============================] - 2s 2ms/step - loss: 0.1480 - val_loss: 0.1339\n",
      "Epoch 5/10\n",
      "880/880 [==============================] - 1s 2ms/step - loss: 0.1436 - val_loss: 0.1312\n",
      "Epoch 6/10\n",
      "880/880 [==============================] - 2s 2ms/step - loss: 0.1406 - val_loss: 0.1311\n",
      "Epoch 7/10\n",
      "880/880 [==============================] - 2s 2ms/step - loss: 0.1379 - val_loss: 0.1278\n",
      "Epoch 8/10\n",
      "880/880 [==============================] - 2s 2ms/step - loss: 0.1356 - val_loss: 0.1261\n",
      "Epoch 9/10\n",
      "880/880 [==============================] - 2s 2ms/step - loss: 0.1337 - val_loss: 0.1223\n",
      "Epoch 10/10\n",
      "880/880 [==============================] - 2s 2ms/step - loss: 0.1321 - val_loss: 0.1204\n"
     ]
    }
   ],
   "source": [
    "history = dropout_ae.fit(X_train_resh, X_train_resh, epochs= 10, validation_data=(X_valid_resh, X_valid_resh))\n"
   ]
  },
  {
   "cell_type": "markdown",
   "metadata": {},
   "source": [
    "### Losses\n",
    "The question is: \"How good does the model reconstruct the given features/information\". So there is no prediction of some label value! The model \"predicts\" (or better) reconstruct its input values to its best"
   ]
  },
  {
   "cell_type": "code",
   "execution_count": 19,
   "metadata": {},
   "outputs": [
    {
     "data": {
      "text/plain": [
       "[<matplotlib.lines.Line2D at 0x1b810349b80>]"
      ]
     },
     "execution_count": 19,
     "metadata": {},
     "output_type": "execute_result"
    },
    {
     "data": {
      "image/png": "[encoded data removed]",
      "text/plain": [
       "<Figure size 432x288 with 1 Axes>"
      ]
     },
     "metadata": {
      "needs_background": "light"
     },
     "output_type": "display_data"
    }
   ],
   "source": [
    "# Getting in touch with the model statistics \n",
    "# shows the available keys in models history:  print(history.history.keys())\n",
    "plt.plot(history.history['loss'])\n",
    "plt.plot(history.history['val_loss'])"
   ]
  },
  {
   "cell_type": "markdown",
   "metadata": {},
   "source": [
    "# Second Model - Convolutional Denoising Autoencoder "
   ]
  },
  {
   "cell_type": "markdown",
   "metadata": {},
   "source": [
    "### Convolutional Encoder Architecture  "
   ]
  },
  {
   "cell_type": "code",
   "execution_count": 20,
   "metadata": {},
   "outputs": [],
   "source": [
    "conv_encoder = keras.models.Sequential([\n",
    "    keras.layers.GaussianNoise(0.1, input_shape = [28, 28, 1]),\n",
    "    keras.layers.Conv2D(16, kernel_size=3, activation='selu'),\n",
    "    keras.layers.MaxPool2D(pool_size=2),\n",
    "    keras.layers.Conv2D(32, kernel_size=3, padding=\"same\", activation=\"selu\"),\n",
    "    keras.layers.MaxPool2D(pool_size=4),\n",
    "    keras.layers.Dense(392, activation=\"relu\")           # Codings\n",
    "])"
   ]
  },
  {
   "cell_type": "code",
   "execution_count": 21,
   "metadata": {},
   "outputs": [
    {
     "name": "stdout",
     "output_type": "stream",
     "text": [
      "Model: \"sequential_3\"\n",
      "_________________________________________________________________\n",
      "Layer (type)                 Output Shape              Param #   \n",
      "=================================================================\n",
      "gaussian_noise (GaussianNois (None, 28, 28, 1)         0         \n",
      "_________________________________________________________________\n",
      "conv2d (Conv2D)              (None, 26, 26, 16)        160       \n",
      "_________________________________________________________________\n",
      "max_pooling2d (MaxPooling2D) (None, 13, 13, 16)        0         \n",
      "_________________________________________________________________\n",
      "conv2d_1 (Conv2D)            (None, 13, 13, 32)        4640      \n",
      "_________________________________________________________________\n",
      "max_pooling2d_1 (MaxPooling2 (None, 3, 3, 32)          0         \n",
      "_________________________________________________________________\n",
      "dense_4 (Dense)              (None, 3, 3, 392)         12936     \n",
      "=================================================================\n",
      "Total params: 17,736\n",
      "Trainable params: 17,736\n",
      "Non-trainable params: 0\n",
      "_________________________________________________________________\n"
     ]
    }
   ],
   "source": [
    "conv_encoder.summary()"
   ]
  },
  {
   "cell_type": "markdown",
   "metadata": {},
   "source": [
    "### Convolutional Decoder Architecture"
   ]
  },
  {
   "cell_type": "code",
   "execution_count": 22,
   "metadata": {},
   "outputs": [],
   "source": [
    "conv_decoder = keras.models.Sequential([\n",
    "    #keras.layers.GaussianNoise(0.1, input_shape=[6, 6, 32] ),\n",
    "    keras.layers.Conv2DTranspose(32, kernel_size=3, strides=2, padding=\"valid\",activation=\"selu\", input_shape=[3, 3, 392]),\n",
    "    keras.layers.Conv2DTranspose(16, kernel_size=3, strides=2, padding=\"same\",activation=\"selu\"),\n",
    "    keras.layers.Conv2DTranspose(1, kernel_size=3, strides=2, padding=\"same\", activation=\"sigmoid\"),\n",
    "    keras.layers.Reshape([28, 28, 1])\n",
    "])"
   ]
  },
  {
   "cell_type": "code",
   "execution_count": 23,
   "metadata": {},
   "outputs": [
    {
     "name": "stdout",
     "output_type": "stream",
     "text": [
      "Model: \"sequential_4\"\n",
      "_________________________________________________________________\n",
      "Layer (type)                 Output Shape              Param #   \n",
      "=================================================================\n",
      "conv2d_transpose (Conv2DTran (None, 7, 7, 32)          112928    \n",
      "_________________________________________________________________\n",
      "conv2d_transpose_1 (Conv2DTr (None, 14, 14, 16)        4624      \n",
      "_________________________________________________________________\n",
      "conv2d_transpose_2 (Conv2DTr (None, 28, 28, 1)         145       \n",
      "_________________________________________________________________\n",
      "reshape_1 (Reshape)          (None, 28, 28, 1)         0         \n",
      "=================================================================\n",
      "Total params: 117,697\n",
      "Trainable params: 117,697\n",
      "Non-trainable params: 0\n",
      "_________________________________________________________________\n"
     ]
    }
   ],
   "source": [
    "conv_decoder.summary()"
   ]
  },
  {
   "cell_type": "markdown",
   "metadata": {},
   "source": [
    "### Building the Model - Deep Convolutional Denoising Autoencoder"
   ]
  },
  {
   "cell_type": "code",
   "execution_count": 24,
   "metadata": {},
   "outputs": [],
   "source": [
    "conv_denoising_ae = keras.models.Sequential([conv_encoder, conv_decoder])\n",
    "conv_denoising_ae.compile(loss=\"binary_crossentropy\", optimizer=keras.optimizers.SGD(lr=1.5))"
   ]
  },
  {
   "cell_type": "code",
   "execution_count": 25,
   "metadata": {},
   "outputs": [
    {
     "name": "stdout",
     "output_type": "stream",
     "text": [
      "Model: \"sequential_5\"\n",
      "_________________________________________________________________\n",
      "Layer (type)                 Output Shape              Param #   \n",
      "=================================================================\n",
      "sequential_3 (Sequential)    (None, 3, 3, 392)         17736     \n",
      "_________________________________________________________________\n",
      "sequential_4 (Sequential)    (None, 28, 28, 1)         117697    \n",
      "=================================================================\n",
      "Total params: 135,433\n",
      "Trainable params: 135,433\n",
      "Non-trainable params: 0\n",
      "_________________________________________________________________\n"
     ]
    }
   ],
   "source": [
    "conv_denoising_ae.summary()"
   ]
  },
  {
   "cell_type": "code",
   "execution_count": 57,
   "metadata": {},
   "outputs": [
    {
     "data": {
      "image/png": "[encoded data removed]",
      "text/plain": [
       "<IPython.core.display.Image object>"
      ]
     },
     "execution_count": 57,
     "metadata": {},
     "output_type": "execute_result"
    }
   ],
   "source": [
    "plot_model(conv_denoising_ae, 'conv_autencoder.png', show_shapes=True)"
   ]
  },
  {
   "cell_type": "code",
   "execution_count": 26,
   "metadata": {},
   "outputs": [
    {
     "name": "stdout",
     "output_type": "stream",
     "text": [
      "WARNING:tensorflow:From D:\\anaconda3\\envs\\wingpuflake_keras\\lib\\site-packages\\tensorflow\\python\\training\\tracking\\tracking.py:111: Model.state_updates (from tensorflow.python.keras.engine.training) is deprecated and will be removed in a future version.\n",
      "Instructions for updating:\n",
      "This property should not be used in TensorFlow 2.0, as updates are applied automatically.\n",
      "WARNING:tensorflow:From D:\\anaconda3\\envs\\wingpuflake_keras\\lib\\site-packages\\tensorflow\\python\\training\\tracking\\tracking.py:111: Layer.updates (from tensorflow.python.keras.engine.base_layer) is deprecated and will be removed in a future version.\n",
      "Instructions for updating:\n",
      "This property should not be used in TensorFlow 2.0, as updates are applied automatically.\n",
      "INFO:tensorflow:Assets written to: conv_denoising_ae\\assets\n"
     ]
    }
   ],
   "source": [
    "conv_denoising_ae.save('conv_denoising_ae')"
   ]
  },
  {
   "cell_type": "markdown",
   "metadata": {},
   "source": [
    "## Training and Logging - Deep Convolutional Denoising Autoencoder"
   ]
  },
  {
   "cell_type": "markdown",
   "metadata": {},
   "source": [
    "### Training the Model"
   ]
  },
  {
   "cell_type": "code",
   "execution_count": 27,
   "metadata": {},
   "outputs": [],
   "source": [
    "X_train_resh_ch = X_train_resh.reshape(X_train_resh.shape[0], 28 ,28 ,1)\n",
    "X_valid_resh_ch = X_valid_resh.reshape(X_valid_resh.shape[0], 28 ,28 ,1)"
   ]
  },
  {
   "cell_type": "code",
   "execution_count": 28,
   "metadata": {},
   "outputs": [
    {
     "name": "stdout",
     "output_type": "stream",
     "text": [
      "Epoch 1/10\n",
      "880/880 [==============================] - 11s 12ms/step - loss: 0.1825 - val_loss: 0.1156\n",
      "Epoch 2/10\n",
      "880/880 [==============================] - 10s 12ms/step - loss: 0.1074 - val_loss: 0.0976\n",
      "Epoch 3/10\n",
      "880/880 [==============================] - 10s 12ms/step - loss: 0.0980 - val_loss: 0.0957\n",
      "Epoch 4/10\n",
      "880/880 [==============================] - 10s 12ms/step - loss: 0.0936 - val_loss: 0.0921\n",
      "Epoch 5/10\n",
      "880/880 [==============================] - 10s 12ms/step - loss: 0.0908 - val_loss: 0.0880\n",
      "Epoch 6/10\n",
      "880/880 [==============================] - 10s 12ms/step - loss: 0.0890 - val_loss: 0.0880\n",
      "Epoch 7/10\n",
      "880/880 [==============================] - 10s 12ms/step - loss: 0.0874 - val_loss: 0.0925\n",
      "Epoch 8/10\n",
      "880/880 [==============================] - 10s 12ms/step - loss: 0.0864 - val_loss: 0.0869\n",
      "Epoch 9/10\n",
      "880/880 [==============================] - 10s 12ms/step - loss: 0.0855 - val_loss: 0.0836\n",
      "Epoch 10/10\n",
      "880/880 [==============================] - 10s 11ms/step - loss: 0.0847 - val_loss: 0.0844\n"
     ]
    }
   ],
   "source": [
    "history = conv_denoising_ae.fit(X_train_resh_ch, X_train_resh_ch, epochs= 10, validation_data=(X_valid_resh_ch, X_valid_resh_ch))\n"
   ]
  },
  {
   "cell_type": "markdown",
   "metadata": {},
   "source": [
    "# Results - Deep Denoising Autoencoder"
   ]
  },
  {
   "cell_type": "markdown",
   "metadata": {},
   "source": [
    "## Real Image"
   ]
  },
  {
   "cell_type": "code",
   "execution_count": 29,
   "metadata": {},
   "outputs": [
    {
     "data": {
      "image/png": "[encoded data removed]",
      "text/plain": [
       "<Figure size 432x288 with 1 Axes>"
      ]
     },
     "metadata": {
      "needs_background": "light"
     },
     "output_type": "display_data"
    }
   ],
   "source": [
    "# Test image from a known set\n",
    "plot_image(X_valid_resh[10])"
   ]
  },
  {
   "cell_type": "markdown",
   "metadata": {},
   "source": [
    "## (\"Predicted\") Reconstructed One"
   ]
  },
  {
   "cell_type": "code",
   "execution_count": 30,
   "metadata": {},
   "outputs": [
    {
     "data": {
      "image/png": "[encoded data removed]",
      "text/plain": [
       "<Figure size 432x288 with 1 Axes>"
      ]
     },
     "metadata": {
      "needs_background": "light"
     },
     "output_type": "display_data"
    }
   ],
   "source": [
    "testimage = X_valid_resh[10].reshape(1, 28, 28)     # single image prepared for the test (reshape)\n",
    "plot_image(dropout_ae.predict(testimage)[0, :, :])  # needed to extract the second and third array of the three dimensional tensor struc for printing the image"
   ]
  },
  {
   "cell_type": "markdown",
   "metadata": {},
   "source": [
    "## Showing Multi Results"
   ]
  },
  {
   "cell_type": "code",
   "execution_count": 31,
   "metadata": {},
   "outputs": [
    {
     "data": {
      "image/png": "[encoded data removed]",
      "text/plain": [
       "<Figure size 540x216 with 10 Axes>"
      ]
     },
     "metadata": {
      "needs_background": "light"
     },
     "output_type": "display_data"
    }
   ],
   "source": [
    "show_reconstructions(dropout_ae, X_valid_resh)"
   ]
  },
  {
   "cell_type": "markdown",
   "metadata": {},
   "source": [
    "## Using Noised Images"
   ]
  },
  {
   "cell_type": "markdown",
   "metadata": {},
   "source": [
    "### Creating Noisy Data\n"
   ]
  },
  {
   "cell_type": "code",
   "execution_count": 32,
   "metadata": {},
   "outputs": [],
   "source": [
    "new_images = X_test[5:10]\n",
    "new_images = reshape_images(new_images)\n",
    "noisy_images = new_images + np.random.randn(5,28,28) *0.1"
   ]
  },
  {
   "cell_type": "markdown",
   "metadata": {},
   "source": [
    "### Origin Number\n"
   ]
  },
  {
   "cell_type": "code",
   "execution_count": 33,
   "metadata": {},
   "outputs": [
    {
     "data": {
      "image/png": "[encoded data removed]",
      "text/plain": [
       "<Figure size 432x288 with 1 Axes>"
      ]
     },
     "metadata": {
      "needs_background": "light"
     },
     "output_type": "display_data"
    }
   ],
   "source": [
    "idx_testnumber = 0      # Index of test number for the next plottings \n",
    "plot_image(new_images[idx_testnumber])"
   ]
  },
  {
   "cell_type": "markdown",
   "metadata": {},
   "source": [
    "### Noisy Number"
   ]
  },
  {
   "cell_type": "code",
   "execution_count": 34,
   "metadata": {},
   "outputs": [
    {
     "data": {
      "image/png": "[encoded data removed]",
      "text/plain": [
       "<Figure size 432x288 with 1 Axes>"
      ]
     },
     "metadata": {
      "needs_background": "light"
     },
     "output_type": "display_data"
    }
   ],
   "source": [
    "plot_image(noisy_images[idx_testnumber])"
   ]
  },
  {
   "cell_type": "markdown",
   "metadata": {},
   "source": [
    "### Denoised Number"
   ]
  },
  {
   "cell_type": "code",
   "execution_count": 35,
   "metadata": {},
   "outputs": [
    {
     "data": {
      "image/png": "[encoded data removed]",
      "text/plain": [
       "<Figure size 432x288 with 1 Axes>"
      ]
     },
     "metadata": {
      "needs_background": "light"
     },
     "output_type": "display_data"
    }
   ],
   "source": [
    "# Very Important ! added a new axis according to the models batch based behavior\n",
    "plot_image(dropout_ae.predict(noisy_images[np.newaxis ,idx_testnumber]).reshape(28,28)) "
   ]
  },
  {
   "cell_type": "markdown",
   "metadata": {},
   "source": [
    "### Multiple Numbers in Comparision "
   ]
  },
  {
   "cell_type": "code",
   "execution_count": 36,
   "metadata": {},
   "outputs": [
    {
     "data": {
      "image/png": "[encoded data removed]",
      "text/plain": [
       "<Figure size 540x216 with 10 Axes>"
      ]
     },
     "metadata": {
      "needs_background": "light"
     },
     "output_type": "display_data"
    }
   ],
   "source": [
    "show_reconstructions(dropout_ae, noisy_images)"
   ]
  },
  {
   "cell_type": "markdown",
   "metadata": {},
   "source": [
    "# Results - Convolutional Denoising Autoencoder"
   ]
  },
  {
   "cell_type": "markdown",
   "metadata": {},
   "source": [
    "## Using Noised Images"
   ]
  },
  {
   "cell_type": "markdown",
   "metadata": {},
   "source": [
    "### Creating Noisy Data"
   ]
  },
  {
   "cell_type": "code",
   "execution_count": 37,
   "metadata": {},
   "outputs": [],
   "source": [
    "new_images_conv = X_test[5:10]\n",
    "new_images_conv = reshape_conv_images(new_images_conv)\n",
    "noisy_images_conv = new_images_conv + np.random.randn(5, 28, 28, 1) *0.1"
   ]
  },
  {
   "cell_type": "code",
   "execution_count": 38,
   "metadata": {},
   "outputs": [
    {
     "data": {
      "text/plain": [
       "(5, 28, 28, 1)"
      ]
     },
     "execution_count": 38,
     "metadata": {},
     "output_type": "execute_result"
    }
   ],
   "source": [
    "noisy_images_conv.shape"
   ]
  },
  {
   "cell_type": "markdown",
   "metadata": {},
   "source": [
    "### Origin Number\n"
   ]
  },
  {
   "cell_type": "code",
   "execution_count": 39,
   "metadata": {},
   "outputs": [
    {
     "data": {
      "image/png": "[encoded data removed]",
      "text/plain": [
       "<Figure size 432x288 with 1 Axes>"
      ]
     },
     "metadata": {
      "needs_background": "light"
     },
     "output_type": "display_data"
    }
   ],
   "source": [
    "idx_testnumber = 0      # Index of test number for the next plottings \n",
    "plot_image(new_images_conv[idx_testnumber])"
   ]
  },
  {
   "cell_type": "markdown",
   "metadata": {},
   "source": [
    "### Noisy Number"
   ]
  },
  {
   "cell_type": "code",
   "execution_count": 40,
   "metadata": {},
   "outputs": [
    {
     "data": {
      "image/png": "[encoded data removed]",
      "text/plain": [
       "<Figure size 432x288 with 1 Axes>"
      ]
     },
     "metadata": {
      "needs_background": "light"
     },
     "output_type": "display_data"
    }
   ],
   "source": [
    "plot_image(noisy_images_conv[idx_testnumber])"
   ]
  },
  {
   "cell_type": "markdown",
   "metadata": {},
   "source": [
    "### Denoised Number"
   ]
  },
  {
   "cell_type": "code",
   "execution_count": 41,
   "metadata": {},
   "outputs": [
    {
     "data": {
      "image/png": "[encoded data removed]",
      "text/plain": [
       "<Figure size 432x288 with 1 Axes>"
      ]
     },
     "metadata": {
      "needs_background": "light"
     },
     "output_type": "display_data"
    }
   ],
   "source": [
    "# Very Important ! added a new axis according to the models batch based behavior\n",
    "plot_image(conv_denoising_ae.predict(noisy_images_conv[np.newaxis ,idx_testnumber]).reshape(28,28))"
   ]
  },
  {
   "cell_type": "markdown",
   "metadata": {},
   "source": [
    "### Multiple Numbers in Comparision"
   ]
  },
  {
   "cell_type": "code",
   "execution_count": 42,
   "metadata": {},
   "outputs": [
    {
     "data": {
      "image/png": "[encoded data removed]",
      "text/plain": [
       "<Figure size 540x216 with 10 Axes>"
      ]
     },
     "metadata": {
      "needs_background": "light"
     },
     "output_type": "display_data"
    }
   ],
   "source": [
    "show_reconstructions(conv_denoising_ae, noisy_images_conv)"
   ]
  },
  {
   "cell_type": "markdown",
   "metadata": {},
   "source": [
    "# Unsupervised Pre-Training for Supervised Training\n",
    "In this part I will use the first layers of the already trained autoencoder for implementing a classification prediction model. This architecture represents the way of using unsupervised pre-training for projects that do not have enough training data to train the final model (in this case the classification model).\n",
    "\n",
    "\n",
    "##################################\n",
    "\n",
    "Beim unüberwachten Vortrainieren wird ein Modell mit den ungelabelten Daten (oder allen Daten) mithilfe einer unüberwachten Lerntechnik trainiert und dann für die eigentliche Aufgabe mit den gelabelten Aufgaben mit einer überwachten Lerntechnik im Detail angepasst – der unüberwachte Teil kann wie hier gezeigt eine Schicht nach der anderen oder direkt das ganze Modell trainieren.\n",
    "\n"
   ]
  },
  {
   "cell_type": "code",
   "execution_count": 43,
   "metadata": {},
   "outputs": [
    {
     "name": "stdout",
     "output_type": "stream",
     "text": [
      "Layers from the autoencoder that will be used for new model: \n"
     ]
    },
    {
     "data": {
      "text/plain": [
       "[<tensorflow.python.keras.layers.core.Flatten at 0x1b85cab0640>,\n",
       " <tensorflow.python.keras.layers.core.Dropout at 0x1b85ca836a0>,\n",
       " <tensorflow.python.keras.layers.core.Dense at 0x1b85ca83850>,\n",
       " <tensorflow.python.keras.layers.core.Dense at 0x1b85ca83bb0>]"
      ]
     },
     "execution_count": 43,
     "metadata": {},
     "output_type": "execute_result"
    }
   ],
   "source": [
    "##### DEBUG - TODELETE\n",
    "# Extracting the trained lower layers of the autoencoder\n",
    "denoising_ae_l_layers = dropout_ae.layers[0].layers\n",
    "print(\"Layers from the autoencoder that will be used for new model: \")\n",
    "denoising_ae_l_layers[:5]"
   ]
  },
  {
   "cell_type": "code",
   "execution_count": 44,
   "metadata": {},
   "outputs": [],
   "source": [
    "ae_model_id = 0 # 0 for encorder / 1 for decorder\n",
    "layerscount = 5 # how many layers of the model ...\n",
    "\n",
    "\n",
    "new_model = keras.models.Sequential(conv_denoising_ae.layers[ae_model_id].layers[:layerscount])\n",
    "new_model.trainable =True  # Setting it on True to sepcificly set them on False afterwards  "
   ]
  },
  {
   "cell_type": "code",
   "execution_count": 45,
   "metadata": {},
   "outputs": [
    {
     "data": {
      "text/plain": [
       "<tensorflow.python.keras.engine.sequential.Sequential at 0x1b8105f85e0>"
      ]
     },
     "execution_count": 45,
     "metadata": {},
     "output_type": "execute_result"
    }
   ],
   "source": [
    "new_model # 0x1a51ac67490  0x1a51b0af5e0"
   ]
  },
  {
   "cell_type": "code",
   "execution_count": 46,
   "metadata": {},
   "outputs": [
    {
     "name": "stdout",
     "output_type": "stream",
     "text": [
      "Model: \"sequential_6\"\n",
      "_________________________________________________________________\n",
      "Layer (type)                 Output Shape              Param #   \n",
      "=================================================================\n",
      "gaussian_noise (GaussianNois (None, 28, 28, 1)         0         \n",
      "_________________________________________________________________\n",
      "conv2d (Conv2D)              (None, 26, 26, 16)        160       \n",
      "_________________________________________________________________\n",
      "max_pooling2d (MaxPooling2D) (None, 13, 13, 16)        0         \n",
      "_________________________________________________________________\n",
      "conv2d_1 (Conv2D)            (None, 13, 13, 32)        4640      \n",
      "_________________________________________________________________\n",
      "max_pooling2d_1 (MaxPooling2 (None, 3, 3, 32)          0         \n",
      "=================================================================\n",
      "Total params: 4,800\n",
      "Trainable params: 4,800\n",
      "Non-trainable params: 0\n",
      "_________________________________________________________________\n"
     ]
    }
   ],
   "source": [
    "new_model.summary()"
   ]
  },
  {
   "cell_type": "code",
   "execution_count": 47,
   "metadata": {},
   "outputs": [
    {
     "name": "stdout",
     "output_type": "stream",
     "text": [
      "Layer 'gaussian_noise' is Trainable = False\n",
      "Layer 'conv2d' is Trainable = False\n",
      "Layer 'max_pooling2d' is Trainable = False\n"
     ]
    }
   ],
   "source": [
    "# creating a new layer list for the new model and make the layers not trainable\n",
    "for layer in new_model.layers[:layerscount -2 ]:              # last layer still be trainable\n",
    "    layer.trainable = False\n",
    "    print(f\"Layer '{layer.name}' is Trainable = {layer.trainable}\")"
   ]
  },
  {
   "cell_type": "code",
   "execution_count": 48,
   "metadata": {},
   "outputs": [],
   "source": [
    "new_model.add(keras.layers.Flatten())\n",
    "# Adding the final layer (outputlayer)\n",
    "new_model.add(keras.layers.Dense(10, activation=keras.activations.softmax))"
   ]
  },
  {
   "cell_type": "code",
   "execution_count": 49,
   "metadata": {},
   "outputs": [
    {
     "name": "stdout",
     "output_type": "stream",
     "text": [
      "Layer 'gaussian_noise' trainable state = False\n",
      "Layer 'conv2d' trainable state = False\n",
      "Layer 'max_pooling2d' trainable state = False\n",
      "Layer 'conv2d_1' trainable state = True\n",
      "Layer 'max_pooling2d_1' trainable state = True\n",
      "Layer 'flatten_1' trainable state = True\n",
      "Layer 'dense_5' trainable state = True\n"
     ]
    }
   ],
   "source": [
    "# Viewing final layers-construction\n",
    "for layer in new_model.layers:\n",
    "    print(f\"Layer '{layer.name}' trainable state = {layer.trainable}\")"
   ]
  },
  {
   "cell_type": "code",
   "execution_count": 50,
   "metadata": {},
   "outputs": [],
   "source": [
    "new_model.compile(loss=\"binary_crossentropy\", optimizer=keras.optimizers.Nadam(), metrics=[\"accuracy\"]) ##keras.optimizers.SGD(learning_rate=0.0003)"
   ]
  },
  {
   "cell_type": "code",
   "execution_count": 51,
   "metadata": {},
   "outputs": [
    {
     "name": "stdout",
     "output_type": "stream",
     "text": [
      "Model: \"sequential_6\"\n",
      "_________________________________________________________________\n",
      "Layer (type)                 Output Shape              Param #   \n",
      "=================================================================\n",
      "gaussian_noise (GaussianNois (None, 28, 28, 1)         0         \n",
      "_________________________________________________________________\n",
      "conv2d (Conv2D)              (None, 26, 26, 16)        160       \n",
      "_________________________________________________________________\n",
      "max_pooling2d (MaxPooling2D) (None, 13, 13, 16)        0         \n",
      "_________________________________________________________________\n",
      "conv2d_1 (Conv2D)            (None, 13, 13, 32)        4640      \n",
      "_________________________________________________________________\n",
      "max_pooling2d_1 (MaxPooling2 (None, 3, 3, 32)          0         \n",
      "_________________________________________________________________\n",
      "flatten_1 (Flatten)          (None, 288)               0         \n",
      "_________________________________________________________________\n",
      "dense_5 (Dense)              (None, 10)                2890      \n",
      "=================================================================\n",
      "Total params: 7,690\n",
      "Trainable params: 7,530\n",
      "Non-trainable params: 160\n",
      "_________________________________________________________________\n"
     ]
    }
   ],
   "source": [
    "new_model.summary()"
   ]
  },
  {
   "cell_type": "code",
   "execution_count": 54,
   "metadata": {},
   "outputs": [
    {
     "data": {
      "image/png": "[encoded data removed]",
      "text/plain": [
       "<IPython.core.display.Image object>"
      ]
     },
     "execution_count": 54,
     "metadata": {},
     "output_type": "execute_result"
    }
   ],
   "source": [
    "from tensorflow.keras.utils import plot_model\n",
    "\n",
    "plot_model(new_model, 'autencoder_base_w_classifier.png', show_shapes=True)"
   ]
  },
  {
   "cell_type": "code",
   "execution_count": null,
   "metadata": {},
   "outputs": [
    {
     "data": {
      "text/plain": [
       "True"
      ]
     },
     "execution_count": 105,
     "metadata": {},
     "output_type": "execute_result"
    }
   ],
   "source": [
    "# DEBUG\n",
    "new_model.get_layer(index=3).trainable"
   ]
  },
  {
   "cell_type": "code",
   "execution_count": null,
   "metadata": {},
   "outputs": [
    {
     "data": {
      "text/plain": [
       "[<tf.Variable 'conv2d_1/kernel:0' shape=(3, 3, 16, 32) dtype=float32, numpy=\n",
       " array([[[[ 0.06996317, -0.07803184,  0.01841407, ..., -0.03188895,\n",
       "            0.05303689, -0.05534606],\n",
       "          [ 0.04587338,  0.03853752,  0.03907149, ...,  0.04169986,\n",
       "            0.1186366 , -0.07884054],\n",
       "          [-0.04728573,  0.07870797,  0.05164183, ..., -0.01389951,\n",
       "           -0.03371053,  0.13864334],\n",
       "          ...,\n",
       "          [ 0.08204871, -0.09015613,  0.04152597, ..., -0.04506996,\n",
       "            0.03845108,  0.02262362],\n",
       "          [-0.0248786 ,  0.06044828, -0.03529645, ...,  0.10136051,\n",
       "            0.00339922, -0.07704766],\n",
       "          [-0.06005842,  0.01023433, -0.02456415, ..., -0.02573591,\n",
       "           -0.03772166,  0.02676451]],\n",
       " \n",
       "         [[ 0.11746673, -0.21575984,  0.02459501, ...,  0.03423095,\n",
       "           -0.08851427,  0.08626026],\n",
       "          [-0.07502747,  0.04440838,  0.0493031 , ...,  0.02123154,\n",
       "           -0.06691346, -0.08782476],\n",
       "          [-0.0388735 ,  0.05591191,  0.09999448, ..., -0.02036663,\n",
       "           -0.08294113, -0.01923413],\n",
       "          ...,\n",
       "          [-0.1012878 ,  0.06732574,  0.02812556, ...,  0.0222194 ,\n",
       "           -0.00382493,  0.0456492 ],\n",
       "          [ 0.05332688,  0.10070277, -0.02302554, ..., -0.06999429,\n",
       "           -0.01376228, -0.07685559],\n",
       "          [-0.10967837, -0.01102123,  0.05878853, ...,  0.10771324,\n",
       "            0.03196837,  0.02020835]],\n",
       " \n",
       "         [[-0.05374053, -0.02783815,  0.05167978, ..., -0.06410924,\n",
       "            0.03667984, -0.00793375],\n",
       "          [-0.05985858,  0.07950867,  0.08651847, ...,  0.09779103,\n",
       "           -0.13110846, -0.14124401],\n",
       "          [-0.14681195, -0.02132371, -0.0207403 , ...,  0.15186293,\n",
       "           -0.2367165 ,  0.04805643],\n",
       "          ...,\n",
       "          [ 0.08998578, -0.10905089, -0.02417116, ...,  0.07364695,\n",
       "            0.05473864, -0.03850337],\n",
       "          [ 0.00570202, -0.25567913,  0.03347399, ..., -0.07111512,\n",
       "           -0.5121174 , -0.04504685],\n",
       "          [-0.00559752,  0.56029516,  0.01827135, ...,  0.04476927,\n",
       "            0.16904888,  0.02933018]]],\n",
       " \n",
       " \n",
       "        [[[ 0.06237666, -0.05494011, -0.00296195, ..., -0.06360137,\n",
       "            0.05139605,  0.09473802],\n",
       "          [ 0.04333996, -0.14033043, -0.00082475, ...,  0.00631836,\n",
       "           -0.10475344, -0.04641514],\n",
       "          [-0.04826767, -0.04460802, -0.05559451, ..., -0.08121329,\n",
       "            0.12189191,  0.00393524],\n",
       "          ...,\n",
       "          [ 0.00056852, -0.01458851, -0.10189147, ..., -0.12076329,\n",
       "           -0.1428696 , -0.10471849],\n",
       "          [ 0.02487748, -0.0614363 ,  0.01362   , ..., -0.12394452,\n",
       "            0.01517307, -0.00311174],\n",
       "          [-0.10109201,  0.02750004, -0.03462392, ...,  0.04563216,\n",
       "           -0.04852703, -0.11235543]],\n",
       " \n",
       "         [[ 0.09163491, -0.03656229,  0.0196585 , ...,  0.10533931,\n",
       "           -0.05050028,  0.01998215],\n",
       "          [-0.12427968,  0.00421227, -0.05972835, ..., -0.16386594,\n",
       "           -0.05543761, -0.02922745],\n",
       "          [-0.08261814, -0.07204768,  0.05824734, ...,  0.14348693,\n",
       "            0.1002513 , -0.07238154],\n",
       "          ...,\n",
       "          [ 0.06820475, -0.14647178,  0.01324831, ..., -0.04742397,\n",
       "           -0.05898527, -0.13207164],\n",
       "          [-0.03912217, -0.08922929, -0.01464572, ..., -0.17304952,\n",
       "           -0.0903509 , -0.031797  ],\n",
       "          [ 0.04673625, -0.00638103, -0.03119976, ...,  0.04549294,\n",
       "           -0.01997013, -0.10782494]],\n",
       " \n",
       "         [[-0.12583321, -0.05908645, -0.04168825, ...,  0.04484834,\n",
       "            0.01088191, -0.06019146],\n",
       "          [ 0.09313201, -0.1504326 , -0.04744048, ...,  0.00722877,\n",
       "            0.08191088, -0.12726118],\n",
       "          [-0.02894826,  0.06906576, -0.05868377, ..., -0.1487826 ,\n",
       "            0.13956347, -0.05635752],\n",
       "          ...,\n",
       "          [ 0.04494137,  0.12472247, -0.1288675 , ...,  0.03950709,\n",
       "            0.05061522, -0.16494417],\n",
       "          [ 0.04838869,  0.0829648 , -0.14742488, ..., -0.03365771,\n",
       "           -0.01823851, -0.22205923],\n",
       "          [ 0.13595922,  0.01442354,  0.10227863, ...,  0.0457588 ,\n",
       "            0.00760423, -0.3161758 ]]],\n",
       " \n",
       " \n",
       "        [[[-0.03045786,  0.06771972, -0.0885635 , ..., -0.01729845,\n",
       "           -0.03208374,  0.0794677 ],\n",
       "          [-0.13833122, -0.05988428,  0.06471317, ...,  0.02996583,\n",
       "           -0.11284725,  0.05624635],\n",
       "          [-0.02814678,  0.01132334,  0.05577804, ..., -0.11643226,\n",
       "           -0.00634605,  0.0049194 ],\n",
       "          ...,\n",
       "          [-0.08295918, -0.04864565, -0.08645748, ..., -0.07010515,\n",
       "           -0.03088844,  0.04287239],\n",
       "          [-0.0270976 ,  0.00310266,  0.08489941, ..., -0.06791206,\n",
       "           -0.1290765 ,  0.10714552],\n",
       "          [-0.04645941, -0.08391233,  0.03573677, ..., -0.04917848,\n",
       "           -0.03334404, -0.17346044]],\n",
       " \n",
       "         [[ 0.02901455,  0.05483453, -0.10871983, ..., -0.00184496,\n",
       "            0.09065396, -0.02194996],\n",
       "          [-0.10046738, -0.09650274, -0.09377709, ...,  0.05563223,\n",
       "           -0.2186867 ,  0.10026574],\n",
       "          [-0.04121144, -0.00598312, -0.01322133, ...,  0.00924335,\n",
       "            0.05134535,  0.1548238 ],\n",
       "          ...,\n",
       "          [ 0.1824054 , -0.01069529, -0.04479813, ..., -0.06228996,\n",
       "           -0.02174268, -0.10137678],\n",
       "          [-0.05964665, -0.07550437, -0.06375434, ..., -0.11166826,\n",
       "           -0.10133413, -0.00503078],\n",
       "          [ 0.04263445, -0.04695325, -0.02321599, ...,  0.02039876,\n",
       "           -0.13487391,  0.06000103]],\n",
       " \n",
       "         [[-0.00067656, -0.07936211,  0.05066164, ...,  0.05928631,\n",
       "            0.04467901,  0.08825354],\n",
       "          [-0.03142523, -0.21430774, -0.1235411 , ...,  0.03662134,\n",
       "           -0.2111926 ,  0.14026837],\n",
       "          [-0.0253529 ,  0.02383365,  0.00890879, ...,  0.12152188,\n",
       "           -0.11760519,  0.00605227],\n",
       "          ...,\n",
       "          [-0.14661758, -0.10226656,  0.06984967, ..., -0.04052066,\n",
       "           -0.13285337,  0.11955198],\n",
       "          [-0.2388541 , -0.190665  , -0.01041023, ...,  0.02785697,\n",
       "           -0.20746209,  0.12152483],\n",
       "          [ 0.32417032, -0.18984051, -0.05338759, ..., -0.0466734 ,\n",
       "           -0.14700338,  0.00547285]]]], dtype=float32)>,\n",
       " <tf.Variable 'conv2d_1/bias:0' shape=(32,) dtype=float32, numpy=\n",
       " array([-0.23101915, -0.30392367, -0.33881465, -0.48731336, -0.34170356,\n",
       "        -0.39622608, -0.40793794, -0.4795183 , -0.44757864, -0.5583988 ,\n",
       "        -0.15406351, -0.53433466, -0.2569874 , -0.3906207 , -0.52264684,\n",
       "        -0.13442993, -0.0276888 , -0.22285366, -0.37887448, -0.29386574,\n",
       "        -0.43264982, -0.14739814, -0.31104568, -0.38413203, -0.4734331 ,\n",
       "        -0.17835987, -0.59674954, -0.31210765, -0.36668712, -0.3453785 ,\n",
       "        -0.67675775, -0.13418402], dtype=float32)>]"
      ]
     },
     "execution_count": 106,
     "metadata": {},
     "output_type": "execute_result"
    }
   ],
   "source": [
    "new_model.get_layer(index=3).weights"
   ]
  },
  {
   "cell_type": "code",
   "execution_count": null,
   "metadata": {},
   "outputs": [
    {
     "data": {
      "text/plain": [
       "[<tf.Variable 'dense_4/kernel:0' shape=(32, 392) dtype=float32, numpy=\n",
       " array([[-1.2866385e-01, -2.4215797e-02, -2.7220972e-02, ...,\n",
       "         -9.9894047e-02, -2.7912010e-02, -1.3742010e-01],\n",
       "        [ 1.3986373e-01, -2.1998552e-03,  6.6660576e-02, ...,\n",
       "          5.6888979e-02, -3.2570418e-02,  6.7422524e-02],\n",
       "        [-5.0849315e-02, -6.4042330e-02, -1.3526760e-01, ...,\n",
       "         -1.1508050e-01, -5.2393485e-02, -1.1011539e-01],\n",
       "        ...,\n",
       "        [ 8.8639826e-02, -2.6777601e-02,  5.7113186e-02, ...,\n",
       "         -4.0226445e-02, -7.7602930e-02, -8.0659412e-02],\n",
       "        [ 2.3420052e-01, -2.2586045e-04, -7.3596440e-02, ...,\n",
       "          6.3397177e-02, -8.5443735e-02, -3.9880376e-02],\n",
       "        [ 3.9124236e-02, -1.3046671e-02,  9.9351987e-02, ...,\n",
       "         -5.3319063e-02, -6.1392974e-02,  1.6736294e-01]], dtype=float32)>,\n",
       " <tf.Variable 'dense_4/bias:0' shape=(392,) dtype=float32, numpy=\n",
       " array([ 3.62885259e-02, -3.02784871e-02,  3.75150293e-02, -2.01635957e-02,\n",
       "        -5.77881895e-02,  7.20924512e-03, -1.13721266e-01, -8.83371569e-03,\n",
       "         2.20011245e-03, -1.57103166e-02, -7.07250684e-02, -2.19128840e-02,\n",
       "         4.56283009e-03, -4.88129668e-02, -8.52817446e-02, -4.59786020e-02,\n",
       "        -2.49225907e-02, -9.10339057e-02, -3.52012403e-02,  4.69029043e-03,\n",
       "        -1.05561540e-02, -5.05749620e-02, -1.67906135e-02, -3.88725549e-02,\n",
       "        -7.53128144e-04, -3.15075107e-02, -2.65815831e-03, -6.85466900e-02,\n",
       "        -4.07207087e-02,  1.93431843e-02, -4.02047448e-02, -4.06664610e-02,\n",
       "        -1.63594764e-02,  8.39513727e-03, -7.50469416e-02, -9.84138399e-02,\n",
       "        -4.45138328e-02,  7.60563882e-03,  1.78118981e-02, -4.17769179e-02,\n",
       "        -1.24746067e-02,  1.82347391e-02,  1.47201912e-03, -5.47522679e-02,\n",
       "         3.09562846e-03,  3.27306576e-02, -4.37052175e-02, -9.00221523e-03,\n",
       "        -4.41395380e-02, -1.24110356e-01, -5.02791218e-02, -3.15187760e-02,\n",
       "        -1.65527035e-02, -8.80179927e-03, -5.02912402e-02, -1.89918261e-02,\n",
       "         2.89114984e-03, -4.42153662e-02,  1.42675936e-02,  5.65833412e-02,\n",
       "         3.63059305e-02, -3.92404459e-02, -5.53347096e-02, -8.23767558e-02,\n",
       "        -2.45363563e-02,  1.33833112e-02, -1.90943200e-02, -3.75888608e-02,\n",
       "        -3.72101292e-02, -3.86487623e-03, -1.55175086e-02, -5.38592562e-02,\n",
       "        -1.00033926e-02,  7.63091147e-02, -5.61151654e-02, -2.49615358e-03,\n",
       "        -3.87431867e-03,  2.51901560e-02,  1.10970009e-02,  1.28736887e-02,\n",
       "        -2.67159697e-02,  1.62212620e-03, -3.09114642e-02, -4.19927835e-02,\n",
       "        -2.75332909e-02, -1.84139591e-02,  1.64383221e-02, -1.13056697e-01,\n",
       "        -2.00319774e-02, -7.19515141e-03, -3.97349335e-02, -6.72682822e-02,\n",
       "        -2.84393989e-02, -4.33598943e-02,  7.93523912e-04, -2.49446947e-02,\n",
       "        -4.61838953e-02,  3.26094702e-02, -2.75026299e-02, -9.96830463e-02,\n",
       "        -1.49696954e-02, -5.58461696e-02, -7.19702896e-03,  1.26331616e-02,\n",
       "        -4.94501041e-03, -3.18747833e-02, -5.58265625e-03,  1.87245198e-02,\n",
       "        -3.03796884e-02, -7.74054676e-02, -3.46132144e-02, -6.38253540e-02,\n",
       "        -2.43480932e-02, -2.97085159e-02, -2.70184726e-02, -9.44450796e-02,\n",
       "        -9.70951766e-02, -4.69275340e-02,  1.51514858e-02, -7.27486610e-03,\n",
       "        -1.56464018e-02, -5.32774068e-02, -4.91967658e-03, -2.24642679e-02,\n",
       "        -2.03348715e-02,  5.02796704e-03,  3.48209292e-02, -1.90788438e-03,\n",
       "        -3.67399887e-03,  9.21401475e-03,  4.17046994e-02, -5.07731326e-02,\n",
       "        -5.72822727e-02, -4.70214710e-02, -2.83620693e-02, -5.28384298e-02,\n",
       "        -8.64269119e-03, -3.44214998e-02,  7.32690003e-03, -4.29972745e-02,\n",
       "         1.25572160e-02,  4.31570271e-03, -3.75584476e-02, -5.99548481e-02,\n",
       "        -1.34219080e-02, -9.93711222e-03,  1.23708230e-02, -6.20135479e-02,\n",
       "        -3.86461914e-02, -4.91360575e-02,  3.91406752e-02, -2.63703112e-02,\n",
       "        -4.03233711e-03, -3.41250747e-02, -3.45482603e-02,  1.19570550e-02,\n",
       "        -2.24495884e-02, -2.35094465e-02,  1.94194112e-02, -3.21791619e-02,\n",
       "        -3.03436145e-02, -9.57102608e-03,  4.93256468e-03, -2.20476594e-02,\n",
       "        -2.88191084e-02,  3.28510441e-02,  2.91402526e-02,  3.96881904e-03,\n",
       "         1.86853763e-02, -5.43163642e-02, -3.68391238e-02, -7.60639971e-03,\n",
       "        -5.20240627e-02, -5.06841913e-02, -8.36707000e-03, -4.42094840e-02,\n",
       "        -2.50564814e-02, -2.11682301e-02, -4.07464890e-04, -1.46381468e-01,\n",
       "        -2.28536613e-02, -2.04704832e-02, -4.78926711e-02,  9.25219152e-03,\n",
       "        -8.59333668e-03, -4.48413827e-02, -6.36524037e-02, -1.14576984e-02,\n",
       "        -2.19345074e-02, -4.04782668e-02,  8.82503297e-03, -2.84767943e-03,\n",
       "         4.18449007e-02, -8.55276361e-02, -6.00551032e-02, -2.77703926e-02,\n",
       "        -2.16881074e-02, -3.33319567e-02, -3.20130438e-02, -6.37379736e-02,\n",
       "         3.13692912e-02, -8.22929218e-02, -3.10328715e-02,  4.69601387e-03,\n",
       "        -3.23150158e-02, -3.02636046e-02, -1.10043816e-01, -8.36218819e-02,\n",
       "        -2.62669940e-02, -1.78861152e-02, -6.52111741e-03,  1.23649230e-02,\n",
       "        -6.28414974e-02, -5.52130267e-02, -7.65311420e-02, -9.77624357e-02,\n",
       "        -1.14120483e-01,  8.96970369e-03, -4.82023358e-02, -3.97554599e-03,\n",
       "        -6.25982368e-03, -3.11552081e-02, -7.77010396e-02, -9.11498070e-02,\n",
       "        -4.01551798e-02, -3.86453787e-04,  1.39967483e-02,  1.14314770e-02,\n",
       "        -5.10498062e-02, -7.31206834e-02, -6.66100383e-02, -5.35997637e-02,\n",
       "        -8.50481167e-02, -2.43440382e-02, -1.70689903e-03, -6.84021860e-02,\n",
       "         1.36997551e-02,  3.26469019e-02, -2.26696692e-02, -4.79547903e-02,\n",
       "         4.12480682e-02, -1.49960956e-02, -1.82502717e-02, -3.62682790e-02,\n",
       "        -8.73370300e-05,  5.07438593e-02, -2.25015432e-02, -1.55260088e-02,\n",
       "         7.94282109e-02, -3.84884104e-02,  1.19534573e-02,  1.43679380e-02,\n",
       "        -5.91740431e-03,  9.99738742e-03, -3.66033949e-02,  4.79793511e-02,\n",
       "        -1.54619850e-02,  3.95781770e-02, -5.80208451e-02, -3.25865038e-02,\n",
       "         1.08286021e-02, -3.28180380e-02, -4.55844887e-02,  1.11594680e-03,\n",
       "        -7.48726204e-02, -8.18826258e-02, -8.74494854e-03, -4.21351939e-02,\n",
       "        -4.03683372e-02, -4.32173051e-02, -8.88561085e-03, -7.67933857e-03,\n",
       "        -3.64820324e-02, -3.69324610e-02, -5.01885638e-02, -2.72387452e-02,\n",
       "        -2.43496429e-02, -1.91223808e-02,  3.14309658e-03, -7.48318955e-02,\n",
       "        -4.12060283e-02, -1.29008647e-02, -2.80639641e-02, -2.39537954e-02,\n",
       "        -1.66441929e-02,  3.27514187e-02, -2.92680413e-02, -3.15118879e-02,\n",
       "        -7.78543064e-04, -8.91929790e-02, -1.42743737e-02, -7.63482507e-03,\n",
       "        -2.82879127e-03, -3.71514559e-02, -8.18334706e-03,  1.07501238e-03,\n",
       "        -2.92905103e-02, -4.93755341e-02,  2.93773562e-02, -4.62880246e-02,\n",
       "        -3.21895890e-02,  7.53183989e-03, -1.01489842e-01, -6.73151761e-02,\n",
       "        -4.74336408e-02, -4.51227762e-02, -2.80917566e-02, -1.88283026e-02,\n",
       "        -2.08899863e-02, -4.85637113e-02, -8.60664099e-02, -3.29668187e-02,\n",
       "        -3.50079946e-02, -3.03245243e-02, -4.42428812e-02, -8.80152658e-02,\n",
       "         1.67911369e-02, -2.42196340e-02, -3.71049740e-03,  4.81582992e-02,\n",
       "        -3.93129699e-02,  2.03571599e-02, -5.17328233e-02, -4.07361127e-02,\n",
       "        -9.11421627e-02,  1.11636277e-02,  2.79945042e-02, -7.36505315e-02,\n",
       "         7.65907206e-03,  4.85206954e-03, -1.32243065e-02, -1.36690317e-02,\n",
       "        -1.17420172e-03, -5.47734536e-02,  3.52572389e-02, -1.23042176e-02,\n",
       "        -3.60334851e-02, -3.86847146e-02,  1.91086121e-02, -5.62846521e-03,\n",
       "         1.05620390e-02, -7.82061368e-02, -3.99842411e-02,  1.30056096e-02,\n",
       "         1.30803315e-02, -4.25224118e-02,  3.07109710e-02,  3.42811607e-02,\n",
       "        -3.74988429e-02, -5.05397543e-02,  3.30748893e-02, -4.66483608e-02,\n",
       "         2.56347749e-03, -1.49367880e-02, -1.18614230e-02, -4.46205735e-02,\n",
       "        -1.09935906e-02, -1.14493333e-02,  2.56952345e-02, -4.57756110e-02,\n",
       "         4.78590373e-03,  3.37702245e-03, -7.65216490e-03, -3.36059630e-02,\n",
       "         3.34259197e-02, -2.32751425e-02,  2.29792688e-02,  2.75074430e-02,\n",
       "        -3.69876027e-02, -1.84762534e-02,  1.14678619e-02,  3.86494175e-02,\n",
       "        -8.03027973e-02, -7.29282722e-02, -9.36966296e-03, -4.60623167e-02,\n",
       "         2.22574007e-02, -9.05242115e-02, -9.67229716e-03,  2.56235041e-02,\n",
       "        -9.66363004e-04,  1.95594616e-02,  1.08837439e-02, -6.56970218e-02,\n",
       "        -2.31060968e-03,  1.97208077e-02, -3.48675949e-03, -5.35263792e-02,\n",
       "        -7.50683772e-04,  2.20924132e-02, -2.53508543e-03,  2.02217326e-02],\n",
       "       dtype=float32)>]"
      ]
     },
     "execution_count": 107,
     "metadata": {},
     "output_type": "execute_result"
    }
   ],
   "source": [
    "# DEBUG: to Delete\n",
    "conv_denoising_ae.layers[0].get_layer(index=5).weights"
   ]
  },
  {
   "cell_type": "code",
   "execution_count": null,
   "metadata": {},
   "outputs": [
    {
     "name": "stdout",
     "output_type": "stream",
     "text": [
      "INFO:tensorflow:Assets written to: class_net_01\\assets\n"
     ]
    }
   ],
   "source": [
    "new_model.save('class_net_01')"
   ]
  },
  {
   "cell_type": "markdown",
   "metadata": {},
   "source": [
    "## Creating Training Data for Unsupervised Pre-Training Model\n",
    "In this part 500 training data sets will be created for training a normal backpropagation model based on the unsupervised pre-trained model."
   ]
  },
  {
   "cell_type": "code",
   "execution_count": null,
   "metadata": {},
   "outputs": [],
   "source": [
    "X_train_pretrained_500 = X_train_resh[:500]\n",
    "X_valid_pretrained_500 = X_valid_resh[:500]\n",
    "\n",
    "y_train_pretrained_500 = y_train_resh[:500]\n",
    "y_valid_pretrained_500 = y_valid_resh[:500]\n",
    "\n",
    "# reshaping for conv model structure (batchsize, pixel h, pixel w, channel)\n",
    "X_train_pret_resh_500 = X_train_pretrained_500.reshape(X_train_pretrained_500.shape[0],X_train_pretrained_500.shape[1], X_train_pretrained_500.shape[2], 1)\n",
    "X_valid_pret_resh_500 = X_valid_pretrained_500.reshape(X_valid_pretrained_500.shape[0],X_valid_pretrained_500.shape[1], X_valid_pretrained_500.shape[2], 1)"
   ]
  },
  {
   "cell_type": "code",
   "execution_count": null,
   "metadata": {},
   "outputs": [
    {
     "name": "stdout",
     "output_type": "stream",
     "text": [
      "(500, 28, 28, 1)\n",
      "(500, 28, 28, 1)\n",
      "(500, 1)\n",
      "(500, 1)\n"
     ]
    }
   ],
   "source": [
    "print(X_train_pret_resh_500.shape)\n",
    "print(X_valid_pret_resh_500.shape)\n",
    "print(y_train_pretrained_500.shape)\n",
    "print(y_valid_pretrained_500.shape)\n",
    "\n"
   ]
  },
  {
   "cell_type": "code",
   "execution_count": null,
   "metadata": {},
   "outputs": [
    {
     "data": {
      "image/png": "[encoded data removed]",
      "text/plain": [
       "<Figure size 432x288 with 1 Axes>"
      ]
     },
     "metadata": {
      "needs_background": "light"
     },
     "output_type": "display_data"
    }
   ],
   "source": [
    "plot_image(X_train_pret_resh_500[499])"
   ]
  },
  {
   "cell_type": "code",
   "execution_count": null,
   "metadata": {},
   "outputs": [
    {
     "data": {
      "text/plain": [
       "array([8], dtype=int64)"
      ]
     },
     "execution_count": 112,
     "metadata": {},
     "output_type": "execute_result"
    }
   ],
   "source": [
    "y_train_pretrained_500[499]"
   ]
  },
  {
   "cell_type": "code",
   "execution_count": null,
   "metadata": {},
   "outputs": [
    {
     "data": {
      "text/plain": [
       "(10, 28, 28, 1)"
      ]
     },
     "execution_count": 113,
     "metadata": {},
     "output_type": "execute_result"
    }
   ],
   "source": [
    "X_train_pret_resh_500[0:10].shape"
   ]
  },
  {
   "cell_type": "code",
   "execution_count": null,
   "metadata": {},
   "outputs": [
    {
     "data": {
      "text/plain": [
       "(5, 1)"
      ]
     },
     "execution_count": 114,
     "metadata": {},
     "output_type": "execute_result"
    }
   ],
   "source": [
    "y_train_pretrained_500[0:5].shape"
   ]
  },
  {
   "cell_type": "code",
   "execution_count": 115,
   "metadata": {},
   "outputs": [],
   "source": [
    "## \n",
    "# Setting up Tensorboard for logging\n",
    "# #\n",
    "\n",
    "root_logdir = \"../../tensorboard-logs\"\n",
    "\n",
    "def get_run_logdir(root_logdir, project):\n",
    "    '''\n",
    "    Returns logdir to the Tensorboard log for a specific project.\n",
    "\n",
    "            Parameters:\n",
    "                    root_logdir (str) : basic logdir from Tensorboard\n",
    "                    project (str): projectname that will be logged in TB\n",
    "\n",
    "            Returns:\n",
    "                    os.path (str): Path to the final logdir\n",
    "    '''\n",
    "    import time\n",
    "    run_id = time.strftime(\"run_%Y_%m_%d-%H_%M_%S\")\n",
    "    project_logdir = os.path.join(root_logdir,project)\n",
    "    return os.path.join(project_logdir, run_id)\n",
    "\n",
    "\n",
    "tensorboard_callback = tf.keras.callbacks.TensorBoard(log_dir=get_run_logdir(root_logdir,\"autoencoding_mnist\"), histogram_freq=1)\n"
   ]
  },
  {
   "cell_type": "code",
   "execution_count": 116,
   "metadata": {},
   "outputs": [
    {
     "name": "stdout",
     "output_type": "stream",
     "text": [
      "Epoch 1/150\n",
      " 2/16 [==>...........................] - ETA: 2s - loss: 13.8959 - accuracy: 0.0938WARNING:tensorflow:Callbacks method `on_train_batch_end` is slow compared to the batch time (batch time: 0.0045s vs `on_train_batch_end` time: 0.3545s). Check your callbacks.\n",
      "16/16 [==============================] - 1s 35ms/step - loss: 11.4602 - accuracy: 0.0940 - val_loss: 10.2827 - val_accuracy: 0.0940\n",
      "Epoch 2/150\n",
      "16/16 [==============================] - 0s 7ms/step - loss: 10.7701 - accuracy: 0.1220 - val_loss: 10.1276 - val_accuracy: 0.0980\n",
      "Epoch 3/150\n",
      "16/16 [==============================] - 0s 7ms/step - loss: 10.6637 - accuracy: 0.1180 - val_loss: 10.0664 - val_accuracy: 0.1100\n",
      "Epoch 4/150\n",
      "16/16 [==============================] - 0s 7ms/step - loss: 10.6271 - accuracy: 0.1080 - val_loss: 10.0291 - val_accuracy: 0.1220\n",
      "Epoch 5/150\n",
      "16/16 [==============================] - 0s 7ms/step - loss: 10.5986 - accuracy: 0.1120 - val_loss: 10.0189 - val_accuracy: 0.1200\n",
      "Epoch 6/150\n",
      "16/16 [==============================] - 0s 8ms/step - loss: 10.5751 - accuracy: 0.1120 - val_loss: 9.9805 - val_accuracy: 0.1080\n",
      "Epoch 7/150\n",
      "16/16 [==============================] - 0s 7ms/step - loss: 10.5699 - accuracy: 0.0960 - val_loss: 9.9924 - val_accuracy: 0.0940\n",
      "Epoch 8/150\n",
      "16/16 [==============================] - 0s 7ms/step - loss: 10.5546 - accuracy: 0.1200 - val_loss: 9.9593 - val_accuracy: 0.1020\n",
      "Epoch 9/150\n",
      "16/16 [==============================] - 0s 7ms/step - loss: 10.5534 - accuracy: 0.1020 - val_loss: 9.9514 - val_accuracy: 0.0960\n",
      "Epoch 10/150\n",
      "16/16 [==============================] - 0s 7ms/step - loss: 10.5421 - accuracy: 0.0960 - val_loss: 9.9614 - val_accuracy: 0.1140\n",
      "Epoch 11/150\n",
      "16/16 [==============================] - 0s 7ms/step - loss: 10.5422 - accuracy: 0.1080 - val_loss: 9.9289 - val_accuracy: 0.1100\n",
      "Epoch 12/150\n",
      "16/16 [==============================] - 0s 7ms/step - loss: 10.5375 - accuracy: 0.1140 - val_loss: 9.9326 - val_accuracy: 0.1220\n",
      "Epoch 13/150\n",
      "16/16 [==============================] - 0s 7ms/step - loss: 10.5326 - accuracy: 0.0980 - val_loss: 9.9208 - val_accuracy: 0.1000\n",
      "Epoch 14/150\n",
      "16/16 [==============================] - 0s 7ms/step - loss: 10.5238 - accuracy: 0.1040 - val_loss: 9.9391 - val_accuracy: 0.0960\n",
      "Epoch 15/150\n",
      "16/16 [==============================] - 0s 7ms/step - loss: 10.5250 - accuracy: 0.1160 - val_loss: 9.9237 - val_accuracy: 0.1040\n",
      "Epoch 16/150\n",
      "16/16 [==============================] - 0s 7ms/step - loss: 10.5266 - accuracy: 0.1060 - val_loss: 9.9162 - val_accuracy: 0.0900\n",
      "Epoch 17/150\n",
      "16/16 [==============================] - 0s 7ms/step - loss: 10.5128 - accuracy: 0.1020 - val_loss: 9.8994 - val_accuracy: 0.1100\n",
      "Epoch 18/150\n",
      "16/16 [==============================] - 0s 7ms/step - loss: 10.5217 - accuracy: 0.1180 - val_loss: 9.9186 - val_accuracy: 0.0920\n",
      "Epoch 19/150\n",
      "16/16 [==============================] - 0s 7ms/step - loss: 10.5090 - accuracy: 0.0980 - val_loss: 9.9154 - val_accuracy: 0.0960\n",
      "Epoch 20/150\n",
      "16/16 [==============================] - 0s 7ms/step - loss: 10.5021 - accuracy: 0.1020 - val_loss: 9.8863 - val_accuracy: 0.1380\n",
      "Epoch 21/150\n",
      "16/16 [==============================] - 0s 8ms/step - loss: 10.4996 - accuracy: 0.0980 - val_loss: 9.8852 - val_accuracy: 0.1200\n",
      "Epoch 22/150\n",
      "16/16 [==============================] - 0s 7ms/step - loss: 10.5165 - accuracy: 0.1400 - val_loss: 9.8817 - val_accuracy: 0.1080\n",
      "Epoch 23/150\n",
      "16/16 [==============================] - 0s 8ms/step - loss: 10.5046 - accuracy: 0.1180 - val_loss: 9.8832 - val_accuracy: 0.1020\n",
      "Epoch 24/150\n",
      "16/16 [==============================] - 0s 7ms/step - loss: 10.5033 - accuracy: 0.0860 - val_loss: 9.8754 - val_accuracy: 0.0980\n",
      "Epoch 25/150\n",
      "16/16 [==============================] - 0s 7ms/step - loss: 10.4934 - accuracy: 0.0900 - val_loss: 9.8868 - val_accuracy: 0.0900\n",
      "Epoch 26/150\n",
      "16/16 [==============================] - 0s 7ms/step - loss: 10.4927 - accuracy: 0.1040 - val_loss: 9.8696 - val_accuracy: 0.1060\n",
      "Epoch 27/150\n",
      "16/16 [==============================] - 0s 7ms/step - loss: 10.5013 - accuracy: 0.1160 - val_loss: 9.8827 - val_accuracy: 0.0880\n",
      "Epoch 28/150\n",
      "16/16 [==============================] - 0s 7ms/step - loss: 10.5108 - accuracy: 0.1080 - val_loss: 9.8777 - val_accuracy: 0.1020\n",
      "Epoch 29/150\n",
      "16/16 [==============================] - 0s 7ms/step - loss: 10.5043 - accuracy: 0.1140 - val_loss: 9.8708 - val_accuracy: 0.0920\n",
      "Epoch 30/150\n",
      "16/16 [==============================] - 0s 7ms/step - loss: 10.4887 - accuracy: 0.1000 - val_loss: 9.8793 - val_accuracy: 0.0700\n",
      "Epoch 31/150\n",
      "16/16 [==============================] - 0s 7ms/step - loss: 10.4928 - accuracy: 0.0940 - val_loss: 9.8636 - val_accuracy: 0.0900\n",
      "Epoch 32/150\n",
      "16/16 [==============================] - 0s 7ms/step - loss: 10.4862 - accuracy: 0.1140 - val_loss: 9.8754 - val_accuracy: 0.1040\n",
      "Epoch 33/150\n",
      "16/16 [==============================] - 0s 7ms/step - loss: 10.4977 - accuracy: 0.1160 - val_loss: 9.8752 - val_accuracy: 0.0980\n",
      "Epoch 34/150\n",
      "16/16 [==============================] - 0s 7ms/step - loss: 10.4913 - accuracy: 0.1120 - val_loss: 9.8711 - val_accuracy: 0.1460\n",
      "Epoch 35/150\n",
      "16/16 [==============================] - 0s 7ms/step - loss: 10.4938 - accuracy: 0.0880 - val_loss: 9.8679 - val_accuracy: 0.1380\n",
      "Epoch 36/150\n",
      "16/16 [==============================] - 0s 7ms/step - loss: 10.4927 - accuracy: 0.0980 - val_loss: 9.8615 - val_accuracy: 0.1220\n",
      "Epoch 37/150\n",
      "16/16 [==============================] - 0s 7ms/step - loss: 10.4849 - accuracy: 0.0940 - val_loss: 9.9015 - val_accuracy: 0.1320\n",
      "Epoch 38/150\n",
      "16/16 [==============================] - 0s 7ms/step - loss: 10.4921 - accuracy: 0.1000 - val_loss: 9.8637 - val_accuracy: 0.1260\n",
      "Epoch 39/150\n",
      "16/16 [==============================] - 0s 7ms/step - loss: 10.4891 - accuracy: 0.0880 - val_loss: 9.8724 - val_accuracy: 0.1120\n",
      "Epoch 40/150\n",
      "16/16 [==============================] - 0s 8ms/step - loss: 10.4831 - accuracy: 0.1100 - val_loss: 9.8657 - val_accuracy: 0.1180\n",
      "Epoch 41/150\n",
      "16/16 [==============================] - 0s 7ms/step - loss: 10.4856 - accuracy: 0.0740 - val_loss: 9.8592 - val_accuracy: 0.1180\n",
      "Epoch 42/150\n",
      "16/16 [==============================] - 0s 7ms/step - loss: 10.4773 - accuracy: 0.0920 - val_loss: 9.8529 - val_accuracy: 0.1000\n",
      "Epoch 43/150\n",
      "16/16 [==============================] - 0s 7ms/step - loss: 10.4838 - accuracy: 0.0860 - val_loss: 9.8532 - val_accuracy: 0.1160\n",
      "Epoch 44/150\n",
      "16/16 [==============================] - 0s 7ms/step - loss: 10.4869 - accuracy: 0.1180 - val_loss: 9.8829 - val_accuracy: 0.0720\n",
      "Epoch 45/150\n",
      "16/16 [==============================] - 0s 7ms/step - loss: 10.5018 - accuracy: 0.1140 - val_loss: 9.8566 - val_accuracy: 0.0920\n",
      "Epoch 46/150\n",
      "16/16 [==============================] - 0s 7ms/step - loss: 10.4855 - accuracy: 0.1260 - val_loss: 9.8622 - val_accuracy: 0.0940\n",
      "Epoch 47/150\n",
      "16/16 [==============================] - 0s 7ms/step - loss: 10.4783 - accuracy: 0.0920 - val_loss: 9.8502 - val_accuracy: 0.1360\n",
      "Epoch 48/150\n",
      "16/16 [==============================] - 0s 7ms/step - loss: 10.4808 - accuracy: 0.1280 - val_loss: 9.8503 - val_accuracy: 0.1120\n",
      "Epoch 49/150\n",
      "16/16 [==============================] - 0s 7ms/step - loss: 10.4847 - accuracy: 0.1160 - val_loss: 9.8569 - val_accuracy: 0.0860\n",
      "Epoch 50/150\n",
      "16/16 [==============================] - 0s 7ms/step - loss: 10.4811 - accuracy: 0.1140 - val_loss: 9.8556 - val_accuracy: 0.0980\n",
      "Epoch 51/150\n",
      "16/16 [==============================] - 0s 7ms/step - loss: 10.4818 - accuracy: 0.0740 - val_loss: 9.8692 - val_accuracy: 0.1200\n",
      "Epoch 52/150\n",
      "16/16 [==============================] - 0s 7ms/step - loss: 10.4866 - accuracy: 0.0900 - val_loss: 9.8725 - val_accuracy: 0.1320\n",
      "Epoch 53/150\n",
      "16/16 [==============================] - 0s 7ms/step - loss: 10.4784 - accuracy: 0.1120 - val_loss: 9.8519 - val_accuracy: 0.1080\n",
      "Epoch 54/150\n",
      "16/16 [==============================] - 0s 7ms/step - loss: 10.4804 - accuracy: 0.1020 - val_loss: 9.8476 - val_accuracy: 0.0860\n",
      "Epoch 55/150\n",
      "16/16 [==============================] - 0s 7ms/step - loss: 10.4777 - accuracy: 0.0960 - val_loss: 9.8530 - val_accuracy: 0.1160\n",
      "Epoch 56/150\n",
      "16/16 [==============================] - 0s 7ms/step - loss: 10.4844 - accuracy: 0.0860 - val_loss: 9.8490 - val_accuracy: 0.1120\n",
      "Epoch 57/150\n",
      "16/16 [==============================] - 0s 8ms/step - loss: 10.4777 - accuracy: 0.1200 - val_loss: 9.8437 - val_accuracy: 0.1140\n",
      "Epoch 58/150\n",
      "16/16 [==============================] - 0s 8ms/step - loss: 10.4808 - accuracy: 0.1020 - val_loss: 9.8582 - val_accuracy: 0.1220\n",
      "Epoch 59/150\n",
      "16/16 [==============================] - 0s 7ms/step - loss: 10.4784 - accuracy: 0.0940 - val_loss: 9.8605 - val_accuracy: 0.0620\n",
      "Epoch 60/150\n",
      "16/16 [==============================] - 0s 7ms/step - loss: 10.4803 - accuracy: 0.1060 - val_loss: 9.8454 - val_accuracy: 0.0860\n",
      "Epoch 61/150\n",
      "16/16 [==============================] - 0s 7ms/step - loss: 10.4774 - accuracy: 0.1100 - val_loss: 9.8447 - val_accuracy: 0.1000\n",
      "Epoch 62/150\n",
      "16/16 [==============================] - 0s 7ms/step - loss: 10.4777 - accuracy: 0.0880 - val_loss: 9.8651 - val_accuracy: 0.0900\n",
      "Epoch 63/150\n",
      "16/16 [==============================] - 0s 7ms/step - loss: 10.4820 - accuracy: 0.1060 - val_loss: 9.8489 - val_accuracy: 0.1320\n",
      "Epoch 64/150\n",
      "16/16 [==============================] - 0s 7ms/step - loss: 10.4854 - accuracy: 0.1020 - val_loss: 9.8538 - val_accuracy: 0.1120\n",
      "Epoch 65/150\n",
      "16/16 [==============================] - 0s 7ms/step - loss: 10.4795 - accuracy: 0.0920 - val_loss: 9.8438 - val_accuracy: 0.1160\n",
      "Epoch 66/150\n",
      "16/16 [==============================] - 0s 7ms/step - loss: 10.4746 - accuracy: 0.1020 - val_loss: 9.8437 - val_accuracy: 0.0940\n",
      "Epoch 67/150\n",
      "16/16 [==============================] - 0s 7ms/step - loss: 10.4742 - accuracy: 0.0800 - val_loss: 9.8536 - val_accuracy: 0.1300\n",
      "Epoch 68/150\n",
      "16/16 [==============================] - 0s 7ms/step - loss: 10.4933 - accuracy: 0.1260 - val_loss: 9.8496 - val_accuracy: 0.0920\n",
      "Epoch 69/150\n",
      "16/16 [==============================] - 0s 7ms/step - loss: 10.4761 - accuracy: 0.1120 - val_loss: 9.8480 - val_accuracy: 0.1140\n",
      "Epoch 70/150\n",
      "16/16 [==============================] - 0s 7ms/step - loss: 10.4709 - accuracy: 0.0900 - val_loss: 9.8514 - val_accuracy: 0.0860\n",
      "Epoch 71/150\n",
      "16/16 [==============================] - 0s 7ms/step - loss: 10.4857 - accuracy: 0.1120 - val_loss: 9.8494 - val_accuracy: 0.0700\n",
      "Epoch 72/150\n",
      "16/16 [==============================] - 0s 7ms/step - loss: 10.4780 - accuracy: 0.0920 - val_loss: 9.8714 - val_accuracy: 0.0760\n",
      "Epoch 73/150\n",
      "16/16 [==============================] - 0s 7ms/step - loss: 10.4789 - accuracy: 0.0980 - val_loss: 9.8519 - val_accuracy: 0.0800\n",
      "Epoch 74/150\n",
      "16/16 [==============================] - 0s 7ms/step - loss: 10.4753 - accuracy: 0.1200 - val_loss: 9.8421 - val_accuracy: 0.1120\n",
      "Epoch 75/150\n",
      "16/16 [==============================] - 0s 7ms/step - loss: 10.4737 - accuracy: 0.1040 - val_loss: 9.8428 - val_accuracy: 0.1000\n",
      "Epoch 76/150\n",
      "16/16 [==============================] - 0s 7ms/step - loss: 10.4713 - accuracy: 0.1020 - val_loss: 9.8378 - val_accuracy: 0.1040\n",
      "Epoch 77/150\n",
      "16/16 [==============================] - 0s 7ms/step - loss: 10.4712 - accuracy: 0.1080 - val_loss: 9.8475 - val_accuracy: 0.1220\n",
      "Epoch 78/150\n",
      "16/16 [==============================] - 0s 7ms/step - loss: 10.4777 - accuracy: 0.1080 - val_loss: 9.8507 - val_accuracy: 0.1100\n",
      "Epoch 79/150\n",
      "16/16 [==============================] - 0s 7ms/step - loss: 10.4764 - accuracy: 0.1260 - val_loss: 9.8467 - val_accuracy: 0.1140\n",
      "Epoch 80/150\n",
      "16/16 [==============================] - 0s 7ms/step - loss: 10.4726 - accuracy: 0.0860 - val_loss: 9.8466 - val_accuracy: 0.1180\n",
      "Epoch 81/150\n",
      "16/16 [==============================] - 0s 7ms/step - loss: 10.4719 - accuracy: 0.1060 - val_loss: 9.8560 - val_accuracy: 0.0720\n",
      "Epoch 82/150\n",
      "16/16 [==============================] - 0s 7ms/step - loss: 10.4739 - accuracy: 0.1140 - val_loss: 9.8420 - val_accuracy: 0.0900\n",
      "Epoch 83/150\n",
      "16/16 [==============================] - 0s 7ms/step - loss: 10.4899 - accuracy: 0.1200 - val_loss: 9.8463 - val_accuracy: 0.1240\n",
      "Epoch 84/150\n",
      "16/16 [==============================] - 0s 7ms/step - loss: 10.4737 - accuracy: 0.1120 - val_loss: 9.8379 - val_accuracy: 0.1080\n",
      "Epoch 85/150\n",
      "16/16 [==============================] - 0s 7ms/step - loss: 10.4739 - accuracy: 0.1040 - val_loss: 9.8389 - val_accuracy: 0.0840\n",
      "Epoch 86/150\n",
      "16/16 [==============================] - 0s 7ms/step - loss: 10.4684 - accuracy: 0.0820 - val_loss: 9.8462 - val_accuracy: 0.0880\n",
      "Epoch 87/150\n",
      "16/16 [==============================] - 0s 7ms/step - loss: 10.4716 - accuracy: 0.1020 - val_loss: 9.8418 - val_accuracy: 0.0880\n",
      "Epoch 88/150\n",
      "16/16 [==============================] - 0s 7ms/step - loss: 10.4701 - accuracy: 0.0940 - val_loss: 9.8404 - val_accuracy: 0.1100\n",
      "Epoch 89/150\n",
      "16/16 [==============================] - 0s 7ms/step - loss: 10.4734 - accuracy: 0.0940 - val_loss: 9.8411 - val_accuracy: 0.1000\n",
      "Epoch 90/150\n",
      "16/16 [==============================] - 0s 7ms/step - loss: 10.4785 - accuracy: 0.1040 - val_loss: 9.8396 - val_accuracy: 0.0980\n",
      "Epoch 91/150\n",
      "16/16 [==============================] - 0s 7ms/step - loss: 10.4710 - accuracy: 0.0880 - val_loss: 9.8405 - val_accuracy: 0.0900\n",
      "Epoch 92/150\n",
      "16/16 [==============================] - 0s 7ms/step - loss: 10.4730 - accuracy: 0.1140 - val_loss: 9.8390 - val_accuracy: 0.0600\n",
      "Epoch 93/150\n",
      "16/16 [==============================] - 0s 7ms/step - loss: 10.4794 - accuracy: 0.0940 - val_loss: 9.8378 - val_accuracy: 0.0760\n",
      "Epoch 94/150\n",
      "16/16 [==============================] - 0s 7ms/step - loss: 10.4680 - accuracy: 0.1180 - val_loss: 9.8401 - val_accuracy: 0.1160\n",
      "Epoch 95/150\n",
      "16/16 [==============================] - 0s 7ms/step - loss: 10.4707 - accuracy: 0.1000 - val_loss: 9.8427 - val_accuracy: 0.0920\n",
      "Epoch 96/150\n",
      "16/16 [==============================] - 0s 7ms/step - loss: 10.4724 - accuracy: 0.1060 - val_loss: 9.8401 - val_accuracy: 0.1040\n",
      "Epoch 97/150\n",
      "16/16 [==============================] - 0s 7ms/step - loss: 10.4759 - accuracy: 0.1200 - val_loss: 9.8423 - val_accuracy: 0.1040\n",
      "Epoch 98/150\n",
      "16/16 [==============================] - 0s 7ms/step - loss: 10.4748 - accuracy: 0.1080 - val_loss: 9.8518 - val_accuracy: 0.0940\n",
      "Epoch 99/150\n",
      "16/16 [==============================] - 0s 7ms/step - loss: 10.4945 - accuracy: 0.1120 - val_loss: 9.8387 - val_accuracy: 0.0800\n",
      "Epoch 100/150\n",
      "16/16 [==============================] - 0s 8ms/step - loss: 10.4669 - accuracy: 0.1040 - val_loss: 9.8444 - val_accuracy: 0.0940\n",
      "Epoch 101/150\n",
      "16/16 [==============================] - 0s 7ms/step - loss: 10.4667 - accuracy: 0.1120 - val_loss: 9.8372 - val_accuracy: 0.0780\n",
      "Epoch 102/150\n",
      "16/16 [==============================] - 0s 7ms/step - loss: 10.4677 - accuracy: 0.1040 - val_loss: 9.8397 - val_accuracy: 0.1320\n",
      "Epoch 103/150\n",
      "16/16 [==============================] - 0s 7ms/step - loss: 10.4678 - accuracy: 0.0960 - val_loss: 9.8405 - val_accuracy: 0.1220\n",
      "Epoch 104/150\n",
      "16/16 [==============================] - 0s 7ms/step - loss: 10.4708 - accuracy: 0.1060 - val_loss: 9.8576 - val_accuracy: 0.0780\n",
      "Epoch 105/150\n",
      "16/16 [==============================] - 0s 7ms/step - loss: 10.4782 - accuracy: 0.1000 - val_loss: 9.8423 - val_accuracy: 0.0820\n",
      "Epoch 106/150\n",
      "16/16 [==============================] - 0s 7ms/step - loss: 10.4727 - accuracy: 0.0760 - val_loss: 9.8428 - val_accuracy: 0.0960\n",
      "Epoch 107/150\n",
      "16/16 [==============================] - 0s 7ms/step - loss: 10.4666 - accuracy: 0.1180 - val_loss: 9.8359 - val_accuracy: 0.1060\n",
      "Epoch 108/150\n",
      "16/16 [==============================] - 0s 8ms/step - loss: 10.4662 - accuracy: 0.0960 - val_loss: 9.8340 - val_accuracy: 0.0940\n",
      "Epoch 109/150\n",
      "16/16 [==============================] - 0s 7ms/step - loss: 10.4688 - accuracy: 0.1080 - val_loss: 9.8354 - val_accuracy: 0.0820\n",
      "Epoch 110/150\n",
      "16/16 [==============================] - 0s 7ms/step - loss: 10.4721 - accuracy: 0.0920 - val_loss: 9.8344 - val_accuracy: 0.1060\n",
      "Epoch 111/150\n",
      "16/16 [==============================] - 0s 7ms/step - loss: 10.4682 - accuracy: 0.0920 - val_loss: 9.8394 - val_accuracy: 0.0980\n",
      "Epoch 112/150\n",
      "16/16 [==============================] - 0s 7ms/step - loss: 10.4707 - accuracy: 0.1220 - val_loss: 9.8362 - val_accuracy: 0.0940\n",
      "Epoch 113/150\n",
      "16/16 [==============================] - 0s 7ms/step - loss: 10.4694 - accuracy: 0.1060 - val_loss: 9.8378 - val_accuracy: 0.0820\n",
      "Epoch 114/150\n",
      "16/16 [==============================] - 0s 7ms/step - loss: 10.4682 - accuracy: 0.1160 - val_loss: 9.8407 - val_accuracy: 0.1000\n",
      "Epoch 115/150\n",
      "16/16 [==============================] - 0s 7ms/step - loss: 10.4791 - accuracy: 0.1140 - val_loss: 9.8436 - val_accuracy: 0.1120\n",
      "Epoch 116/150\n",
      "16/16 [==============================] - 0s 7ms/step - loss: 10.4736 - accuracy: 0.1120 - val_loss: 9.8381 - val_accuracy: 0.0700\n",
      "Epoch 117/150\n",
      "16/16 [==============================] - 0s 7ms/step - loss: 10.4724 - accuracy: 0.0880 - val_loss: 9.8450 - val_accuracy: 0.1060\n",
      "Epoch 118/150\n",
      "16/16 [==============================] - 0s 7ms/step - loss: 10.4742 - accuracy: 0.1000 - val_loss: 9.8349 - val_accuracy: 0.1120\n",
      "Epoch 119/150\n",
      "16/16 [==============================] - 0s 7ms/step - loss: 10.4687 - accuracy: 0.1120 - val_loss: 9.8359 - val_accuracy: 0.1080\n",
      "Epoch 120/150\n",
      "16/16 [==============================] - 0s 7ms/step - loss: 10.4652 - accuracy: 0.0940 - val_loss: 9.8339 - val_accuracy: 0.1160\n",
      "Epoch 121/150\n",
      "16/16 [==============================] - 0s 7ms/step - loss: 10.4779 - accuracy: 0.0940 - val_loss: 9.8330 - val_accuracy: 0.0760\n",
      "Epoch 122/150\n",
      "16/16 [==============================] - 0s 7ms/step - loss: 10.4658 - accuracy: 0.1180 - val_loss: 9.8380 - val_accuracy: 0.1060\n",
      "Epoch 123/150\n",
      "16/16 [==============================] - 0s 7ms/step - loss: 10.4715 - accuracy: 0.1000 - val_loss: 9.8336 - val_accuracy: 0.0780\n",
      "Epoch 124/150\n",
      "16/16 [==============================] - 0s 7ms/step - loss: 10.4704 - accuracy: 0.1180 - val_loss: 9.8335 - val_accuracy: 0.0880\n",
      "Epoch 125/150\n",
      "16/16 [==============================] - 0s 8ms/step - loss: 10.4681 - accuracy: 0.0900 - val_loss: 9.8343 - val_accuracy: 0.0820\n",
      "Epoch 126/150\n",
      "16/16 [==============================] - 0s 7ms/step - loss: 10.4687 - accuracy: 0.0840 - val_loss: 9.8331 - val_accuracy: 0.0980\n",
      "Epoch 127/150\n",
      "16/16 [==============================] - 0s 7ms/step - loss: 10.4670 - accuracy: 0.0880 - val_loss: 9.8339 - val_accuracy: 0.0780\n",
      "Epoch 128/150\n",
      "16/16 [==============================] - 0s 7ms/step - loss: 10.4665 - accuracy: 0.1180 - val_loss: 9.8412 - val_accuracy: 0.0840\n",
      "Epoch 129/150\n",
      "16/16 [==============================] - 0s 7ms/step - loss: 10.4817 - accuracy: 0.0840 - val_loss: 9.8350 - val_accuracy: 0.0720\n",
      "Epoch 130/150\n",
      "16/16 [==============================] - 0s 7ms/step - loss: 10.4707 - accuracy: 0.0900 - val_loss: 9.8325 - val_accuracy: 0.0760\n",
      "Epoch 131/150\n",
      "16/16 [==============================] - 0s 7ms/step - loss: 10.4659 - accuracy: 0.0880 - val_loss: 9.8320 - val_accuracy: 0.0700\n",
      "Epoch 132/150\n",
      "16/16 [==============================] - 0s 7ms/step - loss: 10.4659 - accuracy: 0.1060 - val_loss: 9.8420 - val_accuracy: 0.0900\n",
      "Epoch 133/150\n",
      "16/16 [==============================] - 0s 7ms/step - loss: 10.4653 - accuracy: 0.1240 - val_loss: 9.8336 - val_accuracy: 0.0800\n",
      "Epoch 134/150\n",
      "16/16 [==============================] - 0s 7ms/step - loss: 10.4678 - accuracy: 0.0980 - val_loss: 9.8398 - val_accuracy: 0.0880\n",
      "Epoch 135/150\n",
      "16/16 [==============================] - 0s 7ms/step - loss: 10.4700 - accuracy: 0.0860 - val_loss: 9.8323 - val_accuracy: 0.0640\n",
      "Epoch 136/150\n",
      "16/16 [==============================] - 0s 7ms/step - loss: 10.4651 - accuracy: 0.1000 - val_loss: 9.8353 - val_accuracy: 0.0680\n",
      "Epoch 137/150\n",
      "16/16 [==============================] - 0s 7ms/step - loss: 10.4673 - accuracy: 0.1000 - val_loss: 9.8464 - val_accuracy: 0.1100\n",
      "Epoch 138/150\n",
      "16/16 [==============================] - 0s 7ms/step - loss: 10.4800 - accuracy: 0.0780 - val_loss: 9.8350 - val_accuracy: 0.0600\n",
      "Epoch 139/150\n",
      "16/16 [==============================] - 0s 7ms/step - loss: 10.4692 - accuracy: 0.1180 - val_loss: 9.8379 - val_accuracy: 0.0840\n",
      "Epoch 140/150\n",
      "16/16 [==============================] - 0s 7ms/step - loss: 10.4698 - accuracy: 0.1140 - val_loss: 9.8317 - val_accuracy: 0.0940\n",
      "Epoch 141/150\n",
      "16/16 [==============================] - 0s 7ms/step - loss: 10.4672 - accuracy: 0.0920 - val_loss: 9.8409 - val_accuracy: 0.0740\n",
      "Epoch 142/150\n",
      "16/16 [==============================] - 0s 7ms/step - loss: 10.4673 - accuracy: 0.0760 - val_loss: 9.8416 - val_accuracy: 0.0740\n",
      "Epoch 143/150\n",
      "16/16 [==============================] - 0s 7ms/step - loss: 10.4669 - accuracy: 0.0940 - val_loss: 9.8337 - val_accuracy: 0.0740\n",
      "Epoch 144/150\n",
      "16/16 [==============================] - 0s 7ms/step - loss: 10.4650 - accuracy: 0.1140 - val_loss: 9.8410 - val_accuracy: 0.0780\n",
      "Epoch 145/150\n",
      "16/16 [==============================] - 0s 7ms/step - loss: 10.4672 - accuracy: 0.1020 - val_loss: 9.8362 - val_accuracy: 0.0700\n",
      "Epoch 146/150\n",
      "16/16 [==============================] - 0s 7ms/step - loss: 10.4655 - accuracy: 0.1080 - val_loss: 9.8356 - val_accuracy: 0.0800\n",
      "Epoch 147/150\n",
      "16/16 [==============================] - 0s 7ms/step - loss: 10.4707 - accuracy: 0.1080 - val_loss: 9.8360 - val_accuracy: 0.0680\n",
      "Epoch 148/150\n",
      "16/16 [==============================] - 0s 7ms/step - loss: 10.4658 - accuracy: 0.0880 - val_loss: 9.8361 - val_accuracy: 0.0680\n",
      "Epoch 149/150\n",
      "16/16 [==============================] - 0s 7ms/step - loss: 10.4688 - accuracy: 0.0920 - val_loss: 9.8314 - val_accuracy: 0.0860\n",
      "Epoch 150/150\n",
      "16/16 [==============================] - 0s 7ms/step - loss: 10.4673 - accuracy: 0.1120 - val_loss: 9.8370 - val_accuracy: 0.0880\n"
     ]
    }
   ],
   "source": [
    "history_pretrainted = new_model.fit(X_train_pret_resh_500,y_train_pretrained_500 ,epochs= 150, \\\n",
    "                                        validation_data=(X_valid_pret_resh_500,y_valid_pretrained_500), \\\n",
    "                                        callbacks=tensorboard_callback\n",
    "                                    )\n"
   ]
  },
  {
   "cell_type": "code",
   "execution_count": 96,
   "metadata": {},
   "outputs": [
    {
     "data": {
      "text/plain": [
       "[<matplotlib.lines.Line2D at 0x1a51b5d55e0>]"
      ]
     },
     "execution_count": 96,
     "metadata": {},
     "output_type": "execute_result"
    },
    {
     "data": {
      "image/png": "[encoded data removed]",
      "text/plain": [
       "<Figure size 432x288 with 1 Axes>"
      ]
     },
     "metadata": {
      "needs_background": "light"
     },
     "output_type": "display_data"
    }
   ],
   "source": [
    "plt.plot(history_pretrainted.history['loss'])\n",
    "plt.plot(history_pretrainted.history['val_loss'])"
   ]
  },
  {
   "cell_type": "markdown",
   "metadata": {},
   "source": [
    "### Predicting the Digits on a Pre-Trained Autoencoder based Model"
   ]
  },
  {
   "cell_type": "code",
   "execution_count": 85,
   "metadata": {},
   "outputs": [
    {
     "data": {
      "image/png": "[encoded data removed]",
      "text/plain": [
       "<Figure size 432x288 with 1 Axes>"
      ]
     },
     "metadata": {
      "needs_background": "light"
     },
     "output_type": "display_data"
    }
   ],
   "source": [
    "idx_testnumber_cls_ae = 0      # Index of test number for the next plottings \n",
    "plot_image(new_images[idx_testnumber_cls_ae])"
   ]
  },
  {
   "cell_type": "code",
   "execution_count": 86,
   "metadata": {},
   "outputs": [
    {
     "name": "stdout",
     "output_type": "stream",
     "text": [
      "The predicted digit:  3\n",
      "Probability of the Prediction:  [[0.07224946 0.09415147 0.1022924  0.14221269 0.09669135 0.11514192\n",
      "  0.08820318 0.10244843 0.09595329 0.09065574]]\n"
     ]
    }
   ],
   "source": [
    "# Predicting the correct number based on the trained model. \n",
    "print(\"The predicted digit: \", np.argmax(new_model.predict(new_images[np.newaxis, idx_testnumber_cls_ae])))\n",
    "print(\"Probability of the Prediction: \", new_model.predict(new_images[np.newaxis, idx_testnumber_cls_ae]))\n"
   ]
  },
  {
   "cell_type": "code",
   "execution_count": null,
   "metadata": {},
   "outputs": [],
   "source": []
  }
 ],
 "metadata": {
  "interpreter": {
   "hash": "2b49f70aa2f17b03439dc8f4bbaf601f728142d0d0d774f4bbd10ea7a16b86ea"
  },
  "kernelspec": {
   "display_name": "Python 3.8.0 64-bit ('wingpuflake_keras': conda)",
   "language": "python",
   "name": "python3"
  },
  "language_info": {
   "codemirror_mode": {
    "name": "ipython",
    "version": 3
   },
   "file_extension": ".py",
   "mimetype": "text/x-python",
   "name": "python",
   "nbconvert_exporter": "python",
   "pygments_lexer": "ipython3",
   "version": "3.8.0"
  },
  "orig_nbformat": 4
 },
 "nbformat": 4,
 "nbformat_minor": 2
}
