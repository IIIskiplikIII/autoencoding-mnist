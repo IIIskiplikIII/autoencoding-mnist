{
 "cells": [
  {
   "cell_type": "markdown",
   "metadata": {},
   "source": [
    "# Introduction\n",
    "This notebook will handle a denoising autoencoder on the MNIST-dataset.\n",
    "\n",
    "The specifics of autoencoding are in the fact that there is no label needed to predict as it is known in common deep-learning architecture. Under this particular architecture, the goal is to \"predict\" its given input values (the features). Therefore we better say \"reconstruct\" instead of \"predict\". The model is forced to reconstruct the the given features, this is implemented through three major changes to the traditional NN structure:\n",
    "1. Building the model out of two seperate models (encoder and decorder).\n",
    "2. Reducing the given information in the middle of the network (codings).\n",
    "3. Using the features as label values as well (prediction value is the input).\n",
    "\n",
    "You will find these structures as well as two variations of denoising autoencoders in this notebook, one with a simple deep neural network (Deep Denoising Autoencoder) and a dropout layer and another one (Convolutional Denoising Autoencoder) with convolution layers and a GaussianNoise creation.\n",
    "\n",
    "## My other Projects\n",
    "If you are interested in some more clearly analysis of the dataset, take a look into my other notebooks about the MNIS-dataset:\n",
    "\n",
    "- cnn-for-digit-recognition-MNIST (accuracy score: 0.99135):\n",
    "    - https://www.kaggle.com/skiplik/cnn-for-digit-recognition-mnist \n",
    "- Finetuning Hyperparameters in Deep Neural Network:\n",
    "    - https://www.kaggle.com/skiplik/finetuning-hyperparameters-in-deep-neural-network\n",
    "- Digit Recognition with a Deep Neural Network:\n",
    "    - https://www.kaggle.com/skiplik/digit-recognition-with-a-deep-neural-network\n",
    "- Another MNIST Try:\n",
    "    - https://www.kaggle.com/skiplik/another-mnist-try\n",
    "- First NN by Detecting Handwritten Characters:\n",
    "    - https://www.kaggle.com/skiplik/first-nn-by-detecting-handwritten-characters \n",
    "- ..."
   ]
  },
  {
   "cell_type": "markdown",
   "metadata": {},
   "source": [
    "# Imports"
   ]
  },
  {
   "cell_type": "code",
   "execution_count": 1,
   "metadata": {},
   "outputs": [
    {
     "name": "stdout",
     "output_type": "stream",
     "text": [
      "Tensorflow Version:  2.3.0\n",
      "Keras Version:  2.4.0\n",
      "No GPU was detected. LSTMs and CNNs can be very slow without a GPU.\n",
      "../autoencoding-mnist/data/input/digit-recognizer\\keras_reg_160_10_002.sav\n",
      "../autoencoding-mnist/data/input/digit-recognizer\\keras_reg_jl_160_10_002.sav\n",
      "../autoencoding-mnist/data/input/digit-recognizer\\sample_submission.csv\n",
      "../autoencoding-mnist/data/input/digit-recognizer\\test.csv\n",
      "../autoencoding-mnist/data/input/digit-recognizer\\train.csv\n"
     ]
    }
   ],
   "source": [
    "import sys\n",
    "assert sys.version_info >= (3,5)\n",
    "\n",
    "# Is this notebook running on Colab or Kaggle?\n",
    "IS_COLAB = \"google.colab\" in sys.modules\n",
    "IS_KAGGLE = \"kaggle_secrets\" in sys.modules\n",
    "\n",
    "import numpy as np # linear algebra\n",
    "import pandas as pd # data processing, CSV file I/O (e.g. pd.read_csv)\n",
    "import matplotlib.pyplot as plt\n",
    "from functools import partial\n",
    "from sklearn.model_selection import train_test_split\n",
    "\n",
    "from sklearn.pipeline import Pipeline\n",
    "from sklearn.preprocessing import StandardScaler\n",
    "from sklearn.preprocessing import Normalizer\n",
    "\n",
    "import tensorflow as tf\n",
    "from tensorflow import keras\n",
    "from tensorflow import image\n",
    "from tensorflow import core\n",
    "from tensorflow.keras import layers\n",
    "\n",
    "import mlflow\n",
    "from mlflow import log_metric, log_param, log_artifacts\n",
    "import mlflow.tensorflow\n",
    "from mlflow import pyfunc\n",
    "\n",
    "assert tf.__version__ >= \"2.0\"\n",
    "\n",
    "print(\"Tensorflow Version: \", tf.__version__)\n",
    "print(\"Keras Version: \",keras.__version__)\n",
    "\n",
    "if not tf.config.list_physical_devices('GPU'):\n",
    "    print(\"No GPU was detected. LSTMs and CNNs can be very slow without a GPU.\")\n",
    "    if IS_COLAB:\n",
    "        print(\"Go to Runtime > Change runtime and select a GPU hardware accelerator.\")\n",
    "    if IS_KAGGLE:\n",
    "        print(\"Go to Settings > Accelerator and select GPU.\")\n",
    "\n",
    "\n",
    "tf.random.set_seed(42)\n",
    "np.random.seed(42)\n",
    "random_state=42\n",
    "\n",
    "kaggle = 0 # Kaggle path active = 1\n",
    "\n",
    "# change your local path here\n",
    "if kaggle == 1 :\n",
    "    MNIST_PATH= '../input/digit-recognizer'\n",
    "else:\n",
    "    MNIST_PATH= '../autoencoding-mnist/data/input/digit-recognizer'\n",
    "\n",
    "\n",
    "\n",
    "import os\n",
    "for dirname, _, filenames in os.walk(MNIST_PATH): \n",
    "    for filename in filenames:\n",
    "        print(os.path.join(dirname, filename))\n",
    "        "
   ]
  },
  {
   "cell_type": "markdown",
   "metadata": {},
   "source": [
    "## Get The Data"
   ]
  },
  {
   "cell_type": "code",
   "execution_count": 2,
   "metadata": {},
   "outputs": [],
   "source": [
    "# Data path and file\n",
    "CSV_FILE_TRAIN='train.csv'\n",
    "CSV_FILE_TEST='test.csv'\n",
    "\n",
    "def load_csv_data(path, csv_file):\n",
    "    csv_path = os.path.join(path, csv_file)\n",
    "    return pd.read_csv(csv_path)\n",
    "\n",
    "def load_csv_data_manuel(path, csv_file):\n",
    "    csv_path = os.path.join(path, csv_file)\n",
    "    csv_file = open(csv_path, 'r')\n",
    "    csv_data = csv_file.readlines()\n",
    "    csv_file.close()\n",
    "    return csv_data\n",
    "    \n",
    "\n",
    "train = load_csv_data(MNIST_PATH,CSV_FILE_TRAIN)\n",
    "test = load_csv_data(MNIST_PATH,CSV_FILE_TEST)"
   ]
  },
  {
   "cell_type": "markdown",
   "metadata": {},
   "source": [
    "### Train Val Split"
   ]
  },
  {
   "cell_type": "code",
   "execution_count": 3,
   "metadata": {},
   "outputs": [],
   "source": [
    "X_train, X_valid, y_train, y_valid =  train_test_split(train.loc[:, train.columns != 'label'], train['label'], test_size=0.33, random_state=random_state)"
   ]
  },
  {
   "cell_type": "markdown",
   "metadata": {},
   "source": [
    "### Preparing for Neural Network Structure"
   ]
  },
  {
   "cell_type": "code",
   "execution_count": 4,
   "metadata": {},
   "outputs": [],
   "source": [
    "X_train = X_train.astype(np.float32) / 255\n",
    "X_valid = X_valid.astype(np.float32) / 255\n",
    "X_test = test.astype(np.float32) / 255"
   ]
  },
  {
   "cell_type": "code",
   "execution_count": 5,
   "metadata": {},
   "outputs": [
    {
     "name": "stdout",
     "output_type": "stream",
     "text": [
      "\"X_train\" shape: (28140, 784)\n",
      "\"X_valid\" shape: (13860, 784)\n",
      "\"X_test\" shape: (28000, 784)\n"
     ]
    }
   ],
   "source": [
    "print(f'\"X_train\" shape: {X_train.shape}')\n",
    "print(f'\"X_valid\" shape: {X_valid.shape}')\n",
    "print(f'\"X_test\" shape: {X_test.shape}')"
   ]
  },
  {
   "cell_type": "markdown",
   "metadata": {},
   "source": [
    "#### Reshaping Data in Tensor Batch Structure"
   ]
  },
  {
   "cell_type": "code",
   "execution_count": 6,
   "metadata": {},
   "outputs": [],
   "source": [
    "def reshape_images(df_images):\n",
    "    df_images_resh = df_images.values.reshape(df_images.shape[0], 28, 28)\n",
    "    return df_images_resh\n",
    "\n",
    "def reshape_conv_images(df_images):\n",
    "    df_images_conv_resh = df_images.values.reshape(df_images.shape[0], 28, 28, 1)\n",
    "    return df_images_conv_resh"
   ]
  },
  {
   "cell_type": "code",
   "execution_count": 7,
   "metadata": {},
   "outputs": [],
   "source": [
    "##### TODO: reshape_images() einbauen \n",
    "X_train_resh = X_train.values.reshape(X_train.shape[0], 28, 28)\n",
    "X_valid_resh = X_valid.values.reshape(X_valid.shape[0], 28, 28)\n",
    "\n",
    "y_train_resh =  y_train.values.reshape(y_train.shape[0], 1)\n",
    "y_valid_resh = y_valid.values.reshape(y_valid.shape[0], 1)"
   ]
  },
  {
   "cell_type": "code",
   "execution_count": 8,
   "metadata": {},
   "outputs": [
    {
     "name": "stdout",
     "output_type": "stream",
     "text": [
      "\"X_train_resh\" shape: (28140, 28, 28)\n",
      "\"X_valid_resh\" shape: (13860, 28, 28)\n",
      "\"y_train_resh\" shape: (28140, 1)\n",
      "\"y_valid_resh\" shape: (13860, 1)\n"
     ]
    }
   ],
   "source": [
    "print(f'\"X_train_resh\" shape: {X_train_resh.shape}')\n",
    "print(f'\"X_valid_resh\" shape: {X_valid_resh.shape}')\n",
    "print(f'\"y_train_resh\" shape: {y_train_resh.shape}')\n",
    "print(f'\"y_valid_resh\" shape: {y_valid_resh.shape}')"
   ]
  },
  {
   "cell_type": "markdown",
   "metadata": {},
   "source": [
    "# Plotting "
   ]
  },
  {
   "cell_type": "code",
   "execution_count": 9,
   "metadata": {},
   "outputs": [],
   "source": [
    "def plot_image(image):\n",
    "    plt.imshow(image, cmap=\"binary\")\n",
    "    plt.axis(\"off\")\n",
    "\n",
    "def show_reconstructions(model, X_valid, n_images=5):\n",
    "    reconstructions = model.predict(X_valid[:n_images])\n",
    "    fig = plt.figure(figsize=(n_images * 1.5, 3))\n",
    "\n",
    "    for image_index in range(n_images):\n",
    "        plt.subplot(2, n_images, 1 + image_index)\n",
    "        plot_image(X_valid[image_index])\n",
    "        plt.subplot(2, n_images, 1 + n_images + image_index)\n",
    "        plot_image(reconstructions[image_index])"
   ]
  },
  {
   "cell_type": "markdown",
   "metadata": {},
   "source": [
    "### Plotting One Example Value"
   ]
  },
  {
   "cell_type": "code",
   "execution_count": 10,
   "metadata": {},
   "outputs": [
    {
     "name": "stdout",
     "output_type": "stream",
     "text": [
      "Example label: 1\n"
     ]
    }
   ],
   "source": [
    "print(f'Example label: {y_valid.iloc[1]}')"
   ]
  },
  {
   "cell_type": "code",
   "execution_count": 11,
   "metadata": {},
   "outputs": [
    {
     "data": {
      "image/png": "[encoded data removed]",
      "text/plain": [
       "<Figure size 432x288 with 1 Axes>"
      ]
     },
     "metadata": {
      "needs_background": "light"
     },
     "output_type": "display_data"
    }
   ],
   "source": [
    "plot_image(X_valid.iloc[1].values.reshape(28,28))"
   ]
  },
  {
   "cell_type": "markdown",
   "metadata": {},
   "source": [
    "# First Model - Deep Denoising Autoencoder \n",
    "An autoencoder architecture includes two seperate models, the encoder and the decorder. In the neuron point of view they both have a rejuvenation which represents a need of information compression - keep only the realy relevant information and drop the less relevant information. The encoder has an input of 784 neurons and an output of only 30 (which represents the codings). On the otherside the decoder has an inputshape of 30 neurons with an layer of 100 neurons, which rises to an layer of 28 * 28 neurons (=784) again. \n",
    "\n",
    "These two models combined bring the need of reducing given information and (artificially) recreating them again. Thats the specialty of the autoencoder structure."
   ]
  },
  {
   "cell_type": "markdown",
   "metadata": {},
   "source": [
    "### Encoder Architecture"
   ]
  },
  {
   "cell_type": "code",
   "execution_count": 12,
   "metadata": {},
   "outputs": [],
   "source": [
    "dropout_encoder = keras.models.Sequential([\n",
    "    keras.layers.Flatten(input_shape=[28, 28]),\n",
    "    keras.layers.Dropout(0.5),\n",
    "    keras.layers.Dense(100, activation=\"selu\"),\n",
    "    keras.layers.Dense(30, activation=\"selu\")           # Codings\n",
    "])"
   ]
  },
  {
   "cell_type": "code",
   "execution_count": 13,
   "metadata": {},
   "outputs": [
    {
     "name": "stdout",
     "output_type": "stream",
     "text": [
      "Model: \"sequential\"\n",
      "_________________________________________________________________\n",
      "Layer (type)                 Output Shape              Param #   \n",
      "=================================================================\n",
      "flatten (Flatten)            (None, 784)               0         \n",
      "_________________________________________________________________\n",
      "dropout (Dropout)            (None, 784)               0         \n",
      "_________________________________________________________________\n",
      "dense (Dense)                (None, 100)               78500     \n",
      "_________________________________________________________________\n",
      "dense_1 (Dense)              (None, 30)                3030      \n",
      "=================================================================\n",
      "Total params: 81,530\n",
      "Trainable params: 81,530\n",
      "Non-trainable params: 0\n",
      "_________________________________________________________________\n"
     ]
    }
   ],
   "source": [
    "dropout_encoder.summary()"
   ]
  },
  {
   "cell_type": "markdown",
   "metadata": {},
   "source": [
    "#### Decoder Architecture"
   ]
  },
  {
   "cell_type": "code",
   "execution_count": 14,
   "metadata": {},
   "outputs": [],
   "source": [
    "dropout_decoder = keras.models.Sequential([\n",
    "    keras.layers.Dense(100, activation=\"selu\", input_shape=[30]),\n",
    "    keras.layers.Dense(28 * 28, activation=\"sigmoid\"),  ### PROBLEM AREA found: USE THE RIGHT ACTIVATION FUNCTION\n",
    "    keras.layers.Reshape([28, 28])\n",
    "])"
   ]
  },
  {
   "cell_type": "code",
   "execution_count": 15,
   "metadata": {},
   "outputs": [
    {
     "name": "stdout",
     "output_type": "stream",
     "text": [
      "Model: \"sequential_1\"\n",
      "_________________________________________________________________\n",
      "Layer (type)                 Output Shape              Param #   \n",
      "=================================================================\n",
      "dense_2 (Dense)              (None, 100)               3100      \n",
      "_________________________________________________________________\n",
      "dense_3 (Dense)              (None, 784)               79184     \n",
      "_________________________________________________________________\n",
      "reshape (Reshape)            (None, 28, 28)            0         \n",
      "=================================================================\n",
      "Total params: 82,284\n",
      "Trainable params: 82,284\n",
      "Non-trainable params: 0\n",
      "_________________________________________________________________\n"
     ]
    }
   ],
   "source": [
    "dropout_decoder.summary()"
   ]
  },
  {
   "cell_type": "markdown",
   "metadata": {},
   "source": [
    "### Building the Model"
   ]
  },
  {
   "cell_type": "code",
   "execution_count": 16,
   "metadata": {},
   "outputs": [],
   "source": [
    "dropout_ae = keras.models.Sequential([dropout_encoder, dropout_decoder])\n",
    "dropout_ae.compile(loss=\"binary_crossentropy\", optimizer=keras.optimizers.SGD(lr=1.5))"
   ]
  },
  {
   "cell_type": "markdown",
   "metadata": {},
   "source": [
    "## Training and Logging -  Deep Denoising Autoencoder"
   ]
  },
  {
   "cell_type": "markdown",
   "metadata": {},
   "source": [
    "### Logging the Model (ML Flow)"
   ]
  },
  {
   "cell_type": "code",
   "execution_count": 17,
   "metadata": {},
   "outputs": [],
   "source": [
    "#mlflow.tensorflow.autolog()"
   ]
  },
  {
   "cell_type": "markdown",
   "metadata": {},
   "source": [
    "### Training the Model"
   ]
  },
  {
   "cell_type": "code",
   "execution_count": 18,
   "metadata": {},
   "outputs": [
    {
     "name": "stdout",
     "output_type": "stream",
     "text": [
      "Epoch 1/10\n",
      "880/880 [==============================] - 2s 2ms/step - loss: 0.2242 - val_loss: 0.1742\n",
      "Epoch 2/10\n",
      "880/880 [==============================] - 1s 2ms/step - loss: 0.1679 - val_loss: 0.1491\n",
      "Epoch 3/10\n",
      "880/880 [==============================] - 1s 2ms/step - loss: 0.1543 - val_loss: 0.1407\n",
      "Epoch 4/10\n",
      "880/880 [==============================] - 1s 2ms/step - loss: 0.1480 - val_loss: 0.1339\n",
      "Epoch 5/10\n",
      "880/880 [==============================] - 1s 2ms/step - loss: 0.1436 - val_loss: 0.1312\n",
      "Epoch 6/10\n",
      "880/880 [==============================] - 1s 2ms/step - loss: 0.1406 - val_loss: 0.1311\n",
      "Epoch 7/10\n",
      "880/880 [==============================] - 1s 2ms/step - loss: 0.1379 - val_loss: 0.1278\n",
      "Epoch 8/10\n",
      "880/880 [==============================] - 1s 2ms/step - loss: 0.1356 - val_loss: 0.1261\n",
      "Epoch 9/10\n",
      "880/880 [==============================] - 1s 2ms/step - loss: 0.1337 - val_loss: 0.1223\n",
      "Epoch 10/10\n",
      "880/880 [==============================] - 1s 2ms/step - loss: 0.1321 - val_loss: 0.1204\n"
     ]
    }
   ],
   "source": [
    "history = dropout_ae.fit(X_train_resh, X_train_resh, epochs= 10, validation_data=(X_valid_resh, X_valid_resh))\n"
   ]
  },
  {
   "cell_type": "markdown",
   "metadata": {},
   "source": [
    "### Losses\n",
    "The question is: \"How good does the model reconstruct the given features/information\". So there is no prediction of some label value! The model \"predicts\" (or better) reconstruct its input values to its best"
   ]
  },
  {
   "cell_type": "code",
   "execution_count": 19,
   "metadata": {},
   "outputs": [
    {
     "data": {
      "text/plain": [
       "[<matplotlib.lines.Line2D at 0x1d210373f10>]"
      ]
     },
     "execution_count": 19,
     "metadata": {},
     "output_type": "execute_result"
    },
    {
     "data": {
      "image/png": "[encoded data removed]",
      "text/plain": [
       "<Figure size 432x288 with 1 Axes>"
      ]
     },
     "metadata": {
      "needs_background": "light"
     },
     "output_type": "display_data"
    }
   ],
   "source": [
    "# Getting in touch with the model statistics \n",
    "# shows the available keys in models history:  print(history.history.keys())\n",
    "plt.plot(history.history['loss'])\n",
    "plt.plot(history.history['val_loss'])"
   ]
  },
  {
   "cell_type": "markdown",
   "metadata": {},
   "source": [
    "# Second Model - Convolutional Denoising Autoencoder "
   ]
  },
  {
   "cell_type": "markdown",
   "metadata": {},
   "source": [
    "### Convolutional Encoder Architecture  "
   ]
  },
  {
   "cell_type": "code",
   "execution_count": 20,
   "metadata": {},
   "outputs": [],
   "source": [
    "conv_encoder = keras.models.Sequential([\n",
    "    keras.layers.GaussianNoise(0.1, input_shape = [28, 28, 1]),\n",
    "    keras.layers.Conv2D(16, kernel_size=3, activation='selu'),\n",
    "    keras.layers.MaxPool2D(pool_size=2),\n",
    "    keras.layers.Conv2D(32, kernel_size=3, padding=\"same\", activation=\"selu\"),\n",
    "    keras.layers.MaxPool2D(pool_size=4),\n",
    "    keras.layers.Dense(392, activation=\"relu\")           # Codings\n",
    "])"
   ]
  },
  {
   "cell_type": "code",
   "execution_count": 21,
   "metadata": {},
   "outputs": [
    {
     "name": "stdout",
     "output_type": "stream",
     "text": [
      "Model: \"sequential_3\"\n",
      "_________________________________________________________________\n",
      "Layer (type)                 Output Shape              Param #   \n",
      "=================================================================\n",
      "gaussian_noise (GaussianNois (None, 28, 28, 1)         0         \n",
      "_________________________________________________________________\n",
      "conv2d (Conv2D)              (None, 26, 26, 16)        160       \n",
      "_________________________________________________________________\n",
      "max_pooling2d (MaxPooling2D) (None, 13, 13, 16)        0         \n",
      "_________________________________________________________________\n",
      "conv2d_1 (Conv2D)            (None, 13, 13, 32)        4640      \n",
      "_________________________________________________________________\n",
      "max_pooling2d_1 (MaxPooling2 (None, 3, 3, 32)          0         \n",
      "_________________________________________________________________\n",
      "dense_4 (Dense)              (None, 3, 3, 392)         12936     \n",
      "=================================================================\n",
      "Total params: 17,736\n",
      "Trainable params: 17,736\n",
      "Non-trainable params: 0\n",
      "_________________________________________________________________\n"
     ]
    }
   ],
   "source": [
    "conv_encoder.summary()"
   ]
  },
  {
   "cell_type": "markdown",
   "metadata": {},
   "source": [
    "### Convolutional Decoder Architecture"
   ]
  },
  {
   "cell_type": "code",
   "execution_count": 22,
   "metadata": {},
   "outputs": [],
   "source": [
    "conv_decoder = keras.models.Sequential([\n",
    "    #keras.layers.GaussianNoise(0.1, input_shape=[6, 6, 32] ),\n",
    "    keras.layers.Conv2DTranspose(32, kernel_size=3, strides=2, padding=\"valid\",activation=\"selu\", input_shape=[3, 3, 392]),\n",
    "    keras.layers.Conv2DTranspose(16, kernel_size=3, strides=2, padding=\"same\",activation=\"selu\"),\n",
    "    keras.layers.Conv2DTranspose(1, kernel_size=3, strides=2, padding=\"same\", activation=\"sigmoid\"),\n",
    "    keras.layers.Reshape([28, 28, 1])\n",
    "])"
   ]
  },
  {
   "cell_type": "code",
   "execution_count": 23,
   "metadata": {},
   "outputs": [
    {
     "name": "stdout",
     "output_type": "stream",
     "text": [
      "Model: \"sequential_4\"\n",
      "_________________________________________________________________\n",
      "Layer (type)                 Output Shape              Param #   \n",
      "=================================================================\n",
      "conv2d_transpose (Conv2DTran (None, 7, 7, 32)          112928    \n",
      "_________________________________________________________________\n",
      "conv2d_transpose_1 (Conv2DTr (None, 14, 14, 16)        4624      \n",
      "_________________________________________________________________\n",
      "conv2d_transpose_2 (Conv2DTr (None, 28, 28, 1)         145       \n",
      "_________________________________________________________________\n",
      "reshape_1 (Reshape)          (None, 28, 28, 1)         0         \n",
      "=================================================================\n",
      "Total params: 117,697\n",
      "Trainable params: 117,697\n",
      "Non-trainable params: 0\n",
      "_________________________________________________________________\n"
     ]
    }
   ],
   "source": [
    "conv_decoder.summary()"
   ]
  },
  {
   "cell_type": "markdown",
   "metadata": {},
   "source": [
    "### Building the Model - Deep Convolutional Denoising Autoencoder"
   ]
  },
  {
   "cell_type": "code",
   "execution_count": 24,
   "metadata": {},
   "outputs": [],
   "source": [
    "conv_denoising_ae = keras.models.Sequential([conv_encoder, conv_decoder])\n",
    "conv_denoising_ae.compile(loss=\"binary_crossentropy\", optimizer=keras.optimizers.SGD(lr=1.5))"
   ]
  },
  {
   "cell_type": "code",
   "execution_count": 25,
   "metadata": {},
   "outputs": [
    {
     "name": "stdout",
     "output_type": "stream",
     "text": [
      "Model: \"sequential_5\"\n",
      "_________________________________________________________________\n",
      "Layer (type)                 Output Shape              Param #   \n",
      "=================================================================\n",
      "sequential_3 (Sequential)    (None, 3, 3, 392)         17736     \n",
      "_________________________________________________________________\n",
      "sequential_4 (Sequential)    (None, 28, 28, 1)         117697    \n",
      "=================================================================\n",
      "Total params: 135,433\n",
      "Trainable params: 135,433\n",
      "Non-trainable params: 0\n",
      "_________________________________________________________________\n"
     ]
    }
   ],
   "source": [
    "conv_denoising_ae.summary()"
   ]
  },
  {
   "cell_type": "markdown",
   "metadata": {},
   "source": [
    "## Training and Logging - Deep Convolutional Denoising Autoencoder"
   ]
  },
  {
   "cell_type": "markdown",
   "metadata": {},
   "source": [
    "### Training the Model"
   ]
  },
  {
   "cell_type": "code",
   "execution_count": 26,
   "metadata": {},
   "outputs": [],
   "source": [
    "X_train_resh_ch = X_train_resh.reshape(X_train_resh.shape[0], 28 ,28 ,1)\n",
    "X_valid_resh_ch = X_valid_resh.reshape(X_valid_resh.shape[0], 28 ,28 ,1)"
   ]
  },
  {
   "cell_type": "code",
   "execution_count": 27,
   "metadata": {},
   "outputs": [
    {
     "name": "stdout",
     "output_type": "stream",
     "text": [
      "Epoch 1/10\n",
      "880/880 [==============================] - 10s 12ms/step - loss: 0.1842 - val_loss: 0.1113\n",
      "Epoch 2/10\n",
      "880/880 [==============================] - 10s 11ms/step - loss: 0.1075 - val_loss: 0.1000\n",
      "Epoch 3/10\n",
      "880/880 [==============================] - 10s 11ms/step - loss: 0.0982 - val_loss: 0.0936\n",
      "Epoch 4/10\n",
      "880/880 [==============================] - 10s 12ms/step - loss: 0.0935 - val_loss: 0.0921\n",
      "Epoch 5/10\n",
      "880/880 [==============================] - 10s 12ms/step - loss: 0.0909 - val_loss: 0.0884\n",
      "Epoch 6/10\n",
      "877/880 [============================>.] - ETA: 0s - loss: 0.0889"
     ]
    },
    {
     "ename": "KeyboardInterrupt",
     "evalue": "",
     "output_type": "error",
     "traceback": [
      "\u001b[1;31m---------------------------------------------------------------------------\u001b[0m",
      "\u001b[1;31mKeyboardInterrupt\u001b[0m                         Traceback (most recent call last)",
      "\u001b[1;32m~\\AppData\\Local\\Temp/ipykernel_7936/1603800716.py\u001b[0m in \u001b[0;36m<module>\u001b[1;34m\u001b[0m\n\u001b[1;32m----> 1\u001b[1;33m \u001b[0mhistory\u001b[0m \u001b[1;33m=\u001b[0m \u001b[0mconv_denoising_ae\u001b[0m\u001b[1;33m.\u001b[0m\u001b[0mfit\u001b[0m\u001b[1;33m(\u001b[0m\u001b[0mX_train_resh_ch\u001b[0m\u001b[1;33m,\u001b[0m \u001b[0mX_train_resh_ch\u001b[0m\u001b[1;33m,\u001b[0m \u001b[0mepochs\u001b[0m\u001b[1;33m=\u001b[0m \u001b[1;36m10\u001b[0m\u001b[1;33m,\u001b[0m \u001b[0mvalidation_data\u001b[0m\u001b[1;33m=\u001b[0m\u001b[1;33m(\u001b[0m\u001b[0mX_valid_resh_ch\u001b[0m\u001b[1;33m,\u001b[0m \u001b[0mX_valid_resh_ch\u001b[0m\u001b[1;33m)\u001b[0m\u001b[1;33m)\u001b[0m\u001b[1;33m\u001b[0m\u001b[1;33m\u001b[0m\u001b[0m\n\u001b[0m",
      "\u001b[1;32mD:\\anaconda3\\envs\\wingpuflake_keras\\lib\\site-packages\\tensorflow\\python\\keras\\engine\\training.py\u001b[0m in \u001b[0;36m_method_wrapper\u001b[1;34m(self, *args, **kwargs)\u001b[0m\n\u001b[0;32m    106\u001b[0m   \u001b[1;32mdef\u001b[0m \u001b[0m_method_wrapper\u001b[0m\u001b[1;33m(\u001b[0m\u001b[0mself\u001b[0m\u001b[1;33m,\u001b[0m \u001b[1;33m*\u001b[0m\u001b[0margs\u001b[0m\u001b[1;33m,\u001b[0m \u001b[1;33m**\u001b[0m\u001b[0mkwargs\u001b[0m\u001b[1;33m)\u001b[0m\u001b[1;33m:\u001b[0m\u001b[1;33m\u001b[0m\u001b[1;33m\u001b[0m\u001b[0m\n\u001b[0;32m    107\u001b[0m     \u001b[1;32mif\u001b[0m \u001b[1;32mnot\u001b[0m \u001b[0mself\u001b[0m\u001b[1;33m.\u001b[0m\u001b[0m_in_multi_worker_mode\u001b[0m\u001b[1;33m(\u001b[0m\u001b[1;33m)\u001b[0m\u001b[1;33m:\u001b[0m  \u001b[1;31m# pylint: disable=protected-access\u001b[0m\u001b[1;33m\u001b[0m\u001b[1;33m\u001b[0m\u001b[0m\n\u001b[1;32m--> 108\u001b[1;33m       \u001b[1;32mreturn\u001b[0m \u001b[0mmethod\u001b[0m\u001b[1;33m(\u001b[0m\u001b[0mself\u001b[0m\u001b[1;33m,\u001b[0m \u001b[1;33m*\u001b[0m\u001b[0margs\u001b[0m\u001b[1;33m,\u001b[0m \u001b[1;33m**\u001b[0m\u001b[0mkwargs\u001b[0m\u001b[1;33m)\u001b[0m\u001b[1;33m\u001b[0m\u001b[1;33m\u001b[0m\u001b[0m\n\u001b[0m\u001b[0;32m    109\u001b[0m \u001b[1;33m\u001b[0m\u001b[0m\n\u001b[0;32m    110\u001b[0m     \u001b[1;31m# Running inside `run_distribute_coordinator` already.\u001b[0m\u001b[1;33m\u001b[0m\u001b[1;33m\u001b[0m\u001b[1;33m\u001b[0m\u001b[0m\n",
      "\u001b[1;32mD:\\anaconda3\\envs\\wingpuflake_keras\\lib\\site-packages\\tensorflow\\python\\keras\\engine\\training.py\u001b[0m in \u001b[0;36mfit\u001b[1;34m(self, x, y, batch_size, epochs, verbose, callbacks, validation_split, validation_data, shuffle, class_weight, sample_weight, initial_epoch, steps_per_epoch, validation_steps, validation_batch_size, validation_freq, max_queue_size, workers, use_multiprocessing)\u001b[0m\n\u001b[0;32m   1121\u001b[0m                 \u001b[0mmodel\u001b[0m\u001b[1;33m=\u001b[0m\u001b[0mself\u001b[0m\u001b[1;33m,\u001b[0m\u001b[1;33m\u001b[0m\u001b[1;33m\u001b[0m\u001b[0m\n\u001b[0;32m   1122\u001b[0m                 steps_per_execution=self._steps_per_execution)\n\u001b[1;32m-> 1123\u001b[1;33m           val_logs = self.evaluate(\n\u001b[0m\u001b[0;32m   1124\u001b[0m               \u001b[0mx\u001b[0m\u001b[1;33m=\u001b[0m\u001b[0mval_x\u001b[0m\u001b[1;33m,\u001b[0m\u001b[1;33m\u001b[0m\u001b[1;33m\u001b[0m\u001b[0m\n\u001b[0;32m   1125\u001b[0m               \u001b[0my\u001b[0m\u001b[1;33m=\u001b[0m\u001b[0mval_y\u001b[0m\u001b[1;33m,\u001b[0m\u001b[1;33m\u001b[0m\u001b[1;33m\u001b[0m\u001b[0m\n",
      "\u001b[1;32mD:\\anaconda3\\envs\\wingpuflake_keras\\lib\\site-packages\\tensorflow\\python\\keras\\engine\\training.py\u001b[0m in \u001b[0;36m_method_wrapper\u001b[1;34m(self, *args, **kwargs)\u001b[0m\n\u001b[0;32m    106\u001b[0m   \u001b[1;32mdef\u001b[0m \u001b[0m_method_wrapper\u001b[0m\u001b[1;33m(\u001b[0m\u001b[0mself\u001b[0m\u001b[1;33m,\u001b[0m \u001b[1;33m*\u001b[0m\u001b[0margs\u001b[0m\u001b[1;33m,\u001b[0m \u001b[1;33m**\u001b[0m\u001b[0mkwargs\u001b[0m\u001b[1;33m)\u001b[0m\u001b[1;33m:\u001b[0m\u001b[1;33m\u001b[0m\u001b[1;33m\u001b[0m\u001b[0m\n\u001b[0;32m    107\u001b[0m     \u001b[1;32mif\u001b[0m \u001b[1;32mnot\u001b[0m \u001b[0mself\u001b[0m\u001b[1;33m.\u001b[0m\u001b[0m_in_multi_worker_mode\u001b[0m\u001b[1;33m(\u001b[0m\u001b[1;33m)\u001b[0m\u001b[1;33m:\u001b[0m  \u001b[1;31m# pylint: disable=protected-access\u001b[0m\u001b[1;33m\u001b[0m\u001b[1;33m\u001b[0m\u001b[0m\n\u001b[1;32m--> 108\u001b[1;33m       \u001b[1;32mreturn\u001b[0m \u001b[0mmethod\u001b[0m\u001b[1;33m(\u001b[0m\u001b[0mself\u001b[0m\u001b[1;33m,\u001b[0m \u001b[1;33m*\u001b[0m\u001b[0margs\u001b[0m\u001b[1;33m,\u001b[0m \u001b[1;33m**\u001b[0m\u001b[0mkwargs\u001b[0m\u001b[1;33m)\u001b[0m\u001b[1;33m\u001b[0m\u001b[1;33m\u001b[0m\u001b[0m\n\u001b[0m\u001b[0;32m    109\u001b[0m \u001b[1;33m\u001b[0m\u001b[0m\n\u001b[0;32m    110\u001b[0m     \u001b[1;31m# Running inside `run_distribute_coordinator` already.\u001b[0m\u001b[1;33m\u001b[0m\u001b[1;33m\u001b[0m\u001b[1;33m\u001b[0m\u001b[0m\n",
      "\u001b[1;32mD:\\anaconda3\\envs\\wingpuflake_keras\\lib\\site-packages\\tensorflow\\python\\keras\\engine\\training.py\u001b[0m in \u001b[0;36mevaluate\u001b[1;34m(self, x, y, batch_size, verbose, sample_weight, steps, callbacks, max_queue_size, workers, use_multiprocessing, return_dict)\u001b[0m\n\u001b[0;32m   1377\u001b[0m             \u001b[1;32mwith\u001b[0m \u001b[0mtrace\u001b[0m\u001b[1;33m.\u001b[0m\u001b[0mTrace\u001b[0m\u001b[1;33m(\u001b[0m\u001b[1;34m'TraceContext'\u001b[0m\u001b[1;33m,\u001b[0m \u001b[0mgraph_type\u001b[0m\u001b[1;33m=\u001b[0m\u001b[1;34m'test'\u001b[0m\u001b[1;33m,\u001b[0m \u001b[0mstep_num\u001b[0m\u001b[1;33m=\u001b[0m\u001b[0mstep\u001b[0m\u001b[1;33m)\u001b[0m\u001b[1;33m:\u001b[0m\u001b[1;33m\u001b[0m\u001b[1;33m\u001b[0m\u001b[0m\n\u001b[0;32m   1378\u001b[0m               \u001b[0mcallbacks\u001b[0m\u001b[1;33m.\u001b[0m\u001b[0mon_test_batch_begin\u001b[0m\u001b[1;33m(\u001b[0m\u001b[0mstep\u001b[0m\u001b[1;33m)\u001b[0m\u001b[1;33m\u001b[0m\u001b[1;33m\u001b[0m\u001b[0m\n\u001b[1;32m-> 1379\u001b[1;33m               \u001b[0mtmp_logs\u001b[0m \u001b[1;33m=\u001b[0m \u001b[0mtest_function\u001b[0m\u001b[1;33m(\u001b[0m\u001b[0miterator\u001b[0m\u001b[1;33m)\u001b[0m\u001b[1;33m\u001b[0m\u001b[1;33m\u001b[0m\u001b[0m\n\u001b[0m\u001b[0;32m   1380\u001b[0m               \u001b[1;32mif\u001b[0m \u001b[0mdata_handler\u001b[0m\u001b[1;33m.\u001b[0m\u001b[0mshould_sync\u001b[0m\u001b[1;33m:\u001b[0m\u001b[1;33m\u001b[0m\u001b[1;33m\u001b[0m\u001b[0m\n\u001b[0;32m   1381\u001b[0m                 \u001b[0mcontext\u001b[0m\u001b[1;33m.\u001b[0m\u001b[0masync_wait\u001b[0m\u001b[1;33m(\u001b[0m\u001b[1;33m)\u001b[0m\u001b[1;33m\u001b[0m\u001b[1;33m\u001b[0m\u001b[0m\n",
      "\u001b[1;32mD:\\anaconda3\\envs\\wingpuflake_keras\\lib\\site-packages\\tensorflow\\python\\eager\\def_function.py\u001b[0m in \u001b[0;36m__call__\u001b[1;34m(self, *args, **kwds)\u001b[0m\n\u001b[0;32m    778\u001b[0m       \u001b[1;32melse\u001b[0m\u001b[1;33m:\u001b[0m\u001b[1;33m\u001b[0m\u001b[1;33m\u001b[0m\u001b[0m\n\u001b[0;32m    779\u001b[0m         \u001b[0mcompiler\u001b[0m \u001b[1;33m=\u001b[0m \u001b[1;34m\"nonXla\"\u001b[0m\u001b[1;33m\u001b[0m\u001b[1;33m\u001b[0m\u001b[0m\n\u001b[1;32m--> 780\u001b[1;33m         \u001b[0mresult\u001b[0m \u001b[1;33m=\u001b[0m \u001b[0mself\u001b[0m\u001b[1;33m.\u001b[0m\u001b[0m_call\u001b[0m\u001b[1;33m(\u001b[0m\u001b[1;33m*\u001b[0m\u001b[0margs\u001b[0m\u001b[1;33m,\u001b[0m \u001b[1;33m**\u001b[0m\u001b[0mkwds\u001b[0m\u001b[1;33m)\u001b[0m\u001b[1;33m\u001b[0m\u001b[1;33m\u001b[0m\u001b[0m\n\u001b[0m\u001b[0;32m    781\u001b[0m \u001b[1;33m\u001b[0m\u001b[0m\n\u001b[0;32m    782\u001b[0m       \u001b[0mnew_tracing_count\u001b[0m \u001b[1;33m=\u001b[0m \u001b[0mself\u001b[0m\u001b[1;33m.\u001b[0m\u001b[0m_get_tracing_count\u001b[0m\u001b[1;33m(\u001b[0m\u001b[1;33m)\u001b[0m\u001b[1;33m\u001b[0m\u001b[1;33m\u001b[0m\u001b[0m\n",
      "\u001b[1;32mD:\\anaconda3\\envs\\wingpuflake_keras\\lib\\site-packages\\tensorflow\\python\\eager\\def_function.py\u001b[0m in \u001b[0;36m_call\u001b[1;34m(self, *args, **kwds)\u001b[0m\n\u001b[0;32m    812\u001b[0m       \u001b[1;31m# In this case we have not created variables on the first call. So we can\u001b[0m\u001b[1;33m\u001b[0m\u001b[1;33m\u001b[0m\u001b[1;33m\u001b[0m\u001b[0m\n\u001b[0;32m    813\u001b[0m       \u001b[1;31m# run the first trace but we should fail if variables are created.\u001b[0m\u001b[1;33m\u001b[0m\u001b[1;33m\u001b[0m\u001b[1;33m\u001b[0m\u001b[0m\n\u001b[1;32m--> 814\u001b[1;33m       \u001b[0mresults\u001b[0m \u001b[1;33m=\u001b[0m \u001b[0mself\u001b[0m\u001b[1;33m.\u001b[0m\u001b[0m_stateful_fn\u001b[0m\u001b[1;33m(\u001b[0m\u001b[1;33m*\u001b[0m\u001b[0margs\u001b[0m\u001b[1;33m,\u001b[0m \u001b[1;33m**\u001b[0m\u001b[0mkwds\u001b[0m\u001b[1;33m)\u001b[0m\u001b[1;33m\u001b[0m\u001b[1;33m\u001b[0m\u001b[0m\n\u001b[0m\u001b[0;32m    815\u001b[0m       \u001b[1;32mif\u001b[0m \u001b[0mself\u001b[0m\u001b[1;33m.\u001b[0m\u001b[0m_created_variables\u001b[0m\u001b[1;33m:\u001b[0m\u001b[1;33m\u001b[0m\u001b[1;33m\u001b[0m\u001b[0m\n\u001b[0;32m    816\u001b[0m         raise ValueError(\"Creating variables on a non-first call to a function\"\n",
      "\u001b[1;32mD:\\anaconda3\\envs\\wingpuflake_keras\\lib\\site-packages\\tensorflow\\python\\eager\\function.py\u001b[0m in \u001b[0;36m__call__\u001b[1;34m(self, *args, **kwargs)\u001b[0m\n\u001b[0;32m   2827\u001b[0m     \u001b[1;32mwith\u001b[0m \u001b[0mself\u001b[0m\u001b[1;33m.\u001b[0m\u001b[0m_lock\u001b[0m\u001b[1;33m:\u001b[0m\u001b[1;33m\u001b[0m\u001b[1;33m\u001b[0m\u001b[0m\n\u001b[0;32m   2828\u001b[0m       \u001b[0mgraph_function\u001b[0m\u001b[1;33m,\u001b[0m \u001b[0margs\u001b[0m\u001b[1;33m,\u001b[0m \u001b[0mkwargs\u001b[0m \u001b[1;33m=\u001b[0m \u001b[0mself\u001b[0m\u001b[1;33m.\u001b[0m\u001b[0m_maybe_define_function\u001b[0m\u001b[1;33m(\u001b[0m\u001b[0margs\u001b[0m\u001b[1;33m,\u001b[0m \u001b[0mkwargs\u001b[0m\u001b[1;33m)\u001b[0m\u001b[1;33m\u001b[0m\u001b[1;33m\u001b[0m\u001b[0m\n\u001b[1;32m-> 2829\u001b[1;33m     \u001b[1;32mreturn\u001b[0m \u001b[0mgraph_function\u001b[0m\u001b[1;33m.\u001b[0m\u001b[0m_filtered_call\u001b[0m\u001b[1;33m(\u001b[0m\u001b[0margs\u001b[0m\u001b[1;33m,\u001b[0m \u001b[0mkwargs\u001b[0m\u001b[1;33m)\u001b[0m  \u001b[1;31m# pylint: disable=protected-access\u001b[0m\u001b[1;33m\u001b[0m\u001b[1;33m\u001b[0m\u001b[0m\n\u001b[0m\u001b[0;32m   2830\u001b[0m \u001b[1;33m\u001b[0m\u001b[0m\n\u001b[0;32m   2831\u001b[0m   \u001b[1;33m@\u001b[0m\u001b[0mproperty\u001b[0m\u001b[1;33m\u001b[0m\u001b[1;33m\u001b[0m\u001b[0m\n",
      "\u001b[1;32mD:\\anaconda3\\envs\\wingpuflake_keras\\lib\\site-packages\\tensorflow\\python\\eager\\function.py\u001b[0m in \u001b[0;36m_filtered_call\u001b[1;34m(self, args, kwargs, cancellation_manager)\u001b[0m\n\u001b[0;32m   1841\u001b[0m       \u001b[0;31m`\u001b[0m\u001b[0margs\u001b[0m\u001b[0;31m`\u001b[0m \u001b[1;32mand\u001b[0m\u001b[0;31m \u001b[0m\u001b[0;31m`\u001b[0m\u001b[0mkwargs\u001b[0m\u001b[0;31m`\u001b[0m\u001b[1;33m.\u001b[0m\u001b[1;33m\u001b[0m\u001b[1;33m\u001b[0m\u001b[0m\n\u001b[0;32m   1842\u001b[0m     \"\"\"\n\u001b[1;32m-> 1843\u001b[1;33m     return self._call_flat(\n\u001b[0m\u001b[0;32m   1844\u001b[0m         [t for t in nest.flatten((args, kwargs), expand_composites=True)\n\u001b[0;32m   1845\u001b[0m          if isinstance(t, (ops.Tensor,\n",
      "\u001b[1;32mD:\\anaconda3\\envs\\wingpuflake_keras\\lib\\site-packages\\tensorflow\\python\\eager\\function.py\u001b[0m in \u001b[0;36m_call_flat\u001b[1;34m(self, args, captured_inputs, cancellation_manager)\u001b[0m\n\u001b[0;32m   1921\u001b[0m         and executing_eagerly):\n\u001b[0;32m   1922\u001b[0m       \u001b[1;31m# No tape is watching; skip to running the function.\u001b[0m\u001b[1;33m\u001b[0m\u001b[1;33m\u001b[0m\u001b[1;33m\u001b[0m\u001b[0m\n\u001b[1;32m-> 1923\u001b[1;33m       return self._build_call_outputs(self._inference_function.call(\n\u001b[0m\u001b[0;32m   1924\u001b[0m           ctx, args, cancellation_manager=cancellation_manager))\n\u001b[0;32m   1925\u001b[0m     forward_backward = self._select_forward_and_backward_functions(\n",
      "\u001b[1;32mD:\\anaconda3\\envs\\wingpuflake_keras\\lib\\site-packages\\tensorflow\\python\\eager\\function.py\u001b[0m in \u001b[0;36mcall\u001b[1;34m(self, ctx, args, cancellation_manager)\u001b[0m\n\u001b[0;32m    543\u001b[0m       \u001b[1;32mwith\u001b[0m \u001b[0m_InterpolateFunctionError\u001b[0m\u001b[1;33m(\u001b[0m\u001b[0mself\u001b[0m\u001b[1;33m)\u001b[0m\u001b[1;33m:\u001b[0m\u001b[1;33m\u001b[0m\u001b[1;33m\u001b[0m\u001b[0m\n\u001b[0;32m    544\u001b[0m         \u001b[1;32mif\u001b[0m \u001b[0mcancellation_manager\u001b[0m \u001b[1;32mis\u001b[0m \u001b[1;32mNone\u001b[0m\u001b[1;33m:\u001b[0m\u001b[1;33m\u001b[0m\u001b[1;33m\u001b[0m\u001b[0m\n\u001b[1;32m--> 545\u001b[1;33m           outputs = execute.execute(\n\u001b[0m\u001b[0;32m    546\u001b[0m               \u001b[0mstr\u001b[0m\u001b[1;33m(\u001b[0m\u001b[0mself\u001b[0m\u001b[1;33m.\u001b[0m\u001b[0msignature\u001b[0m\u001b[1;33m.\u001b[0m\u001b[0mname\u001b[0m\u001b[1;33m)\u001b[0m\u001b[1;33m,\u001b[0m\u001b[1;33m\u001b[0m\u001b[1;33m\u001b[0m\u001b[0m\n\u001b[0;32m    547\u001b[0m               \u001b[0mnum_outputs\u001b[0m\u001b[1;33m=\u001b[0m\u001b[0mself\u001b[0m\u001b[1;33m.\u001b[0m\u001b[0m_num_outputs\u001b[0m\u001b[1;33m,\u001b[0m\u001b[1;33m\u001b[0m\u001b[1;33m\u001b[0m\u001b[0m\n",
      "\u001b[1;32mD:\\anaconda3\\envs\\wingpuflake_keras\\lib\\site-packages\\tensorflow\\python\\eager\\execute.py\u001b[0m in \u001b[0;36mquick_execute\u001b[1;34m(op_name, num_outputs, inputs, attrs, ctx, name)\u001b[0m\n\u001b[0;32m     57\u001b[0m   \u001b[1;32mtry\u001b[0m\u001b[1;33m:\u001b[0m\u001b[1;33m\u001b[0m\u001b[1;33m\u001b[0m\u001b[0m\n\u001b[0;32m     58\u001b[0m     \u001b[0mctx\u001b[0m\u001b[1;33m.\u001b[0m\u001b[0mensure_initialized\u001b[0m\u001b[1;33m(\u001b[0m\u001b[1;33m)\u001b[0m\u001b[1;33m\u001b[0m\u001b[1;33m\u001b[0m\u001b[0m\n\u001b[1;32m---> 59\u001b[1;33m     tensors = pywrap_tfe.TFE_Py_Execute(ctx._handle, device_name, op_name,\n\u001b[0m\u001b[0;32m     60\u001b[0m                                         inputs, attrs, num_outputs)\n\u001b[0;32m     61\u001b[0m   \u001b[1;32mexcept\u001b[0m \u001b[0mcore\u001b[0m\u001b[1;33m.\u001b[0m\u001b[0m_NotOkStatusException\u001b[0m \u001b[1;32mas\u001b[0m \u001b[0me\u001b[0m\u001b[1;33m:\u001b[0m\u001b[1;33m\u001b[0m\u001b[1;33m\u001b[0m\u001b[0m\n",
      "\u001b[1;31mKeyboardInterrupt\u001b[0m: "
     ]
    }
   ],
   "source": [
    "history = conv_denoising_ae.fit(X_train_resh_ch, X_train_resh_ch, epochs= 10, validation_data=(X_valid_resh_ch, X_valid_resh_ch))\n"
   ]
  },
  {
   "cell_type": "markdown",
   "metadata": {},
   "source": [
    "# Results - Deep Denoising Autoencoder"
   ]
  },
  {
   "cell_type": "markdown",
   "metadata": {},
   "source": [
    "## Real Image"
   ]
  },
  {
   "cell_type": "code",
   "execution_count": null,
   "metadata": {},
   "outputs": [
    {
     "data": {
      "image/png": "[encoded data removed]",
      "text/plain": [
       "<Figure size 432x288 with 1 Axes>"
      ]
     },
     "metadata": {
      "needs_background": "light"
     },
     "output_type": "display_data"
    }
   ],
   "source": [
    "# Test image from a known set\n",
    "plot_image(X_valid_resh[10])"
   ]
  },
  {
   "cell_type": "markdown",
   "metadata": {},
   "source": [
    "## (\"Predicted\") Reconstructed One"
   ]
  },
  {
   "cell_type": "code",
   "execution_count": null,
   "metadata": {},
   "outputs": [
    {
     "data": {
      "image/png": "[encoded data removed]",
      "text/plain": [
       "<Figure size 432x288 with 1 Axes>"
      ]
     },
     "metadata": {
      "needs_background": "light"
     },
     "output_type": "display_data"
    }
   ],
   "source": [
    "testimage = X_valid_resh[10].reshape(1, 28, 28)     # single image prepared for the test (reshape)\n",
    "plot_image(dropout_ae.predict(testimage)[0, :, :])  # needed to extract the second and third array of the three dimensional tensor struc for printing the image"
   ]
  },
  {
   "cell_type": "markdown",
   "metadata": {},
   "source": [
    "## Showing Multi Results"
   ]
  },
  {
   "cell_type": "code",
   "execution_count": null,
   "metadata": {},
   "outputs": [
    {
     "data": {
      "image/png": "[encoded data removed]",
      "text/plain": [
       "<Figure size 540x216 with 10 Axes>"
      ]
     },
     "metadata": {
      "needs_background": "light"
     },
     "output_type": "display_data"
    }
   ],
   "source": [
    "show_reconstructions(dropout_ae, X_valid_resh)"
   ]
  },
  {
   "cell_type": "markdown",
   "metadata": {},
   "source": [
    "## Using Noised Images"
   ]
  },
  {
   "cell_type": "markdown",
   "metadata": {},
   "source": [
    "### Creating Noisy Data\n"
   ]
  },
  {
   "cell_type": "code",
   "execution_count": null,
   "metadata": {},
   "outputs": [],
   "source": [
    "new_images = X_test[5:10]\n",
    "new_images = reshape_images(new_images)\n",
    "noisy_images = new_images + np.random.randn(5,28,28) *0.1"
   ]
  },
  {
   "cell_type": "markdown",
   "metadata": {},
   "source": [
    "### Origin Number\n"
   ]
  },
  {
   "cell_type": "code",
   "execution_count": null,
   "metadata": {},
   "outputs": [
    {
     "data": {
      "image/png": "[encoded data removed]",
      "text/plain": [
       "<Figure size 432x288 with 1 Axes>"
      ]
     },
     "metadata": {
      "needs_background": "light"
     },
     "output_type": "display_data"
    }
   ],
   "source": [
    "idx_testnumber = 0      # Index of test number for the next plottings \n",
    "plot_image(new_images[idx_testnumber])"
   ]
  },
  {
   "cell_type": "markdown",
   "metadata": {},
   "source": [
    "### Noisy Number"
   ]
  },
  {
   "cell_type": "code",
   "execution_count": null,
   "metadata": {},
   "outputs": [
    {
     "data": {
      "image/png": "[encoded data removed]",
      "text/plain": [
       "<Figure size 432x288 with 1 Axes>"
      ]
     },
     "metadata": {
      "needs_background": "light"
     },
     "output_type": "display_data"
    }
   ],
   "source": [
    "plot_image(noisy_images[idx_testnumber])"
   ]
  },
  {
   "cell_type": "markdown",
   "metadata": {},
   "source": [
    "### Denoised Number"
   ]
  },
  {
   "cell_type": "code",
   "execution_count": null,
   "metadata": {},
   "outputs": [
    {
     "data": {
      "image/png": "[encoded data removed]",
      "text/plain": [
       "<Figure size 432x288 with 1 Axes>"
      ]
     },
     "metadata": {
      "needs_background": "light"
     },
     "output_type": "display_data"
    }
   ],
   "source": [
    "# Very Important ! added a new axis according to the models batch based behavior\n",
    "plot_image(dropout_ae.predict(noisy_images[np.newaxis ,idx_testnumber]).reshape(28,28)) "
   ]
  },
  {
   "cell_type": "markdown",
   "metadata": {},
   "source": [
    "### Multiple Numbers in Comparision "
   ]
  },
  {
   "cell_type": "code",
   "execution_count": null,
   "metadata": {},
   "outputs": [
    {
     "data": {
      "image/png": "[encoded data removed]",
      "text/plain": [
       "<Figure size 540x216 with 10 Axes>"
      ]
     },
     "metadata": {
      "needs_background": "light"
     },
     "output_type": "display_data"
    }
   ],
   "source": [
    "show_reconstructions(dropout_ae, noisy_images)"
   ]
  },
  {
   "cell_type": "markdown",
   "metadata": {},
   "source": [
    "# Results - Convolutional Denoising Autoencoder"
   ]
  },
  {
   "cell_type": "markdown",
   "metadata": {},
   "source": [
    "## Using Noised Images"
   ]
  },
  {
   "cell_type": "markdown",
   "metadata": {},
   "source": [
    "### Creating Noisy Data"
   ]
  },
  {
   "cell_type": "code",
   "execution_count": null,
   "metadata": {},
   "outputs": [],
   "source": [
    "new_images_conv = X_test[5:10]\n",
    "new_images_conv = reshape_conv_images(new_images_conv)\n",
    "noisy_images_conv = new_images_conv + np.random.randn(5, 28, 28, 1) *0.1"
   ]
  },
  {
   "cell_type": "code",
   "execution_count": null,
   "metadata": {},
   "outputs": [
    {
     "data": {
      "text/plain": [
       "(5, 28, 28, 1)"
      ]
     },
     "execution_count": 37,
     "metadata": {},
     "output_type": "execute_result"
    }
   ],
   "source": [
    "noisy_images_conv.shape"
   ]
  },
  {
   "cell_type": "markdown",
   "metadata": {},
   "source": [
    "### Origin Number\n"
   ]
  },
  {
   "cell_type": "code",
   "execution_count": null,
   "metadata": {},
   "outputs": [
    {
     "data": {
      "image/png": "[encoded data removed]",
      "text/plain": [
       "<Figure size 432x288 with 1 Axes>"
      ]
     },
     "metadata": {
      "needs_background": "light"
     },
     "output_type": "display_data"
    }
   ],
   "source": [
    "idx_testnumber = 0      # Index of test number for the next plottings \n",
    "plot_image(new_images_conv[idx_testnumber])"
   ]
  },
  {
   "cell_type": "markdown",
   "metadata": {},
   "source": [
    "### Noisy Number"
   ]
  },
  {
   "cell_type": "code",
   "execution_count": null,
   "metadata": {},
   "outputs": [
    {
     "data": {
      "image/png": "[encoded data removed]",
      "text/plain": [
       "<Figure size 432x288 with 1 Axes>"
      ]
     },
     "metadata": {
      "needs_background": "light"
     },
     "output_type": "display_data"
    }
   ],
   "source": [
    "plot_image(noisy_images_conv[idx_testnumber])"
   ]
  },
  {
   "cell_type": "markdown",
   "metadata": {},
   "source": [
    "### Denoised Number"
   ]
  },
  {
   "cell_type": "code",
   "execution_count": null,
   "metadata": {},
   "outputs": [
    {
     "data": {
      "image/png": "[encoded data removed]",
      "text/plain": [
       "<Figure size 432x288 with 1 Axes>"
      ]
     },
     "metadata": {
      "needs_background": "light"
     },
     "output_type": "display_data"
    }
   ],
   "source": [
    "# Very Important ! added a new axis according to the models batch based behavior\n",
    "plot_image(conv_denoising_ae.predict(noisy_images_conv[np.newaxis ,idx_testnumber]).reshape(28,28))"
   ]
  },
  {
   "cell_type": "markdown",
   "metadata": {},
   "source": [
    "### Multiple Numbers in Comparision"
   ]
  },
  {
   "cell_type": "code",
   "execution_count": null,
   "metadata": {},
   "outputs": [
    {
     "data": {
      "image/png": "[encoded data removed]",
      "text/plain": [
       "<Figure size 540x216 with 10 Axes>"
      ]
     },
     "metadata": {
      "needs_background": "light"
     },
     "output_type": "display_data"
    }
   ],
   "source": [
    "show_reconstructions(conv_denoising_ae, noisy_images_conv)"
   ]
  },
  {
   "cell_type": "markdown",
   "metadata": {},
   "source": [
    "# Unsupervised Pre-Training for Supervised Training\n",
    "In this part I will use the first layers of the already trained autoencoder for implementing a classification prediction model. This architecture represents the way of using unsupervised pre-training for projects that do not have enough training data to train the final model (in this case the classification model).\n",
    "\n",
    "\n",
    "##################################\n",
    "\n",
    "Beim unüberwachten Vortrainieren wird ein Modell mit den ungelabelten Daten (oder allen Daten) mithilfe einer unüberwachten Lerntechnik trainiert und dann für die eigentliche Aufgabe mit den gelabelten Aufgaben mit einer überwachten Lerntechnik im Detail angepasst – der unüberwachte Teil kann wie hier gezeigt eine Schicht nach der anderen oder direkt das ganze Modell trainieren.\n",
    "\n"
   ]
  },
  {
   "cell_type": "code",
   "execution_count": null,
   "metadata": {},
   "outputs": [
    {
     "data": {
      "text/plain": [
       "[<tensorflow.python.keras.layers.noise.GaussianNoise at 0x23326f87fd0>,\n",
       " <tensorflow.python.keras.layers.convolutional.Conv2D at 0x23326f87b50>,\n",
       " <tensorflow.python.keras.layers.pooling.MaxPooling2D at 0x23326f6d2e0>,\n",
       " <tensorflow.python.keras.layers.convolutional.Conv2D at 0x23326f8d1f0>,\n",
       " <tensorflow.python.keras.layers.pooling.MaxPooling2D at 0x23326f6de80>,\n",
       " <tensorflow.python.keras.layers.core.Dense at 0x23326f8db20>]"
      ]
     },
     "execution_count": 206,
     "metadata": {},
     "output_type": "execute_result"
    }
   ],
   "source": [
    "# Debug\n",
    "#conv_den_ae_layes = \n",
    "conv_denoising_ae.layers[0].layers"
   ]
  },
  {
   "cell_type": "code",
   "execution_count": null,
   "metadata": {},
   "outputs": [
    {
     "name": "stdout",
     "output_type": "stream",
     "text": [
      "Layers from the autoencoder that will be used for new model: \n"
     ]
    },
    {
     "data": {
      "text/plain": [
       "[<tensorflow.python.keras.layers.core.Flatten at 0x23375e6d6d0>,\n",
       " <tensorflow.python.keras.layers.core.Dropout at 0x23375dd5880>,\n",
       " <tensorflow.python.keras.layers.core.Dense at 0x23375dd56d0>,\n",
       " <tensorflow.python.keras.layers.core.Dense at 0x23375dd5d90>]"
      ]
     },
     "execution_count": 207,
     "metadata": {},
     "output_type": "execute_result"
    }
   ],
   "source": [
    "##### DEBUG - TODELETE\n",
    "# Extracting the trained lower layers of the autoencoder\n",
    "denoising_ae_l_layers = dropout_ae.layers[0].layers\n",
    "print(\"Layers from the autoencoder that will be used for new model: \")\n",
    "denoising_ae_l_layers[:5]"
   ]
  },
  {
   "cell_type": "code",
   "execution_count": null,
   "metadata": {},
   "outputs": [],
   "source": [
    "ae_model_id = 0 # 0 for encorder / 1 for decorder\n",
    "layerscount = 4 # how many layers of the model ...\n",
    "\n",
    "conv_denoising_ae.layers[ae_model_id].trainable =True       # Sets all layers on trainable = True for specific non-trainable configuration in later code.\n",
    "\n",
    "first_layers = [conv_denoising_ae.layers[ae_model_id].get_layer(index=index) for index in range(layerscount)] # is copy here necessary "
   ]
  },
  {
   "cell_type": "code",
   "execution_count": null,
   "metadata": {},
   "outputs": [
    {
     "data": {
      "text/plain": [
       "[<tensorflow.python.keras.layers.noise.GaussianNoise at 0x23326f87fd0>,\n",
       " <tensorflow.python.keras.layers.convolutional.Conv2D at 0x23326f87b50>,\n",
       " <tensorflow.python.keras.layers.pooling.MaxPooling2D at 0x23326f6d2e0>,\n",
       " <tensorflow.python.keras.layers.convolutional.Conv2D at 0x23326f8d1f0>]"
      ]
     },
     "execution_count": 209,
     "metadata": {},
     "output_type": "execute_result"
    }
   ],
   "source": [
    "first_layers"
   ]
  },
  {
   "cell_type": "code",
   "execution_count": null,
   "metadata": {},
   "outputs": [
    {
     "name": "stdout",
     "output_type": "stream",
     "text": [
      "Layer 'gaussian_noise' is Trainable = False\n",
      "Layer 'conv2d' is Trainable = False\n",
      "Layer 'max_pooling2d' is Trainable = False\n"
     ]
    }
   ],
   "source": [
    "# creating a new layer list for the new model and make the layers not trainable\n",
    "new_layers = first_layers\n",
    "for layer in new_layers[:layerscount - 1]:              # last layer still be trainable\n",
    "    layer.trainable = False\n",
    "    print(f\"Layer '{layer.name}' is Trainable = {layer.trainable}\")"
   ]
  },
  {
   "cell_type": "code",
   "execution_count": null,
   "metadata": {},
   "outputs": [
    {
     "data": {
      "text/plain": [
       "<tf.Tensor 'gaussian_noise_input:0' shape=(None, 28, 28, 1) dtype=float32>"
      ]
     },
     "execution_count": 211,
     "metadata": {},
     "output_type": "execute_result"
    }
   ],
   "source": [
    "# Debug\n",
    "new_layers[0].input"
   ]
  },
  {
   "cell_type": "code",
   "execution_count": null,
   "metadata": {},
   "outputs": [
    {
     "data": {
      "text/plain": [
       "(None, 13, 13, 32)"
      ]
     },
     "execution_count": 212,
     "metadata": {},
     "output_type": "execute_result"
    }
   ],
   "source": [
    "new_layers[3].output_shape\n"
   ]
  },
  {
   "cell_type": "code",
   "execution_count": null,
   "metadata": {},
   "outputs": [],
   "source": [
    "new_layers.append(keras.layers.Flatten())         ### DEBUG TODO: is Flatten necessary\n",
    "# Adding the final layer (outputlayer)\n",
    "new_layers.append(keras.layers.Dense(10, activation=keras.activations.softmax))"
   ]
  },
  {
   "cell_type": "code",
   "execution_count": null,
   "metadata": {},
   "outputs": [
    {
     "name": "stdout",
     "output_type": "stream",
     "text": [
      "Layer 'gaussian_noise' trainable state = False\n",
      "Layer 'conv2d' trainable state = False\n",
      "Layer 'max_pooling2d' trainable state = False\n",
      "Layer 'conv2d_1' trainable state = True\n",
      "Layer 'flatten_5' trainable state = True\n",
      "Layer 'dense_13' trainable state = True\n"
     ]
    }
   ],
   "source": [
    "# Viewing final layers-construction\n",
    "for layer in new_layers:\n",
    "    print(f\"Layer '{layer.name}' trainable state = {layer.trainable}\")"
   ]
  },
  {
   "cell_type": "code",
   "execution_count": null,
   "metadata": {},
   "outputs": [],
   "source": [
    "class_net = keras.models.Sequential(\n",
    "    new_layers\n",
    ")"
   ]
  },
  {
   "cell_type": "code",
   "execution_count": null,
   "metadata": {},
   "outputs": [],
   "source": [
    "class_net.compile(loss=\"binary_crossentropy\", optimizer=keras.optimizers.SGD(learning_rate=1.0), metrics=[\"mse\"])  ### DEBUG TODO: changed optimizer from nadam() to keras.optimizers.SGD(learning_rate=1.0)\n",
    "#class_net.build(input_shape= [28, 28, 1])\n",
    "# (loss=\"categorical_crossentropy\", optimizer=\"adam\", metrics=['categorical_accuracy'])\n",
    "\n",
    "#loss=\"binary_crossentropy\", optimizer=keras.optimizers.Nadam(), metrics=[\"mse\"]"
   ]
  },
  {
   "cell_type": "code",
   "execution_count": null,
   "metadata": {},
   "outputs": [
    {
     "name": "stdout",
     "output_type": "stream",
     "text": [
      "Model: \"sequential_14\"\n",
      "_________________________________________________________________\n",
      "Layer (type)                 Output Shape              Param #   \n",
      "=================================================================\n",
      "gaussian_noise (GaussianNois (None, 28, 28, 1)         0         \n",
      "_________________________________________________________________\n",
      "conv2d (Conv2D)              (None, 26, 26, 16)        160       \n",
      "_________________________________________________________________\n",
      "max_pooling2d (MaxPooling2D) (None, 13, 13, 16)        0         \n",
      "_________________________________________________________________\n",
      "conv2d_1 (Conv2D)            (None, 13, 13, 32)        4640      \n",
      "_________________________________________________________________\n",
      "flatten_5 (Flatten)          (None, 5408)              0         \n",
      "_________________________________________________________________\n",
      "dense_13 (Dense)             (None, 10)                54090     \n",
      "=================================================================\n",
      "Total params: 58,890\n",
      "Trainable params: 58,730\n",
      "Non-trainable params: 160\n",
      "_________________________________________________________________\n"
     ]
    }
   ],
   "source": [
    "class_net.summary()"
   ]
  },
  {
   "cell_type": "code",
   "execution_count": null,
   "metadata": {},
   "outputs": [
    {
     "name": "stdout",
     "output_type": "stream",
     "text": [
      "Layer: conv2d output shape: (None, 26, 26, 16)\n",
      "Layer: max_pooling2d input shape: (None, 26, 26, 16)\n",
      "Layer: max_pooling2d output shape: (None, 13, 13, 16)\n",
      "Layer: conv2d_1 input shape: (None, 13, 13, 16)\n",
      "Layer: conv2d_1 output shape: (None, 13, 13, 32)\n",
      "Layer: flatten_5 input shape: (None, 13, 13, 32)\n"
     ]
    },
    {
     "ename": "AttributeError",
     "evalue": "'Flatten' object has no attribute 'activation'",
     "output_type": "error",
     "traceback": [
      "\u001b[1;31m---------------------------------------------------------------------------\u001b[0m",
      "\u001b[1;31mAttributeError\u001b[0m                            Traceback (most recent call last)",
      "\u001b[1;32m~\\AppData\\Local\\Temp/ipykernel_1420/3104638177.py\u001b[0m in \u001b[0;36m<module>\u001b[1;34m\u001b[0m\n\u001b[0;32m      6\u001b[0m \u001b[0mprint\u001b[0m\u001b[1;33m(\u001b[0m\u001b[1;34mf\"Layer: {class_net.get_layer(index=3).name} output shape: {class_net.get_layer(index=3).output_shape}\"\u001b[0m\u001b[1;33m)\u001b[0m\u001b[1;33m\u001b[0m\u001b[1;33m\u001b[0m\u001b[0m\n\u001b[0;32m      7\u001b[0m \u001b[0mprint\u001b[0m\u001b[1;33m(\u001b[0m\u001b[1;34mf\"Layer: {class_net.get_layer(index=4).name} input shape: {class_net.get_layer(index=4).input_shape}\"\u001b[0m\u001b[1;33m)\u001b[0m\u001b[1;33m\u001b[0m\u001b[1;33m\u001b[0m\u001b[0m\n\u001b[1;32m----> 8\u001b[1;33m \u001b[0mprint\u001b[0m\u001b[1;33m(\u001b[0m\u001b[1;34mf\"Layer: {class_net.get_layer(index=4).name} output shape: {class_net.get_layer(index=4).output_shape} with activation function: {class_net.get_layer(index=4).activation}\"\u001b[0m\u001b[1;33m)\u001b[0m\u001b[1;33m\u001b[0m\u001b[1;33m\u001b[0m\u001b[0m\n\u001b[0m\u001b[0;32m      9\u001b[0m \u001b[1;31m#print(f\"Layer: {class_net.get_layer(index=5).name} input shape: {class_net.get_layer(index=5).input_shape}\")\u001b[0m\u001b[1;33m\u001b[0m\u001b[1;33m\u001b[0m\u001b[1;33m\u001b[0m\u001b[0m\n\u001b[0;32m     10\u001b[0m \u001b[1;31m#print(f\"Layer: {class_net.get_layer(index=5).name} output shape: {class_net.get_layer(index=5).output_shape} with activation function: {class_net.get_layer(index=5).activation}\")\u001b[0m\u001b[1;33m\u001b[0m\u001b[1;33m\u001b[0m\u001b[1;33m\u001b[0m\u001b[0m\n",
      "\u001b[1;31mAttributeError\u001b[0m: 'Flatten' object has no attribute 'activation'"
     ]
    }
   ],
   "source": [
    "# DEBUG -> HIER weiter analysieren\n",
    "print(f\"Layer: {class_net.get_layer(index=1).name} output shape: {class_net.get_layer(index=1).output_shape}\")\n",
    "print(f\"Layer: {class_net.get_layer(index=2).name} input shape: {class_net.get_layer(index=2).input_shape}\")\n",
    "print(f\"Layer: {class_net.get_layer(index=2).name} output shape: {class_net.get_layer(index=2).output_shape}\")\n",
    "print(f\"Layer: {class_net.get_layer(index=3).name} input shape: {class_net.get_layer(index=3).input_shape}\")\n",
    "print(f\"Layer: {class_net.get_layer(index=3).name} output shape: {class_net.get_layer(index=3).output_shape}\")\n",
    "print(f\"Layer: {class_net.get_layer(index=4).name} input shape: {class_net.get_layer(index=4).input_shape}\")\n",
    "print(f\"Layer: {class_net.get_layer(index=4).name} output shape: {class_net.get_layer(index=4).output_shape} with activation function: {class_net.get_layer(index=4).activation}\")\n",
    "#print(f\"Layer: {class_net.get_layer(index=5).name} input shape: {class_net.get_layer(index=5).input_shape}\")\n",
    "#print(f\"Layer: {class_net.get_layer(index=5).name} output shape: {class_net.get_layer(index=5).output_shape} with activation function: {class_net.get_layer(index=5).activation}\")\n",
    "\n",
    "#class_net.get_layer(index=5).input_shape"
   ]
  },
  {
   "cell_type": "markdown",
   "metadata": {},
   "source": [
    "## Creating Training Data for Unsupervised Pre-Training Model\n",
    "In this part 500 training data sets will be created for training a normal backpropagation model based on the unsupervised pre-trained model."
   ]
  },
  {
   "cell_type": "code",
   "execution_count": null,
   "metadata": {},
   "outputs": [],
   "source": [
    "X_train_pretrained_500 = X_train_resh[:500]\n",
    "X_valid_pretrained_500 = X_valid_resh[:500]\n",
    "\n",
    "y_train_pretrained_500 = y_train_resh[:500]\n",
    "y_valid_pretrained_500 = y_valid_resh[:500]\n",
    "\n",
    "# reshaping for conv model structure (batchsize, pixel h, pixel w, channel)\n",
    "X_train_pret_resh_500 = X_train_pretrained_500.reshape(X_train_pretrained_500.shape[0],X_train_pretrained_500.shape[1], X_train_pretrained_500.shape[2], 1)\n",
    "X_valid_pret_resh_500 = X_valid_pretrained_500.reshape(X_valid_pretrained_500.shape[0],X_valid_pretrained_500.shape[1], X_valid_pretrained_500.shape[2], 1)"
   ]
  },
  {
   "cell_type": "code",
   "execution_count": null,
   "metadata": {},
   "outputs": [
    {
     "name": "stdout",
     "output_type": "stream",
     "text": [
      "(500, 28, 28, 1)\n",
      "(500, 28, 28, 1)\n",
      "(500, 1)\n",
      "(500, 1)\n"
     ]
    }
   ],
   "source": [
    "print(X_train_pret_resh_500.shape)\n",
    "print(X_valid_pret_resh_500.shape)\n",
    "print(y_train_pretrained_500.shape)\n",
    "print(y_valid_pretrained_500.shape)\n",
    "\n"
   ]
  },
  {
   "cell_type": "code",
   "execution_count": null,
   "metadata": {},
   "outputs": [
    {
     "data": {
      "image/png": "[encoded data removed]",
      "text/plain": [
       "<Figure size 432x288 with 1 Axes>"
      ]
     },
     "metadata": {
      "needs_background": "light"
     },
     "output_type": "display_data"
    }
   ],
   "source": [
    "plot_image(X_train_pret_resh_500[499])"
   ]
  },
  {
   "cell_type": "code",
   "execution_count": null,
   "metadata": {},
   "outputs": [
    {
     "data": {
      "text/plain": [
       "(10, 28, 28, 1)"
      ]
     },
     "execution_count": 222,
     "metadata": {},
     "output_type": "execute_result"
    }
   ],
   "source": [
    "X_train_pret_resh_500[0:10].shape"
   ]
  },
  {
   "cell_type": "code",
   "execution_count": null,
   "metadata": {},
   "outputs": [
    {
     "data": {
      "text/plain": [
       "(5, 1)"
      ]
     },
     "execution_count": 223,
     "metadata": {},
     "output_type": "execute_result"
    }
   ],
   "source": [
    "y_train_pretrained_500[0:5].shape"
   ]
  },
  {
   "cell_type": "code",
   "execution_count": 224,
   "metadata": {},
   "outputs": [
    {
     "name": "stdout",
     "output_type": "stream",
     "text": [
      "Epoch 1/150\n",
      "16/16 [==============================] - 0s 8ms/step - loss: 10.7890 - mse: 29.3770 - val_loss: 0.0000e+00 - val_mse: 0.0000e+00\n",
      "Epoch 2/150\n",
      "16/16 [==============================] - 0s 5ms/step - loss: 10.6127 - mse: 29.3763 - val_loss: 0.0000e+00 - val_mse: 0.0000e+00\n",
      "Epoch 3/150\n",
      "16/16 [==============================] - 0s 5ms/step - loss: 10.5741 - mse: 29.3761 - val_loss: 0.0000e+00 - val_mse: 0.0000e+00\n",
      "Epoch 4/150\n",
      "16/16 [==============================] - 0s 5ms/step - loss: 10.5312 - mse: 29.3759 - val_loss: 0.0000e+00 - val_mse: 0.0000e+00\n",
      "Epoch 5/150\n",
      "16/16 [==============================] - 0s 5ms/step - loss: 10.5340 - mse: 29.3759 - val_loss: 0.0000e+00 - val_mse: 0.0000e+00\n",
      "Epoch 6/150\n",
      "16/16 [==============================] - 0s 5ms/step - loss: 10.5336 - mse: 29.3759 - val_loss: 0.0000e+00 - val_mse: 0.0000e+00\n",
      "Epoch 7/150\n",
      "16/16 [==============================] - 0s 5ms/step - loss: 10.5298 - mse: 29.3759 - val_loss: 0.0000e+00 - val_mse: 0.0000e+00\n",
      "Epoch 8/150\n",
      "16/16 [==============================] - 0s 5ms/step - loss: 10.5172 - mse: 29.3759 - val_loss: 0.0000e+00 - val_mse: 0.0000e+00\n",
      "Epoch 9/150\n",
      "16/16 [==============================] - 0s 5ms/step - loss: 10.5194 - mse: 29.3759 - val_loss: 0.0000e+00 - val_mse: 0.0000e+00\n",
      "Epoch 10/150\n",
      "16/16 [==============================] - 0s 5ms/step - loss: 10.5103 - mse: 29.3758 - val_loss: 0.0000e+00 - val_mse: 0.0000e+00\n",
      "Epoch 11/150\n",
      "16/16 [==============================] - 0s 5ms/step - loss: 10.5056 - mse: 29.3758 - val_loss: 0.0000e+00 - val_mse: 0.0000e+00\n",
      "Epoch 12/150\n",
      "16/16 [==============================] - 0s 5ms/step - loss: 10.4956 - mse: 29.3758 - val_loss: 0.0000e+00 - val_mse: 0.0000e+00\n",
      "Epoch 13/150\n",
      "16/16 [==============================] - 0s 5ms/step - loss: 10.4976 - mse: 29.3758 - val_loss: 0.0000e+00 - val_mse: 0.0000e+00\n",
      "Epoch 14/150\n",
      "16/16 [==============================] - 0s 5ms/step - loss: 10.4984 - mse: 29.3758 - val_loss: 0.0000e+00 - val_mse: 0.0000e+00\n",
      "Epoch 15/150\n",
      "16/16 [==============================] - 0s 5ms/step - loss: 10.4921 - mse: 29.3757 - val_loss: 0.0000e+00 - val_mse: 0.0000e+00\n",
      "Epoch 16/150\n",
      "16/16 [==============================] - 0s 5ms/step - loss: 10.4947 - mse: 29.3758 - val_loss: 0.0000e+00 - val_mse: 0.0000e+00\n",
      "Epoch 17/150\n",
      "16/16 [==============================] - 0s 5ms/step - loss: 10.4967 - mse: 29.3758 - val_loss: 0.0000e+00 - val_mse: 0.0000e+00\n",
      "Epoch 18/150\n",
      "16/16 [==============================] - 0s 5ms/step - loss: 10.4934 - mse: 29.3758 - val_loss: 0.0000e+00 - val_mse: 0.0000e+00\n",
      "Epoch 19/150\n",
      "16/16 [==============================] - 0s 5ms/step - loss: 10.4879 - mse: 29.3757 - val_loss: 0.0000e+00 - val_mse: 0.0000e+00\n",
      "Epoch 20/150\n",
      "16/16 [==============================] - 0s 5ms/step - loss: 10.4879 - mse: 29.3757 - val_loss: 0.0000e+00 - val_mse: 0.0000e+00\n",
      "Epoch 21/150\n",
      "16/16 [==============================] - 0s 5ms/step - loss: 10.4843 - mse: 29.3757 - val_loss: 0.0000e+00 - val_mse: 0.0000e+00\n",
      "Epoch 22/150\n",
      "16/16 [==============================] - 0s 5ms/step - loss: 10.4865 - mse: 29.3757 - val_loss: 0.0000e+00 - val_mse: 0.0000e+00\n",
      "Epoch 23/150\n",
      "16/16 [==============================] - 0s 5ms/step - loss: 10.4891 - mse: 29.3757 - val_loss: 0.0000e+00 - val_mse: 0.0000e+00\n",
      "Epoch 24/150\n",
      "16/16 [==============================] - 0s 5ms/step - loss: 10.4873 - mse: 29.3757 - val_loss: 0.0000e+00 - val_mse: 0.0000e+00\n",
      "Epoch 25/150\n",
      "16/16 [==============================] - 0s 5ms/step - loss: 10.4845 - mse: 29.3757 - val_loss: 0.0000e+00 - val_mse: 0.0000e+00\n",
      "Epoch 26/150\n",
      "16/16 [==============================] - 0s 5ms/step - loss: 10.4864 - mse: 29.3757 - val_loss: 0.0000e+00 - val_mse: 0.0000e+00\n",
      "Epoch 27/150\n",
      "16/16 [==============================] - 0s 5ms/step - loss: 10.4823 - mse: 29.3757 - val_loss: 0.0000e+00 - val_mse: 0.0000e+00\n",
      "Epoch 28/150\n",
      "16/16 [==============================] - 0s 5ms/step - loss: 10.4820 - mse: 29.3757 - val_loss: 0.0000e+00 - val_mse: 0.0000e+00\n",
      "Epoch 29/150\n",
      "16/16 [==============================] - 0s 5ms/step - loss: 10.4830 - mse: 29.3757 - val_loss: 0.0000e+00 - val_mse: 0.0000e+00\n",
      "Epoch 30/150\n",
      "16/16 [==============================] - 0s 5ms/step - loss: 10.4818 - mse: 29.3757 - val_loss: 0.0000e+00 - val_mse: 0.0000e+00\n",
      "Epoch 31/150\n",
      "16/16 [==============================] - 0s 5ms/step - loss: 10.4807 - mse: 29.3757 - val_loss: 0.0000e+00 - val_mse: 0.0000e+00\n",
      "Epoch 32/150\n",
      "16/16 [==============================] - 0s 5ms/step - loss: 10.4798 - mse: 29.3757 - val_loss: 0.0000e+00 - val_mse: 0.0000e+00\n",
      "Epoch 33/150\n",
      "16/16 [==============================] - 0s 5ms/step - loss: 10.4767 - mse: 29.3757 - val_loss: 0.0000e+00 - val_mse: 0.0000e+00\n",
      "Epoch 34/150\n",
      "16/16 [==============================] - 0s 5ms/step - loss: 10.4776 - mse: 29.3757 - val_loss: 0.0000e+00 - val_mse: 0.0000e+00\n",
      "Epoch 35/150\n",
      "16/16 [==============================] - 0s 5ms/step - loss: 10.4769 - mse: 29.3757 - val_loss: 0.0000e+00 - val_mse: 0.0000e+00\n",
      "Epoch 36/150\n",
      "16/16 [==============================] - 0s 5ms/step - loss: 10.4758 - mse: 29.3757 - val_loss: 0.0000e+00 - val_mse: 0.0000e+00\n",
      "Epoch 37/150\n",
      "16/16 [==============================] - 0s 5ms/step - loss: 10.4766 - mse: 29.3757 - val_loss: 0.0000e+00 - val_mse: 0.0000e+00\n",
      "Epoch 38/150\n",
      "16/16 [==============================] - 0s 5ms/step - loss: 10.4787 - mse: 29.3757 - val_loss: 0.0000e+00 - val_mse: 0.0000e+00\n",
      "Epoch 39/150\n",
      "16/16 [==============================] - 0s 5ms/step - loss: 10.4749 - mse: 29.3757 - val_loss: 0.0000e+00 - val_mse: 0.0000e+00\n",
      "Epoch 40/150\n",
      "16/16 [==============================] - 0s 5ms/step - loss: 10.4742 - mse: 29.3757 - val_loss: 0.0000e+00 - val_mse: 0.0000e+00\n",
      "Epoch 41/150\n",
      "16/16 [==============================] - 0s 5ms/step - loss: 10.4747 - mse: 29.3757 - val_loss: 0.0000e+00 - val_mse: 0.0000e+00\n",
      "Epoch 42/150\n",
      "16/16 [==============================] - 0s 5ms/step - loss: 10.4756 - mse: 29.3757 - val_loss: 0.0000e+00 - val_mse: 0.0000e+00\n",
      "Epoch 43/150\n",
      "16/16 [==============================] - 0s 5ms/step - loss: 10.4774 - mse: 29.3757 - val_loss: 0.0000e+00 - val_mse: 0.0000e+00\n",
      "Epoch 44/150\n",
      "16/16 [==============================] - 0s 5ms/step - loss: 10.4740 - mse: 29.3757 - val_loss: 0.0000e+00 - val_mse: 0.0000e+00\n",
      "Epoch 45/150\n",
      "16/16 [==============================] - 0s 5ms/step - loss: 10.4738 - mse: 29.3757 - val_loss: 0.0000e+00 - val_mse: 0.0000e+00\n",
      "Epoch 46/150\n",
      "16/16 [==============================] - 0s 5ms/step - loss: 10.4744 - mse: 29.3757 - val_loss: 0.0000e+00 - val_mse: 0.0000e+00\n",
      "Epoch 47/150\n",
      "16/16 [==============================] - 0s 5ms/step - loss: 10.4733 - mse: 29.3757 - val_loss: 0.0000e+00 - val_mse: 0.0000e+00\n",
      "Epoch 48/150\n",
      "16/16 [==============================] - 0s 5ms/step - loss: 10.4738 - mse: 29.3757 - val_loss: 0.0000e+00 - val_mse: 0.0000e+00\n",
      "Epoch 49/150\n",
      "16/16 [==============================] - 0s 5ms/step - loss: 10.4721 - mse: 29.3757 - val_loss: 0.0000e+00 - val_mse: 0.0000e+00\n",
      "Epoch 50/150\n",
      "16/16 [==============================] - 0s 5ms/step - loss: 10.4722 - mse: 29.3757 - val_loss: 0.0000e+00 - val_mse: 0.0000e+00\n",
      "Epoch 51/150\n",
      "16/16 [==============================] - 0s 5ms/step - loss: 10.4722 - mse: 29.3757 - val_loss: 0.0000e+00 - val_mse: 0.0000e+00\n",
      "Epoch 52/150\n",
      "16/16 [==============================] - 0s 5ms/step - loss: 10.4714 - mse: 29.3757 - val_loss: 0.0000e+00 - val_mse: 0.0000e+00\n",
      "Epoch 53/150\n",
      "16/16 [==============================] - 0s 5ms/step - loss: 10.4719 - mse: 29.3757 - val_loss: 0.0000e+00 - val_mse: 0.0000e+00\n",
      "Epoch 54/150\n",
      "16/16 [==============================] - 0s 5ms/step - loss: 10.4720 - mse: 29.3757 - val_loss: 0.0000e+00 - val_mse: 0.0000e+00\n",
      "Epoch 55/150\n",
      "16/16 [==============================] - 0s 5ms/step - loss: 10.4718 - mse: 29.3757 - val_loss: 0.0000e+00 - val_mse: 0.0000e+00\n",
      "Epoch 56/150\n",
      "16/16 [==============================] - 0s 5ms/step - loss: 10.4708 - mse: 29.3756 - val_loss: 0.0000e+00 - val_mse: 0.0000e+00\n",
      "Epoch 57/150\n",
      "16/16 [==============================] - 0s 5ms/step - loss: 10.4699 - mse: 29.3756 - val_loss: 0.0000e+00 - val_mse: 0.0000e+00\n",
      "Epoch 58/150\n",
      "16/16 [==============================] - 0s 5ms/step - loss: 10.4710 - mse: 29.3757 - val_loss: 0.0000e+00 - val_mse: 0.0000e+00\n",
      "Epoch 59/150\n",
      "16/16 [==============================] - 0s 5ms/step - loss: 10.4726 - mse: 29.3757 - val_loss: 0.0000e+00 - val_mse: 0.0000e+00\n",
      "Epoch 60/150\n",
      "16/16 [==============================] - 0s 5ms/step - loss: 10.4713 - mse: 29.3757 - val_loss: 0.0000e+00 - val_mse: 0.0000e+00\n",
      "Epoch 61/150\n",
      "16/16 [==============================] - 0s 5ms/step - loss: 10.4730 - mse: 29.3757 - val_loss: 0.0000e+00 - val_mse: 0.0000e+00\n",
      "Epoch 62/150\n",
      "16/16 [==============================] - 0s 5ms/step - loss: 10.4734 - mse: 29.3757 - val_loss: 0.0000e+00 - val_mse: 0.0000e+00\n",
      "Epoch 63/150\n",
      "16/16 [==============================] - 0s 5ms/step - loss: 10.4740 - mse: 29.3757 - val_loss: 0.0000e+00 - val_mse: 0.0000e+00\n",
      "Epoch 64/150\n",
      "16/16 [==============================] - 0s 5ms/step - loss: 10.4739 - mse: 29.3757 - val_loss: 0.0000e+00 - val_mse: 0.0000e+00\n",
      "Epoch 65/150\n",
      "16/16 [==============================] - 0s 5ms/step - loss: 10.4715 - mse: 29.3757 - val_loss: 0.0000e+00 - val_mse: 0.0000e+00\n",
      "Epoch 66/150\n",
      "16/16 [==============================] - 0s 5ms/step - loss: 10.4691 - mse: 29.3756 - val_loss: 0.0000e+00 - val_mse: 0.0000e+00\n",
      "Epoch 67/150\n",
      "16/16 [==============================] - 0s 5ms/step - loss: 10.4690 - mse: 29.3756 - val_loss: 0.0000e+00 - val_mse: 0.0000e+00\n",
      "Epoch 68/150\n",
      "16/16 [==============================] - 0s 5ms/step - loss: 10.4692 - mse: 29.3756 - val_loss: 0.0000e+00 - val_mse: 0.0000e+00\n",
      "Epoch 69/150\n",
      "16/16 [==============================] - 0s 5ms/step - loss: 10.4689 - mse: 29.3756 - val_loss: 0.0000e+00 - val_mse: 0.0000e+00\n",
      "Epoch 70/150\n",
      "16/16 [==============================] - 0s 5ms/step - loss: 10.4681 - mse: 29.3756 - val_loss: 0.0000e+00 - val_mse: 0.0000e+00\n",
      "Epoch 71/150\n",
      "16/16 [==============================] - 0s 5ms/step - loss: 10.4677 - mse: 29.3756 - val_loss: 0.0000e+00 - val_mse: 0.0000e+00\n",
      "Epoch 72/150\n",
      "16/16 [==============================] - 0s 5ms/step - loss: 10.4683 - mse: 29.3756 - val_loss: 0.0000e+00 - val_mse: 0.0000e+00\n",
      "Epoch 73/150\n",
      "16/16 [==============================] - 0s 5ms/step - loss: 10.4679 - mse: 29.3756 - val_loss: 0.0000e+00 - val_mse: 0.0000e+00\n",
      "Epoch 74/150\n",
      "16/16 [==============================] - 0s 5ms/step - loss: 10.4685 - mse: 29.3756 - val_loss: 0.0000e+00 - val_mse: 0.0000e+00\n",
      "Epoch 75/150\n",
      "16/16 [==============================] - 0s 5ms/step - loss: 10.4681 - mse: 29.3756 - val_loss: 0.0000e+00 - val_mse: 0.0000e+00\n",
      "Epoch 76/150\n",
      "16/16 [==============================] - 0s 5ms/step - loss: 10.4687 - mse: 29.3756 - val_loss: 0.0000e+00 - val_mse: 0.0000e+00\n",
      "Epoch 77/150\n",
      "16/16 [==============================] - 0s 5ms/step - loss: 10.4680 - mse: 29.3756 - val_loss: 0.0000e+00 - val_mse: 0.0000e+00\n",
      "Epoch 78/150\n",
      "16/16 [==============================] - 0s 5ms/step - loss: 10.4674 - mse: 29.3756 - val_loss: 0.0000e+00 - val_mse: 0.0000e+00\n",
      "Epoch 79/150\n",
      "16/16 [==============================] - 0s 5ms/step - loss: 10.4677 - mse: 29.3756 - val_loss: 0.0000e+00 - val_mse: 0.0000e+00\n",
      "Epoch 80/150\n",
      "16/16 [==============================] - 0s 5ms/step - loss: 10.4670 - mse: 29.3756 - val_loss: 0.0000e+00 - val_mse: 0.0000e+00\n",
      "Epoch 81/150\n",
      "16/16 [==============================] - 0s 5ms/step - loss: 10.4674 - mse: 29.3756 - val_loss: 0.0000e+00 - val_mse: 0.0000e+00\n",
      "Epoch 82/150\n",
      "16/16 [==============================] - 0s 5ms/step - loss: 10.4667 - mse: 29.3756 - val_loss: 0.0000e+00 - val_mse: 0.0000e+00\n",
      "Epoch 83/150\n",
      "16/16 [==============================] - 0s 5ms/step - loss: 10.4664 - mse: 29.3756 - val_loss: 0.0000e+00 - val_mse: 0.0000e+00\n",
      "Epoch 84/150\n",
      "16/16 [==============================] - 0s 5ms/step - loss: 10.4660 - mse: 29.3756 - val_loss: 0.0000e+00 - val_mse: 0.0000e+00\n",
      "Epoch 85/150\n",
      "16/16 [==============================] - 0s 5ms/step - loss: 10.4663 - mse: 29.3756 - val_loss: 0.0000e+00 - val_mse: 0.0000e+00\n",
      "Epoch 86/150\n",
      "16/16 [==============================] - 0s 5ms/step - loss: 10.4663 - mse: 29.3756 - val_loss: 0.0000e+00 - val_mse: 0.0000e+00\n",
      "Epoch 87/150\n",
      "16/16 [==============================] - 0s 5ms/step - loss: 10.4669 - mse: 29.3756 - val_loss: 0.0000e+00 - val_mse: 0.0000e+00\n",
      "Epoch 88/150\n",
      "16/16 [==============================] - 0s 5ms/step - loss: 10.4671 - mse: 29.3756 - val_loss: 0.0000e+00 - val_mse: 0.0000e+00\n",
      "Epoch 89/150\n",
      "16/16 [==============================] - 0s 5ms/step - loss: 10.4676 - mse: 29.3756 - val_loss: 0.0000e+00 - val_mse: 0.0000e+00\n",
      "Epoch 90/150\n",
      "16/16 [==============================] - 0s 5ms/step - loss: 10.4677 - mse: 29.3756 - val_loss: 0.0000e+00 - val_mse: 0.0000e+00\n",
      "Epoch 91/150\n",
      "16/16 [==============================] - 0s 5ms/step - loss: 10.4668 - mse: 29.3756 - val_loss: 0.0000e+00 - val_mse: 0.0000e+00\n",
      "Epoch 92/150\n",
      "16/16 [==============================] - 0s 5ms/step - loss: 10.4665 - mse: 29.3756 - val_loss: 0.0000e+00 - val_mse: 0.0000e+00\n",
      "Epoch 93/150\n",
      "16/16 [==============================] - 0s 5ms/step - loss: 10.4671 - mse: 29.3756 - val_loss: 0.0000e+00 - val_mse: 0.0000e+00\n",
      "Epoch 94/150\n",
      "16/16 [==============================] - 0s 5ms/step - loss: 10.4670 - mse: 29.3756 - val_loss: 0.0000e+00 - val_mse: 0.0000e+00\n",
      "Epoch 95/150\n",
      "16/16 [==============================] - 0s 5ms/step - loss: 10.4662 - mse: 29.3756 - val_loss: 0.0000e+00 - val_mse: 0.0000e+00\n",
      "Epoch 96/150\n",
      "16/16 [==============================] - 0s 5ms/step - loss: 10.4661 - mse: 29.3756 - val_loss: 0.0000e+00 - val_mse: 0.0000e+00\n",
      "Epoch 97/150\n",
      "16/16 [==============================] - 0s 5ms/step - loss: 10.4662 - mse: 29.3756 - val_loss: 0.0000e+00 - val_mse: 0.0000e+00\n",
      "Epoch 98/150\n",
      "16/16 [==============================] - 0s 5ms/step - loss: 10.4662 - mse: 29.3756 - val_loss: 0.0000e+00 - val_mse: 0.0000e+00\n",
      "Epoch 99/150\n",
      "16/16 [==============================] - 0s 5ms/step - loss: 10.4665 - mse: 29.3756 - val_loss: 0.0000e+00 - val_mse: 0.0000e+00\n",
      "Epoch 100/150\n",
      "16/16 [==============================] - 0s 5ms/step - loss: 10.4661 - mse: 29.3756 - val_loss: 0.0000e+00 - val_mse: 0.0000e+00\n",
      "Epoch 101/150\n",
      "16/16 [==============================] - 0s 5ms/step - loss: 10.4661 - mse: 29.3756 - val_loss: 0.0000e+00 - val_mse: 0.0000e+00\n",
      "Epoch 102/150\n",
      "16/16 [==============================] - 0s 5ms/step - loss: 10.4668 - mse: 29.3756 - val_loss: 0.0000e+00 - val_mse: 0.0000e+00\n",
      "Epoch 103/150\n",
      "16/16 [==============================] - 0s 5ms/step - loss: 10.4662 - mse: 29.3756 - val_loss: 0.0000e+00 - val_mse: 0.0000e+00\n",
      "Epoch 104/150\n",
      "16/16 [==============================] - 0s 5ms/step - loss: 10.4667 - mse: 29.3756 - val_loss: 0.0000e+00 - val_mse: 0.0000e+00\n",
      "Epoch 105/150\n",
      "16/16 [==============================] - 0s 5ms/step - loss: 10.4660 - mse: 29.3756 - val_loss: 0.0000e+00 - val_mse: 0.0000e+00\n",
      "Epoch 106/150\n",
      "16/16 [==============================] - 0s 5ms/step - loss: 10.4658 - mse: 29.3756 - val_loss: 0.0000e+00 - val_mse: 0.0000e+00\n",
      "Epoch 107/150\n",
      "16/16 [==============================] - 0s 5ms/step - loss: 10.4654 - mse: 29.3756 - val_loss: 0.0000e+00 - val_mse: 0.0000e+00\n",
      "Epoch 108/150\n",
      "16/16 [==============================] - 0s 5ms/step - loss: 10.4655 - mse: 29.3756 - val_loss: 0.0000e+00 - val_mse: 0.0000e+00\n",
      "Epoch 109/150\n",
      "16/16 [==============================] - 0s 5ms/step - loss: 10.4653 - mse: 29.3756 - val_loss: 0.0000e+00 - val_mse: 0.0000e+00\n",
      "Epoch 110/150\n",
      "16/16 [==============================] - 0s 5ms/step - loss: 10.4651 - mse: 29.3756 - val_loss: 0.0000e+00 - val_mse: 0.0000e+00\n",
      "Epoch 111/150\n",
      "16/16 [==============================] - 0s 5ms/step - loss: 10.4647 - mse: 29.3756 - val_loss: 0.0000e+00 - val_mse: 0.0000e+00\n",
      "Epoch 112/150\n",
      "16/16 [==============================] - 0s 5ms/step - loss: 10.4647 - mse: 29.3756 - val_loss: 0.0000e+00 - val_mse: 0.0000e+00\n",
      "Epoch 113/150\n",
      "16/16 [==============================] - 0s 5ms/step - loss: 10.4646 - mse: 29.3756 - val_loss: 0.0000e+00 - val_mse: 0.0000e+00\n",
      "Epoch 114/150\n",
      "16/16 [==============================] - 0s 5ms/step - loss: 10.4647 - mse: 29.3756 - val_loss: 0.0000e+00 - val_mse: 0.0000e+00\n",
      "Epoch 115/150\n",
      "16/16 [==============================] - 0s 5ms/step - loss: 10.4653 - mse: 29.3756 - val_loss: 0.0000e+00 - val_mse: 0.0000e+00\n",
      "Epoch 116/150\n",
      "16/16 [==============================] - 0s 5ms/step - loss: 10.4652 - mse: 29.3756 - val_loss: 0.0000e+00 - val_mse: 0.0000e+00\n",
      "Epoch 117/150\n",
      "16/16 [==============================] - 0s 5ms/step - loss: 10.4650 - mse: 29.3756 - val_loss: 0.0000e+00 - val_mse: 0.0000e+00\n",
      "Epoch 118/150\n",
      "16/16 [==============================] - 0s 5ms/step - loss: 10.4652 - mse: 29.3756 - val_loss: 0.0000e+00 - val_mse: 0.0000e+00\n",
      "Epoch 119/150\n",
      "16/16 [==============================] - 0s 5ms/step - loss: 10.4646 - mse: 29.3756 - val_loss: 0.0000e+00 - val_mse: 0.0000e+00\n",
      "Epoch 120/150\n",
      "16/16 [==============================] - 0s 5ms/step - loss: 10.4646 - mse: 29.3756 - val_loss: 0.0000e+00 - val_mse: 0.0000e+00\n",
      "Epoch 121/150\n",
      "16/16 [==============================] - 0s 5ms/step - loss: 10.4643 - mse: 29.3756 - val_loss: 0.0000e+00 - val_mse: 0.0000e+00\n",
      "Epoch 122/150\n",
      "16/16 [==============================] - 0s 5ms/step - loss: 10.4642 - mse: 29.3756 - val_loss: 0.0000e+00 - val_mse: 0.0000e+00\n",
      "Epoch 123/150\n",
      "16/16 [==============================] - 0s 5ms/step - loss: 10.4646 - mse: 29.3756 - val_loss: 0.0000e+00 - val_mse: 0.0000e+00\n",
      "Epoch 124/150\n",
      "16/16 [==============================] - 0s 5ms/step - loss: 10.4645 - mse: 29.3756 - val_loss: 0.0000e+00 - val_mse: 0.0000e+00\n",
      "Epoch 125/150\n",
      "16/16 [==============================] - 0s 5ms/step - loss: 10.4638 - mse: 29.3756 - val_loss: 0.0000e+00 - val_mse: 0.0000e+00\n",
      "Epoch 126/150\n",
      "16/16 [==============================] - 0s 5ms/step - loss: 10.4643 - mse: 29.3756 - val_loss: 0.0000e+00 - val_mse: 0.0000e+00\n",
      "Epoch 127/150\n",
      "16/16 [==============================] - 0s 5ms/step - loss: 10.4641 - mse: 29.3756 - val_loss: 0.0000e+00 - val_mse: 0.0000e+00\n",
      "Epoch 128/150\n",
      "16/16 [==============================] - 0s 5ms/step - loss: 10.4638 - mse: 29.3756 - val_loss: 0.0000e+00 - val_mse: 0.0000e+00\n",
      "Epoch 129/150\n",
      "16/16 [==============================] - 0s 5ms/step - loss: 10.4638 - mse: 29.3756 - val_loss: 0.0000e+00 - val_mse: 0.0000e+00\n",
      "Epoch 130/150\n",
      "16/16 [==============================] - 0s 5ms/step - loss: 10.4640 - mse: 29.3756 - val_loss: 0.0000e+00 - val_mse: 0.0000e+00\n",
      "Epoch 131/150\n",
      "16/16 [==============================] - 0s 5ms/step - loss: 10.4643 - mse: 29.3756 - val_loss: 0.0000e+00 - val_mse: 0.0000e+00\n",
      "Epoch 132/150\n",
      "16/16 [==============================] - 0s 5ms/step - loss: 10.4640 - mse: 29.3756 - val_loss: 0.0000e+00 - val_mse: 0.0000e+00\n",
      "Epoch 133/150\n",
      "16/16 [==============================] - 0s 5ms/step - loss: 10.4638 - mse: 29.3756 - val_loss: 0.0000e+00 - val_mse: 0.0000e+00\n",
      "Epoch 134/150\n",
      "16/16 [==============================] - 0s 5ms/step - loss: 10.4636 - mse: 29.3756 - val_loss: 0.0000e+00 - val_mse: 0.0000e+00\n",
      "Epoch 135/150\n",
      "16/16 [==============================] - 0s 5ms/step - loss: 10.4635 - mse: 29.3756 - val_loss: 0.0000e+00 - val_mse: 0.0000e+00\n",
      "Epoch 136/150\n",
      "16/16 [==============================] - 0s 5ms/step - loss: 10.4638 - mse: 29.3756 - val_loss: 0.0000e+00 - val_mse: 0.0000e+00\n",
      "Epoch 137/150\n",
      "16/16 [==============================] - 0s 5ms/step - loss: 10.4635 - mse: 29.3756 - val_loss: 0.0000e+00 - val_mse: 0.0000e+00\n",
      "Epoch 138/150\n",
      "16/16 [==============================] - 0s 5ms/step - loss: 10.4636 - mse: 29.3756 - val_loss: 0.0000e+00 - val_mse: 0.0000e+00\n",
      "Epoch 139/150\n",
      "16/16 [==============================] - 0s 5ms/step - loss: 10.4633 - mse: 29.3756 - val_loss: 0.0000e+00 - val_mse: 0.0000e+00\n",
      "Epoch 140/150\n",
      "16/16 [==============================] - 0s 5ms/step - loss: 10.4639 - mse: 29.3756 - val_loss: 0.0000e+00 - val_mse: 0.0000e+00\n",
      "Epoch 141/150\n",
      "16/16 [==============================] - 0s 5ms/step - loss: 10.4640 - mse: 29.3756 - val_loss: 0.0000e+00 - val_mse: 0.0000e+00\n",
      "Epoch 142/150\n",
      "16/16 [==============================] - 0s 5ms/step - loss: 10.4643 - mse: 29.3756 - val_loss: 0.0000e+00 - val_mse: 0.0000e+00\n",
      "Epoch 143/150\n",
      "16/16 [==============================] - 0s 5ms/step - loss: 10.4644 - mse: 29.3756 - val_loss: 0.0000e+00 - val_mse: 0.0000e+00\n",
      "Epoch 144/150\n",
      "16/16 [==============================] - 0s 5ms/step - loss: 10.4644 - mse: 29.3756 - val_loss: 0.0000e+00 - val_mse: 0.0000e+00\n",
      "Epoch 145/150\n",
      "16/16 [==============================] - 0s 5ms/step - loss: 10.4642 - mse: 29.3756 - val_loss: 0.0000e+00 - val_mse: 0.0000e+00\n",
      "Epoch 146/150\n",
      "16/16 [==============================] - 0s 5ms/step - loss: 10.4638 - mse: 29.3756 - val_loss: 0.0000e+00 - val_mse: 0.0000e+00\n",
      "Epoch 147/150\n",
      "16/16 [==============================] - 0s 5ms/step - loss: 10.4639 - mse: 29.3756 - val_loss: 0.0000e+00 - val_mse: 0.0000e+00\n",
      "Epoch 148/150\n",
      "16/16 [==============================] - 0s 5ms/step - loss: 10.4632 - mse: 29.3756 - val_loss: 0.0000e+00 - val_mse: 0.0000e+00\n",
      "Epoch 149/150\n",
      "16/16 [==============================] - 0s 5ms/step - loss: 10.4635 - mse: 29.3756 - val_loss: 0.0000e+00 - val_mse: 0.0000e+00\n",
      "Epoch 150/150\n",
      "16/16 [==============================] - 0s 5ms/step - loss: 10.4631 - mse: 29.3756 - val_loss: 0.0000e+00 - val_mse: 0.0000e+00\n"
     ]
    }
   ],
   "source": [
    "# validation_data=(X_valid_pretrained_500, y_valid_pretrained_500)\n",
    "\n",
    "\n",
    "## !!!!!!!!!!!!!!!!!!!!!!!!!!!!!!!!!!!!!!!!!\n",
    "#  Fehler liegt irgendwo in der Modelarchitecktur begraben. Irgendwo zwischen vorletzten und letzten Layer \n",
    "#\n",
    "## !!!!!!!!!!!!!!!!!!!!!!!!!!!!!!!!!!!!!!!!!\n",
    "\n",
    "\n",
    "history_pretrainted = class_net.fit(X_train_pret_resh_500,y_train_pretrained_500 ,epochs= 150, validation_data=[X_valid_pret_resh_500,y_valid_pretrained_500])\n"
   ]
  },
  {
   "cell_type": "code",
   "execution_count": 225,
   "metadata": {},
   "outputs": [
    {
     "data": {
      "text/plain": [
       "[<matplotlib.lines.Line2D at 0x23329511310>]"
      ]
     },
     "execution_count": 225,
     "metadata": {},
     "output_type": "execute_result"
    },
    {
     "data": {
      "image/png": "[encoded data removed]",
      "text/plain": [
       "<Figure size 432x288 with 1 Axes>"
      ]
     },
     "metadata": {
      "needs_background": "light"
     },
     "output_type": "display_data"
    }
   ],
   "source": [
    "plt.plot(history_pretrainted.history['loss'])\n",
    "plt.plot(history_pretrainted.history['val_loss'])"
   ]
  },
  {
   "cell_type": "markdown",
   "metadata": {},
   "source": [
    "### Predicting the Digits on a Pre-Trained Autoencoder based Model"
   ]
  },
  {
   "cell_type": "code",
   "execution_count": 226,
   "metadata": {},
   "outputs": [
    {
     "data": {
      "image/png": "[encoded data removed]",
      "text/plain": [
       "<Figure size 432x288 with 1 Axes>"
      ]
     },
     "metadata": {
      "needs_background": "light"
     },
     "output_type": "display_data"
    }
   ],
   "source": [
    "idx_testnumber_cls_ae = 0      # Index of test number for the next plottings \n",
    "plot_image(new_images[idx_testnumber_cls_ae])"
   ]
  },
  {
   "cell_type": "code",
   "execution_count": 227,
   "metadata": {},
   "outputs": [
    {
     "name": "stdout",
     "output_type": "stream",
     "text": [
      "The predicted digit:  8\n",
      "Probability of the Prediction:  [[0.10179814 0.09892005 0.10118096 0.09706689 0.09634113 0.09915446\n",
      "  0.10205372 0.09792157 0.10467499 0.10088812]]\n"
     ]
    }
   ],
   "source": [
    "# Predicting the correct number based on the trained model. \n",
    "print(\"The predicted digit: \", np.argmax(class_net.predict(new_images[np.newaxis, idx_testnumber_cls_ae])))\n",
    "print(\"Probability of the Prediction: \", class_net.predict(new_images[np.newaxis, idx_testnumber_cls_ae]))\n"
   ]
  },
  {
   "cell_type": "code",
   "execution_count": null,
   "metadata": {},
   "outputs": [],
   "source": []
  }
 ],
 "metadata": {
  "interpreter": {
   "hash": "2b49f70aa2f17b03439dc8f4bbaf601f728142d0d0d774f4bbd10ea7a16b86ea"
  },
  "kernelspec": {
   "display_name": "Python 3.8.0 64-bit ('wingpuflake_keras': conda)",
   "language": "python",
   "name": "python3"
  },
  "language_info": {
   "codemirror_mode": {
    "name": "ipython",
    "version": 3
   },
   "file_extension": ".py",
   "mimetype": "text/x-python",
   "name": "python",
   "nbconvert_exporter": "python",
   "pygments_lexer": "ipython3",
   "version": "3.8.0"
  },
  "orig_nbformat": 4
 },
 "nbformat": 4,
 "nbformat_minor": 2
}
