{
 "cells": [
  {
   "cell_type": "markdown",
   "metadata": {},
   "source": [
    "# Introduction\n",
    "This notebook will handle the topic of an autoencoder on the MNIST-dataset. In particular there will be an denoising autoencoder that reduces noise in data by reconstructing the original image.\n",
    "\n",
    "The specifics of autoencoding are in the fact that there is no label needed to predict as it is known in common deep-learning architecture. Under this particular architecture, the goal is to \"predict\" its given input values (the features). Therefore we better say \"reconstruct\" instead of \"predict\". The model is forced to reconstruct the the given features, this is implemented through three major changes to the traditional NN structure:\n",
    "1. Building the model out of two seperate models (encoder and decorder).\n",
    "2. Reducing the given information in the middle of the network (codings).\n",
    "3. Using the features as label values as well (prediction value is the input).\n",
    "\n",
    "You will find these structures as well as two variations of denoising autoencoders in this notebook, one with a simple deep neural network (First Model - Deep Denoising Autoencoder) and a dropout layer and another one (Second Model - Convolutional Denoising Autoencoder) with convolution layers and a GaussianNoise creation.\n",
    "\n",
    "Finally to visualize the capabilities of autoencoding, one of the two trained models will be used to train a new model for a completely other task, a classification one. This represents the unsupervised pre-trained approach of model development when there is not enough data to train a model for specific a task. \n",
    "\n",
    "## My other Projects\n",
    "If you are interested in some more clearly analysis of the dataset, take a look into my other notebooks about the MNIS-dataset:\n",
    "\n",
    "- cnn-for-digit-recognition-MNIST (accuracy score: 0.99135):\n",
    "    - https://www.kaggle.com/skiplik/cnn-for-digit-recognition-mnist \n",
    "- Finetuning Hyperparameters in Deep Neural Network:\n",
    "    - https://www.kaggle.com/skiplik/finetuning-hyperparameters-in-deep-neural-network\n",
    "- Digit Recognition with a Deep Neural Network:\n",
    "    - https://www.kaggle.com/skiplik/digit-recognition-with-a-deep-neural-network\n",
    "- Another MNIST Try:\n",
    "    - https://www.kaggle.com/skiplik/another-mnist-try\n",
    "- First NN by Detecting Handwritten Characters:\n",
    "    - https://www.kaggle.com/skiplik/first-nn-by-detecting-handwritten-characters \n",
    "- ..."
   ]
  },
  {
   "cell_type": "markdown",
   "metadata": {},
   "source": [
    "# Imports and Helper Functions"
   ]
  },
  {
   "cell_type": "code",
   "execution_count": 1,
   "metadata": {},
   "outputs": [
    {
     "name": "stdout",
     "output_type": "stream",
     "text": [
      "Tensorflow Version: 2.3.0\n",
      "Keras Version: 2.4.0\n",
      "No GPU was detected. LSTMs and CNNs can be very slow without a GPU.\n",
      "../autoencoding-mnist/data/input/digit-recognizer\\keras_reg_160_10_002.sav\n",
      "../autoencoding-mnist/data/input/digit-recognizer\\keras_reg_jl_160_10_002.sav\n",
      "../autoencoding-mnist/data/input/digit-recognizer\\sample_submission.csv\n",
      "../autoencoding-mnist/data/input/digit-recognizer\\test.csv\n",
      "../autoencoding-mnist/data/input/digit-recognizer\\train.csv\n"
     ]
    }
   ],
   "source": [
    "import sys\n",
    "assert sys.version_info >= (3,5)\n",
    "\n",
    "# Is this notebook running on Colab or Kaggle?\n",
    "IS_COLAB = \"google.colab\" in sys.modules\n",
    "IS_KAGGLE = \"kaggle_secrets\" in sys.modules\n",
    "\n",
    "import numpy as np # linear algebra\n",
    "import pandas as pd # data processing, CSV file I/O (e.g. pd.read_csv)\n",
    "import matplotlib.pyplot as plt\n",
    "from functools import partial\n",
    "from sklearn.model_selection import train_test_split\n",
    "\n",
    "from sklearn.pipeline import Pipeline\n",
    "from sklearn.preprocessing import StandardScaler\n",
    "from sklearn.preprocessing import Normalizer\n",
    "\n",
    "import tensorflow as tf\n",
    "from tensorflow import keras\n",
    "from tensorflow import image\n",
    "from tensorflow import core\n",
    "from tensorflow.keras import layers\n",
    "\n",
    "#import mlflow\n",
    "#from mlflow import log_metric, log_param, log_artifacts\n",
    "#import mlflow.tensorflow\n",
    "#from mlflow import pyfunc\n",
    "\n",
    "assert tf.__version__ >= \"2.0\"\n",
    "\n",
    "print(f\"Tensorflow Version: {tf.__version__}\")\n",
    "print(f\"Keras Version: {keras.__version__}\")\n",
    "\n",
    "if not tf.config.list_physical_devices('GPU'):\n",
    "    print(\"No GPU was detected. LSTMs and CNNs can be very slow without a GPU.\")\n",
    "    if IS_COLAB:\n",
    "        print(\"Go to Runtime > Change runtime and select a GPU hardware accelerator.\")\n",
    "    if IS_KAGGLE:\n",
    "        print(\"Go to Settings > Accelerator and select GPU.\")\n",
    "\n",
    "\n",
    "tf.random.set_seed(42)\n",
    "np.random.seed(42)\n",
    "random_state=42\n",
    "\n",
    "kaggle = 0 # Kaggle path active = 1\n",
    "\n",
    "# change your local path here\n",
    "if kaggle == 1 :\n",
    "    MNIST_PATH= '../input/digit-recognizer'\n",
    "else:\n",
    "    MNIST_PATH= '../autoencoding-mnist/data/input/digit-recognizer'\n",
    "\n",
    "\n",
    "\n",
    "import os\n",
    "for dirname, _, filenames in os.walk(MNIST_PATH): \n",
    "    for filename in filenames:\n",
    "        print(os.path.join(dirname, filename))\n",
    "        "
   ]
  },
  {
   "cell_type": "markdown",
   "metadata": {},
   "source": [
    "## Get The Data"
   ]
  },
  {
   "cell_type": "code",
   "execution_count": 2,
   "metadata": {},
   "outputs": [],
   "source": [
    "# Data path and file\n",
    "CSV_FILE_TRAIN='train.csv'\n",
    "CSV_FILE_TEST='test.csv'\n",
    "\n",
    "def load_csv_data(path, csv_file):\n",
    "    csv_path = os.path.join(path, csv_file)\n",
    "    return pd.read_csv(csv_path)\n",
    "\n",
    "def load_csv_data_manuel(path, csv_file):\n",
    "    csv_path = os.path.join(path, csv_file)\n",
    "    csv_file = open(csv_path, 'r')\n",
    "    csv_data = csv_file.readlines()\n",
    "    csv_file.close()\n",
    "    return csv_data\n",
    "    \n",
    "\n",
    "train = load_csv_data(MNIST_PATH,CSV_FILE_TRAIN)\n",
    "test = load_csv_data(MNIST_PATH,CSV_FILE_TEST)"
   ]
  },
  {
   "cell_type": "markdown",
   "metadata": {},
   "source": [
    "### Train Val Split"
   ]
  },
  {
   "cell_type": "code",
   "execution_count": 3,
   "metadata": {},
   "outputs": [],
   "source": [
    "X_train, X_valid, y_train, y_valid =  train_test_split(train.loc[:, train.columns != 'label'], train['label'], test_size=0.33, random_state=random_state)"
   ]
  },
  {
   "cell_type": "markdown",
   "metadata": {},
   "source": [
    "### Preparing for Neural Network Structure"
   ]
  },
  {
   "cell_type": "code",
   "execution_count": 4,
   "metadata": {},
   "outputs": [],
   "source": [
    "X_train = X_train.astype(np.float32) / 255\n",
    "X_valid = X_valid.astype(np.float32) / 255\n",
    "X_test = test.astype(np.float32) / 255"
   ]
  },
  {
   "cell_type": "code",
   "execution_count": 5,
   "metadata": {},
   "outputs": [
    {
     "name": "stdout",
     "output_type": "stream",
     "text": [
      "'X_train' shape: (28140, 784)\n",
      "'X_valid' shape: (13860, 784)\n",
      "'X_test' shape: (28000, 784)\n"
     ]
    }
   ],
   "source": [
    "print(f\"'X_train' shape: {X_train.shape}\")\n",
    "print(f\"'X_valid' shape: {X_valid.shape}\")\n",
    "print(f\"'X_test' shape: {X_test.shape}\")"
   ]
  },
  {
   "cell_type": "markdown",
   "metadata": {},
   "source": [
    "#### Reshaping Data in Tensor Batch Structure"
   ]
  },
  {
   "cell_type": "code",
   "execution_count": 6,
   "metadata": {},
   "outputs": [],
   "source": [
    "### DEBUG TODO: implement /wo chanel param\n",
    "def reshape_images(df_images):\n",
    "    '''Reshaping image structure to a three dimensional tensor'''\n",
    "    df_images_resh = df_images.values.reshape(df_images.shape[0], 28, 28)\n",
    "    return df_images_resh\n",
    "\n",
    "def reshape_conv_images(df_images):\n",
    "    '''\n",
    "    Reshaping image structure to a four dimensional tensor for conv networks,\n",
    "    where chanel is last\n",
    "    '''\n",
    "    df_images_conv_resh = df_images.values.reshape(df_images.shape[0], 28, 28, 1)\n",
    "    return df_images_conv_resh"
   ]
  },
  {
   "cell_type": "code",
   "execution_count": 7,
   "metadata": {},
   "outputs": [],
   "source": [
    "X_train_resh = reshape_images(X_train)\n",
    "X_valid_resh = reshape_images(X_valid)\n",
    "X_test_resh = reshape_images(X_test)\n",
    "\n",
    "y_train_resh =  y_train.values.reshape(y_train.shape[0], 1)\n",
    "y_valid_resh = y_valid.values.reshape(y_valid.shape[0], 1)"
   ]
  },
  {
   "cell_type": "code",
   "execution_count": 8,
   "metadata": {},
   "outputs": [
    {
     "name": "stdout",
     "output_type": "stream",
     "text": [
      "'X_train_resh' shape: (28140, 28, 28)\n",
      "'X_valid_resh' shape: (13860, 28, 28)\n",
      "'X_test_resh' shape: (28000, 28, 28)\n",
      "'y_train_resh' shape: (28140, 1)\n",
      "'y_valid_resh' shape: (13860, 1)\n"
     ]
    }
   ],
   "source": [
    "print(f\"'X_train_resh' shape: {X_train_resh.shape}\")\n",
    "print(f\"'X_valid_resh' shape: {X_valid_resh.shape}\")\n",
    "print(f\"'X_test_resh' shape: {X_test_resh.shape}\")\n",
    "print(f\"'y_train_resh' shape: {y_train_resh.shape}\")\n",
    "print(f\"'y_valid_resh' shape: {y_valid_resh.shape}\")"
   ]
  },
  {
   "cell_type": "markdown",
   "metadata": {},
   "source": [
    "## Plotting Functions"
   ]
  },
  {
   "cell_type": "code",
   "execution_count": 9,
   "metadata": {},
   "outputs": [],
   "source": [
    "def plot_image(image):\n",
    "    plt.imshow(image, cmap=\"binary\")\n",
    "    plt.axis(\"off\")\n",
    "\n",
    "def show_reconstructions(model, X_valid, n_images=5):\n",
    "    reconstructions = model.predict(X_valid[:n_images])\n",
    "    fig = plt.figure(figsize=(n_images * 1.5, 3))\n",
    "\n",
    "    for image_index in range(n_images):\n",
    "        plt.subplot(2, n_images, 1 + image_index)\n",
    "        plot_image(X_valid[image_index])\n",
    "        plt.subplot(2, n_images, 1 + n_images + image_index)\n",
    "        plot_image(reconstructions[image_index])"
   ]
  },
  {
   "cell_type": "markdown",
   "metadata": {},
   "source": [
    "### Plotting One Example Value"
   ]
  },
  {
   "cell_type": "code",
   "execution_count": 10,
   "metadata": {},
   "outputs": [
    {
     "name": "stdout",
     "output_type": "stream",
     "text": [
      "Example label: 1\n"
     ]
    }
   ],
   "source": [
    "print(f\"Example label: {y_valid.iloc[1]}\")"
   ]
  },
  {
   "cell_type": "code",
   "execution_count": 11,
   "metadata": {},
   "outputs": [
    {
     "data": {
      "image/png": "[encoded data removed]",
      "text/plain": [
       "<Figure size 432x288 with 1 Axes>"
      ]
     },
     "metadata": {
      "needs_background": "light"
     },
     "output_type": "display_data"
    }
   ],
   "source": [
    "plot_image(X_valid.iloc[1].values.reshape(28,28))"
   ]
  },
  {
   "cell_type": "markdown",
   "metadata": {},
   "source": [
    "# Autoencoding Models for Denoising\n",
    "This chapter will be about two denoising autoencoder structures and their different ways of building such an architecture to reduce noise in data. The results of these models will be shown in the next chapter \"Results - Denoising Autoencoders\".\n",
    "\n",
    "Basically an autoencoder architecture includes two seperate models, the encoder and the decorder. In the neuron point of view they both have a rejuvenation which represents a need of information compression - keep only the realy relevant information and drop the less relevant information. Both models combined therefore need to recreate information artificially - the main idea of an autoencoder structure."
   ]
  },
  {
   "cell_type": "markdown",
   "metadata": {},
   "source": [
    "## First Model - Deep Denoising Autoencoder \n",
    "This model will use fully connected layers and a dropout layer to simulate the noising in the data, that it will be trained on in the later process. There is no convolutional layer or other structures used like in the model in the following chapter."
   ]
  },
  {
   "cell_type": "markdown",
   "metadata": {},
   "source": [
    "### Encoder Architecture"
   ]
  },
  {
   "cell_type": "code",
   "execution_count": 12,
   "metadata": {},
   "outputs": [],
   "source": [
    "dropout_encoder = keras.models.Sequential([\n",
    "    keras.layers.Flatten(input_shape=[28, 28]),\n",
    "    keras.layers.Dropout(0.5),\n",
    "    keras.layers.Dense(100, activation=\"selu\"),\n",
    "    keras.layers.Dense(30, activation=\"selu\")           # Codings\n",
    "])"
   ]
  },
  {
   "cell_type": "code",
   "execution_count": 13,
   "metadata": {},
   "outputs": [
    {
     "name": "stdout",
     "output_type": "stream",
     "text": [
      "Model: \"sequential\"\n",
      "_________________________________________________________________\n",
      "Layer (type)                 Output Shape              Param #   \n",
      "=================================================================\n",
      "flatten (Flatten)            (None, 784)               0         \n",
      "_________________________________________________________________\n",
      "dropout (Dropout)            (None, 784)               0         \n",
      "_________________________________________________________________\n",
      "dense (Dense)                (None, 100)               78500     \n",
      "_________________________________________________________________\n",
      "dense_1 (Dense)              (None, 30)                3030      \n",
      "=================================================================\n",
      "Total params: 81,530\n",
      "Trainable params: 81,530\n",
      "Non-trainable params: 0\n",
      "_________________________________________________________________\n"
     ]
    }
   ],
   "source": [
    "dropout_encoder.summary()"
   ]
  },
  {
   "cell_type": "markdown",
   "metadata": {},
   "source": [
    "### Decoder Architecture"
   ]
  },
  {
   "cell_type": "code",
   "execution_count": 14,
   "metadata": {},
   "outputs": [],
   "source": [
    "dropout_decoder = keras.models.Sequential([\n",
    "    keras.layers.Dense(100, activation=\"selu\", input_shape=[30]),\n",
    "    keras.layers.Dense(28 * 28, activation=\"sigmoid\"),  ### PROBLEM AREA found: USE THE RIGHT ACTIVATION FUNCTION\n",
    "    keras.layers.Reshape([28, 28])\n",
    "])"
   ]
  },
  {
   "cell_type": "code",
   "execution_count": 15,
   "metadata": {},
   "outputs": [
    {
     "name": "stdout",
     "output_type": "stream",
     "text": [
      "Model: \"sequential_1\"\n",
      "_________________________________________________________________\n",
      "Layer (type)                 Output Shape              Param #   \n",
      "=================================================================\n",
      "dense_2 (Dense)              (None, 100)               3100      \n",
      "_________________________________________________________________\n",
      "dense_3 (Dense)              (None, 784)               79184     \n",
      "_________________________________________________________________\n",
      "reshape (Reshape)            (None, 28, 28)            0         \n",
      "=================================================================\n",
      "Total params: 82,284\n",
      "Trainable params: 82,284\n",
      "Non-trainable params: 0\n",
      "_________________________________________________________________\n"
     ]
    }
   ],
   "source": [
    "dropout_decoder.summary()"
   ]
  },
  {
   "cell_type": "markdown",
   "metadata": {},
   "source": [
    "### Building the Model"
   ]
  },
  {
   "cell_type": "code",
   "execution_count": 16,
   "metadata": {},
   "outputs": [],
   "source": [
    "dropout_ae = keras.models.Sequential([dropout_encoder, dropout_decoder])\n",
    "dropout_ae.compile(loss=\"binary_crossentropy\", optimizer=keras.optimizers.SGD(lr=1.5))"
   ]
  },
  {
   "cell_type": "markdown",
   "metadata": {},
   "source": [
    "### Training and Logging -  Deep Denoising Autoencoder"
   ]
  },
  {
   "cell_type": "markdown",
   "metadata": {},
   "source": [
    "#### Logging the Model (ML Flow)"
   ]
  },
  {
   "cell_type": "code",
   "execution_count": 17,
   "metadata": {},
   "outputs": [],
   "source": [
    "#mlflow.tensorflow.autolog()"
   ]
  },
  {
   "cell_type": "markdown",
   "metadata": {},
   "source": [
    "#### Training the Model"
   ]
  },
  {
   "cell_type": "code",
   "execution_count": 18,
   "metadata": {},
   "outputs": [
    {
     "name": "stdout",
     "output_type": "stream",
     "text": [
      "Epoch 1/10\n",
      "880/880 [==============================] - 2s 2ms/step - loss: 0.2242 - val_loss: 0.1742\n",
      "Epoch 2/10\n",
      "880/880 [==============================] - 2s 2ms/step - loss: 0.1679 - val_loss: 0.1491\n",
      "Epoch 3/10\n",
      "880/880 [==============================] - 2s 2ms/step - loss: 0.1543 - val_loss: 0.1407\n",
      "Epoch 4/10\n",
      "880/880 [==============================] - 2s 2ms/step - loss: 0.1480 - val_loss: 0.1339\n",
      "Epoch 5/10\n",
      "880/880 [==============================] - 2s 2ms/step - loss: 0.1436 - val_loss: 0.1312\n",
      "Epoch 6/10\n",
      "880/880 [==============================] - 2s 2ms/step - loss: 0.1406 - val_loss: 0.1311\n",
      "Epoch 7/10\n",
      "880/880 [==============================] - 2s 2ms/step - loss: 0.1379 - val_loss: 0.1278\n",
      "Epoch 8/10\n",
      "880/880 [==============================] - 2s 2ms/step - loss: 0.1356 - val_loss: 0.1261\n",
      "Epoch 9/10\n",
      "880/880 [==============================] - 2s 2ms/step - loss: 0.1337 - val_loss: 0.1223\n",
      "Epoch 10/10\n",
      "880/880 [==============================] - 2s 2ms/step - loss: 0.1321 - val_loss: 0.1204\n"
     ]
    }
   ],
   "source": [
    "history = dropout_ae.fit(X_train_resh, X_train_resh, epochs= 10, validation_data=(X_valid_resh, X_valid_resh))\n"
   ]
  },
  {
   "cell_type": "markdown",
   "metadata": {},
   "source": [
    "#### Losses\n",
    "The question is: \"How good does the model reconstruct the given features/information\". So there is no prediction of some label value! The model \"predicts\" (or better) reconstruct its input values as good as it can."
   ]
  },
  {
   "cell_type": "code",
   "execution_count": 19,
   "metadata": {},
   "outputs": [
    {
     "data": {
      "text/plain": [
       "[<matplotlib.lines.Line2D at 0x261b54f51f0>]"
      ]
     },
     "execution_count": 19,
     "metadata": {},
     "output_type": "execute_result"
    },
    {
     "data": {
      "image/png": "[encoded data removed]",
      "text/plain": [
       "<Figure size 432x288 with 1 Axes>"
      ]
     },
     "metadata": {
      "needs_background": "light"
     },
     "output_type": "display_data"
    }
   ],
   "source": [
    "# Getting in touch with the model statistics \n",
    "# shows the available keys in models history:  print(history.history.keys())\n",
    "plt.plot(history.history['loss'])\n",
    "plt.plot(history.history['val_loss'])"
   ]
  },
  {
   "cell_type": "markdown",
   "metadata": {},
   "source": [
    "## Second Model - Convolutional Denoising Autoencoder "
   ]
  },
  {
   "cell_type": "markdown",
   "metadata": {},
   "source": [
    "### Convolutional Encoder Architecture  "
   ]
  },
  {
   "cell_type": "code",
   "execution_count": 20,
   "metadata": {},
   "outputs": [],
   "source": [
    "conv_encoder = keras.models.Sequential([\n",
    "    keras.layers.GaussianNoise(0.1, input_shape = [28, 28, 1]),\n",
    "    keras.layers.Conv2D(16, kernel_size=3, activation='selu'),\n",
    "    keras.layers.MaxPool2D(pool_size=2),\n",
    "    keras.layers.Conv2D(32, kernel_size=3, padding=\"same\", activation=\"selu\"),\n",
    "    keras.layers.MaxPool2D(pool_size=4),\n",
    "    keras.layers.Dense(392, activation=\"relu\")           # Codings\n",
    "])"
   ]
  },
  {
   "cell_type": "code",
   "execution_count": 21,
   "metadata": {},
   "outputs": [
    {
     "name": "stdout",
     "output_type": "stream",
     "text": [
      "Model: \"sequential_3\"\n",
      "_________________________________________________________________\n",
      "Layer (type)                 Output Shape              Param #   \n",
      "=================================================================\n",
      "gaussian_noise (GaussianNois (None, 28, 28, 1)         0         \n",
      "_________________________________________________________________\n",
      "conv2d (Conv2D)              (None, 26, 26, 16)        160       \n",
      "_________________________________________________________________\n",
      "max_pooling2d (MaxPooling2D) (None, 13, 13, 16)        0         \n",
      "_________________________________________________________________\n",
      "conv2d_1 (Conv2D)            (None, 13, 13, 32)        4640      \n",
      "_________________________________________________________________\n",
      "max_pooling2d_1 (MaxPooling2 (None, 3, 3, 32)          0         \n",
      "_________________________________________________________________\n",
      "dense_4 (Dense)              (None, 3, 3, 392)         12936     \n",
      "=================================================================\n",
      "Total params: 17,736\n",
      "Trainable params: 17,736\n",
      "Non-trainable params: 0\n",
      "_________________________________________________________________\n"
     ]
    }
   ],
   "source": [
    "conv_encoder.summary()"
   ]
  },
  {
   "cell_type": "markdown",
   "metadata": {},
   "source": [
    "### Convolutional Decoder Architecture"
   ]
  },
  {
   "cell_type": "code",
   "execution_count": 22,
   "metadata": {},
   "outputs": [],
   "source": [
    "conv_decoder = keras.models.Sequential([\n",
    "    #keras.layers.GaussianNoise(0.1, input_shape=[6, 6, 32] ),\n",
    "    keras.layers.Conv2DTranspose(32, kernel_size=3, strides=2, padding=\"valid\",activation=\"selu\", input_shape=[3, 3, 392]),\n",
    "    keras.layers.Conv2DTranspose(16, kernel_size=3, strides=2, padding=\"same\",activation=\"selu\"),\n",
    "    keras.layers.Conv2DTranspose(1, kernel_size=3, strides=2, padding=\"same\", activation=\"sigmoid\"),\n",
    "    keras.layers.Reshape([28, 28, 1])\n",
    "])"
   ]
  },
  {
   "cell_type": "code",
   "execution_count": 23,
   "metadata": {},
   "outputs": [
    {
     "name": "stdout",
     "output_type": "stream",
     "text": [
      "Model: \"sequential_4\"\n",
      "_________________________________________________________________\n",
      "Layer (type)                 Output Shape              Param #   \n",
      "=================================================================\n",
      "conv2d_transpose (Conv2DTran (None, 7, 7, 32)          112928    \n",
      "_________________________________________________________________\n",
      "conv2d_transpose_1 (Conv2DTr (None, 14, 14, 16)        4624      \n",
      "_________________________________________________________________\n",
      "conv2d_transpose_2 (Conv2DTr (None, 28, 28, 1)         145       \n",
      "_________________________________________________________________\n",
      "reshape_1 (Reshape)          (None, 28, 28, 1)         0         \n",
      "=================================================================\n",
      "Total params: 117,697\n",
      "Trainable params: 117,697\n",
      "Non-trainable params: 0\n",
      "_________________________________________________________________\n"
     ]
    }
   ],
   "source": [
    "conv_decoder.summary()"
   ]
  },
  {
   "cell_type": "markdown",
   "metadata": {},
   "source": [
    "### Building the Model - Deep Convolutional Denoising Autoencoder"
   ]
  },
  {
   "cell_type": "code",
   "execution_count": 24,
   "metadata": {},
   "outputs": [],
   "source": [
    "conv_denoising_ae = keras.models.Sequential([conv_encoder, conv_decoder])\n",
    "conv_denoising_ae.compile(loss=\"binary_crossentropy\", optimizer=keras.optimizers.SGD(lr=1.5))"
   ]
  },
  {
   "cell_type": "code",
   "execution_count": 25,
   "metadata": {},
   "outputs": [
    {
     "name": "stdout",
     "output_type": "stream",
     "text": [
      "Model: \"sequential_5\"\n",
      "_________________________________________________________________\n",
      "Layer (type)                 Output Shape              Param #   \n",
      "=================================================================\n",
      "sequential_3 (Sequential)    (None, 3, 3, 392)         17736     \n",
      "_________________________________________________________________\n",
      "sequential_4 (Sequential)    (None, 28, 28, 1)         117697    \n",
      "=================================================================\n",
      "Total params: 135,433\n",
      "Trainable params: 135,433\n",
      "Non-trainable params: 0\n",
      "_________________________________________________________________\n"
     ]
    }
   ],
   "source": [
    "conv_denoising_ae.summary()"
   ]
  },
  {
   "cell_type": "markdown",
   "metadata": {},
   "source": [
    "### Training and Logging - Deep Convolutional Denoising Autoencoder"
   ]
  },
  {
   "cell_type": "markdown",
   "metadata": {},
   "source": [
    "#### Training the Model"
   ]
  },
  {
   "cell_type": "code",
   "execution_count": 26,
   "metadata": {},
   "outputs": [],
   "source": [
    "X_train_resh_ch = reshape_conv_images(X_train)\n",
    "X_valid_resh_ch = reshape_conv_images(X_valid)\n",
    "X_test_resh_ch = reshape_conv_images(X_test)\n",
    "\n",
    "## DEBUG TODO: Clean this up after test\n",
    "#X_train_resh_ch = X_train_resh.reshape(X_train_resh.shape[0], 28 ,28 ,1)\n",
    "#X_valid_resh_ch = X_valid_resh.reshape(X_valid_resh.shape[0], 28 ,28 ,1)"
   ]
  },
  {
   "cell_type": "code",
   "execution_count": 27,
   "metadata": {},
   "outputs": [
    {
     "name": "stdout",
     "output_type": "stream",
     "text": [
      "Epoch 1/10\n",
      "880/880 [==============================] - 11s 12ms/step - loss: 0.1842 - val_loss: 0.1113\n",
      "Epoch 2/10\n",
      "880/880 [==============================] - 10s 12ms/step - loss: 0.1075 - val_loss: 0.1000\n",
      "Epoch 3/10\n",
      "880/880 [==============================] - 10s 12ms/step - loss: 0.0982 - val_loss: 0.0936\n",
      "Epoch 4/10\n",
      "880/880 [==============================] - 10s 12ms/step - loss: 0.0935 - val_loss: 0.0921\n",
      "Epoch 5/10\n",
      "880/880 [==============================] - 11s 12ms/step - loss: 0.0909 - val_loss: 0.0884\n",
      "Epoch 6/10\n",
      "880/880 [==============================] - 10s 12ms/step - loss: 0.0889 - val_loss: 0.0872\n",
      "Epoch 7/10\n",
      "880/880 [==============================] - 10s 12ms/step - loss: 0.0874 - val_loss: 0.0906\n",
      "Epoch 8/10\n",
      "880/880 [==============================] - 10s 12ms/step - loss: 0.0863 - val_loss: 0.0856\n",
      "Epoch 9/10\n",
      "880/880 [==============================] - 10s 12ms/step - loss: 0.0855 - val_loss: 0.0832\n",
      "Epoch 10/10\n",
      "880/880 [==============================] - 10s 12ms/step - loss: 0.0846 - val_loss: 0.0849\n"
     ]
    }
   ],
   "source": [
    "history = conv_denoising_ae.fit(X_train_resh_ch, X_train_resh_ch, epochs= 10, validation_data=(X_valid_resh_ch, X_valid_resh_ch))\n"
   ]
  },
  {
   "cell_type": "code",
   "execution_count": 28,
   "metadata": {},
   "outputs": [
    {
     "name": "stdout",
     "output_type": "stream",
     "text": [
      "WARNING:tensorflow:From D:\\anaconda3\\envs\\wingpuflake_keras\\lib\\site-packages\\tensorflow\\python\\training\\tracking\\tracking.py:111: Model.state_updates (from tensorflow.python.keras.engine.training) is deprecated and will be removed in a future version.\n",
      "Instructions for updating:\n",
      "This property should not be used in TensorFlow 2.0, as updates are applied automatically.\n",
      "WARNING:tensorflow:From D:\\anaconda3\\envs\\wingpuflake_keras\\lib\\site-packages\\tensorflow\\python\\training\\tracking\\tracking.py:111: Layer.updates (from tensorflow.python.keras.engine.base_layer) is deprecated and will be removed in a future version.\n",
      "Instructions for updating:\n",
      "This property should not be used in TensorFlow 2.0, as updates are applied automatically.\n",
      "INFO:tensorflow:Assets written to: conv_denoising_ae\\assets\n"
     ]
    }
   ],
   "source": [
    "# saving model for weight using in later process\n",
    "conv_denoising_ae.save('conv_denoising_ae')"
   ]
  },
  {
   "cell_type": "code",
   "execution_count": 29,
   "metadata": {},
   "outputs": [],
   "source": [
    "# Probably not working on Kaggle\n",
    "#plot_model(conv_denoising_ae, 'conv_autencoder.png', show_shapes=True)"
   ]
  },
  {
   "cell_type": "markdown",
   "metadata": {},
   "source": [
    "# Results - Denoising Autoencoders"
   ]
  },
  {
   "cell_type": "markdown",
   "metadata": {},
   "source": [
    "## Results - Deep Denoising Autoencoder"
   ]
  },
  {
   "cell_type": "markdown",
   "metadata": {},
   "source": [
    "### Real Image"
   ]
  },
  {
   "cell_type": "code",
   "execution_count": 30,
   "metadata": {},
   "outputs": [
    {
     "data": {
      "image/png": "[encoded data removed]",
      "text/plain": [
       "<Figure size 432x288 with 1 Axes>"
      ]
     },
     "metadata": {
      "needs_background": "light"
     },
     "output_type": "display_data"
    }
   ],
   "source": [
    "# Test image from a known set\n",
    "plot_image(X_valid_resh[10])"
   ]
  },
  {
   "cell_type": "markdown",
   "metadata": {},
   "source": [
    "### (\"Predicted\") Reconstructed One"
   ]
  },
  {
   "cell_type": "code",
   "execution_count": 31,
   "metadata": {},
   "outputs": [
    {
     "data": {
      "image/png": "[encoded data removed]",
      "text/plain": [
       "<Figure size 432x288 with 1 Axes>"
      ]
     },
     "metadata": {
      "needs_background": "light"
     },
     "output_type": "display_data"
    }
   ],
   "source": [
    "testimage = X_valid_resh[10].reshape(1, 28, 28)     # single image prepared for the test (reshape)\n",
    "plot_image(dropout_ae.predict(testimage)[0, :, :])  # needed to extract the second and third array of the three dimensional tensor struc for printing the image"
   ]
  },
  {
   "cell_type": "markdown",
   "metadata": {},
   "source": [
    "### Showing Multi Results"
   ]
  },
  {
   "cell_type": "code",
   "execution_count": 32,
   "metadata": {},
   "outputs": [
    {
     "data": {
      "image/png": "[encoded data removed]",
      "text/plain": [
       "<Figure size 540x216 with 10 Axes>"
      ]
     },
     "metadata": {
      "needs_background": "light"
     },
     "output_type": "display_data"
    }
   ],
   "source": [
    "show_reconstructions(dropout_ae, X_valid_resh)"
   ]
  },
  {
   "cell_type": "markdown",
   "metadata": {},
   "source": [
    "### Using Noised Images"
   ]
  },
  {
   "cell_type": "markdown",
   "metadata": {},
   "source": [
    "#### Creating Noisy Data\n"
   ]
  },
  {
   "cell_type": "code",
   "execution_count": 33,
   "metadata": {},
   "outputs": [],
   "source": [
    "new_images = X_test[5:10]\n",
    "new_images = reshape_images(new_images)\n",
    "noisy_images = new_images + np.random.randn(5,28,28) *0.1"
   ]
  },
  {
   "cell_type": "markdown",
   "metadata": {},
   "source": [
    "#### Origin Number\n"
   ]
  },
  {
   "cell_type": "code",
   "execution_count": 34,
   "metadata": {},
   "outputs": [
    {
     "data": {
      "image/png": "[encoded data removed]",
      "text/plain": [
       "<Figure size 432x288 with 1 Axes>"
      ]
     },
     "metadata": {
      "needs_background": "light"
     },
     "output_type": "display_data"
    }
   ],
   "source": [
    "idx_testnumber = 0      # Index of test number for the next plottings \n",
    "plot_image(new_images[idx_testnumber])"
   ]
  },
  {
   "cell_type": "markdown",
   "metadata": {},
   "source": [
    "#### Noisy Number"
   ]
  },
  {
   "cell_type": "code",
   "execution_count": 35,
   "metadata": {},
   "outputs": [
    {
     "data": {
      "image/png": "[encoded data removed]",
      "text/plain": [
       "<Figure size 432x288 with 1 Axes>"
      ]
     },
     "metadata": {
      "needs_background": "light"
     },
     "output_type": "display_data"
    }
   ],
   "source": [
    "plot_image(noisy_images[idx_testnumber])"
   ]
  },
  {
   "cell_type": "markdown",
   "metadata": {},
   "source": [
    "#### Denoised Number"
   ]
  },
  {
   "cell_type": "code",
   "execution_count": 36,
   "metadata": {},
   "outputs": [
    {
     "data": {
      "image/png": "[encoded data removed]",
      "text/plain": [
       "<Figure size 432x288 with 1 Axes>"
      ]
     },
     "metadata": {
      "needs_background": "light"
     },
     "output_type": "display_data"
    }
   ],
   "source": [
    "# Very Important ! added a new axis according to the models batch based behavior\n",
    "plot_image(dropout_ae.predict(noisy_images[np.newaxis ,idx_testnumber]).reshape(28,28)) "
   ]
  },
  {
   "cell_type": "markdown",
   "metadata": {},
   "source": [
    "#### Multiple Numbers in Comparision "
   ]
  },
  {
   "cell_type": "code",
   "execution_count": 37,
   "metadata": {},
   "outputs": [
    {
     "data": {
      "image/png": "[encoded data removed]",
      "text/plain": [
       "<Figure size 540x216 with 10 Axes>"
      ]
     },
     "metadata": {
      "needs_background": "light"
     },
     "output_type": "display_data"
    }
   ],
   "source": [
    "show_reconstructions(dropout_ae, noisy_images)"
   ]
  },
  {
   "cell_type": "markdown",
   "metadata": {},
   "source": [
    "## Results - Convolutional Denoising Autoencoder"
   ]
  },
  {
   "cell_type": "markdown",
   "metadata": {},
   "source": [
    "### Using Noised Images"
   ]
  },
  {
   "cell_type": "markdown",
   "metadata": {},
   "source": [
    "#### Creating Noisy Data"
   ]
  },
  {
   "cell_type": "code",
   "execution_count": 38,
   "metadata": {},
   "outputs": [],
   "source": [
    "new_images_conv = X_test[5:10]\n",
    "new_images_conv = reshape_conv_images(new_images_conv)\n",
    "noisy_images_conv = new_images_conv + np.random.randn(5, 28, 28, 1) *0.1"
   ]
  },
  {
   "cell_type": "code",
   "execution_count": 39,
   "metadata": {},
   "outputs": [
    {
     "data": {
      "text/plain": [
       "(5, 28, 28, 1)"
      ]
     },
     "execution_count": 39,
     "metadata": {},
     "output_type": "execute_result"
    }
   ],
   "source": [
    "noisy_images_conv.shape"
   ]
  },
  {
   "cell_type": "markdown",
   "metadata": {},
   "source": [
    "#### Origin Number\n"
   ]
  },
  {
   "cell_type": "code",
   "execution_count": 40,
   "metadata": {},
   "outputs": [
    {
     "data": {
      "image/png": "[encoded data removed]",
      "text/plain": [
       "<Figure size 432x288 with 1 Axes>"
      ]
     },
     "metadata": {
      "needs_background": "light"
     },
     "output_type": "display_data"
    }
   ],
   "source": [
    "idx_testnumber = 0      # Index of test number for the next plottings \n",
    "plot_image(new_images_conv[idx_testnumber])"
   ]
  },
  {
   "cell_type": "markdown",
   "metadata": {},
   "source": [
    "#### Noisy Number"
   ]
  },
  {
   "cell_type": "code",
   "execution_count": 41,
   "metadata": {},
   "outputs": [
    {
     "data": {
      "image/png": "[encoded data removed]",
      "text/plain": [
       "<Figure size 432x288 with 1 Axes>"
      ]
     },
     "metadata": {
      "needs_background": "light"
     },
     "output_type": "display_data"
    }
   ],
   "source": [
    "plot_image(noisy_images_conv[idx_testnumber])"
   ]
  },
  {
   "cell_type": "markdown",
   "metadata": {},
   "source": [
    "#### Denoised Number"
   ]
  },
  {
   "cell_type": "code",
   "execution_count": 42,
   "metadata": {},
   "outputs": [
    {
     "data": {
      "image/png": "[encoded data removed]",
      "text/plain": [
       "<Figure size 432x288 with 1 Axes>"
      ]
     },
     "metadata": {
      "needs_background": "light"
     },
     "output_type": "display_data"
    }
   ],
   "source": [
    "# Very Important ! added a new axis according to the models batch based behavior\n",
    "plot_image(conv_denoising_ae.predict(noisy_images_conv[np.newaxis ,idx_testnumber]).reshape(28,28))"
   ]
  },
  {
   "cell_type": "markdown",
   "metadata": {},
   "source": [
    "#### Multiple Numbers in Comparision"
   ]
  },
  {
   "cell_type": "code",
   "execution_count": 43,
   "metadata": {},
   "outputs": [
    {
     "data": {
      "image/png": "[encoded data removed]",
      "text/plain": [
       "<Figure size 540x216 with 10 Axes>"
      ]
     },
     "metadata": {
      "needs_background": "light"
     },
     "output_type": "display_data"
    }
   ],
   "source": [
    "show_reconstructions(conv_denoising_ae, noisy_images_conv)"
   ]
  },
  {
   "cell_type": "markdown",
   "metadata": {},
   "source": [
    "# Third Model - Unsupervised Pre-Training for Supervised Training\n",
    "In this part I will use the first layers of the already trained Convolutional Denoising Autoencoder for implementing a classification prediction model. This architecture represents the way of using unsupervised pre-training for projects that do not have enough training data to train the final model (in this case the classification model)."
   ]
  },
  {
   "cell_type": "code",
   "execution_count": 44,
   "metadata": {},
   "outputs": [],
   "source": [
    "# Loading untouched model weights \n",
    "# Doing this for the reason that model weights are modified not only for a specific created model object (thats what I was recognizing), but for the stored object in the cache.\n",
    "# Therefore I load here the model new from storage to be capable of running multiple new model trainings without any influence on previous runs (make this trainig deterministic)\n",
    "conv_denoising_ae_clone = tf.keras.models.load_model(\"conv_denoising_ae\")"
   ]
  },
  {
   "cell_type": "code",
   "execution_count": 45,
   "metadata": {},
   "outputs": [],
   "source": [
    "ae_model_id = 0 # 0 for encorder / 1 for decorder\n",
    "layerscount = 5 # how many layers of the model ...\n",
    "\n",
    "\n",
    "new_model = keras.models.Sequential(conv_denoising_ae_clone.layers[ae_model_id].layers[:layerscount])\n",
    "new_model.trainable =True  # Setting it on True to sepcificly set them on False afterwards  "
   ]
  },
  {
   "cell_type": "code",
   "execution_count": 46,
   "metadata": {},
   "outputs": [
    {
     "name": "stdout",
     "output_type": "stream",
     "text": [
      "Model: \"sequential_6\"\n",
      "_________________________________________________________________\n",
      "Layer (type)                 Output Shape              Param #   \n",
      "=================================================================\n",
      "gaussian_noise (GaussianNois (None, 28, 28, 1)         0         \n",
      "_________________________________________________________________\n",
      "conv2d (Conv2D)              (None, 26, 26, 16)        160       \n",
      "_________________________________________________________________\n",
      "max_pooling2d (MaxPooling2D) (None, 13, 13, 16)        0         \n",
      "_________________________________________________________________\n",
      "conv2d_1 (Conv2D)            (None, 13, 13, 32)        4640      \n",
      "_________________________________________________________________\n",
      "max_pooling2d_1 (MaxPooling2 (None, 3, 3, 32)          0         \n",
      "=================================================================\n",
      "Total params: 4,800\n",
      "Trainable params: 4,800\n",
      "Non-trainable params: 0\n",
      "_________________________________________________________________\n"
     ]
    }
   ],
   "source": [
    "new_model.summary()"
   ]
  },
  {
   "cell_type": "markdown",
   "metadata": {},
   "source": [
    "### Making the Layers Trainable / Not-Trainable\n",
    "The already trained layers which has been trained on the unsupervised way above, needs to be frozen so that only the new layers for the new topic (classification) can be trained.\n"
   ]
  },
  {
   "cell_type": "code",
   "execution_count": 47,
   "metadata": {},
   "outputs": [
    {
     "name": "stdout",
     "output_type": "stream",
     "text": [
      "Layer 'gaussian_noise' is Trainable = False\n",
      "Layer 'conv2d' is Trainable = False\n",
      "Layer 'max_pooling2d' is Trainable = False\n",
      "Layer 'conv2d_1' is Trainable = False\n"
     ]
    }
   ],
   "source": [
    "# Make the layers not trainable \n",
    "for layer in new_model.layers[:layerscount -1 ]:              # last layer still be trainable\n",
    "    layer.trainable = False\n",
    "    print(f\"Layer '{layer.name}' is Trainable = {layer.trainable}\")"
   ]
  },
  {
   "cell_type": "code",
   "execution_count": 48,
   "metadata": {},
   "outputs": [],
   "source": [
    "new_model.add(keras.layers.Flatten())\n",
    "new_model.add(keras.layers.Dense(10, activation=\"softmax\"))"
   ]
  },
  {
   "cell_type": "code",
   "execution_count": 49,
   "metadata": {},
   "outputs": [
    {
     "name": "stdout",
     "output_type": "stream",
     "text": [
      "Layer 'gaussian_noise' trainable state = False\n",
      "Layer 'conv2d' trainable state = False\n",
      "Layer 'max_pooling2d' trainable state = False\n",
      "Layer 'conv2d_1' trainable state = False\n",
      "Layer 'max_pooling2d_1' trainable state = True\n",
      "Layer 'flatten_1' trainable state = True\n",
      "Layer 'dense_5' trainable state = True\n"
     ]
    }
   ],
   "source": [
    "# Viewing final layers-construction and its trainabilaties\n",
    "for layer in new_model.layers:\n",
    "    print(f\"Layer '{layer.name}' trainable state = {layer.trainable}\")"
   ]
  },
  {
   "cell_type": "code",
   "execution_count": 50,
   "metadata": {},
   "outputs": [],
   "source": [
    "new_model.compile(loss=\"sparse_categorical_crossentropy\", optimizer=keras.optimizers.Nadam(), metrics=[\"accuracy\"]) ##keras.optimizers.SGD(learning_rate=0.0003)"
   ]
  },
  {
   "cell_type": "code",
   "execution_count": 51,
   "metadata": {},
   "outputs": [
    {
     "name": "stdout",
     "output_type": "stream",
     "text": [
      "Model: \"sequential_6\"\n",
      "_________________________________________________________________\n",
      "Layer (type)                 Output Shape              Param #   \n",
      "=================================================================\n",
      "gaussian_noise (GaussianNois (None, 28, 28, 1)         0         \n",
      "_________________________________________________________________\n",
      "conv2d (Conv2D)              (None, 26, 26, 16)        160       \n",
      "_________________________________________________________________\n",
      "max_pooling2d (MaxPooling2D) (None, 13, 13, 16)        0         \n",
      "_________________________________________________________________\n",
      "conv2d_1 (Conv2D)            (None, 13, 13, 32)        4640      \n",
      "_________________________________________________________________\n",
      "max_pooling2d_1 (MaxPooling2 (None, 3, 3, 32)          0         \n",
      "_________________________________________________________________\n",
      "flatten_1 (Flatten)          (None, 288)               0         \n",
      "_________________________________________________________________\n",
      "dense_5 (Dense)              (None, 10)                2890      \n",
      "=================================================================\n",
      "Total params: 7,690\n",
      "Trainable params: 2,890\n",
      "Non-trainable params: 4,800\n",
      "_________________________________________________________________\n"
     ]
    }
   ],
   "source": [
    "new_model.summary()"
   ]
  },
  {
   "cell_type": "code",
   "execution_count": 52,
   "metadata": {},
   "outputs": [],
   "source": [
    "#from tensorflow.keras.utils import plot_model\n",
    "\n",
    "#plot_model(new_model, 'autencoder_base_w_classifier.png', show_shapes=True)"
   ]
  },
  {
   "cell_type": "code",
   "execution_count": 53,
   "metadata": {},
   "outputs": [
    {
     "data": {
      "text/plain": [
       "False"
      ]
     },
     "execution_count": 53,
     "metadata": {},
     "output_type": "execute_result"
    }
   ],
   "source": [
    "# DEBUG\n",
    "trainlayer_id = 3\n",
    "\n",
    "new_model.get_layer(index=trainlayer_id).trainable"
   ]
  },
  {
   "cell_type": "code",
   "execution_count": 54,
   "metadata": {},
   "outputs": [
    {
     "data": {
      "text/plain": [
       "[<tf.Variable 'conv2d_1/kernel:0' shape=(3, 3, 16, 32) dtype=float32, numpy=\n",
       " array([[[[ 9.07631591e-02, -3.19922380e-02, -4.77032773e-02, ...,\n",
       "           -2.36007366e-02,  8.31030484e-04, -3.91094610e-02],\n",
       "          [ 7.21316934e-02,  8.86637941e-02,  2.93809525e-03, ...,\n",
       "            2.99301445e-02,  3.42226475e-02, -8.69142711e-02],\n",
       "          [-5.93987405e-02,  1.57524914e-01,  4.77614952e-03, ...,\n",
       "           -4.04333323e-02, -1.14511773e-01,  1.29802585e-01],\n",
       "          ...,\n",
       "          [ 1.06034517e-01, -4.32430618e-02,  1.36167686e-02, ...,\n",
       "           -8.22973326e-02, -4.84052747e-02,  2.20276508e-02],\n",
       "          [ 1.29595203e-02,  1.33650705e-01, -5.58329858e-02, ...,\n",
       "            6.76471293e-02, -6.02976531e-02, -5.72275072e-02],\n",
       "          [-9.33125913e-02, -4.44712788e-02, -1.51101826e-02, ...,\n",
       "            1.95797719e-02,  4.46985960e-02,  4.97241169e-02]],\n",
       " \n",
       "         [[ 1.36675537e-01, -2.34109759e-01,  5.34566268e-02, ...,\n",
       "            1.34850678e-03, -1.53797179e-01,  9.18395817e-02],\n",
       "          [-6.03762679e-02,  8.45961049e-02,  6.61743581e-02, ...,\n",
       "            5.69419414e-02, -2.02542648e-01, -8.43857303e-02],\n",
       "          [-1.13623329e-02,  1.17263608e-01,  1.22765288e-01, ...,\n",
       "           -4.87198420e-02, -1.58469051e-01, -3.93467247e-02],\n",
       "          ...,\n",
       "          [-9.05098468e-02,  1.18047282e-01,  1.10679120e-02, ...,\n",
       "            1.42465606e-02, -1.16493039e-01,  3.37086022e-02],\n",
       "          [ 1.01180650e-01,  1.73494563e-01, -6.90468922e-02, ...,\n",
       "           -1.64429978e-01, -9.93504152e-02, -8.78636837e-02],\n",
       "          [-1.05646290e-01,  1.09557793e-01,  3.99874523e-02, ...,\n",
       "            1.56409606e-01,  7.03076571e-02,  1.33366110e-02]],\n",
       " \n",
       "         [[ 1.48303099e-02, -1.17148682e-02,  1.59047842e-01, ...,\n",
       "           -3.00777927e-02, -2.56438367e-02, -4.35777865e-02],\n",
       "          [-6.59865364e-02,  3.18564512e-02,  9.82828066e-02, ...,\n",
       "            7.27161393e-02, -3.39833856e-01, -1.07134536e-01],\n",
       "          [-1.54264510e-01, -1.25718275e-02, -5.58725744e-03, ...,\n",
       "            1.26983166e-01, -3.03160906e-01,  6.19141161e-02],\n",
       "          ...,\n",
       "          [ 8.09661373e-02, -2.71727622e-01, -5.38768247e-02, ...,\n",
       "            8.84754863e-03, -2.24649429e-01,  2.05873940e-02],\n",
       "          [-2.40952577e-02, -3.69997948e-01,  7.85595700e-02, ...,\n",
       "           -2.08911017e-01, -5.44176579e-01, -1.07405977e-02],\n",
       "          [ 1.51831821e-01,  6.58360898e-01,  1.23724401e-01, ...,\n",
       "            1.49162233e-01,  1.33366421e-01, -9.66162607e-03]]],\n",
       " \n",
       " \n",
       "        [[[ 1.05866175e-02, -2.94176601e-02, -2.44267974e-02, ...,\n",
       "           -1.50912255e-01,  1.76972412e-02,  9.07617733e-02],\n",
       "          [ 2.55954508e-02, -9.81694087e-02, -2.77403295e-02, ...,\n",
       "           -1.46915868e-01, -5.56221455e-02, -4.75802422e-02],\n",
       "          [-5.87078035e-02,  4.12399089e-03, -1.65868506e-01, ...,\n",
       "           -1.50663957e-01,  1.16895340e-01, -4.74221248e-04],\n",
       "          ...,\n",
       "          [-2.55744234e-02,  2.04996485e-02, -9.98507068e-02, ...,\n",
       "           -2.69690663e-01, -1.23448491e-01, -1.19830221e-01],\n",
       "          [ 4.66008820e-02, -1.06133753e-02, -2.87193190e-02, ...,\n",
       "           -2.37144068e-01,  3.14049795e-02,  8.51321034e-03],\n",
       "          [-1.33127302e-01, -2.27729827e-02,  2.17745230e-02, ...,\n",
       "            6.05622865e-02, -4.09670100e-02, -1.14299230e-01]],\n",
       " \n",
       "         [[ 7.26698637e-02, -2.20955294e-02,  2.76113357e-02, ...,\n",
       "            1.25898600e-01, -1.07166752e-01, -6.10056706e-02],\n",
       "          [-1.10117316e-01,  5.44097275e-02, -9.76065844e-02, ...,\n",
       "           -5.34543917e-02, -1.03641925e-02, -4.89470549e-02],\n",
       "          [-1.05817847e-01, -5.54989204e-02,  6.02882840e-02, ...,\n",
       "            1.43506750e-01,  1.08435929e-01, -1.09365068e-01],\n",
       "          ...,\n",
       "          [ 1.15197636e-01, -8.46928284e-02, -4.95520830e-02, ...,\n",
       "            4.06757258e-02, -3.83928418e-02, -1.25434428e-01],\n",
       "          [-1.78680178e-02, -2.64596008e-02, -1.14663504e-01, ...,\n",
       "           -2.45106310e-01, -1.17687225e-01, -4.96466830e-02],\n",
       "          [ 5.95109239e-02, -8.53834450e-02,  6.89746113e-03, ...,\n",
       "           -9.94872861e-03, -2.73427106e-02, -1.25636369e-01]],\n",
       " \n",
       "         [[-1.51737006e-02, -8.24737325e-02, -1.18140317e-01, ...,\n",
       "            9.81934965e-02, -3.59819569e-02, -1.22399285e-01],\n",
       "          [ 7.59423003e-02, -1.00843824e-01, -3.23125511e-01, ...,\n",
       "            5.32122552e-02,  1.47063866e-01, -1.30830452e-01],\n",
       "          [ 1.42537719e-02,  1.66755781e-01, -1.75354421e-01, ...,\n",
       "           -1.22781478e-01,  1.39105484e-01, -4.15144749e-02],\n",
       "          ...,\n",
       "          [-4.58115898e-02,  2.30257273e-01, -3.33169162e-01, ...,\n",
       "            9.37177166e-02,  7.96520188e-02, -1.32603109e-01],\n",
       "          [-5.79528324e-02,  1.90140918e-01, -1.93410560e-01, ...,\n",
       "           -1.26251787e-01,  7.95023143e-03, -1.63337409e-01],\n",
       "          [ 3.03369939e-01, -1.65330879e-02,  2.38842607e-01, ...,\n",
       "            1.67089194e-01,  1.32480469e-02, -3.80490869e-01]]],\n",
       " \n",
       " \n",
       "        [[[-4.20212448e-02,  9.04842541e-02, -4.67083156e-02, ...,\n",
       "           -7.74877742e-02, -4.53032181e-02,  4.15649638e-02],\n",
       "          [-1.17117144e-01, -2.34212466e-02,  4.24078703e-02, ...,\n",
       "           -1.18813813e-01, -7.35062435e-02,  5.99902458e-02],\n",
       "          [-1.02639617e-02,  4.52043563e-02,  4.78738956e-02, ...,\n",
       "           -2.12087050e-01, -2.85060350e-02,  2.33971402e-02],\n",
       "          ...,\n",
       "          [-5.47250211e-02, -1.78731978e-02, -1.10593311e-01, ...,\n",
       "           -1.47889122e-01,  3.64413038e-02,  5.20065725e-02],\n",
       "          [-3.95232020e-03,  3.67985629e-02,  8.65883306e-02, ...,\n",
       "           -1.70709580e-01, -1.41153514e-01,  1.80305764e-01],\n",
       "          [-1.14778392e-01, -1.37940481e-01,  8.39222893e-02, ...,\n",
       "           -2.13073343e-02, -6.19370975e-02, -2.25874886e-01]],\n",
       " \n",
       "         [[ 1.19069740e-01,  4.96578626e-02, -1.56452820e-01, ...,\n",
       "           -6.04036935e-02,  1.14327885e-01,  8.59276056e-02],\n",
       "          [-3.98561396e-02, -7.57486224e-02, -1.29165709e-01, ...,\n",
       "            1.36903614e-01, -2.39942968e-01,  1.62402585e-01],\n",
       "          [ 5.80078289e-02, -2.90869344e-02, -2.34384742e-02, ...,\n",
       "           -3.03304810e-02,  1.03267752e-01,  1.97082892e-01],\n",
       "          ...,\n",
       "          [ 2.64265448e-01,  1.41511690e-02, -1.46854341e-01, ...,\n",
       "           -6.14215732e-02, -5.58819212e-02, -4.96803857e-02],\n",
       "          [ 4.81488556e-02, -6.06890544e-02, -1.31575555e-01, ...,\n",
       "           -1.50536343e-01, -8.97510424e-02,  7.23998919e-02],\n",
       "          [ 5.69978841e-02, -7.87697360e-02,  2.37787310e-02, ...,\n",
       "           -1.91673916e-02, -2.32920453e-01,  1.02570467e-01]],\n",
       " \n",
       "         [[ 1.19118646e-01, -1.37257725e-01, -2.78016161e-02, ...,\n",
       "            8.59126896e-02,  2.00944487e-02,  1.28463209e-01],\n",
       "          [-1.48492754e-01, -1.86383292e-01, -1.82192847e-01, ...,\n",
       "            3.32135558e-02, -2.45404497e-01,  2.44142592e-01],\n",
       "          [ 1.19976826e-01,  1.42206047e-02, -1.08060159e-01, ...,\n",
       "            1.05988637e-01, -7.83664957e-02,  8.77888054e-02],\n",
       "          ...,\n",
       "          [-3.63373578e-01, -3.41114029e-02,  8.78122672e-02, ...,\n",
       "           -2.19292343e-02, -1.27973348e-01,  2.64583558e-01],\n",
       "          [-3.73252064e-01, -1.39354423e-01, -6.75952062e-02, ...,\n",
       "           -1.86299011e-02, -1.66794881e-01,  2.24722713e-01],\n",
       "          [ 4.49661106e-01, -3.17972213e-01,  2.46655401e-02, ...,\n",
       "            2.31853332e-02, -2.65864283e-01, -4.98658279e-03]]]],\n",
       "       dtype=float32)>,\n",
       " <tf.Variable 'conv2d_1/bias:0' shape=(32,) dtype=float32, numpy=\n",
       " array([-2.17766672e-01, -2.72657543e-01, -3.64538074e-01, -5.18615544e-01,\n",
       "        -3.59667778e-01, -3.78351063e-01, -3.51377696e-01, -4.69340891e-01,\n",
       "        -4.57446903e-01, -5.40575922e-01, -1.46814615e-01, -4.77172732e-01,\n",
       "        -2.30439037e-01, -3.57681662e-01, -4.71305311e-01, -1.20865464e-01,\n",
       "        -4.24160768e-04, -2.25851238e-01, -3.74262542e-01, -3.04784536e-01,\n",
       "        -4.12697703e-01, -1.50379896e-01, -3.07923824e-01, -3.64629716e-01,\n",
       "        -4.97144073e-01, -1.44659296e-01, -5.66126466e-01, -3.26842785e-01,\n",
       "        -3.72405052e-01, -3.60640019e-01, -6.81765497e-01, -1.28210619e-01],\n",
       "       dtype=float32)>]"
      ]
     },
     "execution_count": 54,
     "metadata": {},
     "output_type": "execute_result"
    }
   ],
   "source": [
    "new_model.get_layer(index=trainlayer_id).weights"
   ]
  },
  {
   "cell_type": "code",
   "execution_count": 55,
   "metadata": {},
   "outputs": [
    {
     "data": {
      "text/plain": [
       "[<tf.Variable 'conv2d_1/kernel:0' shape=(3, 3, 16, 32) dtype=float32, numpy=\n",
       " array([[[[ 9.07631591e-02, -3.19922380e-02, -4.77032773e-02, ...,\n",
       "           -2.36007366e-02,  8.31030484e-04, -3.91094610e-02],\n",
       "          [ 7.21316934e-02,  8.86637941e-02,  2.93809525e-03, ...,\n",
       "            2.99301445e-02,  3.42226475e-02, -8.69142711e-02],\n",
       "          [-5.93987405e-02,  1.57524914e-01,  4.77614952e-03, ...,\n",
       "           -4.04333323e-02, -1.14511773e-01,  1.29802585e-01],\n",
       "          ...,\n",
       "          [ 1.06034517e-01, -4.32430618e-02,  1.36167686e-02, ...,\n",
       "           -8.22973326e-02, -4.84052747e-02,  2.20276508e-02],\n",
       "          [ 1.29595203e-02,  1.33650705e-01, -5.58329858e-02, ...,\n",
       "            6.76471293e-02, -6.02976531e-02, -5.72275072e-02],\n",
       "          [-9.33125913e-02, -4.44712788e-02, -1.51101826e-02, ...,\n",
       "            1.95797719e-02,  4.46985960e-02,  4.97241169e-02]],\n",
       " \n",
       "         [[ 1.36675537e-01, -2.34109759e-01,  5.34566268e-02, ...,\n",
       "            1.34850678e-03, -1.53797179e-01,  9.18395817e-02],\n",
       "          [-6.03762679e-02,  8.45961049e-02,  6.61743581e-02, ...,\n",
       "            5.69419414e-02, -2.02542648e-01, -8.43857303e-02],\n",
       "          [-1.13623329e-02,  1.17263608e-01,  1.22765288e-01, ...,\n",
       "           -4.87198420e-02, -1.58469051e-01, -3.93467247e-02],\n",
       "          ...,\n",
       "          [-9.05098468e-02,  1.18047282e-01,  1.10679120e-02, ...,\n",
       "            1.42465606e-02, -1.16493039e-01,  3.37086022e-02],\n",
       "          [ 1.01180650e-01,  1.73494563e-01, -6.90468922e-02, ...,\n",
       "           -1.64429978e-01, -9.93504152e-02, -8.78636837e-02],\n",
       "          [-1.05646290e-01,  1.09557793e-01,  3.99874523e-02, ...,\n",
       "            1.56409606e-01,  7.03076571e-02,  1.33366110e-02]],\n",
       " \n",
       "         [[ 1.48303099e-02, -1.17148682e-02,  1.59047842e-01, ...,\n",
       "           -3.00777927e-02, -2.56438367e-02, -4.35777865e-02],\n",
       "          [-6.59865364e-02,  3.18564512e-02,  9.82828066e-02, ...,\n",
       "            7.27161393e-02, -3.39833856e-01, -1.07134536e-01],\n",
       "          [-1.54264510e-01, -1.25718275e-02, -5.58725744e-03, ...,\n",
       "            1.26983166e-01, -3.03160906e-01,  6.19141161e-02],\n",
       "          ...,\n",
       "          [ 8.09661373e-02, -2.71727622e-01, -5.38768247e-02, ...,\n",
       "            8.84754863e-03, -2.24649429e-01,  2.05873940e-02],\n",
       "          [-2.40952577e-02, -3.69997948e-01,  7.85595700e-02, ...,\n",
       "           -2.08911017e-01, -5.44176579e-01, -1.07405977e-02],\n",
       "          [ 1.51831821e-01,  6.58360898e-01,  1.23724401e-01, ...,\n",
       "            1.49162233e-01,  1.33366421e-01, -9.66162607e-03]]],\n",
       " \n",
       " \n",
       "        [[[ 1.05866175e-02, -2.94176601e-02, -2.44267974e-02, ...,\n",
       "           -1.50912255e-01,  1.76972412e-02,  9.07617733e-02],\n",
       "          [ 2.55954508e-02, -9.81694087e-02, -2.77403295e-02, ...,\n",
       "           -1.46915868e-01, -5.56221455e-02, -4.75802422e-02],\n",
       "          [-5.87078035e-02,  4.12399089e-03, -1.65868506e-01, ...,\n",
       "           -1.50663957e-01,  1.16895340e-01, -4.74221248e-04],\n",
       "          ...,\n",
       "          [-2.55744234e-02,  2.04996485e-02, -9.98507068e-02, ...,\n",
       "           -2.69690663e-01, -1.23448491e-01, -1.19830221e-01],\n",
       "          [ 4.66008820e-02, -1.06133753e-02, -2.87193190e-02, ...,\n",
       "           -2.37144068e-01,  3.14049795e-02,  8.51321034e-03],\n",
       "          [-1.33127302e-01, -2.27729827e-02,  2.17745230e-02, ...,\n",
       "            6.05622865e-02, -4.09670100e-02, -1.14299230e-01]],\n",
       " \n",
       "         [[ 7.26698637e-02, -2.20955294e-02,  2.76113357e-02, ...,\n",
       "            1.25898600e-01, -1.07166752e-01, -6.10056706e-02],\n",
       "          [-1.10117316e-01,  5.44097275e-02, -9.76065844e-02, ...,\n",
       "           -5.34543917e-02, -1.03641925e-02, -4.89470549e-02],\n",
       "          [-1.05817847e-01, -5.54989204e-02,  6.02882840e-02, ...,\n",
       "            1.43506750e-01,  1.08435929e-01, -1.09365068e-01],\n",
       "          ...,\n",
       "          [ 1.15197636e-01, -8.46928284e-02, -4.95520830e-02, ...,\n",
       "            4.06757258e-02, -3.83928418e-02, -1.25434428e-01],\n",
       "          [-1.78680178e-02, -2.64596008e-02, -1.14663504e-01, ...,\n",
       "           -2.45106310e-01, -1.17687225e-01, -4.96466830e-02],\n",
       "          [ 5.95109239e-02, -8.53834450e-02,  6.89746113e-03, ...,\n",
       "           -9.94872861e-03, -2.73427106e-02, -1.25636369e-01]],\n",
       " \n",
       "         [[-1.51737006e-02, -8.24737325e-02, -1.18140317e-01, ...,\n",
       "            9.81934965e-02, -3.59819569e-02, -1.22399285e-01],\n",
       "          [ 7.59423003e-02, -1.00843824e-01, -3.23125511e-01, ...,\n",
       "            5.32122552e-02,  1.47063866e-01, -1.30830452e-01],\n",
       "          [ 1.42537719e-02,  1.66755781e-01, -1.75354421e-01, ...,\n",
       "           -1.22781478e-01,  1.39105484e-01, -4.15144749e-02],\n",
       "          ...,\n",
       "          [-4.58115898e-02,  2.30257273e-01, -3.33169162e-01, ...,\n",
       "            9.37177166e-02,  7.96520188e-02, -1.32603109e-01],\n",
       "          [-5.79528324e-02,  1.90140918e-01, -1.93410560e-01, ...,\n",
       "           -1.26251787e-01,  7.95023143e-03, -1.63337409e-01],\n",
       "          [ 3.03369939e-01, -1.65330879e-02,  2.38842607e-01, ...,\n",
       "            1.67089194e-01,  1.32480469e-02, -3.80490869e-01]]],\n",
       " \n",
       " \n",
       "        [[[-4.20212448e-02,  9.04842541e-02, -4.67083156e-02, ...,\n",
       "           -7.74877742e-02, -4.53032181e-02,  4.15649638e-02],\n",
       "          [-1.17117144e-01, -2.34212466e-02,  4.24078703e-02, ...,\n",
       "           -1.18813813e-01, -7.35062435e-02,  5.99902458e-02],\n",
       "          [-1.02639617e-02,  4.52043563e-02,  4.78738956e-02, ...,\n",
       "           -2.12087050e-01, -2.85060350e-02,  2.33971402e-02],\n",
       "          ...,\n",
       "          [-5.47250211e-02, -1.78731978e-02, -1.10593311e-01, ...,\n",
       "           -1.47889122e-01,  3.64413038e-02,  5.20065725e-02],\n",
       "          [-3.95232020e-03,  3.67985629e-02,  8.65883306e-02, ...,\n",
       "           -1.70709580e-01, -1.41153514e-01,  1.80305764e-01],\n",
       "          [-1.14778392e-01, -1.37940481e-01,  8.39222893e-02, ...,\n",
       "           -2.13073343e-02, -6.19370975e-02, -2.25874886e-01]],\n",
       " \n",
       "         [[ 1.19069740e-01,  4.96578626e-02, -1.56452820e-01, ...,\n",
       "           -6.04036935e-02,  1.14327885e-01,  8.59276056e-02],\n",
       "          [-3.98561396e-02, -7.57486224e-02, -1.29165709e-01, ...,\n",
       "            1.36903614e-01, -2.39942968e-01,  1.62402585e-01],\n",
       "          [ 5.80078289e-02, -2.90869344e-02, -2.34384742e-02, ...,\n",
       "           -3.03304810e-02,  1.03267752e-01,  1.97082892e-01],\n",
       "          ...,\n",
       "          [ 2.64265448e-01,  1.41511690e-02, -1.46854341e-01, ...,\n",
       "           -6.14215732e-02, -5.58819212e-02, -4.96803857e-02],\n",
       "          [ 4.81488556e-02, -6.06890544e-02, -1.31575555e-01, ...,\n",
       "           -1.50536343e-01, -8.97510424e-02,  7.23998919e-02],\n",
       "          [ 5.69978841e-02, -7.87697360e-02,  2.37787310e-02, ...,\n",
       "           -1.91673916e-02, -2.32920453e-01,  1.02570467e-01]],\n",
       " \n",
       "         [[ 1.19118646e-01, -1.37257725e-01, -2.78016161e-02, ...,\n",
       "            8.59126896e-02,  2.00944487e-02,  1.28463209e-01],\n",
       "          [-1.48492754e-01, -1.86383292e-01, -1.82192847e-01, ...,\n",
       "            3.32135558e-02, -2.45404497e-01,  2.44142592e-01],\n",
       "          [ 1.19976826e-01,  1.42206047e-02, -1.08060159e-01, ...,\n",
       "            1.05988637e-01, -7.83664957e-02,  8.77888054e-02],\n",
       "          ...,\n",
       "          [-3.63373578e-01, -3.41114029e-02,  8.78122672e-02, ...,\n",
       "           -2.19292343e-02, -1.27973348e-01,  2.64583558e-01],\n",
       "          [-3.73252064e-01, -1.39354423e-01, -6.75952062e-02, ...,\n",
       "           -1.86299011e-02, -1.66794881e-01,  2.24722713e-01],\n",
       "          [ 4.49661106e-01, -3.17972213e-01,  2.46655401e-02, ...,\n",
       "            2.31853332e-02, -2.65864283e-01, -4.98658279e-03]]]],\n",
       "       dtype=float32)>,\n",
       " <tf.Variable 'conv2d_1/bias:0' shape=(32,) dtype=float32, numpy=\n",
       " array([-2.17766672e-01, -2.72657543e-01, -3.64538074e-01, -5.18615544e-01,\n",
       "        -3.59667778e-01, -3.78351063e-01, -3.51377696e-01, -4.69340891e-01,\n",
       "        -4.57446903e-01, -5.40575922e-01, -1.46814615e-01, -4.77172732e-01,\n",
       "        -2.30439037e-01, -3.57681662e-01, -4.71305311e-01, -1.20865464e-01,\n",
       "        -4.24160768e-04, -2.25851238e-01, -3.74262542e-01, -3.04784536e-01,\n",
       "        -4.12697703e-01, -1.50379896e-01, -3.07923824e-01, -3.64629716e-01,\n",
       "        -4.97144073e-01, -1.44659296e-01, -5.66126466e-01, -3.26842785e-01,\n",
       "        -3.72405052e-01, -3.60640019e-01, -6.81765497e-01, -1.28210619e-01],\n",
       "       dtype=float32)>]"
      ]
     },
     "execution_count": 55,
     "metadata": {},
     "output_type": "execute_result"
    }
   ],
   "source": [
    "# DEBUG: to Delete\n",
    "conv_denoising_ae_clone.layers[0].get_layer(index=trainlayer_id).weights"
   ]
  },
  {
   "cell_type": "code",
   "execution_count": 56,
   "metadata": {},
   "outputs": [
    {
     "name": "stdout",
     "output_type": "stream",
     "text": [
      "INFO:tensorflow:Assets written to: class_net_01\\assets\n"
     ]
    }
   ],
   "source": [
    "new_model.save('class_net_01')"
   ]
  },
  {
   "cell_type": "markdown",
   "metadata": {},
   "source": [
    "## Creating Training Data for Unsupervised Pre-Training Model\n",
    "In this part 500 datarow sets will be created for training a normal backpropagation model based on the unsupervised pre-trained model.\n",
    "\n",
    "Additionally the remaining datarows will be used for testing the models accuracy."
   ]
  },
  {
   "cell_type": "code",
   "execution_count": 57,
   "metadata": {},
   "outputs": [
    {
     "data": {
      "text/plain": [
       "(500, 28, 28, 1)"
      ]
     },
     "execution_count": 57,
     "metadata": {},
     "output_type": "execute_result"
    }
   ],
   "source": [
    "X_train_resh_ch[:500].shape\n"
   ]
  },
  {
   "cell_type": "code",
   "execution_count": 58,
   "metadata": {},
   "outputs": [
    {
     "data": {
      "text/plain": [
       "(13360, 28, 28, 1)"
      ]
     },
     "execution_count": 58,
     "metadata": {},
     "output_type": "execute_result"
    }
   ],
   "source": [
    "X_valid_resh_ch[500:].shape"
   ]
  },
  {
   "cell_type": "code",
   "execution_count": 59,
   "metadata": {},
   "outputs": [],
   "source": [
    "#DEBUG TODO: Using the reshape_conv_image function here or better the already converted dataframe set.\n",
    "\n",
    "X_train_pret_resh_500 = X_train_resh_ch[:500]\n",
    "X_valid_pret_resh_500 = X_valid_resh_ch[:500]\n",
    "\n",
    "X_valid_pret_resh_r = X_valid_resh_ch[500:]   # Choosing the last 500 digits for testing unknown, untrained data\n",
    "\n",
    "#X_train_pretrained_500 = X_train_resh[:500]\n",
    "#X_valid_pretrained_500 = X_valid_resh[:500]\n",
    "\n",
    "y_train_pretrained_500 = y_train_resh[:500]\n",
    "y_valid_pretrained_500 = y_valid_resh[:500]\n",
    "\n",
    "y_valid_pretrained_r = y_valid_resh[500:]\n",
    "\n",
    "\n",
    "# reshaping for conv model structure (batchsize, pixel h, pixel w, channel)\n",
    "#X_train_pret_resh_500 = X_train_pretrained_500.reshape(X_train_pretrained_500.shape[0],X_train_pretrained_500.shape[1], X_train_pretrained_500.shape[2], 1)\n",
    "#X_valid_pret_resh_500 = X_valid_pretrained_500.reshape(X_valid_pretrained_500.shape[0],X_valid_pretrained_500.shape[1], X_valid_pretrained_500.shape[2], 1)\n",
    "\n"
   ]
  },
  {
   "cell_type": "code",
   "execution_count": 61,
   "metadata": {},
   "outputs": [
    {
     "data": {
      "image/png": "[encoded data removed]",
      "text/plain": [
       "<Figure size 432x288 with 1 Axes>"
      ]
     },
     "metadata": {
      "needs_background": "light"
     },
     "output_type": "display_data"
    }
   ],
   "source": [
    "plot_image(X_train_pret_resh_500[499])"
   ]
  },
  {
   "cell_type": "code",
   "execution_count": 62,
   "metadata": {},
   "outputs": [],
   "source": [
    "root_logdir = \"../../tensorboard-logs\"\n",
    "\n",
    "def get_run_logdir(root_logdir, project):\n",
    "    '''\n",
    "    Returns logdir to the Tensorboard log for a specific project.\n",
    "\n",
    "            Parameters:\n",
    "                    root_logdir (str) : basic logdir from Tensorboard\n",
    "                    project (str): projectname that will be logged in TB\n",
    "\n",
    "            Returns:\n",
    "                    os.path (str): Path to the final logdir\n",
    "    '''\n",
    "    import time\n",
    "    run_id = time.strftime(\"run_%Y_%m_%d-%H_%M_%S\")\n",
    "    project_logdir = os.path.join(root_logdir,project)\n",
    "    return os.path.join(project_logdir, run_id)\n",
    "\n",
    "\n",
    "tensorboard_callback = tf.keras.callbacks.TensorBoard(log_dir=get_run_logdir(root_logdir,\"autoencoding_mnist\"), histogram_freq=1)\n"
   ]
  },
  {
   "cell_type": "code",
   "execution_count": 63,
   "metadata": {},
   "outputs": [
    {
     "name": "stdout",
     "output_type": "stream",
     "text": [
      "Epoch 1/20\n",
      " 1/16 [>.............................] - ETA: 0s - loss: 6.4475 - accuracy: 0.0312WARNING:tensorflow:From D:\\anaconda3\\envs\\wingpuflake_keras\\lib\\site-packages\\tensorflow\\python\\ops\\summary_ops_v2.py:1277: stop (from tensorflow.python.eager.profiler) is deprecated and will be removed after 2020-07-01.\n",
      "Instructions for updating:\n",
      "use `tf.profiler.experimental.stop` instead.\n",
      "WARNING:tensorflow:Callbacks method `on_train_batch_end` is slow compared to the batch time (batch time: 0.0035s vs `on_train_batch_end` time: 0.0245s). Check your callbacks.\n",
      "16/16 [==============================] - 0s 13ms/step - loss: 4.1023 - accuracy: 0.1200 - val_loss: 2.6894 - val_accuracy: 0.1720\n",
      "Epoch 2/20\n",
      "16/16 [==============================] - 0s 6ms/step - loss: 2.2778 - accuracy: 0.2640 - val_loss: 1.7826 - val_accuracy: 0.4280\n",
      "Epoch 3/20\n",
      "16/16 [==============================] - 0s 6ms/step - loss: 1.5390 - accuracy: 0.4700 - val_loss: 1.2647 - val_accuracy: 0.6100\n",
      "Epoch 4/20\n",
      "16/16 [==============================] - 0s 5ms/step - loss: 1.1160 - accuracy: 0.6060 - val_loss: 0.9891 - val_accuracy: 0.7000\n",
      "Epoch 5/20\n",
      "16/16 [==============================] - 0s 6ms/step - loss: 0.8478 - accuracy: 0.7140 - val_loss: 0.8358 - val_accuracy: 0.7400\n",
      "Epoch 6/20\n",
      "16/16 [==============================] - 0s 6ms/step - loss: 0.6861 - accuracy: 0.7800 - val_loss: 0.7285 - val_accuracy: 0.7840\n",
      "Epoch 7/20\n",
      "16/16 [==============================] - 0s 5ms/step - loss: 0.5891 - accuracy: 0.8220 - val_loss: 0.6420 - val_accuracy: 0.8140\n",
      "Epoch 8/20\n",
      "16/16 [==============================] - 0s 6ms/step - loss: 0.4920 - accuracy: 0.8620 - val_loss: 0.5916 - val_accuracy: 0.8200\n",
      "Epoch 9/20\n",
      "16/16 [==============================] - 0s 6ms/step - loss: 0.4366 - accuracy: 0.8760 - val_loss: 0.5590 - val_accuracy: 0.8300\n",
      "Epoch 10/20\n",
      "16/16 [==============================] - 0s 6ms/step - loss: 0.3981 - accuracy: 0.8940 - val_loss: 0.5310 - val_accuracy: 0.8500\n",
      "Epoch 11/20\n",
      "16/16 [==============================] - 0s 5ms/step - loss: 0.3529 - accuracy: 0.8940 - val_loss: 0.5094 - val_accuracy: 0.8520\n",
      "Epoch 12/20\n",
      "16/16 [==============================] - 0s 5ms/step - loss: 0.3200 - accuracy: 0.9140 - val_loss: 0.4890 - val_accuracy: 0.8560\n",
      "Epoch 13/20\n",
      "16/16 [==============================] - 0s 5ms/step - loss: 0.2917 - accuracy: 0.9320 - val_loss: 0.4633 - val_accuracy: 0.8700\n",
      "Epoch 14/20\n",
      "16/16 [==============================] - 0s 5ms/step - loss: 0.2659 - accuracy: 0.9400 - val_loss: 0.4494 - val_accuracy: 0.8760\n",
      "Epoch 15/20\n",
      "16/16 [==============================] - 0s 5ms/step - loss: 0.2521 - accuracy: 0.9420 - val_loss: 0.4355 - val_accuracy: 0.8820\n",
      "Epoch 16/20\n",
      "16/16 [==============================] - 0s 5ms/step - loss: 0.2271 - accuracy: 0.9440 - val_loss: 0.4247 - val_accuracy: 0.8760\n",
      "Epoch 17/20\n",
      "16/16 [==============================] - 0s 5ms/step - loss: 0.2104 - accuracy: 0.9540 - val_loss: 0.4208 - val_accuracy: 0.8840\n",
      "Epoch 18/20\n",
      "16/16 [==============================] - 0s 5ms/step - loss: 0.1929 - accuracy: 0.9540 - val_loss: 0.4062 - val_accuracy: 0.8840\n",
      "Epoch 19/20\n",
      "16/16 [==============================] - 0s 5ms/step - loss: 0.1816 - accuracy: 0.9580 - val_loss: 0.4053 - val_accuracy: 0.8880\n",
      "Epoch 20/20\n",
      "16/16 [==============================] - 0s 5ms/step - loss: 0.1697 - accuracy: 0.9720 - val_loss: 0.3921 - val_accuracy: 0.8880\n"
     ]
    }
   ],
   "source": [
    "history_pretrainted = new_model.fit(X_train_pret_resh_500,y_train_pretrained_500 ,epochs=20, \\\n",
    "                                        validation_data=(X_valid_pret_resh_500,y_valid_pretrained_500), \\\n",
    "                                        callbacks=tensorboard_callback\n",
    "                                    )\n"
   ]
  },
  {
   "cell_type": "markdown",
   "metadata": {},
   "source": [
    "### Loss Plotting"
   ]
  },
  {
   "cell_type": "code",
   "execution_count": 64,
   "metadata": {},
   "outputs": [
    {
     "data": {
      "text/plain": [
       "[<matplotlib.lines.Line2D at 0x261801dcc70>]"
      ]
     },
     "execution_count": 64,
     "metadata": {},
     "output_type": "execute_result"
    },
    {
     "data": {
      "image/png": "[encoded data removed]",
      "text/plain": [
       "<Figure size 432x288 with 1 Axes>"
      ]
     },
     "metadata": {
      "needs_background": "light"
     },
     "output_type": "display_data"
    }
   ],
   "source": [
    "plt.plot(history_pretrainted.history['loss'])\n",
    "plt.plot(history_pretrainted.history['val_loss'])"
   ]
  },
  {
   "cell_type": "markdown",
   "metadata": {},
   "source": [
    "## Predicting the Digits on a Pre-Trained Autoencoder based Model\n",
    "\n",
    "The prediction test on unseen data with the pre-trained autoencoder based model will be used with the validation dataset. The model is trained on the first 500 digits from the train set and validated by the first 500 digits on the validation set. There are still enough data in the validation set (and in the train dataset but it sounds better to use the validation set for) to test the model with unseen data (in total 13.360 digits).\n",
    "\n",
    "First there is a visualized test, where the test digit and its prediction will be printed."
   ]
  },
  {
   "cell_type": "code",
   "execution_count": 65,
   "metadata": {},
   "outputs": [
    {
     "data": {
      "image/png": "[encoded data removed]",
      "text/plain": [
       "<Figure size 432x288 with 1 Axes>"
      ]
     },
     "metadata": {
      "needs_background": "light"
     },
     "output_type": "display_data"
    }
   ],
   "source": [
    "idx_testnumber_cls_ae = 8      # Index of test number for the next plottings \n",
    "plot_image(X_valid_pret_resh_r[idx_testnumber_cls_ae])"
   ]
  },
  {
   "cell_type": "code",
   "execution_count": 66,
   "metadata": {},
   "outputs": [
    {
     "name": "stdout",
     "output_type": "stream",
     "text": [
      "Prediction based on the picture above: 6\n",
      "Probability of the Prediction: [[1.6106494e-03 1.7411570e-01 8.1677791e-03 3.9541041e-03 9.1888852e-02\n",
      "  2.6036915e-03 6.9009292e-01 1.5061849e-04 4.7319308e-03 2.2683796e-02]]\n"
     ]
    }
   ],
   "source": [
    "print(f\"Prediction based on the picture above: {np.argmax(new_model.predict(X_valid_pret_resh_r[np.newaxis, idx_testnumber_cls_ae]))}\")\n",
    "print(f\"Probability of the Prediction: {new_model.predict(X_valid_pret_resh_r[np.newaxis, idx_testnumber_cls_ae])}\")\n"
   ]
  },
  {
   "cell_type": "markdown",
   "metadata": {},
   "source": [
    "Following will be determine the accuracy on the remaining validation dataset of 13.360 digits and shows the overall accuracy of the model after pre-training and classification training."
   ]
  },
  {
   "cell_type": "code",
   "execution_count": 67,
   "metadata": {},
   "outputs": [],
   "source": [
    "y_val_pred_r = new_model.predict(X_valid_pret_resh_r)\n",
    "y_val_pred_r = y_val_pred_r.argmax(axis = 1)[:,None]"
   ]
  },
  {
   "cell_type": "code",
   "execution_count": 68,
   "metadata": {},
   "outputs": [
    {
     "name": "stdout",
     "output_type": "stream",
     "text": [
      "Unsupervised pre-trained model, trained on 500 digits, predicting 13360 digit with only 20 epochs trained with an accuracy of: 0.8820359281437126\n"
     ]
    }
   ],
   "source": [
    "from sklearn.metrics import accuracy_score\n",
    "acc_score_val = accuracy_score(y_valid_pretrained_r, y_val_pred_r)\n",
    "\n",
    "print(f\"Unsupervised pre-trained model, trained on 500 digits, predicting {y_val_pred_r.shape[0]:} digit with only 20 epochs trained with an accuracy of: {acc_score_val}\")"
   ]
  },
  {
   "cell_type": "code",
   "execution_count": null,
   "metadata": {},
   "outputs": [],
   "source": []
  }
 ],
 "metadata": {
  "interpreter": {
   "hash": "2b49f70aa2f17b03439dc8f4bbaf601f728142d0d0d774f4bbd10ea7a16b86ea"
  },
  "kernelspec": {
   "display_name": "Python 3.8.0 64-bit ('wingpuflake_keras': conda)",
   "language": "python",
   "name": "python3"
  },
  "language_info": {
   "codemirror_mode": {
    "name": "ipython",
    "version": 3
   },
   "file_extension": ".py",
   "mimetype": "text/x-python",
   "name": "python",
   "nbconvert_exporter": "python",
   "pygments_lexer": "ipython3",
   "version": "3.8.0"
  },
  "orig_nbformat": 4
 },
 "nbformat": 4,
 "nbformat_minor": 2
}
