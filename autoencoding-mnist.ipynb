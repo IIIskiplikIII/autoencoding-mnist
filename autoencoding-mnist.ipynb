{
 "cells": [
  {
   "cell_type": "markdown",
   "metadata": {},
   "source": [
    "# Introduction\n",
    "This notebook will handle a denoising autoencoder on the MNIST-dataset.\n",
    "\n",
    "The specifics of autoencoding are in the fact that there is no label needed to predict as it is known in common deep-learning architecture. Under this particular architecture, the goal is to \"predict\" its given input values (the features). Therefore we better say \"reconstruct\" instead of \"predict\". The model is forced to reconstruct the the given features, this is implemented through three major changes to the traditional NN structure:\n",
    "1. Building the model out of two seperate models (encoder and decorder).\n",
    "2. Reducing the given information in the middle of the network (codings).\n",
    "3. Using the features as label values as well (prediction value is the input).\n",
    "\n",
    "You will find these structures as well as two variations of denoising autoencoders in this notebook, one with a simple deep neural network (Deep Denoising Autoencoder) and a dropout layer and another one (Convolutional Denoising Autoencoder) with convolution layers and a GaussianNoise creation.\n",
    "\n",
    "## My other Projects\n",
    "If you are interested in some more clearly analysis of the dataset, take a look into my other notebooks about the MNIS-dataset:\n",
    "\n",
    "- cnn-for-digit-recognition-MNIST (accuracy score: 0.99135):\n",
    "    - https://www.kaggle.com/skiplik/cnn-for-digit-recognition-mnist \n",
    "- Finetuning Hyperparameters in Deep Neural Network:\n",
    "    - https://www.kaggle.com/skiplik/finetuning-hyperparameters-in-deep-neural-network\n",
    "- Digit Recognition with a Deep Neural Network:\n",
    "    - https://www.kaggle.com/skiplik/digit-recognition-with-a-deep-neural-network\n",
    "- Another MNIST Try:\n",
    "    - https://www.kaggle.com/skiplik/another-mnist-try\n",
    "- First NN by Detecting Handwritten Characters:\n",
    "    - https://www.kaggle.com/skiplik/first-nn-by-detecting-handwritten-characters \n",
    "- ..."
   ]
  },
  {
   "cell_type": "markdown",
   "metadata": {},
   "source": [
    "# Imports"
   ]
  },
  {
   "cell_type": "code",
   "execution_count": 976,
   "metadata": {},
   "outputs": [
    {
     "name": "stdout",
     "output_type": "stream",
     "text": [
      "Tensorflow Version: 2.7.0\n",
      "Keras Version: 2.7.0\n",
      "No GPU was detected. LSTMs and CNNs can be very slow without a GPU.\n",
      "../autoencoding-mnist/data/input/digit-recognizer\\test.csv\n",
      "../autoencoding-mnist/data/input/digit-recognizer\\train.csv\n"
     ]
    }
   ],
   "source": [
    "import sys\n",
    "assert sys.version_info >= (3,5)\n",
    "\n",
    "# Is this notebook running on Colab or Kaggle?\n",
    "IS_COLAB = \"google.colab\" in sys.modules\n",
    "IS_KAGGLE = \"kaggle_secrets\" in sys.modules\n",
    "\n",
    "import numpy as np # linear algebra\n",
    "import pandas as pd # data processing, CSV file I/O (e.g. pd.read_csv)\n",
    "import matplotlib.pyplot as plt\n",
    "from functools import partial\n",
    "from sklearn.model_selection import train_test_split\n",
    "\n",
    "from sklearn.pipeline import Pipeline\n",
    "from sklearn.preprocessing import StandardScaler\n",
    "from sklearn.preprocessing import Normalizer\n",
    "\n",
    "import tensorflow as tf\n",
    "from tensorflow import keras\n",
    "from tensorflow import image\n",
    "from tensorflow import core\n",
    "from tensorflow.keras import layers\n",
    "\n",
    "#import mlflow\n",
    "#from mlflow import log_metric, log_param, log_artifacts\n",
    "#import mlflow.tensorflow\n",
    "#from mlflow import pyfunc\n",
    "\n",
    "assert tf.__version__ >= \"2.0\"\n",
    "\n",
    "print(f\"Tensorflow Version: {tf.__version__}\")\n",
    "print(f\"Keras Version: {keras.__version__}\")\n",
    "\n",
    "if not tf.config.list_physical_devices('GPU'):\n",
    "    print(\"No GPU was detected. LSTMs and CNNs can be very slow without a GPU.\")\n",
    "    if IS_COLAB:\n",
    "        print(\"Go to Runtime > Change runtime and select a GPU hardware accelerator.\")\n",
    "    if IS_KAGGLE:\n",
    "        print(\"Go to Settings > Accelerator and select GPU.\")\n",
    "\n",
    "\n",
    "tf.random.set_seed(42)\n",
    "np.random.seed(42)\n",
    "random_state=42\n",
    "\n",
    "kaggle = 0 # Kaggle path active = 1\n",
    "\n",
    "# change your local path here\n",
    "if kaggle == 1 :\n",
    "    MNIST_PATH= '../input/digit-recognizer'\n",
    "else:\n",
    "    MNIST_PATH= '../autoencoding-mnist/data/input/digit-recognizer'\n",
    "\n",
    "\n",
    "\n",
    "import os\n",
    "for dirname, _, filenames in os.walk(MNIST_PATH): \n",
    "    for filename in filenames:\n",
    "        print(os.path.join(dirname, filename))\n",
    "        "
   ]
  },
  {
   "cell_type": "markdown",
   "metadata": {},
   "source": [
    "## Get The Data"
   ]
  },
  {
   "cell_type": "code",
   "execution_count": 977,
   "metadata": {},
   "outputs": [],
   "source": [
    "# Data path and file\n",
    "CSV_FILE_TRAIN='train.csv'\n",
    "CSV_FILE_TEST='test.csv'\n",
    "\n",
    "def load_csv_data(path, csv_file):\n",
    "    csv_path = os.path.join(path, csv_file)\n",
    "    return pd.read_csv(csv_path)\n",
    "\n",
    "def load_csv_data_manuel(path, csv_file):\n",
    "    csv_path = os.path.join(path, csv_file)\n",
    "    csv_file = open(csv_path, 'r')\n",
    "    csv_data = csv_file.readlines()\n",
    "    csv_file.close()\n",
    "    return csv_data\n",
    "    \n",
    "\n",
    "train = load_csv_data(MNIST_PATH,CSV_FILE_TRAIN)\n",
    "test = load_csv_data(MNIST_PATH,CSV_FILE_TEST)"
   ]
  },
  {
   "cell_type": "markdown",
   "metadata": {},
   "source": [
    "### Train Val Split"
   ]
  },
  {
   "cell_type": "code",
   "execution_count": 978,
   "metadata": {},
   "outputs": [],
   "source": [
    "X_train, X_valid, y_train, y_valid =  train_test_split(train.loc[:, train.columns != 'label'], train['label'], test_size=0.33, random_state=random_state)"
   ]
  },
  {
   "cell_type": "markdown",
   "metadata": {},
   "source": [
    "### Preparing for Neural Network Structure"
   ]
  },
  {
   "cell_type": "code",
   "execution_count": 979,
   "metadata": {},
   "outputs": [],
   "source": [
    "X_train = X_train.astype(np.float32) / 255\n",
    "X_valid = X_valid.astype(np.float32) / 255\n",
    "X_test = test.astype(np.float32) / 255"
   ]
  },
  {
   "cell_type": "code",
   "execution_count": 980,
   "metadata": {},
   "outputs": [
    {
     "name": "stdout",
     "output_type": "stream",
     "text": [
      "'X_train' shape: (28140, 784)\n",
      "'X_valid' shape: (13860, 784)\n",
      "'X_test' shape: (28000, 784)\n"
     ]
    }
   ],
   "source": [
    "print(f\"'X_train' shape: {X_train.shape}\")\n",
    "print(f\"'X_valid' shape: {X_valid.shape}\")\n",
    "print(f\"'X_test' shape: {X_test.shape}\")"
   ]
  },
  {
   "cell_type": "markdown",
   "metadata": {},
   "source": [
    "#### Reshaping Data in Tensor Batch Structure"
   ]
  },
  {
   "cell_type": "code",
   "execution_count": 981,
   "metadata": {},
   "outputs": [],
   "source": [
    "### DEBUG TODO: implement /wo chanel param\n",
    "def reshape_images(df_images):\n",
    "    '''Reshaping image structure to a three dimensional tensor'''\n",
    "    df_images_resh = df_images.values.reshape(df_images.shape[0], 28, 28)\n",
    "    return df_images_resh\n",
    "\n",
    "def reshape_conv_images(df_images):\n",
    "    '''\n",
    "    Reshaping image structure to a four dimensional tensor for conv networks,\n",
    "    where chanel is last\n",
    "    '''\n",
    "    df_images_conv_resh = df_images.values.reshape(df_images.shape[0], 28, 28, 1)\n",
    "    return df_images_conv_resh"
   ]
  },
  {
   "cell_type": "code",
   "execution_count": 982,
   "metadata": {},
   "outputs": [],
   "source": [
    "X_train_resh = reshape_images(X_train)\n",
    "X_valid_resh = reshape_images(X_valid)\n",
    "X_test_resh = reshape_images(X_test)\n",
    "\n",
    "y_train_resh =  y_train.values.reshape(y_train.shape[0], 1)\n",
    "y_valid_resh = y_valid.values.reshape(y_valid.shape[0], 1)"
   ]
  },
  {
   "cell_type": "code",
   "execution_count": 983,
   "metadata": {},
   "outputs": [
    {
     "name": "stdout",
     "output_type": "stream",
     "text": [
      "'X_train_resh' shape: (28140, 28, 28)\n",
      "'X_valid_resh' shape: (13860, 28, 28)\n",
      "'X_test_resh' shape: (28000, 28, 28)\n",
      "'y_train_resh' shape: (28140, 1)\n",
      "'y_valid_resh' shape: (13860, 1)\n"
     ]
    }
   ],
   "source": [
    "print(f\"'X_train_resh' shape: {X_train_resh.shape}\")\n",
    "print(f\"'X_valid_resh' shape: {X_valid_resh.shape}\")\n",
    "print(f\"'X_test_resh' shape: {X_test_resh.shape}\")\n",
    "print(f\"'y_train_resh' shape: {y_train_resh.shape}\")\n",
    "print(f\"'y_valid_resh' shape: {y_valid_resh.shape}\")"
   ]
  },
  {
   "cell_type": "markdown",
   "metadata": {},
   "source": [
    "# Plotting "
   ]
  },
  {
   "cell_type": "code",
   "execution_count": 984,
   "metadata": {},
   "outputs": [],
   "source": [
    "def plot_image(image):\n",
    "    plt.imshow(image, cmap=\"binary\")\n",
    "    plt.axis(\"off\")\n",
    "\n",
    "def show_reconstructions(model, X_valid, n_images=5):\n",
    "    reconstructions = model.predict(X_valid[:n_images])\n",
    "    fig = plt.figure(figsize=(n_images * 1.5, 3))\n",
    "\n",
    "    for image_index in range(n_images):\n",
    "        plt.subplot(2, n_images, 1 + image_index)\n",
    "        plot_image(X_valid[image_index])\n",
    "        plt.subplot(2, n_images, 1 + n_images + image_index)\n",
    "        plot_image(reconstructions[image_index])"
   ]
  },
  {
   "cell_type": "markdown",
   "metadata": {},
   "source": [
    "### Plotting One Example Value"
   ]
  },
  {
   "cell_type": "code",
   "execution_count": 985,
   "metadata": {},
   "outputs": [
    {
     "name": "stdout",
     "output_type": "stream",
     "text": [
      "Example label: 1\n"
     ]
    }
   ],
   "source": [
    "print(f\"Example label: {y_valid.iloc[1]}\")"
   ]
  },
  {
   "cell_type": "code",
   "execution_count": 986,
   "metadata": {},
   "outputs": [
    {
     "data": {
      "image/png": "[encoded data removed]",
      "text/plain": [
       "<Figure size 432x288 with 1 Axes>"
      ]
     },
     "metadata": {
      "needs_background": "light"
     },
     "output_type": "display_data"
    }
   ],
   "source": [
    "plot_image(X_valid.iloc[1].values.reshape(28,28))"
   ]
  },
  {
   "cell_type": "markdown",
   "metadata": {},
   "source": [
    "# First Model - Deep Denoising Autoencoder \n",
    "An autoencoder architecture includes two seperate models, the encoder and the decorder. In the neuron point of view they both have a rejuvenation which represents a need of information compression - keep only the realy relevant information and drop the less relevant information. The encoder has an input of 784 neurons and an output of only 30 (which represents the codings). On the otherside the decoder has an inputshape of 30 neurons with an layer of 100 neurons, which rises to an layer of 28 * 28 neurons (=784) again. \n",
    "\n",
    "These two models combined bring the need of reducing given information and (artificially) recreating them again. Thats the specialty of the autoencoder structure."
   ]
  },
  {
   "cell_type": "markdown",
   "metadata": {},
   "source": [
    "### Encoder Architecture"
   ]
  },
  {
   "cell_type": "code",
   "execution_count": 987,
   "metadata": {},
   "outputs": [],
   "source": [
    "dropout_encoder = keras.models.Sequential([\n",
    "    keras.layers.Flatten(input_shape=[28, 28]),\n",
    "    keras.layers.Dropout(0.5),\n",
    "    keras.layers.Dense(100, activation=\"selu\"),\n",
    "    keras.layers.Dense(30, activation=\"selu\")           # Codings\n",
    "])"
   ]
  },
  {
   "cell_type": "code",
   "execution_count": 988,
   "metadata": {},
   "outputs": [
    {
     "name": "stdout",
     "output_type": "stream",
     "text": [
      "Model: \"sequential_70\"\n",
      "_________________________________________________________________\n",
      " Layer (type)                Output Shape              Param #   \n",
      "=================================================================\n",
      " flatten_25 (Flatten)        (None, 784)               0         \n",
      "                                                                 \n",
      " dropout_9 (Dropout)         (None, 784)               0         \n",
      "                                                                 \n",
      " dense_61 (Dense)            (None, 100)               78500     \n",
      "                                                                 \n",
      " dense_62 (Dense)            (None, 30)                3030      \n",
      "                                                                 \n",
      "=================================================================\n",
      "Total params: 81,530\n",
      "Trainable params: 81,530\n",
      "Non-trainable params: 0\n",
      "_________________________________________________________________\n"
     ]
    }
   ],
   "source": [
    "dropout_encoder.summary()"
   ]
  },
  {
   "cell_type": "markdown",
   "metadata": {},
   "source": [
    "#### Decoder Architecture"
   ]
  },
  {
   "cell_type": "code",
   "execution_count": 989,
   "metadata": {},
   "outputs": [],
   "source": [
    "dropout_decoder = keras.models.Sequential([\n",
    "    keras.layers.Dense(100, activation=\"selu\", input_shape=[30]),\n",
    "    keras.layers.Dense(28 * 28, activation=\"sigmoid\"),  ### PROBLEM AREA found: USE THE RIGHT ACTIVATION FUNCTION\n",
    "    keras.layers.Reshape([28, 28])\n",
    "])"
   ]
  },
  {
   "cell_type": "code",
   "execution_count": 990,
   "metadata": {},
   "outputs": [
    {
     "name": "stdout",
     "output_type": "stream",
     "text": [
      "Model: \"sequential_71\"\n",
      "_________________________________________________________________\n",
      " Layer (type)                Output Shape              Param #   \n",
      "=================================================================\n",
      " dense_63 (Dense)            (None, 100)               3100      \n",
      "                                                                 \n",
      " dense_64 (Dense)            (None, 784)               79184     \n",
      "                                                                 \n",
      " reshape_18 (Reshape)        (None, 28, 28)            0         \n",
      "                                                                 \n",
      "=================================================================\n",
      "Total params: 82,284\n",
      "Trainable params: 82,284\n",
      "Non-trainable params: 0\n",
      "_________________________________________________________________\n"
     ]
    }
   ],
   "source": [
    "dropout_decoder.summary()"
   ]
  },
  {
   "cell_type": "markdown",
   "metadata": {},
   "source": [
    "### Building the Model"
   ]
  },
  {
   "cell_type": "code",
   "execution_count": 991,
   "metadata": {},
   "outputs": [
    {
     "name": "stderr",
     "output_type": "stream",
     "text": [
      "c:\\Python Workspace\\Schadenprognose\\.venv\\lib\\site-packages\\keras\\optimizer_v2\\gradient_descent.py:102: UserWarning: The `lr` argument is deprecated, use `learning_rate` instead.\n",
      "  super(SGD, self).__init__(name, **kwargs)\n"
     ]
    }
   ],
   "source": [
    "dropout_ae = keras.models.Sequential([dropout_encoder, dropout_decoder])\n",
    "dropout_ae.compile(loss=\"binary_crossentropy\", optimizer=keras.optimizers.SGD(lr=1.5))"
   ]
  },
  {
   "cell_type": "markdown",
   "metadata": {},
   "source": [
    "## Training and Logging -  Deep Denoising Autoencoder"
   ]
  },
  {
   "cell_type": "markdown",
   "metadata": {},
   "source": [
    "### Logging the Model (ML Flow)"
   ]
  },
  {
   "cell_type": "code",
   "execution_count": 992,
   "metadata": {},
   "outputs": [],
   "source": [
    "#mlflow.tensorflow.autolog()"
   ]
  },
  {
   "cell_type": "markdown",
   "metadata": {},
   "source": [
    "### Training the Model"
   ]
  },
  {
   "cell_type": "code",
   "execution_count": 993,
   "metadata": {},
   "outputs": [
    {
     "name": "stdout",
     "output_type": "stream",
     "text": [
      "Epoch 1/10\n",
      "880/880 [==============================] - 5s 5ms/step - loss: 0.2242 - val_loss: 0.1742\n",
      "Epoch 2/10\n",
      "880/880 [==============================] - 4s 5ms/step - loss: 0.1679 - val_loss: 0.1491\n",
      "Epoch 3/10\n",
      "880/880 [==============================] - 5s 5ms/step - loss: 0.1543 - val_loss: 0.1407\n",
      "Epoch 4/10\n",
      "880/880 [==============================] - 5s 5ms/step - loss: 0.1480 - val_loss: 0.1339\n",
      "Epoch 5/10\n",
      "880/880 [==============================] - 5s 5ms/step - loss: 0.1436 - val_loss: 0.1311\n",
      "Epoch 6/10\n",
      "880/880 [==============================] - 5s 6ms/step - loss: 0.1406 - val_loss: 0.1310\n",
      "Epoch 7/10\n",
      "880/880 [==============================] - 5s 5ms/step - loss: 0.1378 - val_loss: 0.1277\n",
      "Epoch 8/10\n",
      "880/880 [==============================] - 5s 5ms/step - loss: 0.1356 - val_loss: 0.1261\n",
      "Epoch 9/10\n",
      "880/880 [==============================] - 5s 5ms/step - loss: 0.1337 - val_loss: 0.1222\n",
      "Epoch 10/10\n",
      "880/880 [==============================] - 5s 5ms/step - loss: 0.1321 - val_loss: 0.1204\n"
     ]
    }
   ],
   "source": [
    "history = dropout_ae.fit(X_train_resh, X_train_resh, epochs= 10, validation_data=(X_valid_resh, X_valid_resh))\n"
   ]
  },
  {
   "cell_type": "markdown",
   "metadata": {},
   "source": [
    "### Losses\n",
    "The question is: \"How good does the model reconstruct the given features/information\". So there is no prediction of some label value! The model \"predicts\" (or better) reconstruct its input values to its best"
   ]
  },
  {
   "cell_type": "code",
   "execution_count": 994,
   "metadata": {},
   "outputs": [
    {
     "data": {
      "text/plain": [
       "[<matplotlib.lines.Line2D at 0x1a11063a400>]"
      ]
     },
     "execution_count": 994,
     "metadata": {},
     "output_type": "execute_result"
    },
    {
     "data": {
      "image/png": "[encoded data removed]",
      "text/plain": [
       "<Figure size 432x288 with 1 Axes>"
      ]
     },
     "metadata": {
      "needs_background": "light"
     },
     "output_type": "display_data"
    }
   ],
   "source": [
    "# Getting in touch with the model statistics \n",
    "# shows the available keys in models history:  print(history.history.keys())\n",
    "plt.plot(history.history['loss'])\n",
    "plt.plot(history.history['val_loss'])"
   ]
  },
  {
   "cell_type": "markdown",
   "metadata": {},
   "source": [
    "# Second Model - Convolutional Denoising Autoencoder "
   ]
  },
  {
   "cell_type": "markdown",
   "metadata": {},
   "source": [
    "### Convolutional Encoder Architecture  "
   ]
  },
  {
   "cell_type": "code",
   "execution_count": 995,
   "metadata": {},
   "outputs": [],
   "source": [
    "conv_encoder = keras.models.Sequential([\n",
    "    keras.layers.GaussianNoise(0.1, input_shape = [28, 28, 1]),\n",
    "    keras.layers.Conv2D(16, kernel_size=3, activation='selu'),\n",
    "    keras.layers.MaxPool2D(pool_size=2),\n",
    "    keras.layers.Conv2D(32, kernel_size=3, padding=\"same\", activation=\"selu\"),\n",
    "    keras.layers.MaxPool2D(pool_size=4),\n",
    "    keras.layers.Dense(392, activation=\"relu\")           # Codings\n",
    "])"
   ]
  },
  {
   "cell_type": "code",
   "execution_count": 996,
   "metadata": {},
   "outputs": [
    {
     "name": "stdout",
     "output_type": "stream",
     "text": [
      "Model: \"sequential_73\"\n",
      "_________________________________________________________________\n",
      " Layer (type)                Output Shape              Param #   \n",
      "=================================================================\n",
      " gaussian_noise_9 (GaussianN  (None, 28, 28, 1)        0         \n",
      " oise)                                                           \n",
      "                                                                 \n",
      " conv2d_18 (Conv2D)          (None, 26, 26, 16)        160       \n",
      "                                                                 \n",
      " max_pooling2d_18 (MaxPoolin  (None, 13, 13, 16)       0         \n",
      " g2D)                                                            \n",
      "                                                                 \n",
      " conv2d_19 (Conv2D)          (None, 13, 13, 32)        4640      \n",
      "                                                                 \n",
      " max_pooling2d_19 (MaxPoolin  (None, 3, 3, 32)         0         \n",
      " g2D)                                                            \n",
      "                                                                 \n",
      " dense_65 (Dense)            (None, 3, 3, 392)         12936     \n",
      "                                                                 \n",
      "=================================================================\n",
      "Total params: 17,736\n",
      "Trainable params: 17,736\n",
      "Non-trainable params: 0\n",
      "_________________________________________________________________\n"
     ]
    }
   ],
   "source": [
    "conv_encoder.summary()"
   ]
  },
  {
   "cell_type": "markdown",
   "metadata": {},
   "source": [
    "### Convolutional Decoder Architecture"
   ]
  },
  {
   "cell_type": "code",
   "execution_count": 997,
   "metadata": {},
   "outputs": [],
   "source": [
    "conv_decoder = keras.models.Sequential([\n",
    "    #keras.layers.GaussianNoise(0.1, input_shape=[6, 6, 32] ),\n",
    "    keras.layers.Conv2DTranspose(32, kernel_size=3, strides=2, padding=\"valid\",activation=\"selu\", input_shape=[3, 3, 392]),\n",
    "    keras.layers.Conv2DTranspose(16, kernel_size=3, strides=2, padding=\"same\",activation=\"selu\"),\n",
    "    keras.layers.Conv2DTranspose(1, kernel_size=3, strides=2, padding=\"same\", activation=\"sigmoid\"),\n",
    "    keras.layers.Reshape([28, 28, 1])\n",
    "])"
   ]
  },
  {
   "cell_type": "code",
   "execution_count": 998,
   "metadata": {},
   "outputs": [
    {
     "name": "stdout",
     "output_type": "stream",
     "text": [
      "Model: \"sequential_74\"\n",
      "_________________________________________________________________\n",
      " Layer (type)                Output Shape              Param #   \n",
      "=================================================================\n",
      " conv2d_transpose_27 (Conv2D  (None, 7, 7, 32)         112928    \n",
      " Transpose)                                                      \n",
      "                                                                 \n",
      " conv2d_transpose_28 (Conv2D  (None, 14, 14, 16)       4624      \n",
      " Transpose)                                                      \n",
      "                                                                 \n",
      " conv2d_transpose_29 (Conv2D  (None, 28, 28, 1)        145       \n",
      " Transpose)                                                      \n",
      "                                                                 \n",
      " reshape_19 (Reshape)        (None, 28, 28, 1)         0         \n",
      "                                                                 \n",
      "=================================================================\n",
      "Total params: 117,697\n",
      "Trainable params: 117,697\n",
      "Non-trainable params: 0\n",
      "_________________________________________________________________\n"
     ]
    }
   ],
   "source": [
    "conv_decoder.summary()"
   ]
  },
  {
   "cell_type": "markdown",
   "metadata": {},
   "source": [
    "### Building the Model - Deep Convolutional Denoising Autoencoder"
   ]
  },
  {
   "cell_type": "code",
   "execution_count": 999,
   "metadata": {},
   "outputs": [],
   "source": [
    "conv_denoising_ae = keras.models.Sequential([conv_encoder, conv_decoder])\n",
    "conv_denoising_ae.compile(loss=\"binary_crossentropy\", optimizer=keras.optimizers.SGD(lr=1.5))"
   ]
  },
  {
   "cell_type": "code",
   "execution_count": 1000,
   "metadata": {},
   "outputs": [
    {
     "name": "stdout",
     "output_type": "stream",
     "text": [
      "Model: \"sequential_75\"\n",
      "_________________________________________________________________\n",
      " Layer (type)                Output Shape              Param #   \n",
      "=================================================================\n",
      " sequential_73 (Sequential)  (None, 3, 3, 392)         17736     \n",
      "                                                                 \n",
      " sequential_74 (Sequential)  (None, 28, 28, 1)         117697    \n",
      "                                                                 \n",
      "=================================================================\n",
      "Total params: 135,433\n",
      "Trainable params: 135,433\n",
      "Non-trainable params: 0\n",
      "_________________________________________________________________\n"
     ]
    }
   ],
   "source": [
    "conv_denoising_ae.summary()"
   ]
  },
  {
   "cell_type": "markdown",
   "metadata": {},
   "source": [
    "## Training and Logging - Deep Convolutional Denoising Autoencoder"
   ]
  },
  {
   "cell_type": "markdown",
   "metadata": {},
   "source": [
    "### Training the Model"
   ]
  },
  {
   "cell_type": "code",
   "execution_count": 1001,
   "metadata": {},
   "outputs": [],
   "source": [
    "X_train_resh_ch = reshape_conv_images(X_train)\n",
    "X_valid_resh_ch = reshape_conv_images(X_valid)\n",
    "X_test_resh_ch = reshape_conv_images(X_test)\n",
    "\n",
    "## DEBUG TODO: Clean this up after test\n",
    "#X_train_resh_ch = X_train_resh.reshape(X_train_resh.shape[0], 28 ,28 ,1)\n",
    "#X_valid_resh_ch = X_valid_resh.reshape(X_valid_resh.shape[0], 28 ,28 ,1)"
   ]
  },
  {
   "cell_type": "code",
   "execution_count": 1002,
   "metadata": {},
   "outputs": [
    {
     "name": "stdout",
     "output_type": "stream",
     "text": [
      "Epoch 1/10\n",
      "880/880 [==============================] - 22s 24ms/step - loss: 0.1775 - val_loss: 0.1157\n",
      "Epoch 2/10\n",
      "880/880 [==============================] - 23s 26ms/step - loss: 0.1079 - val_loss: 0.1033\n",
      "Epoch 3/10\n",
      "880/880 [==============================] - 22s 24ms/step - loss: 0.0982 - val_loss: 0.0957\n",
      "Epoch 4/10\n",
      "880/880 [==============================] - 21s 24ms/step - loss: 0.0938 - val_loss: 0.0917\n",
      "Epoch 5/10\n",
      "880/880 [==============================] - 20s 23ms/step - loss: 0.0910 - val_loss: 0.0882\n",
      "Epoch 6/10\n",
      "880/880 [==============================] - 20s 22ms/step - loss: 0.0891 - val_loss: 0.0890\n",
      "Epoch 7/10\n",
      "880/880 [==============================] - 20s 22ms/step - loss: 0.0876 - val_loss: 0.0912\n",
      "Epoch 8/10\n",
      "880/880 [==============================] - 20s 22ms/step - loss: 0.0865 - val_loss: 0.0855\n",
      "Epoch 9/10\n",
      "880/880 [==============================] - 20s 22ms/step - loss: 0.0856 - val_loss: 0.0841\n",
      "Epoch 10/10\n",
      "880/880 [==============================] - 20s 23ms/step - loss: 0.0848 - val_loss: 0.0838\n"
     ]
    }
   ],
   "source": [
    "history = conv_denoising_ae.fit(X_train_resh_ch, X_train_resh_ch, epochs= 10, validation_data=(X_valid_resh_ch, X_valid_resh_ch))\n"
   ]
  },
  {
   "cell_type": "code",
   "execution_count": 1003,
   "metadata": {},
   "outputs": [
    {
     "name": "stdout",
     "output_type": "stream",
     "text": [
      "INFO:tensorflow:Assets written to: conv_denoising_ae\\assets\n"
     ]
    }
   ],
   "source": [
    "# saving model for weight using in later process\n",
    "conv_denoising_ae.save('conv_denoising_ae')"
   ]
  },
  {
   "cell_type": "code",
   "execution_count": 1004,
   "metadata": {},
   "outputs": [],
   "source": [
    "# Probably not working on Kaggle\n",
    "#plot_model(conv_denoising_ae, 'conv_autencoder.png', show_shapes=True)"
   ]
  },
  {
   "cell_type": "markdown",
   "metadata": {},
   "source": [
    "# Results - Deep Denoising Autoencoder"
   ]
  },
  {
   "cell_type": "markdown",
   "metadata": {},
   "source": [
    "## Real Image"
   ]
  },
  {
   "cell_type": "code",
   "execution_count": 1005,
   "metadata": {},
   "outputs": [
    {
     "data": {
      "image/png": "[encoded data removed]",
      "text/plain": [
       "<Figure size 432x288 with 1 Axes>"
      ]
     },
     "metadata": {
      "needs_background": "light"
     },
     "output_type": "display_data"
    }
   ],
   "source": [
    "# Test image from a known set\n",
    "plot_image(X_valid_resh[10])"
   ]
  },
  {
   "cell_type": "markdown",
   "metadata": {},
   "source": [
    "## (\"Predicted\") Reconstructed One"
   ]
  },
  {
   "cell_type": "code",
   "execution_count": 1006,
   "metadata": {},
   "outputs": [
    {
     "data": {
      "image/png": "[encoded data removed]",
      "text/plain": [
       "<Figure size 432x288 with 1 Axes>"
      ]
     },
     "metadata": {
      "needs_background": "light"
     },
     "output_type": "display_data"
    }
   ],
   "source": [
    "testimage = X_valid_resh[10].reshape(1, 28, 28)     # single image prepared for the test (reshape)\n",
    "plot_image(dropout_ae.predict(testimage)[0, :, :])  # needed to extract the second and third array of the three dimensional tensor struc for printing the image"
   ]
  },
  {
   "cell_type": "markdown",
   "metadata": {},
   "source": [
    "## Showing Multi Results"
   ]
  },
  {
   "cell_type": "code",
   "execution_count": 1007,
   "metadata": {},
   "outputs": [
    {
     "data": {
      "image/png": "[encoded data removed]",
      "text/plain": [
       "<Figure size 540x216 with 10 Axes>"
      ]
     },
     "metadata": {
      "needs_background": "light"
     },
     "output_type": "display_data"
    }
   ],
   "source": [
    "show_reconstructions(dropout_ae, X_valid_resh)"
   ]
  },
  {
   "cell_type": "markdown",
   "metadata": {},
   "source": [
    "## Using Noised Images"
   ]
  },
  {
   "cell_type": "markdown",
   "metadata": {},
   "source": [
    "### Creating Noisy Data\n"
   ]
  },
  {
   "cell_type": "code",
   "execution_count": 1008,
   "metadata": {},
   "outputs": [],
   "source": [
    "new_images = X_test[5:10]\n",
    "new_images = reshape_images(new_images)\n",
    "noisy_images = new_images + np.random.randn(5,28,28) *0.1"
   ]
  },
  {
   "cell_type": "markdown",
   "metadata": {},
   "source": [
    "### Origin Number\n"
   ]
  },
  {
   "cell_type": "code",
   "execution_count": 1009,
   "metadata": {},
   "outputs": [
    {
     "data": {
      "image/png": "[encoded data removed]",
      "text/plain": [
       "<Figure size 432x288 with 1 Axes>"
      ]
     },
     "metadata": {
      "needs_background": "light"
     },
     "output_type": "display_data"
    }
   ],
   "source": [
    "idx_testnumber = 0      # Index of test number for the next plottings \n",
    "plot_image(new_images[idx_testnumber])"
   ]
  },
  {
   "cell_type": "markdown",
   "metadata": {},
   "source": [
    "### Noisy Number"
   ]
  },
  {
   "cell_type": "code",
   "execution_count": 1010,
   "metadata": {},
   "outputs": [
    {
     "data": {
      "image/png": "[encoded data removed]",
      "text/plain": [
       "<Figure size 432x288 with 1 Axes>"
      ]
     },
     "metadata": {
      "needs_background": "light"
     },
     "output_type": "display_data"
    }
   ],
   "source": [
    "plot_image(noisy_images[idx_testnumber])"
   ]
  },
  {
   "cell_type": "markdown",
   "metadata": {},
   "source": [
    "### Denoised Number"
   ]
  },
  {
   "cell_type": "code",
   "execution_count": 1011,
   "metadata": {},
   "outputs": [
    {
     "data": {
      "image/png": "[encoded data removed]",
      "text/plain": [
       "<Figure size 432x288 with 1 Axes>"
      ]
     },
     "metadata": {
      "needs_background": "light"
     },
     "output_type": "display_data"
    }
   ],
   "source": [
    "# Very Important ! added a new axis according to the models batch based behavior\n",
    "plot_image(dropout_ae.predict(noisy_images[np.newaxis ,idx_testnumber]).reshape(28,28)) "
   ]
  },
  {
   "cell_type": "markdown",
   "metadata": {},
   "source": [
    "### Multiple Numbers in Comparision "
   ]
  },
  {
   "cell_type": "code",
   "execution_count": 1012,
   "metadata": {},
   "outputs": [
    {
     "data": {
      "image/png": "[encoded data removed]",
      "text/plain": [
       "<Figure size 540x216 with 10 Axes>"
      ]
     },
     "metadata": {
      "needs_background": "light"
     },
     "output_type": "display_data"
    }
   ],
   "source": [
    "show_reconstructions(dropout_ae, noisy_images)"
   ]
  },
  {
   "cell_type": "markdown",
   "metadata": {},
   "source": [
    "# Results - Convolutional Denoising Autoencoder"
   ]
  },
  {
   "cell_type": "markdown",
   "metadata": {},
   "source": [
    "## Using Noised Images"
   ]
  },
  {
   "cell_type": "markdown",
   "metadata": {},
   "source": [
    "### Creating Noisy Data"
   ]
  },
  {
   "cell_type": "code",
   "execution_count": 1013,
   "metadata": {},
   "outputs": [],
   "source": [
    "new_images_conv = X_test[5:10]\n",
    "new_images_conv = reshape_conv_images(new_images_conv)\n",
    "noisy_images_conv = new_images_conv + np.random.randn(5, 28, 28, 1) *0.1"
   ]
  },
  {
   "cell_type": "code",
   "execution_count": 1014,
   "metadata": {},
   "outputs": [
    {
     "data": {
      "text/plain": [
       "(5, 28, 28, 1)"
      ]
     },
     "execution_count": 1014,
     "metadata": {},
     "output_type": "execute_result"
    }
   ],
   "source": [
    "noisy_images_conv.shape"
   ]
  },
  {
   "cell_type": "markdown",
   "metadata": {},
   "source": [
    "### Origin Number\n"
   ]
  },
  {
   "cell_type": "code",
   "execution_count": 1015,
   "metadata": {},
   "outputs": [
    {
     "data": {
      "image/png": "[encoded data removed]",
      "text/plain": [
       "<Figure size 432x288 with 1 Axes>"
      ]
     },
     "metadata": {
      "needs_background": "light"
     },
     "output_type": "display_data"
    }
   ],
   "source": [
    "idx_testnumber = 0      # Index of test number for the next plottings \n",
    "plot_image(new_images_conv[idx_testnumber])"
   ]
  },
  {
   "cell_type": "markdown",
   "metadata": {},
   "source": [
    "### Noisy Number"
   ]
  },
  {
   "cell_type": "code",
   "execution_count": 1016,
   "metadata": {},
   "outputs": [
    {
     "data": {
      "image/png": "[encoded data removed]",
      "text/plain": [
       "<Figure size 432x288 with 1 Axes>"
      ]
     },
     "metadata": {
      "needs_background": "light"
     },
     "output_type": "display_data"
    }
   ],
   "source": [
    "plot_image(noisy_images_conv[idx_testnumber])"
   ]
  },
  {
   "cell_type": "markdown",
   "metadata": {},
   "source": [
    "### Denoised Number"
   ]
  },
  {
   "cell_type": "code",
   "execution_count": 1017,
   "metadata": {},
   "outputs": [
    {
     "data": {
      "image/png": "[encoded data removed]",
      "text/plain": [
       "<Figure size 432x288 with 1 Axes>"
      ]
     },
     "metadata": {
      "needs_background": "light"
     },
     "output_type": "display_data"
    }
   ],
   "source": [
    "# Very Important ! added a new axis according to the models batch based behavior\n",
    "plot_image(conv_denoising_ae.predict(noisy_images_conv[np.newaxis ,idx_testnumber]).reshape(28,28))"
   ]
  },
  {
   "cell_type": "markdown",
   "metadata": {},
   "source": [
    "### Multiple Numbers in Comparision"
   ]
  },
  {
   "cell_type": "code",
   "execution_count": 1018,
   "metadata": {},
   "outputs": [
    {
     "data": {
      "image/png": "[encoded data removed]",
      "text/plain": [
       "<Figure size 540x216 with 10 Axes>"
      ]
     },
     "metadata": {
      "needs_background": "light"
     },
     "output_type": "display_data"
    }
   ],
   "source": [
    "show_reconstructions(conv_denoising_ae, noisy_images_conv)"
   ]
  },
  {
   "cell_type": "markdown",
   "metadata": {},
   "source": [
    "# Unsupervised Pre-Training for Supervised Training\n",
    "In this part I will use the first layers of the already trained autoencoder for implementing a classification prediction model. This architecture represents the way of using unsupervised pre-training for projects that do not have enough training data to train the final model (in this case the classification model)."
   ]
  },
  {
   "cell_type": "code",
   "execution_count": 1053,
   "metadata": {},
   "outputs": [],
   "source": [
    "# Loading untouched model weights \n",
    "# Doing this for the reason that model weights are modified not only for a specific created model object (thats what I was recognizing), but for the stored object in the cache.\n",
    "# Therefore I load here the model new from storage to be capable of running multiple new model trainings without any influence on previous runs (make this trainig deterministic)\n",
    "conv_denoising_ae_clone = tf.keras.models.load_model(\"conv_denoising_ae\")"
   ]
  },
  {
   "cell_type": "code",
   "execution_count": 1021,
   "metadata": {},
   "outputs": [],
   "source": [
    "ae_model_id = 0 # 0 for encorder / 1 for decorder\n",
    "layerscount = 5 # how many layers of the model ...\n",
    "\n",
    "\n",
    "new_model = keras.models.Sequential(conv_denoising_ae_clone.layers[ae_model_id].layers[:layerscount])\n",
    "new_model.trainable =True  # Setting it on True to sepcificly set them on False afterwards  "
   ]
  },
  {
   "cell_type": "code",
   "execution_count": 1023,
   "metadata": {},
   "outputs": [
    {
     "name": "stdout",
     "output_type": "stream",
     "text": [
      "Model: \"sequential_76\"\n",
      "_________________________________________________________________\n",
      " Layer (type)                Output Shape              Param #   \n",
      "=================================================================\n",
      " gaussian_noise_9 (GaussianN  (None, 28, 28, 1)        0         \n",
      " oise)                                                           \n",
      "                                                                 \n",
      " conv2d_18 (Conv2D)          (None, 26, 26, 16)        160       \n",
      "                                                                 \n",
      " max_pooling2d_18 (MaxPoolin  (None, 13, 13, 16)       0         \n",
      " g2D)                                                            \n",
      "                                                                 \n",
      " conv2d_19 (Conv2D)          (None, 13, 13, 32)        4640      \n",
      "                                                                 \n",
      " max_pooling2d_19 (MaxPoolin  (None, 3, 3, 32)         0         \n",
      " g2D)                                                            \n",
      "                                                                 \n",
      "=================================================================\n",
      "Total params: 4,800\n",
      "Trainable params: 4,800\n",
      "Non-trainable params: 0\n",
      "_________________________________________________________________\n"
     ]
    }
   ],
   "source": [
    "new_model.summary()"
   ]
  },
  {
   "cell_type": "markdown",
   "metadata": {},
   "source": [
    "### Making the Layers Trainable / Not-Trainable\n",
    "The already trained layers which has been trained on the unsupervised way above, needs to be frozen so that only the new layers for the new topic (classification) can be trained.\n"
   ]
  },
  {
   "cell_type": "code",
   "execution_count": 1024,
   "metadata": {},
   "outputs": [
    {
     "name": "stdout",
     "output_type": "stream",
     "text": [
      "Layer 'gaussian_noise_9' is Trainable = False\n",
      "Layer 'conv2d_18' is Trainable = False\n",
      "Layer 'max_pooling2d_18' is Trainable = False\n",
      "Layer 'conv2d_19' is Trainable = False\n"
     ]
    }
   ],
   "source": [
    "# Make the layers not trainable \n",
    "for layer in new_model.layers[:layerscount -1 ]:              # last layer still be trainable\n",
    "    layer.trainable = False\n",
    "    print(f\"Layer '{layer.name}' is Trainable = {layer.trainable}\")"
   ]
  },
  {
   "cell_type": "code",
   "execution_count": 1025,
   "metadata": {},
   "outputs": [],
   "source": [
    "new_model.add(keras.layers.Flatten())\n",
    "new_model.add(keras.layers.Dense(10, activation=\"softmax\"))"
   ]
  },
  {
   "cell_type": "code",
   "execution_count": 1026,
   "metadata": {},
   "outputs": [
    {
     "name": "stdout",
     "output_type": "stream",
     "text": [
      "Layer 'gaussian_noise_9' trainable state = False\n",
      "Layer 'conv2d_18' trainable state = False\n",
      "Layer 'max_pooling2d_18' trainable state = False\n",
      "Layer 'conv2d_19' trainable state = False\n",
      "Layer 'max_pooling2d_19' trainable state = True\n",
      "Layer 'flatten_26' trainable state = True\n",
      "Layer 'dense_66' trainable state = True\n"
     ]
    }
   ],
   "source": [
    "# Viewing final layers-construction and its trainabilaties\n",
    "for layer in new_model.layers:\n",
    "    print(f\"Layer '{layer.name}' trainable state = {layer.trainable}\")"
   ]
  },
  {
   "cell_type": "code",
   "execution_count": 1027,
   "metadata": {},
   "outputs": [],
   "source": [
    "new_model.compile(loss=\"sparse_categorical_crossentropy\", optimizer=keras.optimizers.Nadam(), metrics=[\"accuracy\"]) ##keras.optimizers.SGD(learning_rate=0.0003)"
   ]
  },
  {
   "cell_type": "code",
   "execution_count": 1028,
   "metadata": {},
   "outputs": [
    {
     "name": "stdout",
     "output_type": "stream",
     "text": [
      "Model: \"sequential_76\"\n",
      "_________________________________________________________________\n",
      " Layer (type)                Output Shape              Param #   \n",
      "=================================================================\n",
      " gaussian_noise_9 (GaussianN  (None, 28, 28, 1)        0         \n",
      " oise)                                                           \n",
      "                                                                 \n",
      " conv2d_18 (Conv2D)          (None, 26, 26, 16)        160       \n",
      "                                                                 \n",
      " max_pooling2d_18 (MaxPoolin  (None, 13, 13, 16)       0         \n",
      " g2D)                                                            \n",
      "                                                                 \n",
      " conv2d_19 (Conv2D)          (None, 13, 13, 32)        4640      \n",
      "                                                                 \n",
      " max_pooling2d_19 (MaxPoolin  (None, 3, 3, 32)         0         \n",
      " g2D)                                                            \n",
      "                                                                 \n",
      " flatten_26 (Flatten)        (None, 288)               0         \n",
      "                                                                 \n",
      " dense_66 (Dense)            (None, 10)                2890      \n",
      "                                                                 \n",
      "=================================================================\n",
      "Total params: 7,690\n",
      "Trainable params: 2,890\n",
      "Non-trainable params: 4,800\n",
      "_________________________________________________________________\n"
     ]
    }
   ],
   "source": [
    "new_model.summary()"
   ]
  },
  {
   "cell_type": "code",
   "execution_count": 1029,
   "metadata": {},
   "outputs": [],
   "source": [
    "#from tensorflow.keras.utils import plot_model\n",
    "\n",
    "#plot_model(new_model, 'autencoder_base_w_classifier.png', show_shapes=True)"
   ]
  },
  {
   "cell_type": "code",
   "execution_count": 1030,
   "metadata": {},
   "outputs": [
    {
     "data": {
      "text/plain": [
       "False"
      ]
     },
     "execution_count": 1030,
     "metadata": {},
     "output_type": "execute_result"
    }
   ],
   "source": [
    "# DEBUG\n",
    "trainlayer_id = 3\n",
    "\n",
    "new_model.get_layer(index=trainlayer_id).trainable"
   ]
  },
  {
   "cell_type": "code",
   "execution_count": 1031,
   "metadata": {},
   "outputs": [
    {
     "data": {
      "text/plain": [
       "[<tf.Variable 'conv2d_19/kernel:0' shape=(3, 3, 16, 32) dtype=float32, numpy=\n",
       " array([[[[ 8.76781717e-02, -1.11983880e-01, -3.15263607e-02, ...,\n",
       "           -9.55396816e-02, -1.36937901e-01, -4.35677581e-02],\n",
       "          [ 6.03629909e-02,  4.78179529e-02, -4.82308475e-04, ...,\n",
       "            1.20118298e-01, -2.31758561e-02, -4.36157323e-02],\n",
       "          [-9.18869078e-02,  1.25629932e-01,  3.81286955e-04, ...,\n",
       "           -3.89694646e-02, -3.33507285e-02,  7.97315985e-02],\n",
       "          ...,\n",
       "          [ 7.81575143e-02, -5.97815737e-02, -5.81670413e-03, ...,\n",
       "            4.01943438e-02, -1.24625951e-01,  1.30590489e-02],\n",
       "          [-3.95538472e-03,  5.75804561e-02, -1.05435595e-01, ...,\n",
       "           -6.02366067e-02,  1.98270082e-02,  8.11425969e-02],\n",
       "          [-2.49206368e-02,  1.97702572e-01,  4.93478915e-03, ...,\n",
       "            1.16087906e-01,  3.33083451e-01, -8.51361454e-02]],\n",
       " \n",
       "         [[ 1.26040980e-01, -1.39396176e-01,  4.82106954e-02, ...,\n",
       "            9.12470296e-02, -3.40500474e-01,  9.46780816e-02],\n",
       "          [-1.70991942e-02,  1.61577761e-01,  2.07329020e-02, ...,\n",
       "            2.02328399e-01, -2.81586617e-01, -4.43370678e-02],\n",
       "          [-1.06047755e-02,  1.27240434e-01,  8.99749547e-02, ...,\n",
       "            2.76531763e-02, -7.74023384e-02, -1.28540725e-01],\n",
       "          ...,\n",
       "          [-6.84394389e-02,  7.80380741e-02, -3.60736847e-02, ...,\n",
       "            1.24655329e-01, -2.85518825e-01,  2.58195624e-02],\n",
       "          [ 7.87629262e-02, -2.65343115e-02, -3.89218107e-02, ...,\n",
       "           -1.75177753e-01, -8.68940577e-02,  1.04910890e-02],\n",
       "          [-1.47988982e-02,  2.85565913e-01, -6.61483482e-02, ...,\n",
       "            1.36408225e-01,  2.97060281e-01, -2.48111337e-01]],\n",
       " \n",
       "         [[-3.67973335e-02, -9.41390023e-02,  1.04281545e-01, ...,\n",
       "           -8.86570215e-02, -2.37218320e-01, -2.32075918e-02],\n",
       "          [-1.63467079e-02, -5.48023209e-02,  4.40789089e-02, ...,\n",
       "            7.65068270e-03, -3.01204681e-01, -1.07149199e-01],\n",
       "          [-1.32851675e-01,  6.00826927e-02, -4.90037637e-05, ...,\n",
       "            1.16302207e-01, -2.20337942e-01, -2.08449736e-02],\n",
       "          ...,\n",
       "          [ 8.85041356e-02, -3.07827324e-01, -1.22689545e-01, ...,\n",
       "            5.64631335e-02, -1.17698431e-01,  3.92381884e-02],\n",
       "          [-9.41750035e-02, -4.24023807e-01,  5.83344772e-02, ...,\n",
       "           -9.16459858e-02, -5.00554562e-01,  5.87180778e-02],\n",
       "          [ 2.47362211e-01,  5.19452214e-01,  7.28880614e-02, ...,\n",
       "            1.22706793e-01,  3.81940603e-01, -2.60839909e-01]]],\n",
       " \n",
       " \n",
       "        [[[ 4.60127294e-02, -5.09742089e-03,  5.29440530e-02, ...,\n",
       "           -4.72463593e-02, -4.41455562e-03,  1.32044479e-01],\n",
       "          [ 4.48901206e-02, -2.55477950e-02,  1.74755733e-02, ...,\n",
       "           -2.52343761e-03, -2.28122547e-02,  2.01603174e-02],\n",
       "          [-5.74903786e-02, -1.56154903e-02, -1.04794152e-01, ...,\n",
       "           -1.32351920e-01,  1.02982350e-01,  4.16969843e-02],\n",
       "          ...,\n",
       "          [-1.78386942e-02,  6.09289296e-02, -7.38652423e-02, ...,\n",
       "           -1.06809191e-01, -6.73968494e-02, -8.70910734e-02],\n",
       "          [ 1.72086731e-02,  1.91870611e-02, -6.18075058e-02, ...,\n",
       "           -3.84676903e-01,  6.30128430e-03,  3.47057618e-02],\n",
       "          [-6.01420887e-02,  1.68833719e-03,  4.85873632e-02, ...,\n",
       "           -2.67250270e-01, -5.11608534e-02, -5.00684790e-02]],\n",
       " \n",
       "         [[ 1.20720841e-01,  5.21902833e-03,  6.14555031e-02, ...,\n",
       "            9.62911099e-02, -7.04467073e-02, -8.57844669e-03],\n",
       "          [-6.24221563e-02,  9.30634513e-02, -4.40632403e-02, ...,\n",
       "           -7.37999380e-02, -5.38502596e-02,  6.74263462e-02],\n",
       "          [-1.04509808e-01, -6.87399656e-02,  4.53238040e-02, ...,\n",
       "            1.89627603e-01,  8.65247771e-02, -9.41616222e-02],\n",
       "          ...,\n",
       "          [ 1.43350884e-01, -1.44505963e-01, -7.51176551e-02, ...,\n",
       "           -4.47344631e-02, -5.42577803e-02, -1.20823391e-01],\n",
       "          [-1.23126283e-01, -7.41362795e-02, -1.65807396e-01, ...,\n",
       "           -2.73945212e-01, -5.14359474e-02, -1.33374721e-01],\n",
       "          [ 1.71835981e-02, -1.65953979e-01, -8.07275400e-02, ...,\n",
       "            8.10815319e-02, -1.50305524e-01, -9.80905518e-02]],\n",
       " \n",
       "         [[-5.36938347e-02,  6.21968880e-02, -1.27910972e-01, ...,\n",
       "            1.26298875e-01,  7.43945241e-02, -5.87664545e-02],\n",
       "          [ 1.65887475e-01, -5.57607375e-02, -1.85813710e-01, ...,\n",
       "            8.19925442e-02,  1.60473078e-01, -1.72120288e-01],\n",
       "          [ 1.03482053e-01,  1.36840135e-01, -2.06853822e-01, ...,\n",
       "           -6.25139922e-02,  1.12852380e-01, -8.39244649e-02],\n",
       "          ...,\n",
       "          [-5.66994771e-02,  2.15559319e-01, -2.57632434e-01, ...,\n",
       "            1.12838544e-01,  4.64138761e-02, -1.98950976e-01],\n",
       "          [-5.83271906e-02,  1.37995675e-01, -3.21466863e-01, ...,\n",
       "           -6.55675158e-02,  1.02042891e-01, -1.37105733e-01],\n",
       "          [ 4.89528358e-01, -7.71724060e-02,  2.40535125e-01, ...,\n",
       "            1.25440434e-01,  9.10746977e-02, -2.53960848e-01]]],\n",
       " \n",
       " \n",
       "        [[[-1.59705877e-02,  8.53679553e-02, -6.50489405e-02, ...,\n",
       "           -1.81577787e-01, -5.35956547e-02,  7.88630843e-02],\n",
       "          [-4.81567308e-02,  3.15858573e-02,  5.24029955e-02, ...,\n",
       "           -1.14078589e-01, -1.21597853e-02,  6.70521334e-02],\n",
       "          [-1.56436034e-03,  4.05423678e-02,  6.52679726e-02, ...,\n",
       "           -1.02382004e-01, -2.40714522e-03,  4.37226854e-02],\n",
       "          ...,\n",
       "          [-8.07246715e-02, -1.06118349e-02, -8.41482282e-02, ...,\n",
       "           -1.12935416e-01,  6.08105585e-02,  9.27602798e-02],\n",
       "          [-7.63120279e-02,  1.72924437e-02,  3.22760455e-02, ...,\n",
       "           -2.39182189e-01, -1.80086866e-02,  1.80982366e-01],\n",
       "          [ 9.13768113e-02, -1.88529179e-01, -3.28751728e-02, ...,\n",
       "            5.59760332e-02,  3.25017162e-02, -8.93943682e-02]],\n",
       " \n",
       "         [[ 1.09983616e-01,  6.45694882e-02, -8.12612101e-02, ...,\n",
       "           -1.28564790e-01,  1.26515746e-01, -1.34981563e-02],\n",
       "          [-6.92181140e-02, -5.57160266e-02, -8.91553387e-02, ...,\n",
       "            4.74038646e-02, -1.02085330e-01,  7.45456368e-02],\n",
       "          [ 2.97902571e-03, -3.80848013e-02, -3.19029465e-02, ...,\n",
       "           -6.21661581e-02,  1.08493365e-01,  1.37189314e-01],\n",
       "          ...,\n",
       "          [ 1.32176682e-01, -2.42246799e-02, -8.45016986e-02, ...,\n",
       "           -4.09931503e-02, -4.22876962e-02, -7.29135126e-02],\n",
       "          [-1.11041188e-01, -9.44052786e-02, -1.15466647e-01, ...,\n",
       "           -1.36116609e-01, -1.01204589e-01, -8.88911635e-03],\n",
       "          [-8.92884284e-03, -1.49687871e-01, -1.23342976e-01, ...,\n",
       "           -5.04744910e-02, -1.78199917e-01,  2.16190163e-02]],\n",
       " \n",
       "         [[-3.62965502e-02, -4.81508374e-02,  1.38676450e-01, ...,\n",
       "            1.20407842e-01, -1.85656119e-02,  9.29654613e-02],\n",
       "          [-1.32012546e-01, -5.88827394e-02, -7.29684681e-02, ...,\n",
       "            1.13982350e-01, -1.10201597e-01,  1.34169474e-01],\n",
       "          [ 1.46540567e-01,  3.11743226e-02, -1.16248308e-02, ...,\n",
       "            1.30257934e-01, -1.01253830e-01,  3.46214813e-03],\n",
       "          ...,\n",
       "          [-2.68177718e-01, -6.36691600e-02,  1.70597896e-01, ...,\n",
       "            1.59278326e-02, -8.45328793e-02,  2.09381014e-01],\n",
       "          [-1.67478323e-01, -1.41340256e-01, -8.38149488e-02, ...,\n",
       "            1.34368286e-01, -1.51019931e-01,  2.48613581e-01],\n",
       "          [ 3.85288507e-01, -2.38660023e-01, -6.38734400e-02, ...,\n",
       "            2.34550834e-02, -1.36211902e-01,  2.40766276e-02]]]],\n",
       "       dtype=float32)>,\n",
       " <tf.Variable 'conv2d_19/bias:0' shape=(32,) dtype=float32, numpy=\n",
       " array([-0.30348045, -0.36831775, -0.38090658, -0.50598264, -0.29259297,\n",
       "        -0.35354677, -0.48319942, -0.44631067, -0.38169777, -0.586684  ,\n",
       "        -0.2067009 , -0.42489368, -0.36166456, -0.31991845, -0.5320921 ,\n",
       "        -0.12797248, -0.03954682, -0.25930145, -0.17326412, -0.30304378,\n",
       "        -0.16824272, -0.16999604, -0.28360376, -0.37763205, -0.50235873,\n",
       "        -0.15646622, -0.47982776, -0.29927695, -0.45917934, -0.27279803,\n",
       "        -0.60776955, -0.11375599], dtype=float32)>]"
      ]
     },
     "execution_count": 1031,
     "metadata": {},
     "output_type": "execute_result"
    }
   ],
   "source": [
    "new_model.get_layer(index=trainlayer_id).weights"
   ]
  },
  {
   "cell_type": "code",
   "execution_count": 1032,
   "metadata": {},
   "outputs": [
    {
     "data": {
      "text/plain": [
       "[<tf.Variable 'conv2d_19/kernel:0' shape=(3, 3, 16, 32) dtype=float32, numpy=\n",
       " array([[[[ 8.76781717e-02, -1.11983880e-01, -3.15263607e-02, ...,\n",
       "           -9.55396816e-02, -1.36937901e-01, -4.35677581e-02],\n",
       "          [ 6.03629909e-02,  4.78179529e-02, -4.82308475e-04, ...,\n",
       "            1.20118298e-01, -2.31758561e-02, -4.36157323e-02],\n",
       "          [-9.18869078e-02,  1.25629932e-01,  3.81286955e-04, ...,\n",
       "           -3.89694646e-02, -3.33507285e-02,  7.97315985e-02],\n",
       "          ...,\n",
       "          [ 7.81575143e-02, -5.97815737e-02, -5.81670413e-03, ...,\n",
       "            4.01943438e-02, -1.24625951e-01,  1.30590489e-02],\n",
       "          [-3.95538472e-03,  5.75804561e-02, -1.05435595e-01, ...,\n",
       "           -6.02366067e-02,  1.98270082e-02,  8.11425969e-02],\n",
       "          [-2.49206368e-02,  1.97702572e-01,  4.93478915e-03, ...,\n",
       "            1.16087906e-01,  3.33083451e-01, -8.51361454e-02]],\n",
       " \n",
       "         [[ 1.26040980e-01, -1.39396176e-01,  4.82106954e-02, ...,\n",
       "            9.12470296e-02, -3.40500474e-01,  9.46780816e-02],\n",
       "          [-1.70991942e-02,  1.61577761e-01,  2.07329020e-02, ...,\n",
       "            2.02328399e-01, -2.81586617e-01, -4.43370678e-02],\n",
       "          [-1.06047755e-02,  1.27240434e-01,  8.99749547e-02, ...,\n",
       "            2.76531763e-02, -7.74023384e-02, -1.28540725e-01],\n",
       "          ...,\n",
       "          [-6.84394389e-02,  7.80380741e-02, -3.60736847e-02, ...,\n",
       "            1.24655329e-01, -2.85518825e-01,  2.58195624e-02],\n",
       "          [ 7.87629262e-02, -2.65343115e-02, -3.89218107e-02, ...,\n",
       "           -1.75177753e-01, -8.68940577e-02,  1.04910890e-02],\n",
       "          [-1.47988982e-02,  2.85565913e-01, -6.61483482e-02, ...,\n",
       "            1.36408225e-01,  2.97060281e-01, -2.48111337e-01]],\n",
       " \n",
       "         [[-3.67973335e-02, -9.41390023e-02,  1.04281545e-01, ...,\n",
       "           -8.86570215e-02, -2.37218320e-01, -2.32075918e-02],\n",
       "          [-1.63467079e-02, -5.48023209e-02,  4.40789089e-02, ...,\n",
       "            7.65068270e-03, -3.01204681e-01, -1.07149199e-01],\n",
       "          [-1.32851675e-01,  6.00826927e-02, -4.90037637e-05, ...,\n",
       "            1.16302207e-01, -2.20337942e-01, -2.08449736e-02],\n",
       "          ...,\n",
       "          [ 8.85041356e-02, -3.07827324e-01, -1.22689545e-01, ...,\n",
       "            5.64631335e-02, -1.17698431e-01,  3.92381884e-02],\n",
       "          [-9.41750035e-02, -4.24023807e-01,  5.83344772e-02, ...,\n",
       "           -9.16459858e-02, -5.00554562e-01,  5.87180778e-02],\n",
       "          [ 2.47362211e-01,  5.19452214e-01,  7.28880614e-02, ...,\n",
       "            1.22706793e-01,  3.81940603e-01, -2.60839909e-01]]],\n",
       " \n",
       " \n",
       "        [[[ 4.60127294e-02, -5.09742089e-03,  5.29440530e-02, ...,\n",
       "           -4.72463593e-02, -4.41455562e-03,  1.32044479e-01],\n",
       "          [ 4.48901206e-02, -2.55477950e-02,  1.74755733e-02, ...,\n",
       "           -2.52343761e-03, -2.28122547e-02,  2.01603174e-02],\n",
       "          [-5.74903786e-02, -1.56154903e-02, -1.04794152e-01, ...,\n",
       "           -1.32351920e-01,  1.02982350e-01,  4.16969843e-02],\n",
       "          ...,\n",
       "          [-1.78386942e-02,  6.09289296e-02, -7.38652423e-02, ...,\n",
       "           -1.06809191e-01, -6.73968494e-02, -8.70910734e-02],\n",
       "          [ 1.72086731e-02,  1.91870611e-02, -6.18075058e-02, ...,\n",
       "           -3.84676903e-01,  6.30128430e-03,  3.47057618e-02],\n",
       "          [-6.01420887e-02,  1.68833719e-03,  4.85873632e-02, ...,\n",
       "           -2.67250270e-01, -5.11608534e-02, -5.00684790e-02]],\n",
       " \n",
       "         [[ 1.20720841e-01,  5.21902833e-03,  6.14555031e-02, ...,\n",
       "            9.62911099e-02, -7.04467073e-02, -8.57844669e-03],\n",
       "          [-6.24221563e-02,  9.30634513e-02, -4.40632403e-02, ...,\n",
       "           -7.37999380e-02, -5.38502596e-02,  6.74263462e-02],\n",
       "          [-1.04509808e-01, -6.87399656e-02,  4.53238040e-02, ...,\n",
       "            1.89627603e-01,  8.65247771e-02, -9.41616222e-02],\n",
       "          ...,\n",
       "          [ 1.43350884e-01, -1.44505963e-01, -7.51176551e-02, ...,\n",
       "           -4.47344631e-02, -5.42577803e-02, -1.20823391e-01],\n",
       "          [-1.23126283e-01, -7.41362795e-02, -1.65807396e-01, ...,\n",
       "           -2.73945212e-01, -5.14359474e-02, -1.33374721e-01],\n",
       "          [ 1.71835981e-02, -1.65953979e-01, -8.07275400e-02, ...,\n",
       "            8.10815319e-02, -1.50305524e-01, -9.80905518e-02]],\n",
       " \n",
       "         [[-5.36938347e-02,  6.21968880e-02, -1.27910972e-01, ...,\n",
       "            1.26298875e-01,  7.43945241e-02, -5.87664545e-02],\n",
       "          [ 1.65887475e-01, -5.57607375e-02, -1.85813710e-01, ...,\n",
       "            8.19925442e-02,  1.60473078e-01, -1.72120288e-01],\n",
       "          [ 1.03482053e-01,  1.36840135e-01, -2.06853822e-01, ...,\n",
       "           -6.25139922e-02,  1.12852380e-01, -8.39244649e-02],\n",
       "          ...,\n",
       "          [-5.66994771e-02,  2.15559319e-01, -2.57632434e-01, ...,\n",
       "            1.12838544e-01,  4.64138761e-02, -1.98950976e-01],\n",
       "          [-5.83271906e-02,  1.37995675e-01, -3.21466863e-01, ...,\n",
       "           -6.55675158e-02,  1.02042891e-01, -1.37105733e-01],\n",
       "          [ 4.89528358e-01, -7.71724060e-02,  2.40535125e-01, ...,\n",
       "            1.25440434e-01,  9.10746977e-02, -2.53960848e-01]]],\n",
       " \n",
       " \n",
       "        [[[-1.59705877e-02,  8.53679553e-02, -6.50489405e-02, ...,\n",
       "           -1.81577787e-01, -5.35956547e-02,  7.88630843e-02],\n",
       "          [-4.81567308e-02,  3.15858573e-02,  5.24029955e-02, ...,\n",
       "           -1.14078589e-01, -1.21597853e-02,  6.70521334e-02],\n",
       "          [-1.56436034e-03,  4.05423678e-02,  6.52679726e-02, ...,\n",
       "           -1.02382004e-01, -2.40714522e-03,  4.37226854e-02],\n",
       "          ...,\n",
       "          [-8.07246715e-02, -1.06118349e-02, -8.41482282e-02, ...,\n",
       "           -1.12935416e-01,  6.08105585e-02,  9.27602798e-02],\n",
       "          [-7.63120279e-02,  1.72924437e-02,  3.22760455e-02, ...,\n",
       "           -2.39182189e-01, -1.80086866e-02,  1.80982366e-01],\n",
       "          [ 9.13768113e-02, -1.88529179e-01, -3.28751728e-02, ...,\n",
       "            5.59760332e-02,  3.25017162e-02, -8.93943682e-02]],\n",
       " \n",
       "         [[ 1.09983616e-01,  6.45694882e-02, -8.12612101e-02, ...,\n",
       "           -1.28564790e-01,  1.26515746e-01, -1.34981563e-02],\n",
       "          [-6.92181140e-02, -5.57160266e-02, -8.91553387e-02, ...,\n",
       "            4.74038646e-02, -1.02085330e-01,  7.45456368e-02],\n",
       "          [ 2.97902571e-03, -3.80848013e-02, -3.19029465e-02, ...,\n",
       "           -6.21661581e-02,  1.08493365e-01,  1.37189314e-01],\n",
       "          ...,\n",
       "          [ 1.32176682e-01, -2.42246799e-02, -8.45016986e-02, ...,\n",
       "           -4.09931503e-02, -4.22876962e-02, -7.29135126e-02],\n",
       "          [-1.11041188e-01, -9.44052786e-02, -1.15466647e-01, ...,\n",
       "           -1.36116609e-01, -1.01204589e-01, -8.88911635e-03],\n",
       "          [-8.92884284e-03, -1.49687871e-01, -1.23342976e-01, ...,\n",
       "           -5.04744910e-02, -1.78199917e-01,  2.16190163e-02]],\n",
       " \n",
       "         [[-3.62965502e-02, -4.81508374e-02,  1.38676450e-01, ...,\n",
       "            1.20407842e-01, -1.85656119e-02,  9.29654613e-02],\n",
       "          [-1.32012546e-01, -5.88827394e-02, -7.29684681e-02, ...,\n",
       "            1.13982350e-01, -1.10201597e-01,  1.34169474e-01],\n",
       "          [ 1.46540567e-01,  3.11743226e-02, -1.16248308e-02, ...,\n",
       "            1.30257934e-01, -1.01253830e-01,  3.46214813e-03],\n",
       "          ...,\n",
       "          [-2.68177718e-01, -6.36691600e-02,  1.70597896e-01, ...,\n",
       "            1.59278326e-02, -8.45328793e-02,  2.09381014e-01],\n",
       "          [-1.67478323e-01, -1.41340256e-01, -8.38149488e-02, ...,\n",
       "            1.34368286e-01, -1.51019931e-01,  2.48613581e-01],\n",
       "          [ 3.85288507e-01, -2.38660023e-01, -6.38734400e-02, ...,\n",
       "            2.34550834e-02, -1.36211902e-01,  2.40766276e-02]]]],\n",
       "       dtype=float32)>,\n",
       " <tf.Variable 'conv2d_19/bias:0' shape=(32,) dtype=float32, numpy=\n",
       " array([-0.30348045, -0.36831775, -0.38090658, -0.50598264, -0.29259297,\n",
       "        -0.35354677, -0.48319942, -0.44631067, -0.38169777, -0.586684  ,\n",
       "        -0.2067009 , -0.42489368, -0.36166456, -0.31991845, -0.5320921 ,\n",
       "        -0.12797248, -0.03954682, -0.25930145, -0.17326412, -0.30304378,\n",
       "        -0.16824272, -0.16999604, -0.28360376, -0.37763205, -0.50235873,\n",
       "        -0.15646622, -0.47982776, -0.29927695, -0.45917934, -0.27279803,\n",
       "        -0.60776955, -0.11375599], dtype=float32)>]"
      ]
     },
     "execution_count": 1032,
     "metadata": {},
     "output_type": "execute_result"
    }
   ],
   "source": [
    "# DEBUG: to Delete\n",
    "conv_denoising_ae_clone.layers[0].get_layer(index=trainlayer_id).weights"
   ]
  },
  {
   "cell_type": "code",
   "execution_count": 1033,
   "metadata": {},
   "outputs": [
    {
     "name": "stdout",
     "output_type": "stream",
     "text": [
      "INFO:tensorflow:Assets written to: class_net_01\\assets\n"
     ]
    }
   ],
   "source": [
    "new_model.save('class_net_01')"
   ]
  },
  {
   "cell_type": "markdown",
   "metadata": {},
   "source": [
    "## Creating Training Data for Unsupervised Pre-Training Model\n",
    "In this part 500 datarow sets will be created for training a normal backpropagation model based on the unsupervised pre-trained model.\n",
    "\n",
    "Additionally the remaining datarows will be used for testing the models accuracy."
   ]
  },
  {
   "cell_type": "code",
   "execution_count": 1034,
   "metadata": {},
   "outputs": [
    {
     "data": {
      "text/plain": [
       "(500, 28, 28, 1)"
      ]
     },
     "execution_count": 1034,
     "metadata": {},
     "output_type": "execute_result"
    }
   ],
   "source": [
    "X_train_resh_ch[:500].shape\n"
   ]
  },
  {
   "cell_type": "code",
   "execution_count": 1035,
   "metadata": {},
   "outputs": [
    {
     "data": {
      "text/plain": [
       "(13360, 28, 28, 1)"
      ]
     },
     "execution_count": 1035,
     "metadata": {},
     "output_type": "execute_result"
    }
   ],
   "source": [
    "X_valid_resh_ch[500:].shape"
   ]
  },
  {
   "cell_type": "code",
   "execution_count": 1036,
   "metadata": {},
   "outputs": [],
   "source": [
    "#DEBUG TODO: Using the reshape_conv_image function here or better the already converted dataframe set.\n",
    "\n",
    "X_train_pret_resh_500 = X_train_resh_ch[:500]\n",
    "X_valid_pret_resh_500 = X_valid_resh_ch[:500]\n",
    "\n",
    "X_valid_pret_resh_r = X_valid_resh_ch[500:]   # Choosing the last 500 digits for testing unknown, untrained data\n",
    "\n",
    "#X_train_pretrained_500 = X_train_resh[:500]\n",
    "#X_valid_pretrained_500 = X_valid_resh[:500]\n",
    "\n",
    "y_train_pretrained_500 = y_train_resh[:500]\n",
    "y_valid_pretrained_500 = y_valid_resh[:500]\n",
    "\n",
    "y_valid_pretrained_r = y_valid_resh[500:]\n",
    "\n",
    "\n",
    "# reshaping for conv model structure (batchsize, pixel h, pixel w, channel)\n",
    "#X_train_pret_resh_500 = X_train_pretrained_500.reshape(X_train_pretrained_500.shape[0],X_train_pretrained_500.shape[1], X_train_pretrained_500.shape[2], 1)\n",
    "#X_valid_pret_resh_500 = X_valid_pretrained_500.reshape(X_valid_pretrained_500.shape[0],X_valid_pretrained_500.shape[1], X_valid_pretrained_500.shape[2], 1)\n",
    "\n"
   ]
  },
  {
   "cell_type": "code",
   "execution_count": 1037,
   "metadata": {},
   "outputs": [
    {
     "name": "stdout",
     "output_type": "stream",
     "text": [
      "(500, 28, 28, 1)\n",
      "(500, 28, 28, 1)\n",
      "(500, 28, 28, 1)\n",
      "(500, 1)\n",
      "(500, 1)\n",
      "(500, 1)\n"
     ]
    }
   ],
   "source": [
    "print(X_train_pret_resh_500.shape)\n",
    "print(X_valid_pret_resh_500.shape)\n",
    "print(X_valid_pret_resh_l_500.shape)\n",
    "print(y_train_pretrained_500.shape)\n",
    "print(y_valid_pretrained_500.shape)\n",
    "print(y_valid_pretrained_l_500.shape)\n",
    "\n"
   ]
  },
  {
   "cell_type": "code",
   "execution_count": 1038,
   "metadata": {},
   "outputs": [
    {
     "data": {
      "image/png": "[encoded data removed]",
      "text/plain": [
       "<Figure size 432x288 with 1 Axes>"
      ]
     },
     "metadata": {
      "needs_background": "light"
     },
     "output_type": "display_data"
    }
   ],
   "source": [
    "plot_image(X_train_pret_resh_500[499])"
   ]
  },
  {
   "cell_type": "code",
   "execution_count": 1039,
   "metadata": {},
   "outputs": [],
   "source": [
    "root_logdir = \"../../tensorboard-logs\"\n",
    "\n",
    "def get_run_logdir(root_logdir, project):\n",
    "    '''\n",
    "    Returns logdir to the Tensorboard log for a specific project.\n",
    "\n",
    "            Parameters:\n",
    "                    root_logdir (str) : basic logdir from Tensorboard\n",
    "                    project (str): projectname that will be logged in TB\n",
    "\n",
    "            Returns:\n",
    "                    os.path (str): Path to the final logdir\n",
    "    '''\n",
    "    import time\n",
    "    run_id = time.strftime(\"run_%Y_%m_%d-%H_%M_%S\")\n",
    "    project_logdir = os.path.join(root_logdir,project)\n",
    "    return os.path.join(project_logdir, run_id)\n",
    "\n",
    "\n",
    "tensorboard_callback = tf.keras.callbacks.TensorBoard(log_dir=get_run_logdir(root_logdir,\"autoencoding_mnist\"), histogram_freq=1)\n"
   ]
  },
  {
   "cell_type": "code",
   "execution_count": 1040,
   "metadata": {},
   "outputs": [
    {
     "name": "stdout",
     "output_type": "stream",
     "text": [
      "Epoch 1/10\n",
      "16/16 [==============================] - 1s 22ms/step - loss: 4.1167 - accuracy: 0.1120 - val_loss: 2.7740 - val_accuracy: 0.1120\n",
      "Epoch 2/10\n",
      "16/16 [==============================] - 0s 13ms/step - loss: 2.3786 - accuracy: 0.0820 - val_loss: 1.8822 - val_accuracy: 0.1040\n",
      "Epoch 3/10\n",
      "16/16 [==============================] - 0s 12ms/step - loss: 1.6203 - accuracy: 0.0780 - val_loss: 1.3303 - val_accuracy: 0.1440\n",
      "Epoch 4/10\n",
      "16/16 [==============================] - 0s 12ms/step - loss: 1.2221 - accuracy: 0.0860 - val_loss: 1.0017 - val_accuracy: 0.1080\n",
      "Epoch 5/10\n",
      "16/16 [==============================] - 0s 12ms/step - loss: 0.9190 - accuracy: 0.0700 - val_loss: 0.8222 - val_accuracy: 0.1260\n",
      "Epoch 6/10\n",
      "16/16 [==============================] - 0s 11ms/step - loss: 0.7353 - accuracy: 0.0800 - val_loss: 0.7186 - val_accuracy: 0.1160\n",
      "Epoch 7/10\n",
      "16/16 [==============================] - 0s 12ms/step - loss: 0.6241 - accuracy: 0.0740 - val_loss: 0.6219 - val_accuracy: 0.1100\n",
      "Epoch 8/10\n",
      "16/16 [==============================] - 0s 13ms/step - loss: 0.5248 - accuracy: 0.0820 - val_loss: 0.5604 - val_accuracy: 0.1200\n",
      "Epoch 9/10\n",
      "16/16 [==============================] - 0s 11ms/step - loss: 0.4680 - accuracy: 0.0760 - val_loss: 0.5236 - val_accuracy: 0.1160\n",
      "Epoch 10/10\n",
      "16/16 [==============================] - 0s 11ms/step - loss: 0.4179 - accuracy: 0.0800 - val_loss: 0.5001 - val_accuracy: 0.1160\n"
     ]
    }
   ],
   "source": [
    "history_pretrainted = new_model.fit(X_train_pret_resh_500,y_train_pretrained_500 ,epochs=20, \\\n",
    "                                        validation_data=(X_valid_pret_resh_500,y_valid_pretrained_500), \\\n",
    "                                        callbacks=tensorboard_callback\n",
    "                                    )\n"
   ]
  },
  {
   "cell_type": "markdown",
   "metadata": {},
   "source": [
    "### Loss Plotting"
   ]
  },
  {
   "cell_type": "code",
   "execution_count": 1041,
   "metadata": {},
   "outputs": [
    {
     "data": {
      "text/plain": [
       "[<matplotlib.lines.Line2D at 0x1a10f89bf40>]"
      ]
     },
     "execution_count": 1041,
     "metadata": {},
     "output_type": "execute_result"
    },
    {
     "data": {
      "image/png": "[encoded data removed]",
      "text/plain": [
       "<Figure size 432x288 with 1 Axes>"
      ]
     },
     "metadata": {
      "needs_background": "light"
     },
     "output_type": "display_data"
    }
   ],
   "source": [
    "plt.plot(history_pretrainted.history['loss'])\n",
    "plt.plot(history_pretrainted.history['val_loss'])"
   ]
  },
  {
   "cell_type": "markdown",
   "metadata": {},
   "source": [
    "## Predicting the Digits on a Pre-Trained Autoencoder based Model\n",
    "\n",
    "The prediction test on unseen data with the pre-trained autoencoder based model will be used with the validation dataset. The model is trained on the first 500 digits from the train set and validated by the first 500 digits on the validation set. There are still enough data in the validation set (and in the train dataset but it sounds better to use the validation set for) to test the model with unseen data (in total 13.360 digits).\n",
    "\n",
    "First there is a visualized test, where the test digit and its prediction will be printed."
   ]
  },
  {
   "cell_type": "code",
   "execution_count": 1050,
   "metadata": {},
   "outputs": [
    {
     "data": {
      "image/png": "[encoded data removed]",
      "text/plain": [
       "<Figure size 432x288 with 1 Axes>"
      ]
     },
     "metadata": {
      "needs_background": "light"
     },
     "output_type": "display_data"
    }
   ],
   "source": [
    "idx_testnumber_cls_ae = 8      # Index of test number for the next plottings \n",
    "plot_image(X_valid_pret_resh_r[idx_testnumber_cls_ae])"
   ]
  },
  {
   "cell_type": "code",
   "execution_count": 1052,
   "metadata": {},
   "outputs": [
    {
     "name": "stdout",
     "output_type": "stream",
     "text": [
      "Prediction based on the picture above: 6\n",
      "Probability of the Prediction: [[0.00128029 0.41287717 0.00164264 0.00607237 0.075052   0.00086092\n",
      "  0.4848449  0.00169149 0.00999648 0.00568178]]\n"
     ]
    }
   ],
   "source": [
    "print(f\"Prediction based on the picture above: {np.argmax(new_model.predict(X_valid_pret_resh_r[np.newaxis, idx_testnumber_cls_ae]))}\")\n",
    "print(f\"Probability of the Prediction: {new_model.predict(X_valid_pret_resh_r[np.newaxis, idx_testnumber_cls_ae])}\")\n"
   ]
  },
  {
   "cell_type": "markdown",
   "metadata": {},
   "source": [
    "Following will be determine the accuracy on the remaining validation dataset of 13.360 digits and shows the overall accuracy of the model after pre-training and classification training."
   ]
  },
  {
   "cell_type": "code",
   "execution_count": 1046,
   "metadata": {},
   "outputs": [],
   "source": [
    "y_val_pred_r = new_model.predict(X_valid_pret_resh_r)\n",
    "y_val_pred_r = y_val_pred_r.argmax(axis = 1)[:,None]"
   ]
  },
  {
   "cell_type": "code",
   "execution_count": 1047,
   "metadata": {},
   "outputs": [
    {
     "name": "stdout",
     "output_type": "stream",
     "text": [
      "Unsupervised pre-trained model, trained on 500 digits, predicting 13360 digit with only 10 epochs with an accuracy of: 0.827619760479042\n"
     ]
    }
   ],
   "source": [
    "from sklearn.metrics import accuracy_score\n",
    "acc_score_val = accuracy_score(y_valid_pretrained_r, y_val_pred_r)\n",
    "\n",
    "print(f\"Unsupervised pre-trained model, trained on 500 digits, predicting {y_val_pred_r.shape[0]:} digit with only 20 epochs trained with an accuracy of: {acc_score_val}\")"
   ]
  },
  {
   "cell_type": "code",
   "execution_count": null,
   "metadata": {},
   "outputs": [],
   "source": []
  }
 ],
 "metadata": {
  "interpreter": {
   "hash": "2b49f70aa2f17b03439dc8f4bbaf601f728142d0d0d774f4bbd10ea7a16b86ea"
  },
  "kernelspec": {
   "display_name": "Python 3.8.0 64-bit ('wingpuflake_keras': conda)",
   "language": "python",
   "name": "python3"
  },
  "language_info": {
   "codemirror_mode": {
    "name": "ipython",
    "version": 3
   },
   "file_extension": ".py",
   "mimetype": "text/x-python",
   "name": "python",
   "nbconvert_exporter": "python",
   "pygments_lexer": "ipython3",
   "version": "3.9.0"
  },
  "orig_nbformat": 4
 },
 "nbformat": 4,
 "nbformat_minor": 2
}
