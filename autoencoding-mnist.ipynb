{
 "cells": [
  {
   "cell_type": "markdown",
   "metadata": {},
   "source": [
    "# Introduction\n",
    "This notebook will handle a denoising autoencoder on the MNIST-dataset.\n",
    "\n",
    "The specifics of autoencoding are in the fact that there is no label needed to predict as it is known in common deep-learning architecture. Under this particular architecture, the goal is to \"predict\" its given input values (the features). Therefore we better say \"reconstruct\" instead of \"predict\". The model is forced to reconstruct the the given features, this is implemented through three major changes to the traditional NN structure:\n",
    "1. Building the model out of two seperate models (encoder and decorder).\n",
    "2. Reducing the given information in the middle of the network (codings).\n",
    "3. Using the features as label values as well (prediction value is the input).\n",
    "\n",
    "You will find these structure changes in this notebook\n",
    "\n",
    "## My other Projects\n",
    "If you are interested in some more clearly analysis of the dataset, take a look into my other notebooks about the MNIS-dataset:\n",
    "\n",
    "- cnn-for-digit-recognition-MNIST (accuracy score: 0.99135):\n",
    "    - https://www.kaggle.com/skiplik/cnn-for-digit-recognition-mnist \n",
    "- Finetuning Hyperparameters in Deep Neural Network:\n",
    "    - https://www.kaggle.com/skiplik/finetuning-hyperparameters-in-deep-neural-network\n",
    "- Digit Recognition with a Deep Neural Network:\n",
    "    - https://www.kaggle.com/skiplik/digit-recognition-with-a-deep-neural-network\n",
    "- Another MNIST Try:\n",
    "    - https://www.kaggle.com/skiplik/another-mnist-try\n",
    "- First NN by Detecting Handwritten Characters:\n",
    "    - https://www.kaggle.com/skiplik/first-nn-by-detecting-handwritten-characters \n",
    "- ..."
   ]
  },
  {
   "cell_type": "markdown",
   "metadata": {},
   "source": [
    "# Imports"
   ]
  },
  {
   "cell_type": "code",
   "execution_count": 19,
   "metadata": {},
   "outputs": [
    {
     "name": "stdout",
     "output_type": "stream",
     "text": [
      "Tensorflow Version:  2.3.0\n",
      "Keras Version:  2.4.0\n",
      "No GPU was detected. LSTMs and CNNs can be very slow without a GPU.\n",
      "../autoencoding-mnist/data/input/digit-recognizer\\keras_reg_160_10_002.sav\n",
      "../autoencoding-mnist/data/input/digit-recognizer\\keras_reg_jl_160_10_002.sav\n",
      "../autoencoding-mnist/data/input/digit-recognizer\\sample_submission.csv\n",
      "../autoencoding-mnist/data/input/digit-recognizer\\test.csv\n",
      "../autoencoding-mnist/data/input/digit-recognizer\\train.csv\n"
     ]
    }
   ],
   "source": [
    "import sys\n",
    "assert sys.version_info >= (3,5)\n",
    "\n",
    "# Is this notebook running on Colab or Kaggle?\n",
    "IS_COLAB = \"google.colab\" in sys.modules\n",
    "IS_KAGGLE = \"kaggle_secrets\" in sys.modules\n",
    "\n",
    "import numpy as np # linear algebra\n",
    "import pandas as pd # data processing, CSV file I/O (e.g. pd.read_csv)\n",
    "import matplotlib.pyplot as plt\n",
    "from functools import partial\n",
    "from sklearn.model_selection import train_test_split\n",
    "\n",
    "from sklearn.pipeline import Pipeline\n",
    "from sklearn.preprocessing import StandardScaler\n",
    "from sklearn.preprocessing import Normalizer\n",
    "\n",
    "import tensorflow as tf\n",
    "from tensorflow import keras\n",
    "from tensorflow import image\n",
    "from tensorflow import core\n",
    "from tensorflow.keras import layers\n",
    "\n",
    "assert tf.__version__ >= \"2.0\"\n",
    "\n",
    "print(\"Tensorflow Version: \", tf.__version__)\n",
    "print(\"Keras Version: \",keras.__version__)\n",
    "\n",
    "if not tf.config.list_physical_devices('GPU'):\n",
    "    print(\"No GPU was detected. LSTMs and CNNs can be very slow without a GPU.\")\n",
    "    if IS_COLAB:\n",
    "        print(\"Go to Runtime > Change runtime and select a GPU hardware accelerator.\")\n",
    "    if IS_KAGGLE:\n",
    "        print(\"Go to Settings > Accelerator and select GPU.\")\n",
    "\n",
    "\n",
    "tf.random.set_seed(42)\n",
    "np.random.seed(42)\n",
    "random_state=42\n",
    "\n",
    "kaggle = 0 # Kaggle path active = 1\n",
    "\n",
    "# change your local path here\n",
    "if kaggle == 1 :\n",
    "    MNIST_PATH= '../input/digit-recognizer'\n",
    "else:\n",
    "    MNIST_PATH= '../autoencoding-mnist/data/input/digit-recognizer'\n",
    "\n",
    "\n",
    "\n",
    "import os\n",
    "for dirname, _, filenames in os.walk(MNIST_PATH): \n",
    "    for filename in filenames:\n",
    "        print(os.path.join(dirname, filename))\n",
    "        "
   ]
  },
  {
   "cell_type": "markdown",
   "metadata": {},
   "source": [
    "## Get The Data"
   ]
  },
  {
   "cell_type": "code",
   "execution_count": 20,
   "metadata": {},
   "outputs": [],
   "source": [
    "# Data path and file\n",
    "CSV_FILE_TRAIN='train.csv'\n",
    "CSV_FILE_TEST='test.csv'\n",
    "\n",
    "def load_csv_data(path, csv_file):\n",
    "    csv_path = os.path.join(path, csv_file)\n",
    "    return pd.read_csv(csv_path)\n",
    "\n",
    "def load_csv_data_manuel(path, csv_file):\n",
    "    csv_path = os.path.join(path, csv_file)\n",
    "    csv_file = open(csv_path, 'r')\n",
    "    csv_data = csv_file.readlines()\n",
    "    csv_file.close()\n",
    "    return csv_data\n",
    "\n",
    "def split_train_val(data, val_ratio):\n",
    "    return \n",
    "    \n",
    "\n",
    "train = load_csv_data(MNIST_PATH,CSV_FILE_TRAIN)\n",
    "test = load_csv_data(MNIST_PATH,CSV_FILE_TEST)"
   ]
  },
  {
   "cell_type": "markdown",
   "metadata": {},
   "source": [
    "### Train Val Split"
   ]
  },
  {
   "cell_type": "code",
   "execution_count": 21,
   "metadata": {},
   "outputs": [],
   "source": [
    "X_train, X_valid, y_train, y_valid =  train_test_split(train.loc[:, train.columns != 'label'], train['label'], test_size=0.33, random_state=random_state)"
   ]
  },
  {
   "cell_type": "markdown",
   "metadata": {},
   "source": [
    "### Preparing for Neural Network Structure"
   ]
  },
  {
   "cell_type": "markdown",
   "metadata": {},
   "source": [
    "#### Datapipeline"
   ]
  },
  {
   "cell_type": "code",
   "execution_count": 22,
   "metadata": {},
   "outputs": [],
   "source": [
    "X_train = X_train.astype(np.float32) / 255\n",
    "X_valid = X_valid.astype(np.float32) / 255\n",
    "X_test = test.astype(np.float32) / 255"
   ]
  },
  {
   "cell_type": "code",
   "execution_count": 23,
   "metadata": {},
   "outputs": [
    {
     "name": "stdout",
     "output_type": "stream",
     "text": [
      "\"X_train\" shape: (28140, 784)\n",
      "\"X_valid\" shape: (13860, 784)\n",
      "\"X_test\" shape: (28000, 784)\n"
     ]
    }
   ],
   "source": [
    "print(f'\"X_train\" shape: {X_train.shape}')\n",
    "print(f'\"X_valid\" shape: {X_valid.shape}')\n",
    "print(f'\"X_test\" shape: {X_test.shape}')"
   ]
  },
  {
   "cell_type": "markdown",
   "metadata": {},
   "source": [
    "#### Reshaping Data in Tensor Batch Structure"
   ]
  },
  {
   "cell_type": "code",
   "execution_count": 24,
   "metadata": {},
   "outputs": [],
   "source": [
    "X_train_resh = X_train.values.reshape(X_train.shape[0], 28, 28)\n",
    "X_valid_resh = X_valid.values.reshape(X_valid.shape[0], 28, 28)\n",
    "\n",
    "y_train_resh =  y_train.values.reshape(y_train.shape[0], 1)\n",
    "y_valid_resh = y_valid.values.reshape(y_valid.shape[0], 1)"
   ]
  },
  {
   "cell_type": "code",
   "execution_count": 25,
   "metadata": {},
   "outputs": [
    {
     "name": "stdout",
     "output_type": "stream",
     "text": [
      "\"X_train_resh\" shape: (28140, 28, 28)\n",
      "\"X_valid_resh\" shape: (13860, 28, 28)\n",
      "\"y_train_resh\" shape: (28140, 1)\n",
      "\"y_valid_resh\" shape: (13860, 1)\n"
     ]
    }
   ],
   "source": [
    "print(f'\"X_train_resh\" shape: {X_train_resh.shape}')\n",
    "print(f'\"X_valid_resh\" shape: {X_valid_resh.shape}')\n",
    "print(f'\"y_train_resh\" shape: {y_train_resh.shape}')\n",
    "print(f'\"y_valid_resh\" shape: {y_valid_resh.shape}')"
   ]
  },
  {
   "cell_type": "markdown",
   "metadata": {},
   "source": [
    "# Plotting "
   ]
  },
  {
   "cell_type": "code",
   "execution_count": 26,
   "metadata": {},
   "outputs": [],
   "source": [
    "def plot_image(image):\n",
    "    plt.imshow(image, cmap=\"binary\")\n",
    "    plt.axis(\"off\")\n",
    "\n",
    "def show_reconstructions(model, X_valid, n_images=5):\n",
    "    reconstructions = model.predict(X_valid[:n_images])\n",
    "    fig = plt.figure(figsize=(n_images * 1.5, 3))\n",
    "\n",
    "    for image_index in range(n_images):\n",
    "        plt.subplot(2, n_images, 1 + image_index)\n",
    "        plot_image(X_valid[image_index])\n",
    "        plt.subplot(2, n_images, 1 + n_images + image_index)\n",
    "        plot_image(reconstructions[image_index])"
   ]
  },
  {
   "cell_type": "markdown",
   "metadata": {},
   "source": [
    "### Plotting One Example Value"
   ]
  },
  {
   "cell_type": "code",
   "execution_count": 27,
   "metadata": {},
   "outputs": [
    {
     "name": "stdout",
     "output_type": "stream",
     "text": [
      "Example label: 1\n"
     ]
    }
   ],
   "source": [
    "print(f'Example label: {y_valid.iloc[1]}')"
   ]
  },
  {
   "cell_type": "code",
   "execution_count": 28,
   "metadata": {},
   "outputs": [
    {
     "data": {
      "image/png": "[encoded data removed]",
      "text/plain": [
       "<Figure size 432x288 with 1 Axes>"
      ]
     },
     "metadata": {
      "needs_background": "light"
     },
     "output_type": "display_data"
    }
   ],
   "source": [
    "plot_image(X_valid.iloc[1].values.reshape(28,28))"
   ]
  },
  {
   "cell_type": "markdown",
   "metadata": {},
   "source": [
    "# Model Creation - Deep Denoising Autoencoder\n",
    "An autoencoder architecture includes two seperate models, the encoder and the decorder. In the neuron point of view they both have a rejuvenation which represents a need of information compression - keep only the realy relevant information and drop the less relevant information. The encoder has an input of 784 neurons and an output of only 30 (which represents the codings). On the otherside the decoder has an inputshape of 30 neurons with an layer of 100 neurons, which rises to an layer of 28 * 28 neurons (=784) again. \n",
    "\n",
    "These two models combined bring the need of reducing given information and (artificially) recreating them again. Thats the specialty of the autoencoder structure."
   ]
  },
  {
   "cell_type": "code",
   "execution_count": 29,
   "metadata": {},
   "outputs": [],
   "source": [
    "dropout_encoder = keras.models.Sequential([\n",
    "    keras.layers.Flatten(input_shape=[28, 28]),\n",
    "    keras.layers.Dropout(0.5),\n",
    "    keras.layers.Dense(100, activation=\"selu\"),\n",
    "    keras.layers.Dense(30, activation=\"selu\")           # Codings\n",
    "])\n",
    "\n",
    "dropout_decoder = keras.models.Sequential([\n",
    "    keras.layers.Dense(100, activation=\"selu\", input_shape=[30]),\n",
    "    keras.layers.Dense(28 * 28, activation=\"sigmoid\"),  ### PROBLEM AREA found: USE THE RIGHT ACTIVATION FUNCTION\n",
    "    keras.layers.Reshape([28, 28])\n",
    "])\n",
    "\n",
    "dropout_ae = keras.models.Sequential([dropout_encoder, dropout_decoder])\n",
    "dropout_ae.compile(loss=\"binary_crossentropy\", optimizer=keras.optimizers.SGD(lr=1.5))\n"
   ]
  },
  {
   "cell_type": "markdown",
   "metadata": {},
   "source": [
    "#### Encoder Architecture"
   ]
  },
  {
   "cell_type": "code",
   "execution_count": 30,
   "metadata": {},
   "outputs": [
    {
     "name": "stdout",
     "output_type": "stream",
     "text": [
      "Model: \"sequential_3\"\n",
      "_________________________________________________________________\n",
      "Layer (type)                 Output Shape              Param #   \n",
      "=================================================================\n",
      "flatten_1 (Flatten)          (None, 784)               0         \n",
      "_________________________________________________________________\n",
      "dropout_1 (Dropout)          (None, 784)               0         \n",
      "_________________________________________________________________\n",
      "dense_4 (Dense)              (None, 100)               78500     \n",
      "_________________________________________________________________\n",
      "dense_5 (Dense)              (None, 30)                3030      \n",
      "=================================================================\n",
      "Total params: 81,530\n",
      "Trainable params: 81,530\n",
      "Non-trainable params: 0\n",
      "_________________________________________________________________\n"
     ]
    }
   ],
   "source": [
    "dropout_encoder.summary()"
   ]
  },
  {
   "cell_type": "markdown",
   "metadata": {},
   "source": [
    "#### Decoder Architecture"
   ]
  },
  {
   "cell_type": "code",
   "execution_count": 31,
   "metadata": {},
   "outputs": [
    {
     "name": "stdout",
     "output_type": "stream",
     "text": [
      "Model: \"sequential_4\"\n",
      "_________________________________________________________________\n",
      "Layer (type)                 Output Shape              Param #   \n",
      "=================================================================\n",
      "dense_6 (Dense)              (None, 100)               3100      \n",
      "_________________________________________________________________\n",
      "dense_7 (Dense)              (None, 784)               79184     \n",
      "_________________________________________________________________\n",
      "reshape_1 (Reshape)          (None, 28, 28)            0         \n",
      "=================================================================\n",
      "Total params: 82,284\n",
      "Trainable params: 82,284\n",
      "Non-trainable params: 0\n",
      "_________________________________________________________________\n"
     ]
    }
   ],
   "source": [
    "dropout_decoder.summary()"
   ]
  },
  {
   "cell_type": "markdown",
   "metadata": {},
   "source": [
    "## Training "
   ]
  },
  {
   "cell_type": "code",
   "execution_count": 32,
   "metadata": {},
   "outputs": [
    {
     "name": "stdout",
     "output_type": "stream",
     "text": [
      "Epoch 1/30\n",
      "880/880 [==============================] - 2s 2ms/step - loss: 0.2242 - val_loss: 0.1742\n",
      "Epoch 2/30\n",
      "880/880 [==============================] - 2s 2ms/step - loss: 0.1679 - val_loss: 0.1491\n",
      "Epoch 3/30\n",
      "880/880 [==============================] - 2s 2ms/step - loss: 0.1543 - val_loss: 0.1407\n",
      "Epoch 4/30\n",
      "880/880 [==============================] - 2s 2ms/step - loss: 0.1480 - val_loss: 0.1339\n",
      "Epoch 5/30\n",
      "880/880 [==============================] - 2s 2ms/step - loss: 0.1436 - val_loss: 0.1312\n",
      "Epoch 6/30\n",
      "880/880 [==============================] - 2s 2ms/step - loss: 0.1406 - val_loss: 0.1311\n",
      "Epoch 7/30\n",
      "880/880 [==============================] - 2s 2ms/step - loss: 0.1379 - val_loss: 0.1278\n",
      "Epoch 8/30\n",
      "880/880 [==============================] - 2s 2ms/step - loss: 0.1356 - val_loss: 0.1261\n",
      "Epoch 9/30\n",
      "880/880 [==============================] - 2s 2ms/step - loss: 0.1337 - val_loss: 0.1223\n",
      "Epoch 10/30\n",
      "880/880 [==============================] - 2s 2ms/step - loss: 0.1321 - val_loss: 0.1204\n",
      "Epoch 11/30\n",
      "880/880 [==============================] - 2s 2ms/step - loss: 0.1307 - val_loss: 0.1224\n",
      "Epoch 12/30\n",
      "880/880 [==============================] - 2s 2ms/step - loss: 0.1295 - val_loss: 0.1193\n",
      "Epoch 13/30\n",
      "880/880 [==============================] - 2s 2ms/step - loss: 0.1284 - val_loss: 0.1179\n",
      "Epoch 14/30\n",
      "880/880 [==============================] - 2s 2ms/step - loss: 0.1276 - val_loss: 0.1172\n",
      "Epoch 15/30\n",
      "880/880 [==============================] - 2s 2ms/step - loss: 0.1267 - val_loss: 0.1162\n",
      "Epoch 16/30\n",
      "880/880 [==============================] - 2s 2ms/step - loss: 0.1258 - val_loss: 0.1162\n",
      "Epoch 17/30\n",
      "880/880 [==============================] - 2s 2ms/step - loss: 0.1251 - val_loss: 0.1196\n",
      "Epoch 18/30\n",
      "880/880 [==============================] - 2s 2ms/step - loss: 0.1246 - val_loss: 0.1151\n",
      "Epoch 19/30\n",
      "880/880 [==============================] - 2s 2ms/step - loss: 0.1240 - val_loss: 0.1147\n",
      "Epoch 20/30\n",
      "880/880 [==============================] - 2s 2ms/step - loss: 0.1233 - val_loss: 0.1137\n",
      "Epoch 21/30\n",
      "880/880 [==============================] - 2s 2ms/step - loss: 0.1230 - val_loss: 0.1138\n",
      "Epoch 22/30\n",
      "880/880 [==============================] - 2s 2ms/step - loss: 0.1224 - val_loss: 0.1130\n",
      "Epoch 23/30\n",
      "880/880 [==============================] - 2s 2ms/step - loss: 0.1218 - val_loss: 0.1125\n",
      "Epoch 24/30\n",
      "880/880 [==============================] - 2s 2ms/step - loss: 0.1211 - val_loss: 0.1115\n",
      "Epoch 25/30\n",
      "880/880 [==============================] - 2s 2ms/step - loss: 0.1206 - val_loss: 0.1107\n",
      "Epoch 26/30\n",
      "880/880 [==============================] - 2s 2ms/step - loss: 0.1200 - val_loss: 0.1109\n",
      "Epoch 27/30\n",
      "880/880 [==============================] - 2s 2ms/step - loss: 0.1195 - val_loss: 0.1104\n",
      "Epoch 28/30\n",
      "880/880 [==============================] - 2s 2ms/step - loss: 0.1190 - val_loss: 0.1089\n",
      "Epoch 29/30\n",
      "880/880 [==============================] - 2s 2ms/step - loss: 0.1185 - val_loss: 0.1101\n",
      "Epoch 30/30\n",
      "880/880 [==============================] - 2s 2ms/step - loss: 0.1182 - val_loss: 0.1100\n"
     ]
    }
   ],
   "source": [
    "history = dropout_ae.fit(X_train_resh, X_train_resh, epochs= 30, validation_data=(X_valid_resh, X_valid_resh))"
   ]
  },
  {
   "cell_type": "markdown",
   "metadata": {},
   "source": [
    "### Losses\n",
    "The question is: \"How good does the model reconstruct the given features/information\". So there is no prediction of some label value! The model \"predicts\" (or better) reconstruct its input values to its best"
   ]
  },
  {
   "cell_type": "code",
   "execution_count": 33,
   "metadata": {},
   "outputs": [
    {
     "data": {
      "text/plain": [
       "[<matplotlib.lines.Line2D at 0x1fc82ab6850>]"
      ]
     },
     "execution_count": 33,
     "metadata": {},
     "output_type": "execute_result"
    },
    {
     "data": {
      "image/png": "[encoded data removed]",
      "text/plain": [
       "<Figure size 432x288 with 1 Axes>"
      ]
     },
     "metadata": {
      "needs_background": "light"
     },
     "output_type": "display_data"
    }
   ],
   "source": [
    "# Getting in touch with the model statistics \n",
    "# shows the available keys in models history:  print(history.history.keys())\n",
    "plt.plot(history.history['loss'])\n",
    "plt.plot(history.history['val_loss'])"
   ]
  },
  {
   "cell_type": "markdown",
   "metadata": {},
   "source": [
    "## Results"
   ]
  },
  {
   "cell_type": "markdown",
   "metadata": {},
   "source": [
    "### Single Number Test - \"6\""
   ]
  },
  {
   "cell_type": "markdown",
   "metadata": {},
   "source": [
    "#### Real Image"
   ]
  },
  {
   "cell_type": "code",
   "execution_count": 34,
   "metadata": {},
   "outputs": [
    {
     "data": {
      "image/png": "[encoded data removed]",
      "text/plain": [
       "<Figure size 432x288 with 1 Axes>"
      ]
     },
     "metadata": {
      "needs_background": "light"
     },
     "output_type": "display_data"
    }
   ],
   "source": [
    "# Test image from a known set\n",
    "plot_image(X_valid_resh[10])"
   ]
  },
  {
   "cell_type": "markdown",
   "metadata": {},
   "source": [
    "#### (\"Predicted\") Reconstructed One"
   ]
  },
  {
   "cell_type": "code",
   "execution_count": 35,
   "metadata": {},
   "outputs": [
    {
     "data": {
      "image/png": "[encoded data removed]",
      "text/plain": [
       "<Figure size 432x288 with 1 Axes>"
      ]
     },
     "metadata": {
      "needs_background": "light"
     },
     "output_type": "display_data"
    }
   ],
   "source": [
    "\n",
    "testimage = X_valid_resh[10].reshape(1, 28, 28)     # single image prepared for the test (reshape)\n",
    "plot_image(dropout_ae.predict(testimage)[0, :, :])  # needed to extract the second and third array of the three dimensional tensor struc for printing the image\n"
   ]
  },
  {
   "cell_type": "markdown",
   "metadata": {},
   "source": [
    "### Showing Multi Results"
   ]
  },
  {
   "cell_type": "code",
   "execution_count": 36,
   "metadata": {},
   "outputs": [
    {
     "data": {
      "image/png": "[encoded data removed]",
      "text/plain": [
       "<Figure size 540x216 with 10 Axes>"
      ]
     },
     "metadata": {
      "needs_background": "light"
     },
     "output_type": "display_data"
    }
   ],
   "source": [
    "show_reconstructions(dropout_ae, X_valid_resh)"
   ]
  },
  {
   "cell_type": "code",
   "execution_count": null,
   "metadata": {},
   "outputs": [],
   "source": []
  }
 ],
 "metadata": {
  "interpreter": {
   "hash": "2b49f70aa2f17b03439dc8f4bbaf601f728142d0d0d774f4bbd10ea7a16b86ea"
  },
  "kernelspec": {
   "display_name": "Python 3.8.0 64-bit ('wingpuflake_keras': conda)",
   "language": "python",
   "name": "python3"
  },
  "language_info": {
   "codemirror_mode": {
    "name": "ipython",
    "version": 3
   },
   "file_extension": ".py",
   "mimetype": "text/x-python",
   "name": "python",
   "nbconvert_exporter": "python",
   "pygments_lexer": "ipython3",
   "version": "3.8.0"
  },
  "orig_nbformat": 4
 },
 "nbformat": 4,
 "nbformat_minor": 2
}
